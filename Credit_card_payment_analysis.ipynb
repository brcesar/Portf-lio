{
 "cells": [
  {
   "cell_type": "markdown",
   "metadata": {},
   "source": [
    "#  Credit Card Payment Risk Analysis\n",
    "\n",
    "This is a supervised statistical/machine learning model (classification) to predict which clients is able to honor their debt."
   ]
  },
      "#### The goal is to predict the default target:\n",
    "\n",
    "- False - Who has paid the bill\n",
    "- True - Who has not been able to pay the bill"
   ]
  },
  
    "    - Feature Importance\n",
     "#### 1.1 Imports and dataset loading"
   ]
  },
  {
   "cell_type": "code",
   "execution_count": 1,
   "metadata": {},
   "outputs": [],
   "source": [
    "import pandas as pd\n",
    "import numpy as np\n",
    "import matplotlib.pyplot as plt\n",
    "import seaborn as sns\n",
    "%matplotlib inline"
   ]
  },
  {
   "cell_type": "code",
   "execution_count": 2,
   "metadata": {},
   "outputs": [],
   "source": [
    "df = pd.read_csv('puzzle_train_dataset.csv')"
   ]
  },
  {
   "cell_type": "code",
   "execution_count": 3,
   "metadata": {},
   "outputs": [
    {
     "data": {
      "text/html": [
       "<div>\n",
       "<style scoped>\n",
       "    .dataframe tbody tr th:only-of-type {\n",
       "        vertical-align: middle;\n",
       "    }\n",
       "\n",
       "    .dataframe tbody tr th {\n",
       "        vertical-align: top;\n",
       "    }\n",
       "\n",
       "    .dataframe thead th {\n",
       "        text-align: right;\n",
       "    }\n",
       "</style>\n",
       "<table border=\"1\" class=\"dataframe\">\n",
       "  <thead>\n",
       "    <tr style=\"text-align: right;\">\n",
       "      <th></th>\n",
       "      <th>ids</th>\n",
       "      <th>default</th>\n",
       "      <th>score_1</th>\n",
       "      <th>score_2</th>\n",
       "      <th>score_3</th>\n",
       "      <th>score_4</th>\n",
       "      <th>score_5</th>\n",
       "      <th>score_6</th>\n",
       "      <th>risk_rate</th>\n",
       "      <th>amount_borrowed</th>\n",
       "      <th>...</th>\n",
       "      <th>state</th>\n",
       "      <th>zip</th>\n",
       "      <th>channel</th>\n",
       "      <th>job_name</th>\n",
       "      <th>real_state</th>\n",
       "      <th>ok_since</th>\n",
       "      <th>n_bankruptcies</th>\n",
       "      <th>n_defaulted_loans</th>\n",
       "      <th>n_accounts</th>\n",
       "      <th>n_issues</th>\n",
       "    </tr>\n",
       "  </thead>\n",
       "  <tbody>\n",
       "    <tr>\n",
       "      <th>0</th>\n",
       "      <td>810e3277-619e-3154-7ba0-ebddfc5f7ea9</td>\n",
       "      <td>False</td>\n",
       "      <td>smzX0nxh5QlePvtVf6EAeg==</td>\n",
       "      <td>tHpS8e9F8d9zg3iOQM9tsA==</td>\n",
       "      <td>710.0</td>\n",
       "      <td>104.174961</td>\n",
       "      <td>0.661509</td>\n",
       "      <td>123.015325</td>\n",
       "      <td>0.43</td>\n",
       "      <td>20024.31</td>\n",
       "      <td>...</td>\n",
       "      <td>xsd3ZdsI3356I3xMxZeiqQ==</td>\n",
       "      <td>i036nmJ7rfxo+3EvCD7Jnw==</td>\n",
       "      <td>NCqL3QBx0pscDnx3ixKwXg==</td>\n",
       "      <td>mLVIVxoGY7TUDJ1FyFoSIZi1SFcaBmO01AydRchaEiGYtU...</td>\n",
       "      <td>n+xK9CfX0bCn77lClTWviw==</td>\n",
       "      <td>14.0</td>\n",
       "      <td>1.0</td>\n",
       "      <td>0.0</td>\n",
       "      <td>9.0</td>\n",
       "      <td>9.0</td>\n",
       "    </tr>\n",
       "    <tr>\n",
       "      <th>1</th>\n",
       "      <td>b4118fd5-77d5-4d80-3617-bacd7aaf1a88</td>\n",
       "      <td>False</td>\n",
       "      <td>DGCQep2AE5QRkNCshIAlFQ==</td>\n",
       "      <td>RO7MTL+j4PH2gNzbhNTq/A==</td>\n",
       "      <td>330.0</td>\n",
       "      <td>97.880798</td>\n",
       "      <td>0.531115</td>\n",
       "      <td>110.913484</td>\n",
       "      <td>0.23</td>\n",
       "      <td>10046.51</td>\n",
       "      <td>...</td>\n",
       "      <td>xsd3ZdsI3356I3xMxZeiqQ==</td>\n",
       "      <td>oyrt7nHjoQSc58vCxgJF/w==</td>\n",
       "      <td>NCqL3QBx0pscDnx3ixKwXg==</td>\n",
       "      <td>mLVIVxoGY7TUDJ1FyFoSIZi1SFcaBmO01AydRchaEiGYtU...</td>\n",
       "      <td>n+xK9CfX0bCn77lClTWviw==</td>\n",
       "      <td>75.0</td>\n",
       "      <td>0.0</td>\n",
       "      <td>0.0</td>\n",
       "      <td>3.0</td>\n",
       "      <td>NaN</td>\n",
       "    </tr>\n",
       "    <tr>\n",
       "      <th>2</th>\n",
       "      <td>a75638f1-4662-4f4f-044a-d649b676d85d</td>\n",
       "      <td>False</td>\n",
       "      <td>8k8UDR4Yx0qasAjkGrUZLw==</td>\n",
       "      <td>wkeCdGeu5sEv4/fjwR0aDg==</td>\n",
       "      <td>360.0</td>\n",
       "      <td>97.908925</td>\n",
       "      <td>0.611086</td>\n",
       "      <td>104.620791</td>\n",
       "      <td>0.30</td>\n",
       "      <td>21228.25</td>\n",
       "      <td>...</td>\n",
       "      <td>/L8vvVesB5WyAv190Hw/rQ==</td>\n",
       "      <td>BMIK35trMYhh9yVrcGg/oQ==</td>\n",
       "      <td>NCqL3QBx0pscDnx3ixKwXg==</td>\n",
       "      <td>mLVIVxoGY7TUDJ1FyFoSIZi1SFcaBmO01AydRchaEiGYtU...</td>\n",
       "      <td>N5/CE7lSkAfB04hVFFwllw==</td>\n",
       "      <td>NaN</td>\n",
       "      <td>0.0</td>\n",
       "      <td>0.0</td>\n",
       "      <td>5.0</td>\n",
       "      <td>NaN</td>\n",
       "    </tr>\n",
       "    <tr>\n",
       "      <th>3</th>\n",
       "      <td>285ce334-3602-42b3-51cb-eebfcba48a09</td>\n",
       "      <td>False</td>\n",
       "      <td>4DLlLW62jReXaqbPaHp1vQ==</td>\n",
       "      <td>tQUTfUyeuGkhRotd+6WjVg==</td>\n",
       "      <td>120.0</td>\n",
       "      <td>100.434557</td>\n",
       "      <td>0.139784</td>\n",
       "      <td>120.134718</td>\n",
       "      <td>0.15</td>\n",
       "      <td>23032.33</td>\n",
       "      <td>...</td>\n",
       "      <td>GW2VZ3dN3OGHSjQ6JkfqQw==</td>\n",
       "      <td>coa2oOrpjxnQl4iyM7dTpQ==</td>\n",
       "      <td>NCqL3QBx0pscDnx3ixKwXg==</td>\n",
       "      <td>mLVIVxoGY7TUDJ1FyFoSIZi1SFcaBmO01AydRchaEiGYtU...</td>\n",
       "      <td>N5/CE7lSkAfB04hVFFwllw==</td>\n",
       "      <td>NaN</td>\n",
       "      <td>0.0</td>\n",
       "      <td>0.0</td>\n",
       "      <td>5.0</td>\n",
       "      <td>NaN</td>\n",
       "    </tr>\n",
       "    <tr>\n",
       "      <th>4</th>\n",
       "      <td>e643bf65-9288-92f2-df13-eed631fe237c</td>\n",
       "      <td>False</td>\n",
       "      <td>4DLlLW62jReXaqbPaHp1vQ==</td>\n",
       "      <td>7h8PTkrlTWUPP3yuyP4rUg==</td>\n",
       "      <td>330.0</td>\n",
       "      <td>103.774638</td>\n",
       "      <td>0.002856</td>\n",
       "      <td>104.320462</td>\n",
       "      <td>0.08</td>\n",
       "      <td>24026.29</td>\n",
       "      <td>...</td>\n",
       "      <td>sjJbkqJS7cXalHLBFA+EOQ==</td>\n",
       "      <td>xTrDMEf/Cnewxc1LO+pfbg==</td>\n",
       "      <td>NCqL3QBx0pscDnx3ixKwXg==</td>\n",
       "      <td>mLVIVxoGY7TUDJ1FyFoSIZi1SFcaBmO01AydRchaEiGYtU...</td>\n",
       "      <td>N5/CE7lSkAfB04hVFFwllw==</td>\n",
       "      <td>15.0</td>\n",
       "      <td>0.0</td>\n",
       "      <td>0.0</td>\n",
       "      <td>10.0</td>\n",
       "      <td>10.0</td>\n",
       "    </tr>\n",
       "  </tbody>\n",
       "</table>\n",
       "<p>5 rows × 29 columns</p>\n",
       "</div>"
      ],
      "text/plain": [
       "                                    ids default                   score_1  \\\n",
       "0  810e3277-619e-3154-7ba0-ebddfc5f7ea9   False  smzX0nxh5QlePvtVf6EAeg==   \n",
       "1  b4118fd5-77d5-4d80-3617-bacd7aaf1a88   False  DGCQep2AE5QRkNCshIAlFQ==   \n",
       "2  a75638f1-4662-4f4f-044a-d649b676d85d   False  8k8UDR4Yx0qasAjkGrUZLw==   \n",
       "3  285ce334-3602-42b3-51cb-eebfcba48a09   False  4DLlLW62jReXaqbPaHp1vQ==   \n",
       "4  e643bf65-9288-92f2-df13-eed631fe237c   False  4DLlLW62jReXaqbPaHp1vQ==   \n",
       "\n",
       "                    score_2  score_3     score_4   score_5     score_6  \\\n",
       "0  tHpS8e9F8d9zg3iOQM9tsA==    710.0  104.174961  0.661509  123.015325   \n",
       "1  RO7MTL+j4PH2gNzbhNTq/A==    330.0   97.880798  0.531115  110.913484   \n",
       "2  wkeCdGeu5sEv4/fjwR0aDg==    360.0   97.908925  0.611086  104.620791   \n",
       "3  tQUTfUyeuGkhRotd+6WjVg==    120.0  100.434557  0.139784  120.134718   \n",
       "4  7h8PTkrlTWUPP3yuyP4rUg==    330.0  103.774638  0.002856  104.320462   \n",
       "\n",
       "   risk_rate  amount_borrowed  ...                     state  \\\n",
       "0       0.43         20024.31  ...  xsd3ZdsI3356I3xMxZeiqQ==   \n",
       "1       0.23         10046.51  ...  xsd3ZdsI3356I3xMxZeiqQ==   \n",
       "2       0.30         21228.25  ...  /L8vvVesB5WyAv190Hw/rQ==   \n",
       "3       0.15         23032.33  ...  GW2VZ3dN3OGHSjQ6JkfqQw==   \n",
       "4       0.08         24026.29  ...  sjJbkqJS7cXalHLBFA+EOQ==   \n",
       "\n",
       "                        zip                   channel  \\\n",
       "0  i036nmJ7rfxo+3EvCD7Jnw==  NCqL3QBx0pscDnx3ixKwXg==   \n",
       "1  oyrt7nHjoQSc58vCxgJF/w==  NCqL3QBx0pscDnx3ixKwXg==   \n",
       "2  BMIK35trMYhh9yVrcGg/oQ==  NCqL3QBx0pscDnx3ixKwXg==   \n",
       "3  coa2oOrpjxnQl4iyM7dTpQ==  NCqL3QBx0pscDnx3ixKwXg==   \n",
       "4  xTrDMEf/Cnewxc1LO+pfbg==  NCqL3QBx0pscDnx3ixKwXg==   \n",
       "\n",
       "                                            job_name  \\\n",
       "0  mLVIVxoGY7TUDJ1FyFoSIZi1SFcaBmO01AydRchaEiGYtU...   \n",
       "1  mLVIVxoGY7TUDJ1FyFoSIZi1SFcaBmO01AydRchaEiGYtU...   \n",
       "2  mLVIVxoGY7TUDJ1FyFoSIZi1SFcaBmO01AydRchaEiGYtU...   \n",
       "3  mLVIVxoGY7TUDJ1FyFoSIZi1SFcaBmO01AydRchaEiGYtU...   \n",
       "4  mLVIVxoGY7TUDJ1FyFoSIZi1SFcaBmO01AydRchaEiGYtU...   \n",
       "\n",
       "                 real_state ok_since n_bankruptcies n_defaulted_loans  \\\n",
       "0  n+xK9CfX0bCn77lClTWviw==     14.0            1.0               0.0   \n",
       "1  n+xK9CfX0bCn77lClTWviw==     75.0            0.0               0.0   \n",
       "2  N5/CE7lSkAfB04hVFFwllw==      NaN            0.0               0.0   \n",
       "3  N5/CE7lSkAfB04hVFFwllw==      NaN            0.0               0.0   \n",
       "4  N5/CE7lSkAfB04hVFFwllw==     15.0            0.0               0.0   \n",
       "\n",
       "  n_accounts n_issues  \n",
       "0        9.0      9.0  \n",
       "1        3.0      NaN  \n",
       "2        5.0      NaN  \n",
       "3        5.0      NaN  \n",
       "4       10.0     10.0  \n",
       "\n",
       "[5 rows x 29 columns]"
      ]
     },
     "execution_count": 3,
     "metadata": {},
     "output_type": "execute_result"
    }
   ],
   "source": [
    "df.head()"
   ]
  },
  {
   "cell_type": "code",
   "execution_count": 4,
   "metadata": {},
   "outputs": [
    {
     "name": "stdout",
     "output_type": "stream",
     "text": [
      "<class 'pandas.core.frame.DataFrame'>\n",
      "RangeIndex: 64592 entries, 0 to 64591\n",
      "Data columns (total 29 columns):\n",
      " #   Column              Non-Null Count  Dtype  \n",
      "---  ------              --------------  -----  \n",
      " 0   ids                 64592 non-null  object \n",
      " 1   default             59966 non-null  object \n",
      " 2   score_1             63807 non-null  object \n",
      " 3   score_2             63807 non-null  object \n",
      " 4   score_3             63807 non-null  float64\n",
      " 5   score_4             64592 non-null  float64\n",
      " 6   score_5             64592 non-null  float64\n",
      " 7   score_6             64592 non-null  float64\n",
      " 8   risk_rate           63807 non-null  float64\n",
      " 9   amount_borrowed     63807 non-null  float64\n",
      " 10  borrowed_in_months  63807 non-null  float64\n",
      " 11  credit_limit        44839 non-null  float64\n",
      " 12  reason              63801 non-null  object \n",
      " 13  income              63807 non-null  float64\n",
      " 14  sign                43825 non-null  object \n",
      " 15  gender              57406 non-null  object \n",
      " 16  facebook_profile    58185 non-null  object \n",
      " 17  last_payment        63730 non-null  object \n",
      " 18  end_last_loan       63804 non-null  object \n",
      " 19  state               63807 non-null  object \n",
      " 20  zip                 63807 non-null  object \n",
      " 21  channel             63807 non-null  object \n",
      " 22  job_name            59797 non-null  object \n",
      " 23  real_state          63807 non-null  object \n",
      " 24  ok_since            26554 non-null  float64\n",
      " 25  n_bankruptcies      63605 non-null  float64\n",
      " 26  n_defaulted_loans   63789 non-null  float64\n",
      " 27  n_accounts          63807 non-null  float64\n",
      " 28  n_issues            48141 non-null  float64\n",
      "dtypes: float64(14), object(15)\n",
      "memory usage: 14.3+ MB\n"
     ]
    }
   ],
   "source": [
    "df.info()"
   ]
  },
  {
   "cell_type": "markdown",
   "metadata": {},
   "source": [
    "#### 1.2 Initial assessment of the dataset"
   ]
  },
  {
   "cell_type": "code",
   "execution_count": 6,
   "metadata": {},
   "outputs": [
    {
     "data": {
      "text/html": [
       "<div>\n",
       "<style scoped>\n",
       "    .dataframe tbody tr th:only-of-type {\n",
       "        vertical-align: middle;\n",
       "    }\n",
       "\n",
       "    .dataframe tbody tr th {\n",
       "        vertical-align: top;\n",
       "    }\n",
       "\n",
       "    .dataframe thead th {\n",
       "        text-align: right;\n",
       "    }\n",
       "</style>\n",
       "<table border=\"1\" class=\"dataframe\">\n",
       "  <thead>\n",
       "    <tr style=\"text-align: right;\">\n",
       "      <th></th>\n",
       "      <th>score_3</th>\n",
       "      <th>score_4</th>\n",
       "      <th>score_5</th>\n",
       "      <th>score_6</th>\n",
       "      <th>risk_rate</th>\n",
       "      <th>amount_borrowed</th>\n",
       "      <th>borrowed_in_months</th>\n",
       "      <th>credit_limit</th>\n",
       "      <th>income</th>\n",
       "      <th>ok_since</th>\n",
       "      <th>n_bankruptcies</th>\n",
       "      <th>n_defaulted_loans</th>\n",
       "      <th>n_accounts</th>\n",
       "      <th>n_issues</th>\n",
       "    </tr>\n",
       "  </thead>\n",
       "  <tbody>\n",
       "    <tr>\n",
       "      <th>count</th>\n",
       "      <td>63807.000000</td>\n",
       "      <td>64592.000000</td>\n",
       "      <td>64592.000000</td>\n",
       "      <td>64592.000000</td>\n",
       "      <td>63807.000000</td>\n",
       "      <td>63807.000000</td>\n",
       "      <td>63807.000000</td>\n",
       "      <td>44839.000000</td>\n",
       "      <td>6.380700e+04</td>\n",
       "      <td>26554.000000</td>\n",
       "      <td>63605.000000</td>\n",
       "      <td>63789.000000</td>\n",
       "      <td>63807.000000</td>\n",
       "      <td>48141.000000</td>\n",
       "    </tr>\n",
       "    <tr>\n",
       "      <th>mean</th>\n",
       "      <td>348.031877</td>\n",
       "      <td>99.997870</td>\n",
       "      <td>0.499220</td>\n",
       "      <td>99.942719</td>\n",
       "      <td>0.296404</td>\n",
       "      <td>13853.282850</td>\n",
       "      <td>41.835347</td>\n",
       "      <td>34562.007560</td>\n",
       "      <td>7.180972e+04</td>\n",
       "      <td>35.174249</td>\n",
       "      <td>0.076959</td>\n",
       "      <td>0.004703</td>\n",
       "      <td>10.681164</td>\n",
       "      <td>11.044847</td>\n",
       "    </tr>\n",
       "    <tr>\n",
       "      <th>std</th>\n",
       "      <td>110.064626</td>\n",
       "      <td>3.170869</td>\n",
       "      <td>0.288769</td>\n",
       "      <td>10.034220</td>\n",
       "      <td>0.101549</td>\n",
       "      <td>8105.662643</td>\n",
       "      <td>10.295568</td>\n",
       "      <td>37041.867093</td>\n",
       "      <td>5.124993e+04</td>\n",
       "      <td>21.663679</td>\n",
       "      <td>0.277000</td>\n",
       "      <td>0.079048</td>\n",
       "      <td>4.583902</td>\n",
       "      <td>4.576030</td>\n",
       "    </tr>\n",
       "    <tr>\n",
       "      <th>min</th>\n",
       "      <td>0.000000</td>\n",
       "      <td>86.191572</td>\n",
       "      <td>0.000035</td>\n",
       "      <td>60.663039</td>\n",
       "      <td>0.000000</td>\n",
       "      <td>527.070000</td>\n",
       "      <td>36.000000</td>\n",
       "      <td>0.000000</td>\n",
       "      <td>4.821180e+03</td>\n",
       "      <td>0.000000</td>\n",
       "      <td>0.000000</td>\n",
       "      <td>0.000000</td>\n",
       "      <td>0.000000</td>\n",
       "      <td>0.000000</td>\n",
       "    </tr>\n",
       "    <tr>\n",
       "      <th>25%</th>\n",
       "      <td>270.000000</td>\n",
       "      <td>97.858659</td>\n",
       "      <td>0.250295</td>\n",
       "      <td>93.210322</td>\n",
       "      <td>0.220000</td>\n",
       "      <td>7762.945000</td>\n",
       "      <td>36.000000</td>\n",
       "      <td>10000.000000</td>\n",
       "      <td>4.501336e+04</td>\n",
       "      <td>17.000000</td>\n",
       "      <td>0.000000</td>\n",
       "      <td>0.000000</td>\n",
       "      <td>7.000000</td>\n",
       "      <td>8.000000</td>\n",
       "    </tr>\n",
       "    <tr>\n",
       "      <th>50%</th>\n",
       "      <td>340.000000</td>\n",
       "      <td>100.006042</td>\n",
       "      <td>0.498237</td>\n",
       "      <td>99.975654</td>\n",
       "      <td>0.290000</td>\n",
       "      <td>12023.680000</td>\n",
       "      <td>36.000000</td>\n",
       "      <td>25775.000000</td>\n",
       "      <td>6.139916e+04</td>\n",
       "      <td>32.000000</td>\n",
       "      <td>0.000000</td>\n",
       "      <td>0.000000</td>\n",
       "      <td>10.000000</td>\n",
       "      <td>10.000000</td>\n",
       "    </tr>\n",
       "    <tr>\n",
       "      <th>75%</th>\n",
       "      <td>420.000000</td>\n",
       "      <td>102.131648</td>\n",
       "      <td>0.749190</td>\n",
       "      <td>106.698884</td>\n",
       "      <td>0.360000</td>\n",
       "      <td>19384.815000</td>\n",
       "      <td>36.000000</td>\n",
       "      <td>47326.500000</td>\n",
       "      <td>8.602645e+04</td>\n",
       "      <td>50.000000</td>\n",
       "      <td>0.000000</td>\n",
       "      <td>0.000000</td>\n",
       "      <td>13.000000</td>\n",
       "      <td>14.000000</td>\n",
       "    </tr>\n",
       "    <tr>\n",
       "      <th>max</th>\n",
       "      <td>990.000000</td>\n",
       "      <td>113.978234</td>\n",
       "      <td>0.999982</td>\n",
       "      <td>142.430069</td>\n",
       "      <td>0.900000</td>\n",
       "      <td>35059.600000</td>\n",
       "      <td>60.000000</td>\n",
       "      <td>613117.000000</td>\n",
       "      <td>5.000028e+06</td>\n",
       "      <td>141.000000</td>\n",
       "      <td>6.000000</td>\n",
       "      <td>5.000000</td>\n",
       "      <td>49.000000</td>\n",
       "      <td>49.000000</td>\n",
       "    </tr>\n",
       "  </tbody>\n",
       "</table>\n",
       "</div>"
      ],
      "text/plain": [
       "            score_3       score_4       score_5       score_6     risk_rate  \\\n",
       "count  63807.000000  64592.000000  64592.000000  64592.000000  63807.000000   \n",
       "mean     348.031877     99.997870      0.499220     99.942719      0.296404   \n",
       "std      110.064626      3.170869      0.288769     10.034220      0.101549   \n",
       "min        0.000000     86.191572      0.000035     60.663039      0.000000   \n",
       "25%      270.000000     97.858659      0.250295     93.210322      0.220000   \n",
       "50%      340.000000    100.006042      0.498237     99.975654      0.290000   \n",
       "75%      420.000000    102.131648      0.749190    106.698884      0.360000   \n",
       "max      990.000000    113.978234      0.999982    142.430069      0.900000   \n",
       "\n",
       "       amount_borrowed  borrowed_in_months   credit_limit        income  \\\n",
       "count     63807.000000        63807.000000   44839.000000  6.380700e+04   \n",
       "mean      13853.282850           41.835347   34562.007560  7.180972e+04   \n",
       "std        8105.662643           10.295568   37041.867093  5.124993e+04   \n",
       "min         527.070000           36.000000       0.000000  4.821180e+03   \n",
       "25%        7762.945000           36.000000   10000.000000  4.501336e+04   \n",
       "50%       12023.680000           36.000000   25775.000000  6.139916e+04   \n",
       "75%       19384.815000           36.000000   47326.500000  8.602645e+04   \n",
       "max       35059.600000           60.000000  613117.000000  5.000028e+06   \n",
       "\n",
       "           ok_since  n_bankruptcies  n_defaulted_loans    n_accounts  \\\n",
       "count  26554.000000    63605.000000       63789.000000  63807.000000   \n",
       "mean      35.174249        0.076959           0.004703     10.681164   \n",
       "std       21.663679        0.277000           0.079048      4.583902   \n",
       "min        0.000000        0.000000           0.000000      0.000000   \n",
       "25%       17.000000        0.000000           0.000000      7.000000   \n",
       "50%       32.000000        0.000000           0.000000     10.000000   \n",
       "75%       50.000000        0.000000           0.000000     13.000000   \n",
       "max      141.000000        6.000000           5.000000     49.000000   \n",
       "\n",
       "           n_issues  \n",
       "count  48141.000000  \n",
       "mean      11.044847  \n",
       "std        4.576030  \n",
       "min        0.000000  \n",
       "25%        8.000000  \n",
       "50%       10.000000  \n",
       "75%       14.000000  \n",
       "max       49.000000  "
      ]
     },
     "execution_count": 6,
     "metadata": {},
     "output_type": "execute_result"
    }
   ],
   "source": [
    "df.describe()"
   ]
  },
  {
   "cell_type": "code",
   "execution_count": 7,
   "metadata": {},
   "outputs": [
    {
     "name": "stdout",
     "output_type": "stream",
     "text": [
      "<class 'pandas.core.frame.DataFrame'>\n",
      "RangeIndex: 64592 entries, 0 to 64591\n",
      "Data columns (total 29 columns):\n",
      " #   Column              Non-Null Count  Dtype  \n",
      "---  ------              --------------  -----  \n",
      " 0   ids                 64592 non-null  object \n",
      " 1   default             59966 non-null  object \n",
      " 2   score_1             63807 non-null  object \n",
      " 3   score_2             63807 non-null  object \n",
      " 4   score_3             63807 non-null  float64\n",
      " 5   score_4             64592 non-null  float64\n",
      " 6   score_5             64592 non-null  float64\n",
      " 7   score_6             64592 non-null  float64\n",
      " 8   risk_rate           63807 non-null  float64\n",
      " 9   amount_borrowed     63807 non-null  float64\n",
      " 10  borrowed_in_months  63807 non-null  float64\n",
      " 11  credit_limit        44839 non-null  float64\n",
      " 12  reason              63801 non-null  object \n",
      " 13  income              63807 non-null  float64\n",
      " 14  sign                43825 non-null  object \n",
      " 15  gender              57406 non-null  object \n",
      " 16  facebook_profile    58185 non-null  object \n",
      " 17  last_payment        63730 non-null  object \n",
      " 18  end_last_loan       63804 non-null  object \n",
      " 19  state               63807 non-null  object \n",
      " 20  zip                 63807 non-null  object \n",
      " 21  channel             63807 non-null  object \n",
      " 22  job_name            59797 non-null  object \n",
      " 23  real_state          63807 non-null  object \n",
      " 24  ok_since            26554 non-null  float64\n",
      " 25  n_bankruptcies      63605 non-null  float64\n",
      " 26  n_defaulted_loans   63789 non-null  float64\n",
      " 27  n_accounts          63807 non-null  float64\n",
      " 28  n_issues            48141 non-null  float64\n",
      "dtypes: float64(14), object(15)\n",
      "memory usage: 14.3+ MB\n"
     ]
    }
   ],
   "source": [
    "df.info()"
   ]
  },
  {
   "cell_type": "markdown",
   "metadata": {},
   "source": [
    "#### 1.3 Analyzing the possible classes"
   ]
  },
  {
   "cell_type": "code",
   "execution_count": 8,
   "metadata": {},
   "outputs": [
    {
     "data": {
      "text/plain": [
       "array([False, True, nan], dtype=object)"
      ]
     },
     "execution_count": 8,
     "metadata": {},
     "output_type": "execute_result"
    }
   ],
   "source": [
    "df.default.unique()"
   ]
  },
  {
   "cell_type": "code",
   "execution_count": 9,
   "metadata": {},
   "outputs": [
    {
     "data": {
      "text/plain": [
       "64592"
      ]
     },
     "execution_count": 9,
     "metadata": {},
     "output_type": "execute_result"
    }
   ],
   "source": [
    "len(df)"
   ]
  },
  {
   "cell_type": "code",
   "execution_count": 10,
   "metadata": {},
   "outputs": [
    {
     "data": {
      "text/plain": [
       "False    78.114937\n",
       "True     14.723186\n",
       "Name: default, dtype: float64"
      ]
     },
     "execution_count": 10,
     "metadata": {},
     "output_type": "execute_result"
    }
   ],
   "source": [
    "total_len = len(df)\n",
    "percentage_labels = (df['default'].value_counts()/total_len)*100\n",
    "percentage_labels"
   ]
  },
  {
   "cell_type": "markdown",
   "metadata": {},
   "source": [
    "The classes are imbalaced."
   ]
  },
  {
   "cell_type": "markdown",
   "metadata": {},
   "source": [
    "##  2 Dealing with the Missing and Inconsistent Values"
   ]
  },
  {
   "cell_type": "markdown",
   "metadata": {},
   "source": [
    "#### 2.1 Removing the NaN values and transforming the targets "
   ]
  },
  {
   "cell_type": "code",
   "execution_count": 11,
   "metadata": {},
   "outputs": [
    {
     "data": {
      "text/plain": [
       "array([False, True], dtype=object)"
      ]
     },
     "execution_count": 11,
     "metadata": {},
     "output_type": "execute_result"
    }
   ],
   "source": [
    "df.dropna(subset = ['default'], inplace=True)\n",
    "df.default.unique()"
   ]
  },
  {
   "cell_type": "code",
   "execution_count": 12,
   "metadata": {},
   "outputs": [
    {
     "data": {
      "text/plain": [
       "array([False, True], dtype=object)"
      ]
     },
     "execution_count": 12,
     "metadata": {},
     "output_type": "execute_result"
    }
   ],
   "source": [
    "from sklearn.preprocessing import LabelEncoder\n",
    "le = LabelEncoder()\n",
    "targets = le.fit_transform(df['default'])\n",
    "le.classes_"
   ]
  },
  {
   "cell_type": "code",
   "execution_count": 13,
   "metadata": {},
   "outputs": [],
   "source": [
    "df['default'] = targets"
   ]
  },
  {
   "cell_type": "markdown",
   "metadata": {},
   "source": [
    "Labels distribution after remove NaN values in the target."
   ]
  },
  {
   "cell_type": "code",
   "execution_count": 14,
   "metadata": {},
   "outputs": [
    {
     "name": "stdout",
     "output_type": "stream",
     "text": [
      "Distribution of the Classes\n",
      "0    0.84141\n",
      "1    0.15859\n",
      "Name: default, dtype: float64\n"
     ]
    },
    {
     "data": {
      "image/png": "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\n",
      "text/plain": [
       "<Figure size 432x288 with 1 Axes>"
      ]
     },
     "metadata": {},
     "output_type": "display_data"
    }
   ],
   "source": [
    "print('Distribution of the Classes')\n",
    "print(df['default'].value_counts()/len(df))\n",
    "sns.set(style='darkgrid')\n",
    "sns.countplot('default', data=df)\n",
    "plt.title('Unequally Distributed Classes', fontsize=14)\n",
    "plt.show()"
   ]
  },
  {
   "cell_type": "markdown",
   "metadata": {},
   "source": [
    "We are interested in the default value \"True\" (who couldn't pay the bill), which has been assigned to the value 1"
   ]
  },
  {
   "cell_type": "code",
   "execution_count": 15,
   "metadata": {},
   "outputs": [
    {
     "data": {
      "text/html": [
       "<div>\n",
       "<style scoped>\n",
       "    .dataframe tbody tr th:only-of-type {\n",
       "        vertical-align: middle;\n",
       "    }\n",
       "\n",
       "    .dataframe tbody tr th {\n",
       "        vertical-align: top;\n",
       "    }\n",
       "\n",
       "    .dataframe thead th {\n",
       "        text-align: right;\n",
       "    }\n",
       "</style>\n",
       "<table border=\"1\" class=\"dataframe\">\n",
       "  <thead>\n",
       "    <tr style=\"text-align: right;\">\n",
       "      <th></th>\n",
       "      <th>ids</th>\n",
       "      <th>default</th>\n",
       "      <th>score_1</th>\n",
       "      <th>score_2</th>\n",
       "      <th>score_3</th>\n",
       "      <th>score_4</th>\n",
       "      <th>score_5</th>\n",
       "      <th>score_6</th>\n",
       "      <th>risk_rate</th>\n",
       "      <th>amount_borrowed</th>\n",
       "      <th>...</th>\n",
       "      <th>state</th>\n",
       "      <th>zip</th>\n",
       "      <th>channel</th>\n",
       "      <th>job_name</th>\n",
       "      <th>real_state</th>\n",
       "      <th>ok_since</th>\n",
       "      <th>n_bankruptcies</th>\n",
       "      <th>n_defaulted_loans</th>\n",
       "      <th>n_accounts</th>\n",
       "      <th>n_issues</th>\n",
       "    </tr>\n",
       "  </thead>\n",
       "  <tbody>\n",
       "    <tr>\n",
       "      <th>0</th>\n",
       "      <td>810e3277-619e-3154-7ba0-ebddfc5f7ea9</td>\n",
       "      <td>0</td>\n",
       "      <td>smzX0nxh5QlePvtVf6EAeg==</td>\n",
       "      <td>tHpS8e9F8d9zg3iOQM9tsA==</td>\n",
       "      <td>710.0</td>\n",
       "      <td>104.174961</td>\n",
       "      <td>0.661509</td>\n",
       "      <td>123.015325</td>\n",
       "      <td>0.43</td>\n",
       "      <td>20024.31</td>\n",
       "      <td>...</td>\n",
       "      <td>xsd3ZdsI3356I3xMxZeiqQ==</td>\n",
       "      <td>i036nmJ7rfxo+3EvCD7Jnw==</td>\n",
       "      <td>NCqL3QBx0pscDnx3ixKwXg==</td>\n",
       "      <td>mLVIVxoGY7TUDJ1FyFoSIZi1SFcaBmO01AydRchaEiGYtU...</td>\n",
       "      <td>n+xK9CfX0bCn77lClTWviw==</td>\n",
       "      <td>14.0</td>\n",
       "      <td>1.0</td>\n",
       "      <td>0.0</td>\n",
       "      <td>9.0</td>\n",
       "      <td>9.0</td>\n",
       "    </tr>\n",
       "    <tr>\n",
       "      <th>1</th>\n",
       "      <td>b4118fd5-77d5-4d80-3617-bacd7aaf1a88</td>\n",
       "      <td>0</td>\n",
       "      <td>DGCQep2AE5QRkNCshIAlFQ==</td>\n",
       "      <td>RO7MTL+j4PH2gNzbhNTq/A==</td>\n",
       "      <td>330.0</td>\n",
       "      <td>97.880798</td>\n",
       "      <td>0.531115</td>\n",
       "      <td>110.913484</td>\n",
       "      <td>0.23</td>\n",
       "      <td>10046.51</td>\n",
       "      <td>...</td>\n",
       "      <td>xsd3ZdsI3356I3xMxZeiqQ==</td>\n",
       "      <td>oyrt7nHjoQSc58vCxgJF/w==</td>\n",
       "      <td>NCqL3QBx0pscDnx3ixKwXg==</td>\n",
       "      <td>mLVIVxoGY7TUDJ1FyFoSIZi1SFcaBmO01AydRchaEiGYtU...</td>\n",
       "      <td>n+xK9CfX0bCn77lClTWviw==</td>\n",
       "      <td>75.0</td>\n",
       "      <td>0.0</td>\n",
       "      <td>0.0</td>\n",
       "      <td>3.0</td>\n",
       "      <td>NaN</td>\n",
       "    </tr>\n",
       "    <tr>\n",
       "      <th>2</th>\n",
       "      <td>a75638f1-4662-4f4f-044a-d649b676d85d</td>\n",
       "      <td>0</td>\n",
       "      <td>8k8UDR4Yx0qasAjkGrUZLw==</td>\n",
       "      <td>wkeCdGeu5sEv4/fjwR0aDg==</td>\n",
       "      <td>360.0</td>\n",
       "      <td>97.908925</td>\n",
       "      <td>0.611086</td>\n",
       "      <td>104.620791</td>\n",
       "      <td>0.30</td>\n",
       "      <td>21228.25</td>\n",
       "      <td>...</td>\n",
       "      <td>/L8vvVesB5WyAv190Hw/rQ==</td>\n",
       "      <td>BMIK35trMYhh9yVrcGg/oQ==</td>\n",
       "      <td>NCqL3QBx0pscDnx3ixKwXg==</td>\n",
       "      <td>mLVIVxoGY7TUDJ1FyFoSIZi1SFcaBmO01AydRchaEiGYtU...</td>\n",
       "      <td>N5/CE7lSkAfB04hVFFwllw==</td>\n",
       "      <td>NaN</td>\n",
       "      <td>0.0</td>\n",
       "      <td>0.0</td>\n",
       "      <td>5.0</td>\n",
       "      <td>NaN</td>\n",
       "    </tr>\n",
       "  </tbody>\n",
       "</table>\n",
       "<p>3 rows × 29 columns</p>\n",
       "</div>"
      ],
      "text/plain": [
       "                                    ids  default                   score_1  \\\n",
       "0  810e3277-619e-3154-7ba0-ebddfc5f7ea9        0  smzX0nxh5QlePvtVf6EAeg==   \n",
       "1  b4118fd5-77d5-4d80-3617-bacd7aaf1a88        0  DGCQep2AE5QRkNCshIAlFQ==   \n",
       "2  a75638f1-4662-4f4f-044a-d649b676d85d        0  8k8UDR4Yx0qasAjkGrUZLw==   \n",
       "\n",
       "                    score_2  score_3     score_4   score_5     score_6  \\\n",
       "0  tHpS8e9F8d9zg3iOQM9tsA==    710.0  104.174961  0.661509  123.015325   \n",
       "1  RO7MTL+j4PH2gNzbhNTq/A==    330.0   97.880798  0.531115  110.913484   \n",
       "2  wkeCdGeu5sEv4/fjwR0aDg==    360.0   97.908925  0.611086  104.620791   \n",
       "\n",
       "   risk_rate  amount_borrowed  ...                     state  \\\n",
       "0       0.43         20024.31  ...  xsd3ZdsI3356I3xMxZeiqQ==   \n",
       "1       0.23         10046.51  ...  xsd3ZdsI3356I3xMxZeiqQ==   \n",
       "2       0.30         21228.25  ...  /L8vvVesB5WyAv190Hw/rQ==   \n",
       "\n",
       "                        zip                   channel  \\\n",
       "0  i036nmJ7rfxo+3EvCD7Jnw==  NCqL3QBx0pscDnx3ixKwXg==   \n",
       "1  oyrt7nHjoQSc58vCxgJF/w==  NCqL3QBx0pscDnx3ixKwXg==   \n",
       "2  BMIK35trMYhh9yVrcGg/oQ==  NCqL3QBx0pscDnx3ixKwXg==   \n",
       "\n",
       "                                            job_name  \\\n",
       "0  mLVIVxoGY7TUDJ1FyFoSIZi1SFcaBmO01AydRchaEiGYtU...   \n",
       "1  mLVIVxoGY7TUDJ1FyFoSIZi1SFcaBmO01AydRchaEiGYtU...   \n",
       "2  mLVIVxoGY7TUDJ1FyFoSIZi1SFcaBmO01AydRchaEiGYtU...   \n",
       "\n",
       "                 real_state ok_since n_bankruptcies n_defaulted_loans  \\\n",
       "0  n+xK9CfX0bCn77lClTWviw==     14.0            1.0               0.0   \n",
       "1  n+xK9CfX0bCn77lClTWviw==     75.0            0.0               0.0   \n",
       "2  N5/CE7lSkAfB04hVFFwllw==      NaN            0.0               0.0   \n",
       "\n",
       "  n_accounts n_issues  \n",
       "0        9.0      9.0  \n",
       "1        3.0      NaN  \n",
       "2        5.0      NaN  \n",
       "\n",
       "[3 rows x 29 columns]"
      ]
     },
     "execution_count": 15,
     "metadata": {},
     "output_type": "execute_result"
    }
   ],
   "source": [
    "df.head(3)"
   ]
  },
  {
   "cell_type": "markdown",
   "metadata": {},
   "source": [
    "Labels distribution after remove NaN values in the target."
   ]
  },
  {
   "cell_type": "markdown",
   "metadata": {},
   "source": [
    "#### 2.2 Transform datetime in integer and calculating the difference between payment and loan datetime"
   ]
  },
  {
   "cell_type": "code",
   "execution_count": 16,
   "metadata": {},
   "outputs": [
    {
     "data": {
      "text/plain": [
       "0         396.0\n",
       "1           0.0\n",
       "2         181.0\n",
       "3           0.0\n",
       "4         151.0\n",
       "          ...  \n",
       "64587       0.0\n",
       "64588      31.0\n",
       "64589     274.0\n",
       "64590    2161.0\n",
       "64591       0.0\n",
       "Name: time_loan_to_payment, Length: 59966, dtype: float64"
      ]
     },
     "execution_count": 16,
     "metadata": {},
     "output_type": "execute_result"
    }
   ],
   "source": [
    "df['last_payment'] = pd.to_datetime(df['last_payment'])\n",
    "df['end_last_loan'] = pd.to_datetime(df['end_last_loan'])\n",
    "df['time_loan_to_payment'] = (df['end_last_loan'] - df['last_payment']).dt.days\n",
    "df['time_loan_to_payment']"
   ]
  },
  {
   "cell_type": "code",
   "execution_count": 17,
   "metadata": {},
   "outputs": [
    {
     "name": "stdout",
     "output_type": "stream",
     "text": [
      "<class 'pandas.core.frame.DataFrame'>\n",
      "Int64Index: 59966 entries, 0 to 64591\n",
      "Data columns (total 30 columns):\n",
      " #   Column                Non-Null Count  Dtype         \n",
      "---  ------                --------------  -----         \n",
      " 0   ids                   59966 non-null  object        \n",
      " 1   default               59966 non-null  int32         \n",
      " 2   score_1               59966 non-null  object        \n",
      " 3   score_2               59966 non-null  object        \n",
      " 4   score_3               59966 non-null  float64       \n",
      " 5   score_4               59966 non-null  float64       \n",
      " 6   score_5               59966 non-null  float64       \n",
      " 7   score_6               59966 non-null  float64       \n",
      " 8   risk_rate             59966 non-null  float64       \n",
      " 9   amount_borrowed       59966 non-null  float64       \n",
      " 10  borrowed_in_months    59966 non-null  float64       \n",
      " 11  credit_limit          41187 non-null  float64       \n",
      " 12  reason                59961 non-null  object        \n",
      " 13  income                59966 non-null  float64       \n",
      " 14  sign                  41028 non-null  object        \n",
      " 15  gender                56970 non-null  object        \n",
      " 16  facebook_profile      53995 non-null  object        \n",
      " 17  last_payment          59889 non-null  datetime64[ns]\n",
      " 18  end_last_loan         59963 non-null  datetime64[ns]\n",
      " 19  state                 59966 non-null  object        \n",
      " 20  zip                   59966 non-null  object        \n",
      " 21  channel               59966 non-null  object        \n",
      " 22  job_name              56175 non-null  object        \n",
      " 23  real_state            59966 non-null  object        \n",
      " 24  ok_since              24877 non-null  float64       \n",
      " 25  n_bankruptcies        59764 non-null  float64       \n",
      " 26  n_defaulted_loans     59948 non-null  float64       \n",
      " 27  n_accounts            59966 non-null  float64       \n",
      " 28  n_issues              44386 non-null  float64       \n",
      " 29  time_loan_to_payment  59886 non-null  float64       \n",
      "dtypes: datetime64[ns](2), float64(15), int32(1), object(12)\n",
      "memory usage: 16.5+ MB\n"
     ]
    }
   ],
   "source": [
    "df.info()"
   ]
  },
  {
   "cell_type": "markdown",
   "metadata": {},
   "source": [
    "#### 2.3 Removing inconsistent data"
   ]
  },
  {
   "cell_type": "code",
   "execution_count": 18,
   "metadata": {},
   "outputs": [],
   "source": [
    "df_clean = df.drop(columns = ['ids','state','zip','channel', 'job_name','sign','reason', 'gender','facebook_profile',\n",
    "                              'real_state','score_1','score_2','last_payment','end_last_loan'])"
   ]
  },
  {
   "cell_type": "code",
   "execution_count": 19,
   "metadata": {},
   "outputs": [
    {
     "data": {
      "text/plain": [
       "['default',\n",
       " 'score_3',\n",
       " 'score_4',\n",
       " 'score_5',\n",
       " 'score_6',\n",
       " 'risk_rate',\n",
       " 'amount_borrowed',\n",
       " 'borrowed_in_months',\n",
       " 'credit_limit',\n",
       " 'income',\n",
       " 'ok_since',\n",
       " 'n_bankruptcies',\n",
       " 'n_defaulted_loans',\n",
       " 'n_accounts',\n",
       " 'n_issues',\n",
       " 'time_loan_to_payment']"
      ]
     },
     "execution_count": 19,
     "metadata": {},
     "output_type": "execute_result"
    }
   ],
   "source": [
    "df_clean.columns.tolist()"
   ]
  },
  {
   "cell_type": "code",
   "execution_count": 20,
   "metadata": {},
   "outputs": [
    {
     "data": {
      "text/html": [
       "<div>\n",
       "<style scoped>\n",
       "    .dataframe tbody tr th:only-of-type {\n",
       "        vertical-align: middle;\n",
       "    }\n",
       "\n",
       "    .dataframe tbody tr th {\n",
       "        vertical-align: top;\n",
       "    }\n",
       "\n",
       "    .dataframe thead th {\n",
       "        text-align: right;\n",
       "    }\n",
       "</style>\n",
       "<table border=\"1\" class=\"dataframe\">\n",
       "  <thead>\n",
       "    <tr style=\"text-align: right;\">\n",
       "      <th></th>\n",
       "      <th>default</th>\n",
       "      <th>score_3</th>\n",
       "      <th>score_4</th>\n",
       "      <th>score_5</th>\n",
       "      <th>score_6</th>\n",
       "      <th>risk_rate</th>\n",
       "      <th>amount_borrowed</th>\n",
       "      <th>borrowed_in_months</th>\n",
       "      <th>credit_limit</th>\n",
       "      <th>income</th>\n",
       "      <th>ok_since</th>\n",
       "      <th>n_bankruptcies</th>\n",
       "      <th>n_defaulted_loans</th>\n",
       "      <th>n_accounts</th>\n",
       "      <th>n_issues</th>\n",
       "      <th>time_loan_to_payment</th>\n",
       "    </tr>\n",
       "  </thead>\n",
       "  <tbody>\n",
       "    <tr>\n",
       "      <th>0</th>\n",
       "      <td>0</td>\n",
       "      <td>710.0</td>\n",
       "      <td>104.174961</td>\n",
       "      <td>0.661509</td>\n",
       "      <td>123.015325</td>\n",
       "      <td>0.43</td>\n",
       "      <td>20024.31</td>\n",
       "      <td>60.0</td>\n",
       "      <td>62386.0</td>\n",
       "      <td>59869.05</td>\n",
       "      <td>14.0</td>\n",
       "      <td>1.0</td>\n",
       "      <td>0.0</td>\n",
       "      <td>9.0</td>\n",
       "      <td>9.0</td>\n",
       "      <td>396.0</td>\n",
       "    </tr>\n",
       "    <tr>\n",
       "      <th>1</th>\n",
       "      <td>0</td>\n",
       "      <td>330.0</td>\n",
       "      <td>97.880798</td>\n",
       "      <td>0.531115</td>\n",
       "      <td>110.913484</td>\n",
       "      <td>0.23</td>\n",
       "      <td>10046.51</td>\n",
       "      <td>36.0</td>\n",
       "      <td>NaN</td>\n",
       "      <td>46016.31</td>\n",
       "      <td>75.0</td>\n",
       "      <td>0.0</td>\n",
       "      <td>0.0</td>\n",
       "      <td>3.0</td>\n",
       "      <td>NaN</td>\n",
       "      <td>0.0</td>\n",
       "    </tr>\n",
       "    <tr>\n",
       "      <th>2</th>\n",
       "      <td>0</td>\n",
       "      <td>360.0</td>\n",
       "      <td>97.908925</td>\n",
       "      <td>0.611086</td>\n",
       "      <td>104.620791</td>\n",
       "      <td>0.30</td>\n",
       "      <td>21228.25</td>\n",
       "      <td>60.0</td>\n",
       "      <td>NaN</td>\n",
       "      <td>48025.47</td>\n",
       "      <td>NaN</td>\n",
       "      <td>0.0</td>\n",
       "      <td>0.0</td>\n",
       "      <td>5.0</td>\n",
       "      <td>NaN</td>\n",
       "      <td>181.0</td>\n",
       "    </tr>\n",
       "    <tr>\n",
       "      <th>3</th>\n",
       "      <td>0</td>\n",
       "      <td>120.0</td>\n",
       "      <td>100.434557</td>\n",
       "      <td>0.139784</td>\n",
       "      <td>120.134718</td>\n",
       "      <td>0.15</td>\n",
       "      <td>23032.33</td>\n",
       "      <td>36.0</td>\n",
       "      <td>NaN</td>\n",
       "      <td>46011.12</td>\n",
       "      <td>NaN</td>\n",
       "      <td>0.0</td>\n",
       "      <td>0.0</td>\n",
       "      <td>5.0</td>\n",
       "      <td>NaN</td>\n",
       "      <td>0.0</td>\n",
       "    </tr>\n",
       "    <tr>\n",
       "      <th>4</th>\n",
       "      <td>0</td>\n",
       "      <td>330.0</td>\n",
       "      <td>103.774638</td>\n",
       "      <td>0.002856</td>\n",
       "      <td>104.320462</td>\n",
       "      <td>0.08</td>\n",
       "      <td>24026.29</td>\n",
       "      <td>36.0</td>\n",
       "      <td>32366.0</td>\n",
       "      <td>90026.17</td>\n",
       "      <td>15.0</td>\n",
       "      <td>0.0</td>\n",
       "      <td>0.0</td>\n",
       "      <td>10.0</td>\n",
       "      <td>10.0</td>\n",
       "      <td>151.0</td>\n",
       "    </tr>\n",
       "  </tbody>\n",
       "</table>\n",
       "</div>"
      ],
      "text/plain": [
       "   default  score_3     score_4   score_5     score_6  risk_rate  \\\n",
       "0        0    710.0  104.174961  0.661509  123.015325       0.43   \n",
       "1        0    330.0   97.880798  0.531115  110.913484       0.23   \n",
       "2        0    360.0   97.908925  0.611086  104.620791       0.30   \n",
       "3        0    120.0  100.434557  0.139784  120.134718       0.15   \n",
       "4        0    330.0  103.774638  0.002856  104.320462       0.08   \n",
       "\n",
       "   amount_borrowed  borrowed_in_months  credit_limit    income  ok_since  \\\n",
       "0         20024.31                60.0       62386.0  59869.05      14.0   \n",
       "1         10046.51                36.0           NaN  46016.31      75.0   \n",
       "2         21228.25                60.0           NaN  48025.47       NaN   \n",
       "3         23032.33                36.0           NaN  46011.12       NaN   \n",
       "4         24026.29                36.0       32366.0  90026.17      15.0   \n",
       "\n",
       "   n_bankruptcies  n_defaulted_loans  n_accounts  n_issues  \\\n",
       "0             1.0                0.0         9.0       9.0   \n",
       "1             0.0                0.0         3.0       NaN   \n",
       "2             0.0                0.0         5.0       NaN   \n",
       "3             0.0                0.0         5.0       NaN   \n",
       "4             0.0                0.0        10.0      10.0   \n",
       "\n",
       "   time_loan_to_payment  \n",
       "0                 396.0  \n",
       "1                   0.0  \n",
       "2                 181.0  \n",
       "3                   0.0  \n",
       "4                 151.0  "
      ]
     },
     "execution_count": 20,
     "metadata": {},
     "output_type": "execute_result"
    }
   ],
   "source": [
    "df_clean.head()"
   ]
  },
  {
   "cell_type": "code",
   "execution_count": 21,
   "metadata": {},
   "outputs": [
    {
     "data": {
      "text/plain": [
       "default                     0\n",
       "score_3                     0\n",
       "score_4                     0\n",
       "score_5                     0\n",
       "score_6                     0\n",
       "risk_rate                   0\n",
       "amount_borrowed             0\n",
       "borrowed_in_months          0\n",
       "credit_limit            18779\n",
       "income                      0\n",
       "ok_since                35089\n",
       "n_bankruptcies            202\n",
       "n_defaulted_loans          18\n",
       "n_accounts                  0\n",
       "n_issues                15580\n",
       "time_loan_to_payment       80\n",
       "dtype: int64"
      ]
     },
     "execution_count": 21,
     "metadata": {},
     "output_type": "execute_result"
    }
   ],
   "source": [
    "df_clean.isnull().sum()"
   ]
  },
  {
   "cell_type": "markdown",
   "metadata": {},
   "source": [
    "#### 2.4 Replacing the missing values "
   ]
  },
  {
   "cell_type": "markdown",
   "metadata": {},
   "source": [
    "We will mainly use the mean to replace the missing values"
   ]
  },
  {
   "cell_type": "code",
   "execution_count": 22,
   "metadata": {},
   "outputs": [
    {
     "data": {
      "text/plain": [
       "score_3                   346.435147\n",
       "score_4                    99.999870\n",
       "score_5                     0.498721\n",
       "score_6                    99.943175\n",
       "risk_rate                   0.294114\n",
       "amount_borrowed         13411.805468\n",
       "borrowed_in_months         40.674649\n",
       "credit_limit            34093.005997\n",
       "income                  71325.776783\n",
       "ok_since                   35.276762\n",
       "n_bankruptcies              0.077706\n",
       "n_defaulted_loans           0.004671\n",
       "n_accounts                 10.624571\n",
       "n_issues                   11.001036\n",
       "time_loan_to_payment      496.891661\n",
       "dtype: float64"
      ]
     },
     "execution_count": 22,
     "metadata": {},
     "output_type": "execute_result"
    }
   ],
   "source": [
    "mean = df_clean[df_clean.columns[1:]].mean()\n",
    "mean"
   ]
  },
  {
   "cell_type": "code",
   "execution_count": 23,
   "metadata": {},
   "outputs": [
    {
     "data": {
      "text/plain": [
       "score_3                   340.000000\n",
       "score_4                   100.008497\n",
       "score_5                     0.497755\n",
       "score_6                    99.979923\n",
       "risk_rate                   0.290000\n",
       "amount_borrowed         12012.400000\n",
       "borrowed_in_months         36.000000\n",
       "credit_limit            25338.000000\n",
       "income                  60047.260000\n",
       "ok_since                   32.000000\n",
       "n_bankruptcies              0.000000\n",
       "n_defaulted_loans           0.000000\n",
       "n_accounts                 10.000000\n",
       "n_issues                   10.000000\n",
       "time_loan_to_payment      394.000000\n",
       "dtype: float64"
      ]
     },
     "execution_count": 23,
     "metadata": {},
     "output_type": "execute_result"
    }
   ],
   "source": [
    "median = df_clean[df_clean.columns[1:]].median()\n",
    "median"
   ]
  },
  {
   "cell_type": "code",
   "execution_count": 24,
   "metadata": {},
   "outputs": [
    {
     "data": {
      "text/html": [
       "<div>\n",
       "<style scoped>\n",
       "    .dataframe tbody tr th:only-of-type {\n",
       "        vertical-align: middle;\n",
       "    }\n",
       "\n",
       "    .dataframe tbody tr th {\n",
       "        vertical-align: top;\n",
       "    }\n",
       "\n",
       "    .dataframe thead th {\n",
       "        text-align: right;\n",
       "    }\n",
       "</style>\n",
       "<table border=\"1\" class=\"dataframe\">\n",
       "  <thead>\n",
       "    <tr style=\"text-align: right;\">\n",
       "      <th></th>\n",
       "      <th>default</th>\n",
       "      <th>score_3</th>\n",
       "      <th>score_4</th>\n",
       "      <th>score_5</th>\n",
       "      <th>score_6</th>\n",
       "      <th>risk_rate</th>\n",
       "      <th>amount_borrowed</th>\n",
       "      <th>borrowed_in_months</th>\n",
       "      <th>credit_limit</th>\n",
       "      <th>income</th>\n",
       "      <th>ok_since</th>\n",
       "      <th>n_bankruptcies</th>\n",
       "      <th>n_defaulted_loans</th>\n",
       "      <th>n_accounts</th>\n",
       "      <th>n_issues</th>\n",
       "      <th>time_loan_to_payment</th>\n",
       "    </tr>\n",
       "  </thead>\n",
       "  <tbody>\n",
       "    <tr>\n",
       "      <th>0</th>\n",
       "      <td>0</td>\n",
       "      <td>710.0</td>\n",
       "      <td>104.174961</td>\n",
       "      <td>0.661509</td>\n",
       "      <td>123.015325</td>\n",
       "      <td>0.43</td>\n",
       "      <td>20024.31</td>\n",
       "      <td>60.0</td>\n",
       "      <td>62386.000000</td>\n",
       "      <td>59869.05</td>\n",
       "      <td>14.000000</td>\n",
       "      <td>1.0</td>\n",
       "      <td>0.0</td>\n",
       "      <td>9.0</td>\n",
       "      <td>9.000000</td>\n",
       "      <td>396.0</td>\n",
       "    </tr>\n",
       "    <tr>\n",
       "      <th>1</th>\n",
       "      <td>0</td>\n",
       "      <td>330.0</td>\n",
       "      <td>97.880798</td>\n",
       "      <td>0.531115</td>\n",
       "      <td>110.913484</td>\n",
       "      <td>0.23</td>\n",
       "      <td>10046.51</td>\n",
       "      <td>36.0</td>\n",
       "      <td>34093.005997</td>\n",
       "      <td>46016.31</td>\n",
       "      <td>75.000000</td>\n",
       "      <td>0.0</td>\n",
       "      <td>0.0</td>\n",
       "      <td>3.0</td>\n",
       "      <td>11.001036</td>\n",
       "      <td>0.0</td>\n",
       "    </tr>\n",
       "    <tr>\n",
       "      <th>2</th>\n",
       "      <td>0</td>\n",
       "      <td>360.0</td>\n",
       "      <td>97.908925</td>\n",
       "      <td>0.611086</td>\n",
       "      <td>104.620791</td>\n",
       "      <td>0.30</td>\n",
       "      <td>21228.25</td>\n",
       "      <td>60.0</td>\n",
       "      <td>34093.005997</td>\n",
       "      <td>48025.47</td>\n",
       "      <td>35.276762</td>\n",
       "      <td>0.0</td>\n",
       "      <td>0.0</td>\n",
       "      <td>5.0</td>\n",
       "      <td>11.001036</td>\n",
       "      <td>181.0</td>\n",
       "    </tr>\n",
       "    <tr>\n",
       "      <th>3</th>\n",
       "      <td>0</td>\n",
       "      <td>120.0</td>\n",
       "      <td>100.434557</td>\n",
       "      <td>0.139784</td>\n",
       "      <td>120.134718</td>\n",
       "      <td>0.15</td>\n",
       "      <td>23032.33</td>\n",
       "      <td>36.0</td>\n",
       "      <td>34093.005997</td>\n",
       "      <td>46011.12</td>\n",
       "      <td>35.276762</td>\n",
       "      <td>0.0</td>\n",
       "      <td>0.0</td>\n",
       "      <td>5.0</td>\n",
       "      <td>11.001036</td>\n",
       "      <td>0.0</td>\n",
       "    </tr>\n",
       "    <tr>\n",
       "      <th>4</th>\n",
       "      <td>0</td>\n",
       "      <td>330.0</td>\n",
       "      <td>103.774638</td>\n",
       "      <td>0.002856</td>\n",
       "      <td>104.320462</td>\n",
       "      <td>0.08</td>\n",
       "      <td>24026.29</td>\n",
       "      <td>36.0</td>\n",
       "      <td>32366.000000</td>\n",
       "      <td>90026.17</td>\n",
       "      <td>15.000000</td>\n",
       "      <td>0.0</td>\n",
       "      <td>0.0</td>\n",
       "      <td>10.0</td>\n",
       "      <td>10.000000</td>\n",
       "      <td>151.0</td>\n",
       "    </tr>\n",
       "  </tbody>\n",
       "</table>\n",
       "</div>"
      ],
      "text/plain": [
       "   default  score_3     score_4   score_5     score_6  risk_rate  \\\n",
       "0        0    710.0  104.174961  0.661509  123.015325       0.43   \n",
       "1        0    330.0   97.880798  0.531115  110.913484       0.23   \n",
       "2        0    360.0   97.908925  0.611086  104.620791       0.30   \n",
       "3        0    120.0  100.434557  0.139784  120.134718       0.15   \n",
       "4        0    330.0  103.774638  0.002856  104.320462       0.08   \n",
       "\n",
       "   amount_borrowed  borrowed_in_months  credit_limit    income   ok_since  \\\n",
       "0         20024.31                60.0  62386.000000  59869.05  14.000000   \n",
       "1         10046.51                36.0  34093.005997  46016.31  75.000000   \n",
       "2         21228.25                60.0  34093.005997  48025.47  35.276762   \n",
       "3         23032.33                36.0  34093.005997  46011.12  35.276762   \n",
       "4         24026.29                36.0  32366.000000  90026.17  15.000000   \n",
       "\n",
       "   n_bankruptcies  n_defaulted_loans  n_accounts   n_issues  \\\n",
       "0             1.0                0.0         9.0   9.000000   \n",
       "1             0.0                0.0         3.0  11.001036   \n",
       "2             0.0                0.0         5.0  11.001036   \n",
       "3             0.0                0.0         5.0  11.001036   \n",
       "4             0.0                0.0        10.0  10.000000   \n",
       "\n",
       "   time_loan_to_payment  \n",
       "0                 396.0  \n",
       "1                   0.0  \n",
       "2                 181.0  \n",
       "3                   0.0  \n",
       "4                 151.0  "
      ]
     },
     "execution_count": 24,
     "metadata": {},
     "output_type": "execute_result"
    }
   ],
   "source": [
    "df2 = df_clean.fillna(mean)\n",
    "df2.head()"
   ]
  },
  {
   "cell_type": "code",
   "execution_count": 25,
   "metadata": {},
   "outputs": [
    {
     "data": {
      "text/html": [
       "<div>\n",
       "<style scoped>\n",
       "    .dataframe tbody tr th:only-of-type {\n",
       "        vertical-align: middle;\n",
       "    }\n",
       "\n",
       "    .dataframe tbody tr th {\n",
       "        vertical-align: top;\n",
       "    }\n",
       "\n",
       "    .dataframe thead th {\n",
       "        text-align: right;\n",
       "    }\n",
       "</style>\n",
       "<table border=\"1\" class=\"dataframe\">\n",
       "  <thead>\n",
       "    <tr style=\"text-align: right;\">\n",
       "      <th></th>\n",
       "      <th>default</th>\n",
       "      <th>score_3</th>\n",
       "      <th>score_4</th>\n",
       "      <th>score_5</th>\n",
       "      <th>score_6</th>\n",
       "      <th>risk_rate</th>\n",
       "      <th>amount_borrowed</th>\n",
       "      <th>borrowed_in_months</th>\n",
       "      <th>credit_limit</th>\n",
       "      <th>income</th>\n",
       "      <th>ok_since</th>\n",
       "      <th>n_bankruptcies</th>\n",
       "      <th>n_defaulted_loans</th>\n",
       "      <th>n_accounts</th>\n",
       "      <th>n_issues</th>\n",
       "      <th>time_loan_to_payment</th>\n",
       "    </tr>\n",
       "  </thead>\n",
       "  <tbody>\n",
       "    <tr>\n",
       "      <th>0</th>\n",
       "      <td>0</td>\n",
       "      <td>710.0</td>\n",
       "      <td>104.174961</td>\n",
       "      <td>0.661509</td>\n",
       "      <td>123.015325</td>\n",
       "      <td>0.43</td>\n",
       "      <td>20024.31</td>\n",
       "      <td>60.0</td>\n",
       "      <td>62386.0</td>\n",
       "      <td>59869.05</td>\n",
       "      <td>14.0</td>\n",
       "      <td>1.0</td>\n",
       "      <td>0.0</td>\n",
       "      <td>9.0</td>\n",
       "      <td>9.0</td>\n",
       "      <td>396.0</td>\n",
       "    </tr>\n",
       "    <tr>\n",
       "      <th>1</th>\n",
       "      <td>0</td>\n",
       "      <td>330.0</td>\n",
       "      <td>97.880798</td>\n",
       "      <td>0.531115</td>\n",
       "      <td>110.913484</td>\n",
       "      <td>0.23</td>\n",
       "      <td>10046.51</td>\n",
       "      <td>36.0</td>\n",
       "      <td>25338.0</td>\n",
       "      <td>46016.31</td>\n",
       "      <td>75.0</td>\n",
       "      <td>0.0</td>\n",
       "      <td>0.0</td>\n",
       "      <td>3.0</td>\n",
       "      <td>10.0</td>\n",
       "      <td>0.0</td>\n",
       "    </tr>\n",
       "    <tr>\n",
       "      <th>2</th>\n",
       "      <td>0</td>\n",
       "      <td>360.0</td>\n",
       "      <td>97.908925</td>\n",
       "      <td>0.611086</td>\n",
       "      <td>104.620791</td>\n",
       "      <td>0.30</td>\n",
       "      <td>21228.25</td>\n",
       "      <td>60.0</td>\n",
       "      <td>25338.0</td>\n",
       "      <td>48025.47</td>\n",
       "      <td>32.0</td>\n",
       "      <td>0.0</td>\n",
       "      <td>0.0</td>\n",
       "      <td>5.0</td>\n",
       "      <td>10.0</td>\n",
       "      <td>181.0</td>\n",
       "    </tr>\n",
       "    <tr>\n",
       "      <th>3</th>\n",
       "      <td>0</td>\n",
       "      <td>120.0</td>\n",
       "      <td>100.434557</td>\n",
       "      <td>0.139784</td>\n",
       "      <td>120.134718</td>\n",
       "      <td>0.15</td>\n",
       "      <td>23032.33</td>\n",
       "      <td>36.0</td>\n",
       "      <td>25338.0</td>\n",
       "      <td>46011.12</td>\n",
       "      <td>32.0</td>\n",
       "      <td>0.0</td>\n",
       "      <td>0.0</td>\n",
       "      <td>5.0</td>\n",
       "      <td>10.0</td>\n",
       "      <td>0.0</td>\n",
       "    </tr>\n",
       "    <tr>\n",
       "      <th>4</th>\n",
       "      <td>0</td>\n",
       "      <td>330.0</td>\n",
       "      <td>103.774638</td>\n",
       "      <td>0.002856</td>\n",
       "      <td>104.320462</td>\n",
       "      <td>0.08</td>\n",
       "      <td>24026.29</td>\n",
       "      <td>36.0</td>\n",
       "      <td>32366.0</td>\n",
       "      <td>90026.17</td>\n",
       "      <td>15.0</td>\n",
       "      <td>0.0</td>\n",
       "      <td>0.0</td>\n",
       "      <td>10.0</td>\n",
       "      <td>10.0</td>\n",
       "      <td>151.0</td>\n",
       "    </tr>\n",
       "  </tbody>\n",
       "</table>\n",
       "</div>"
      ],
      "text/plain": [
       "   default  score_3     score_4   score_5     score_6  risk_rate  \\\n",
       "0        0    710.0  104.174961  0.661509  123.015325       0.43   \n",
       "1        0    330.0   97.880798  0.531115  110.913484       0.23   \n",
       "2        0    360.0   97.908925  0.611086  104.620791       0.30   \n",
       "3        0    120.0  100.434557  0.139784  120.134718       0.15   \n",
       "4        0    330.0  103.774638  0.002856  104.320462       0.08   \n",
       "\n",
       "   amount_borrowed  borrowed_in_months  credit_limit    income  ok_since  \\\n",
       "0         20024.31                60.0       62386.0  59869.05      14.0   \n",
       "1         10046.51                36.0       25338.0  46016.31      75.0   \n",
       "2         21228.25                60.0       25338.0  48025.47      32.0   \n",
       "3         23032.33                36.0       25338.0  46011.12      32.0   \n",
       "4         24026.29                36.0       32366.0  90026.17      15.0   \n",
       "\n",
       "   n_bankruptcies  n_defaulted_loans  n_accounts  n_issues  \\\n",
       "0             1.0                0.0         9.0       9.0   \n",
       "1             0.0                0.0         3.0      10.0   \n",
       "2             0.0                0.0         5.0      10.0   \n",
       "3             0.0                0.0         5.0      10.0   \n",
       "4             0.0                0.0        10.0      10.0   \n",
       "\n",
       "   time_loan_to_payment  \n",
       "0                 396.0  \n",
       "1                   0.0  \n",
       "2                 181.0  \n",
       "3                   0.0  \n",
       "4                 151.0  "
      ]
     },
     "execution_count": 25,
     "metadata": {},
     "output_type": "execute_result"
    }
   ],
   "source": [
    "df3 = df_clean.fillna(median)\n",
    "df3.head()"
   ]
  },
  {
   "cell_type": "code",
   "execution_count": 26,
   "metadata": {},
   "outputs": [
    {
     "data": {
      "text/plain": [
       "default                 0\n",
       "score_3                 0\n",
       "score_4                 0\n",
       "score_5                 0\n",
       "score_6                 0\n",
       "risk_rate               0\n",
       "amount_borrowed         0\n",
       "borrowed_in_months      0\n",
       "credit_limit            0\n",
       "income                  0\n",
       "ok_since                0\n",
       "n_bankruptcies          0\n",
       "n_defaulted_loans       0\n",
       "n_accounts              0\n",
       "n_issues                0\n",
       "time_loan_to_payment    0\n",
       "dtype: int64"
      ]
     },
     "execution_count": 26,
     "metadata": {},
     "output_type": "execute_result"
    }
   ],
   "source": [
    "df2.isnull().sum()"
   ]
  },
  {
   "cell_type": "code",
   "execution_count": 27,
   "metadata": {},
   "outputs": [
    {
     "data": {
      "text/plain": [
       "Index(['default', 'score_3', 'score_4', 'score_5', 'score_6', 'risk_rate',\n",
       "       'amount_borrowed', 'borrowed_in_months', 'credit_limit', 'income',\n",
       "       'ok_since', 'n_bankruptcies', 'n_defaulted_loans', 'n_accounts',\n",
       "       'n_issues', 'time_loan_to_payment'],\n",
       "      dtype='object')"
      ]
     },
     "execution_count": 27,
     "metadata": {},
     "output_type": "execute_result"
    }
   ],
   "source": [
    "df2.columns"
   ]
  },
  {
   "cell_type": "code",
   "execution_count": 28,
   "metadata": {},
   "outputs": [
    {
     "name": "stdout",
     "output_type": "stream",
     "text": [
      "<class 'pandas.core.frame.DataFrame'>\n",
      "Int64Index: 59966 entries, 0 to 64591\n",
      "Data columns (total 16 columns):\n",
      " #   Column                Non-Null Count  Dtype  \n",
      "---  ------                --------------  -----  \n",
      " 0   default               59966 non-null  int32  \n",
      " 1   score_3               59966 non-null  float64\n",
      " 2   score_4               59966 non-null  float64\n",
      " 3   score_5               59966 non-null  float64\n",
      " 4   score_6               59966 non-null  float64\n",
      " 5   risk_rate             59966 non-null  float64\n",
      " 6   amount_borrowed       59966 non-null  float64\n",
      " 7   borrowed_in_months    59966 non-null  float64\n",
      " 8   credit_limit          59966 non-null  float64\n",
      " 9   income                59966 non-null  float64\n",
      " 10  ok_since              59966 non-null  float64\n",
      " 11  n_bankruptcies        59966 non-null  float64\n",
      " 12  n_defaulted_loans     59966 non-null  float64\n",
      " 13  n_accounts            59966 non-null  float64\n",
      " 14  n_issues              59966 non-null  float64\n",
      " 15  time_loan_to_payment  59966 non-null  float64\n",
      "dtypes: float64(15), int32(1)\n",
      "memory usage: 7.5 MB\n"
     ]
    }
   ],
   "source": [
    "df2.info()"
   ]
  },
  {
   "cell_type": "markdown",
   "metadata": {},
   "source": [
    "## 3 Exploring the Features"
   ]
  },
  {
   "cell_type": "markdown",
   "metadata": {},
   "source": [
    "#### 3.1 Analyzing the features "
   ]
  },
  {
   "cell_type": "code",
   "execution_count": 29,
   "metadata": {},
   "outputs": [
    {
     "data": {
      "image/png": "iVBORw0KGgoAAAANSUhEUgAAA1QAAALECAYAAAAPcHGqAAAABHNCSVQICAgIfAhkiAAAAAlwSFlzAAALEgAACxIB0t1+/AAAADh0RVh0U29mdHdhcmUAbWF0cGxvdGxpYiB2ZXJzaW9uMy4yLjEsIGh0dHA6Ly9tYXRwbG90bGliLm9yZy+j8jraAAAgAElEQVR4nOzdfVzUZb7/8dfAoJTQEp5B/KFrrbnZ0U2r6WQ3i5sbgsIsRdoik6bWanRnN2KIHDlSmCUha4p3ue2u0gmWaiY9iKdy1VbbQh8nW3ZdT+uJVqVFEDduEh1gfn+wzoqAwgjMIO/n4+FD5/rezHVdzgXfz/f7mesyOJ1OJyIiIiIiItJpPp6ugIiIiIiISG+lgEpERERERMRNCqhERERERETcpIBKRERERETETQqoRERERERE3KSASkRERERExE0KqERERERERNykgMqLbd68mejoaGJiYkhMTOTEiRNunefnP/85NpsNgFWrVvHBBx8AkJyczMaNG7usvuebPXs2VVVVAEyYMIE//OEP/OEPf+Cpp57qtvcUcccHH3zATTfd5PbxGmMibTt06BDTp0/n3nvvJS4ujpKSErfOozEm3qQjn4Hu/GzW1NQwY8aMLj/vue36/PPPWbx4MQCffPIJMTExXf5+Z/3mN78hNzcXgNdee4309HQAfvazn/GXv/yl2963Kymg8lIlJSX84he/4K233mLr1q1cc801/PznP3frXPPmzePee+8FmgdFQ0NDV1a1XXv27GlV9oMf/ICVK1f2yPuLdERpaSkvv/zyJZ1DY0yktVOnTvHwww/zyCOPYLPZeOyxx5g/f75b59IYE2/i6c/AN998wx/+8IcuP++57frLX/5CeXl5l79HW/bv3099fX2r8g0bNnDdddf1SB0uldHTFfAWdXV1LFy4kK+++gofHx9GjRpFeno6Pj4+FBQU8MYbb+Dj48PVV1/Nyy+/zODBg8nLy2PTpk34+PjwL//yL/z7v/871157LcnJyfz973/nyJEj/OhHP2LevHlkZmZSXFxMY2Mj//qv/0pqaioBAQHt1mf06NFs374dPz8/Tp8+TXl5OUOGDGm1X2xsLMnJydx+++1s3bqVhQsXUlxcjL+/P4sWLWLUqFF8/vnnjBgxAn9/f0pKSnjllVfw9fUF4H/+53+Ij4+nsrKSESNG8Oqrr3LllVe2eI+amhqWLFnCn//8ZwwGAz/84Q959tlnMRqNXH/99Xz88ccEBwcDuF4vX74cgIceeoj169e7zvXJJ5/wwgsvsHXrVs6cOdNuv0yYMIEbb7yRQ4cO8eyzz1JRUcFbb72Fn58f/fv3Jz09vdcMMmnmbWMMmi/4kpKSSE5ObvdCT2NMegtvG2N79uxh6NChjB8/HoAf//jH+j2mMdYrffLJJ2RkZHDllVdSV1fHggULePnll9m6dSv79u1j2bJlNDU1ATB37lwiIyNbHL906VIOHTpETk4OAwYMaPd9Ro8ezY9//GP+/Oc/k5mZyaFDh8jLy8PhcPDNN9/ws5/9jISEBBYuXEh9fT2xsbG88847lJaWkpGRwd///ncaGxuZPn06U6ZMaXHuX/7yl/zxj39k+fLlOBwObrvtNhYtWsT999/Pvn37ePnll5k/fz4vvPACGzZsYOXKldTU1LBw4ULuvfdevv32W5555hn+7//+j9OnT/Piiy9iNptbteFCP1NGjBjBww8/DOB6/d3vfpcdO3awZ88e/P39W5xrwoQJ/PznP+cHP/gBO3bsYM2aNTgcDvz9/Xn++ee56aabeO211/jss884fvw4119/PYmJiSxatIgzZ87gdDqZMmUKVqvVrf/3ztATqn94//33qaurw263U1BQAMCRI0dcH+rXX3+dLVu2MGHCBNasWcPHH3/M66+/zq9//Wvee+89YmJiePzxx3E6nQDU19fzX//1XyQlJbF+/Xp8fX155513eO+99wgJCSEzM/OidfLz8+ODDz4gPDyc4uJi4uLiWu0TERHB7t27Afjoo4/4zne+w759+3A6nezatYuIiAjXvlarldGjR7NgwQJXeXl5OW+88Qbbt2+nvLyc//7v/271Hi+++CJBQUFs2bKFt99+m0OHDvGLX/zignV/6aWXAPjVr37F4MGD29znYv0yYsQItm3bxoQJE1i6dCmvv/46b7/9Ng888AD79++/SO+Jt/HGMbZ48WJ++tOfcv3117e7j8aY9BbeNsa+/PJLTCYTKSkpxMXFMWvWLBobG1vtpzEmvcEXX3zBq6++ypYtW+jXr5+r/LXXXmPWrFm88847LF26lN///veubU6nk/T0dMrKytiwYcMFgykAh8PB3Xffzfbt2/ne977Hb37zG9avX4/NZmPFihWuIP+ll17C398fu92O0+nkqaee4rnnnuOdd95h8+bN/OIXv+Czzz5rce6JEyfyu9/9jqamJvbv38+VV17J3r17AdixYwcTJ0507Tt48GCeeuopzGazaxz87W9/Y+bMmdjtduLj43nttdda1f9iP1PaEhERwYQJE5g5c2a7gU9paSkrVqxw9cULL7zAk08+ybfffgvAsWPHePfdd8nMzGTjxo1MmDCBd955h/Xr17Nv3z5XsNud9ITqH2655RZWrFjB9OnTueOOO3jooYcYNmwYb7zxBnfddZfrh+nMmTMBeOWVV5g8ebLrjlZcXBwZGRkcPXrUdb6zdu7cSU1NjeuD63A4GDhwYIfqdc8993DPPfeQn5/Pww8/zPvvv4+Pzz/j4IiICJ599lkWLFjAvn37mDlzJnv27GHAgAF897vfxWQyXfT8V1xxBdD8g/9srvi5du/ezX/+539iMBjo168f8fHx/OpXv2LOnDkdakN7LtYvZ+98+Pr6EhUVRXx8PD/60Y+46667XHc8pffwtjGWm5uL0WhkypQprnO2RWNMegtvG2MNDQ3s2rWLX//614wZM4YPPviAOXPm8Nvf/rbFBanGmPQGgwcPJiwsrFX5pEmTSE9PZ8eOHdxxxx08++yzrm2//OUvOXHiBDabrcVn/kLOfmYGDBjA2rVr2bVrF6Wlpfz5z392BRDnKi0t5a9//SspKSmusvr6ev70pz8xduxYV9n/+3//j8GDB1NSUsJHH33EnDlzWL9+PU6nkx07drB+/Xq+/vrrdus1dOhQxowZA8DIkSN5++23W+3z0UcfXfBnirv27NnD8ePHXT+7AAwGA3/9618BGDt2LEZjc0gTERHB888/z+eff87tt99Oampqi+vm7qKA6h+GDh3K+++/zyeffMLvf/97Zs2aRXp6Or6+vhgMBtd+9fX1HDt2rM1o1+l0uvK6z003aGpqIiUlxfXDs66ujtOnT1+wPl999RUVFRWugXX//feTlpbGN998w9VXX+3a7/rrr8fhcPDhhx9yzTXXcPfdd/PMM89gNBpbPXJuy9kPIDR/ONu6i9DU1NSiD5qamtrMXz9z5sxF3+/8816oX87tw8zMTP73f/+XvXv3sn79eux2u9vfKRPP8LYx9u6777pSJhwOh+vf69evZ9CgQa79NMakt/C2MRYSEsLw4cNdF2H33HMPqampHDlyhOHDh7v20xiT3uD8NNKz4uPjufvuu9mzZw8fffQRq1atoqioCIBbb72Vm2++mYULF5KXl4efn1+H3+dvf/sbP/3pT3nggQe45ZZbiIqK4re//W2r/RsbGwkMDMRut7vKKisrCQwMbLXvPffcw+7du9mzZw/r1q1j69atFBYW4u/vz3e/+90LBlTn1v1C4+x8Z3+mnH+Mw+Fo973aOu/tt99Odna2q+zrr78mJCSE999/v8X/zdknfHv37uXjjz9m9erVvPPOO4SGhnb4/dyhlL9/ePPNN1m4cCF33XUXSUlJ3HXXXfzpT3/itttu4+OPP+b48eMAvPXWWyxfvpwf/vCHFBYWuu6Evf322wQFBTFs2LBW577rrrvIzc3lzJkzNDU18e///u9kZWVdsD4VFRU8++yzrvNv2bKFESNGtAimzrrnnnt49dVXufPOOxk+fDi1tbVs2bKlxePbs3x9fTv9Zd677rqLzZs343Q6OXPmDPn5+dxxxx0ABAcHu74YuXXr1k69V0f7paqqivHjxxMUFMTMmTN5+umnu+XLmNK9vG2MFRQUsHXrVux2O+vXr3elT5wbTJ2lMSa9gbeNsfDwcI4ePeqa2a+4uBiDwdDm96g0xqS3io+P5+DBg8TFxfHCCy9QXV1NRUUF0PydqAcffJDAwEBWrVrVqfOWlJQQHBzMY489xl133eUKphobGzEajTQ2NuJ0Orn22mtdv7+gOdCIiYlpc0bNiRMnsmXLFpqamhg0aBB33nkny5cv77JxdqGfKVdffbWrTuXl5Xz66acdfq/bb7+dPXv2cPjwYQB27drFT37ykzYnsnjuuecoLCwkOjqatLQ0AgICXE+yupOeUP3Dvffey6effsrkyZO54oorGDx4MNOnT+c73/kOSUlJPPLIIwCYTCaWLl3KoEGDmDlzJg899BBNTU0EBwezbt26Nh8rPvbYY7z88svcd999NDY2csMNN5CcnHzB+pjNZh599FFmzJiBr68vISEhrF69us19IyIi2Lhxo+uXwx133MGhQ4fazPmeMGECWVlZnbozkJqayosvvojFYsHhcPDDH/6QRx991LUtPT2dq666ijvuuKNFakZUVBTTp09vM88WOt4vwcHBJCYmMnPmTPz9/fH19eXFF1/scP3FO3jbGOsMjTHpDbxtjJlMJlavXs2SJUs4deoU/fr147XXXqN///6t9tUYk95q/vz5LF26lOzsbAwGA0888USLmwYGg4GlS5dy7733Mn78eG6++eYOnffOO++koKCAqKgoDAYD//Zv/0ZwcDBfffUVw4YN48YbbyQ6Oprc3FxycnLIyMjg9ddfp6GhgXnz5rVI2T3ruuuuw2AwcPvttwPNNwRycnLafBI8duxYVq9ezRNPPMH06dM7XOf2fqZMnz6d+fPnExkZyZAhQxg3bpzruPDwcJYtW9buea+77jrS09N59tlncTqdGI1G1qxZ0+Z30h577DEWLVpEXl4evr6+3HPPPdx6660dqv+lMDgv9E0xERERERERaZeeUHnQ008/zZdfftnmthUrVvC9732vh2skcnnRGBPpXhpjIh13dqbNtjz88MP85Cc/6eEaSVfREyoRERERERE3aVIKERERERERNymgEhERERERcZMCKhERERERETf1+kkpTp6so6mp9dfABg4M4MSJWg/UyDupP/6prb7w8TFw9dWtp9+U9sdYV+ntn83eXn/omTZojLWvu8dYW3rD51Z17DiNrwvrTdeKqlPH9HSdLjbGen1A1dTkbPcXUU//gvJ26o9/Ul903IXGWFe+R2/W2+sPl0cbequeGGPtva+3Ux2lK/S2a0XVqWO8qU5K+RMREREREXGTAioRERERERE3KaASERERERFxkwIqERERERERNymgEhERERG3rVq1iujoaKKjo3nllVcA2Lt3LxaLhYkTJ7JixQrXvgcPHiQuLo7IyEgWLVpEQ0MDAGVlZVitVqKiokhMTKSurg6A6upq5syZw6RJk7BarVRUVPR8A0UuQgGViIiIiLhl7969/O53v+Pdd9/FZrPxxz/+ka1bt5KSkkJOTg6FhYWUlJSwa9cuAJKSkli8eDHbt2/H6XSSn58PwJIlS0hISKCoqIjRo0eTk5MDQHZ2NmazmW3btjF16lQyMjI81laR9iigEhERERG3mEwmkpOT6devH35+fgwfPpzS0lKGDRvG0KFDMRqNWCwWioqKOHbsGPX19YwdOxaAuLg4ioqKcDgcFBcXExkZ2aIcYOfOnVgsFgBiYmLYvXs3DofDM40VaYcCKhERERFxy4gRI1wBUmlpKdu2bcNgMGAymVz7hISEUF5ezvHjx1uUm0wmysvLOXnyJAEBARiNxhblQItjjEYjAQEBVFVV9VTzRDqk1y/sKyIiIiKe9cUXXzB37lwWLFiAr68vpaWlrm1OpxODwUBTUxMGg6FV+dm/z3X+63OP8fHp3POAgQMD2t1mMgV26lw9QXXqGG+qkwIqEREREXHb/v37eeqpp0hJSSE6OppPP/20xeQRFRUVhISEEBoa2qK8srKSkJAQgoODqampobGxEV9fX9f+0Px0q7KyktDQUBoaGqirqyMoKKhT9TtxopamJmercpMpkIqKGjdb3T1Up47p6Tr5+BguGJgr5U9ERERE3PL111/z+OOPk5mZSXR0NABjxozhyy+/5KuvvqKxsZGtW7cSHh5OWFgY/fv3Z//+/QDY7XbCw8Px8/PDbDZTWFgIgM1mIzw8HIDx48djs9kAKCwsxGw24+fn54GWirRPT6g8JPCqK/Dv3/nurz/dQE31qW6okYi4Oy4Dr7pC41KkAzo7xs6m9Oh3n/fauHEjp0+fZtmyZa6y+Ph4li1bxpNPPsnp06cZP348UVFRAGRmZpKamkptbS2jRo1ixowZAKSlpZGcnMyaNWsYPHgwWVlZAMybN4/k5GSio6MJDAwkMzOz5xvpIe78TtJY8QyD0+ls/Qy0F+lNj3HPZTIFYnnO3unjtrwa61a7vL0/elJbfXGxR7l9WXtjrKt402ezp8elt+iJ/wONsfZ19xhri6fG3eU2xrzl55fG14X1pmvFc+vkznjpjrHi7f3UE5TyJyIiIiIi0k2U8iciconOOBo7PduQ0jJEREQuDwqoREQuUT8/X7fSMrwrgUJERETcoZQ/ERERERERNymgEhERERERcZMCKhERERERETcpoBIREREREXFThwKqVatWER0dTXR0NK+88goAe/fuxWKxMHHiRFasWOHa9+DBg8TFxREZGcmiRYtoaGgAoKysDKvVSlRUFImJidTV1QFQXV3NnDlzmDRpElarlYqKiq5uo4iIiIiISLe4aEC1d+9efve73/Huu+9is9n44x//yNatW0lJSSEnJ4fCwkJKSkrYtWsXAElJSSxevJjt27fjdDrJz88HYMmSJSQkJFBUVMTo0aPJyckBIDs7G7PZzLZt25g6dSoZGRnd2FwREREREZGuc9GAymQykZycTL9+/fDz82P48OGUlpYybNgwhg4ditFoxGKxUFRUxLFjx6ivr2fs2LEAxMXFUVRUhMPhoLi4mMjIyBblADt37sRisQAQExPD7t27cTgc3dVeERHpg2pra4mJieHo0aPs2rWL2NhY159x48Yxd+5coDkj4+6773Zty83NBZRlISIi7btoQDVixAhXgFRaWsq2bdswGAyYTCbXPiEhIZSXl3P8+PEW5SaTifLyck6ePElAQABGo7FFOdDiGKPRSEBAAFVVVV3XQhER6dMOHDjAtGnTKC0tBWD8+PHY7Xbsdjuvv/46AQEBLFy4EICSkhKysrJc261WK6AsCxERaV+HF/b94osvmDt3LgsWLMDX19f1iwnA6XRiMBhoamrCYDC0Kj/797nOf33uMT4+HZ8rY+DAgHa3mUyBHT5Pb+Juuy7X/nCH+kKk78jPzyctLY0FCxa02vbKK68QHx/PNddcAzQHVOvWrePYsWPceuutPP/88/j4+FBcXMzq1auB5iyLBx98kKSkJHbu3Ol6ihUTE0N6ejoOhwM/P78ea5+IiHhWhwKq/fv389RTT5GSkkJ0dDSffvppi7SGiooKQkJCCA0NbVFeWVlJSEgIwcHB1NTU0NjYiK+vr2t/aH66VVlZSWhoKA0NDdTV1REUFNThBpw4UUtTk7NVuckUSEVFTYfP09Mu5YLenXZ5e3/0pLb6wsfHcMHgvLvV1tYSHx/P2rVrOXz4MFlZWa5t5eXljBkzhnXr1rFq1SrefvttrrrqKgAeeOABrFYrZWVlJCUlceLECa699loyMzMZMGAA1dXVzJ8/nyNHjhAcHEx2dnaLp8gifUF7T41KS0v59NNPXdvr6uq44YYbSEpKYtiwYSQnJ5OTk4PVau10lsWgQYN6oGUiIuINLhpQff311zz++OOsWLGC22+/HYAxY8bw5Zdf8tVXXzFkyBC2bt3K/fffT1hYGP3792f//v3ccsst2O12wsPD8fPzw2w2U1hYiMViwWazER4eDjSnXthsNh599FEKCwsxm826syd9yoEDB0hNTW2RjjR+/Hig+WbFtGnTWqUj3XTTTS3OcTYdKTo6mtWrV5OTk0NSUpIrHWn9+vXYbDYyMjLIzs7u0faJeKu8vDwSEhLo168fAAMGDGDDhg2u7bNnzyYlJYWEhIRuy7KAC2dadKfe9qTeW+vrrfUSkZ5z0YBq48aNnD59mmXLlrnK4uPjWbZsGU8++SSnT59m/PjxREVFAZCZmUlqaiq1tbWMGjWKGTNmAJCWlkZycjJr1qxh8ODBrjvw8+bNIzk5mejoaAIDA8nMzOyOdop4LaUjiXjGhx9+yMaNG12vy8rK2Lt3L1OmTAGagyOj0ditWRbQfqZFd/JU1kJPZ2d0N2/J/vB0loVIX3fRgCo1NZXU1NQ2t7333nutykaOHElBQUGr8rCwMDZt2tSqPCgoiLVr13akriKXJaUjifS8qqoq6uvrGTp0qKvM39+f5cuXc9tttzFkyBByc3OJiIhQloWIiFxQhyelEJGe1ZfSkfpqyow3tdub6tITjh49SmhoaIuy4OBg0tPTSUxMxOFwcPPNNzNr1ixAWRYiItI+BVQiXqqvpCN5S8oM9HxQ4U3t7u66eENK0o4dO1z/vvHGG10Lz58rMjLStWbiuZRlISIi7encrWoR6REXSkc6cuQITqezzXQkoM10JEDpSCIiIiLdQE+oRLyQ0pFEREQuD4FXXYF//45fcve1FOzLgQIqES+hdCQREZHLj39/I5bn7J0+bsursd1QG+kOSvkTERERERFxkwIqERERERERNymgEhERERERcZMCKhERERERETcpoBIREREREXGTAioRERERERE3adp0EREREbkktbW1xMfHs3btWg4fPuxaDxGgvLycMWPGsG7dOlatWsXbb7/NVVddBcADDzyA1WqlrKyMpKQkTpw4wbXXXktmZiYDBgygurqa+fPnc+TIEYKDg8nOzsZkMnmqmSJt0hMqEREREXHbgQMHmDZtGqWlpQCMHz8eu92O3W7n9ddfJyAggIULFwJQUlJCVlaWa7vVagVgyZIlJCQkUFRUxOjRo8nJyQEgOzsbs9nMtm3bmDp1KhkZGR5po8iFKKASEREREbfl5+eTlpZGSEhIq22vvPIK8fHxXHPNNUBzQLVu3TosFgvp6emcPn0ah8NBcXGxa+H6uLg4ioqKANi5cycWiwWAmJgYdu/ejcPh6JmGiXSQAioRERERcVtGRgZms7lVeWlpKZ9++ikzZswAoK6ujhtuuIGkpCTeffddqqurycnJ4eTJkwQEBGA0Nn8TxWQyUV5eDsDx48ddKX5Go5GAgACqqqp6qGUiHaPvUImIiIhXO+NoxGQK7NQx9acbqKk+1U01ko7Iy8sjISGBfv36ATBgwAA2bNjg2j579mxSUlJISEjAYDC0OPb812c5nU58fDr3PGDgwIB2t3X2c9UbdEebvLGfvKlOCqhERETEq/Xz88XynL1Tx2x5NZaabqqPdMyHH37Ixo0bXa/LysrYu3cvU6ZMAZqDI6PRSHBwMDU1NTQ2NuLr60tFRYUrfTAkJITKykpCQ0NpaGigrq6OoKCgTtXjxIlampqcrcpNpkAqKrr/U9LTF/5d3aae6qfO6Ok6+fgYLhiYK+VPRERERLpUVVUV9fX1DB061FXm7+/P8uXLOXLkCE6nk9zcXCIiIvDz88NsNlNYWAiAzWYjPDwcaJ7gwmazAVBYWIjZbMbPz6/nGyRyAQqoRERERKRLHT16lNDQ0BZlwcHBpKenk5iYSFRUFE6nk1mzZgGQlpZGfn4+kydPZt++fTz99NMAzJs3j88++4zo6GjefPNNFi9e3ONtEbkYpfyJiIiIyCXbsWOH69833ngj+fn5rfaJjIx0zeZ3rrCwMDZt2tSqPCgoiLVr13ZtRUW6mJ5QiYiIiIiIuEkBlYiIiIiIiJsUUImIiIiIiLhJAZWIiIiIiIibFFCJiIiIiIi4qUOz/NXW1hIfH8/atWs5fPgwWVlZrm3l5eWMGTOGdevWsWrVKt5++22uuuoqAB544AGsVitlZWUkJSVx4sQJrr32WjIzMxkwYADV1dXMnz+fI0eOEBwcTHZ2NiaTqXtaKiIiIiIi0sUu+oTqwIEDTJs2jdLSUqB5gTW73Y7dbuf1118nICCAhQsXAlBSUkJWVpZru9VqBWDJkiUkJCRQVFTE6NGjycnJASA7Oxuz2cy2bduYOnUqGRkZ3dRMERERERGRrnfRgCo/P5+0tDRCQkJabXvllVeIj4/nmmuuAZoDqnXr1mGxWEhPT+f06dM4HA6Ki4tdaw7ExcVRVFQEwM6dO7FYLADExMSwe/duHA5HV7VNRERERESkW100oMrIyMBsNrcqLy0t5dNPP2XGjBkA1NXVccMNN5CUlMS7775LdXU1OTk5nDx5koCAAIzG5uxCk8lEeXk5AMePH3el+BmNRgICAqiqquqyxomIiIiIiHSnDn2Hqi15eXkkJCTQr18/AAYMGMCGDRtc22fPnk1KSgoJCQkYDIYWx57/+iyn04mPT+fmyRg4MKDdbSZTYKfO1Vu4267LtT/cob4QERERka7gdkD14YcfsnHjRtfrsrIy9u7dy5QpU4Dm4MhoNBIcHExNTQ2NjY34+vpSUVHhSh8MCQmhsrKS0NBQGhoaqKurIygoqFP1OHGilqYmZ6tykymQiooad5vX7S7lgt6ddnl7f/SktvrCx8dwweBcRERERKQtbk2bXlVVRX19PUOHDnWV+fv7s3z5co4cOYLT6SQ3N5eIiAj8/Pwwm80UFhYCYLPZCA8PB5onuLDZbAAUFhZiNpvx8/O71DaJiIiIiIj0CLcCqqNHjxIaGtqiLDg4mPT0dBITE4mKisLpdDJr1iwA0tLSyM/PZ/Lkyezbt4+nn34agHnz5vHZZ58RHR3Nm2++yeLFiy+xOSIiIq3V1tYSExPD0aNHAVi4cCETJ04kNjaW2NhY3n//fQAOHjxIXFwckW13bwUAACAASURBVJGRLFq0iIaGBqA5C8NqtRIVFUViYiJ1dXUAVFdXM2fOHCZNmoTVaqWiosIzDRQREY/pcMrfjh07XP++8cYbyc/Pb7VPZGSkaza/c4WFhbFp06ZW5UFBQaxdu7ajVRAREem0AwcOkJqa6lr+A5pnpd28eXOrGWyTkpJ48cUXGTt2LCkpKeTn55OQkOBa/iM6OprVq1eTk5NDUlKSa/mP9evXY7PZyMjIIDs7u4dbKCIinuTWEyoREZHe4vzlP06dOkVZWRkpKSlYLBZWrlxJU1MTx44do76+nrFjxwL/XOZDy3+IiMiFKKAS8QJKRxLpPucv/1FZWcm4ceNYunQp+fn57Nu3j4KCghZLecA/l/nQ8h8iInIhbs/yJyJdQ+lIIj1r6NChrF692vV6+vTp2Gw2hg8f3mJZD6fTicFgcP19rp5a/qM79YXlI3qijX2hH0XkwhRQiXjY2XSkBQsWAC3TkcrLy4mIiOCJJ57g66+/bpWOtHLlSqZOnUpxcbHrAjEuLo4HH3yQpKQkdu7cSW5uLtCcjpSeno7D4dBsmtKnHTp0iNLSUlcK39llPkJDQ1s8xa2srCQkJMRjy390J08tpdHTwUd3t9FbliTR0h8inqWASsTDMjIyWrw+m46UlpZGYGAgc+fOpaCggBEjRnRZOtKgQYM6XL+e+CXdV+/welO7vaku3c3pdLJ06VLGjRvHlVdeSV5eHvfddx9hYWH079+f/fv3c8stt2C32wkPD2+x/IfFYmlz+Y9HH31Uy3+IiPRRCqhEvIy3pSN1991zb7nDC5ff3fOO6on/A2+6gz5y5EjmzJnDtGnTaGhoYOLEicTExACQmZlJamoqtbW1jBo1ihkzZgDNy38kJyezZs0aBg8eTFZWFtC8/EdycjLR0dEEBgaSmZnpsXaJiIhnKKAS8TLelo4kcrk4d/kPq9WK1Wpttc/IkSMpKChoVa7lP0REpD2a5U/Ey5xNR/rmm29wOBzk5eURERHRIh0JaDMdCWgzHQlQOpKIiIhIN9ATKhEvo3QkERERkd5DAZWIl1A6koiIiEjvo5Q/ERERERERNymgEhERERERcZMCKhERERERETcpoBIREREREXGTAioRERERuSS1tbXExMRw9OhRABYuXMjEiROJjY0lNjaW999/H4CDBw8SFxdHZGQkixYtoqGhAYCysjKsVitRUVEkJiZSV1cHQHV1NXPmzGHSpElYrdYW6zGKeAsFVCIiIiLitgMHDjBt2jRKS0tdZSUlJWzevBm73Y7dbiciIgKApKQkFi9ezPbt23E6neTn5wOwZMkSEhISKCoqYvTo0eTk5ACQnZ2N2Wxm27ZtTJ06lYyMjB5vn8jFKKASEREREbfl5+eTlpZGSEgIAKdOnaKsrIyUlBQsFgsrV66kqamJY8eOUV9fz9ixYwGIi4ujqKgIh8NBcXExkZGRLcoBdu7cicViASAmJobdu3fjcDg80EqR9mkdKhERERFx2/lPjSorKxk3bhxpaWkEBgYyd+5cCgoKGDFiBCaTybWfyWSivLyckydPEhAQgNFobFEOcPz4cdcxRqORgIAAqqqqGDRoUIfrN3BgQLvbTKbADp+nt+iONnljP3lTnRRQiYiIiEiXGTp0KKtXr3a9nj59OjabjeHDh2MwGFzlTqcTg8Hg+vtc578+9xgfn84lWJ04UUtTk7NVuckUSEVFTafO5Y6evvDv6jb1VD91Rk/XycfHcMHAXCl/IiIiItJlDh06xPbt212vnU4nRqOR0NDQFpNKVFZWEhISQnBwMDU1NTQ2NgJQUVHhSh8MCQmhsrISgIaGBurq6ggKCurB1ohcnAIqEREREekyTqeTpUuX8s033+BwOMjLyyMiIoKwsDD69+/P/v37AbDb7YSHh+Pn54fZbKawsBAAm81GeHg4AOPHj8dmswFQWFiI2WzGz8/PMw0TaYdS/kRERESky4wcOZI5c+Ywbdo0GhoamDhxIjExMQBkZmaSmppKbW0to0aNYsaMGQCkpaWRnJzMmjVrGDx4MFlZWQDMmzeP5ORkoqOjCQwMJDMz02PtEmmPAqouEHjVFfj3V1eKiIhI37Vjxw7Xv61WK1artdU+I0eOpKCgoFV5WFgYmzZtalUeFBTE2rVru7aiIl1MUUAX8O9vxPKcvVPHbHk1tptqIyIiIiIiPUXfoRIREREREXGTAioRERERERE3dSigqq2tJSYmhqNHjwKwcOFCJk6cSGxsLLGxsbz//vsAHDx4kLi4OCIjI1m0aBENDQ0AlJWVYbVaiYqKIjExkbq6OgCqq6uZM2cOkyZNwmq1tphKU0RERERExNtdNKA6cOAA06ZNo7S01FVWUlLC5s2bsdvt2O12IiIiAEhKSmLx4sVs374dp9NJfn4+AEuWLCEhIYGioiJGjx5NTk4OANnZ2ZjNZrZt28bUqVNbrbQtIiIiIiLizS4aUOXn55OWluZaYO3UqVOUlZWRkpKCxWJh5cqVNDU1cezYMerr6xk7diwAcXFxFBUV4XA4KC4uJjIyskU5wM6dO7FYLADExMSwe/duHA5HtzRURERERESkq110lr/znxpVVlYybtw40tLSCAwMZO7cuRQUFDBixAhMJpNrP5PJRHl5OSdPniQgIACj0diiHOD48eOuY4xGIwEBAVRVVTFo0KAON2DgwIB2t5lMgR0+T2/ibrsu1/5wh/pCRERERLpCp6dNHzp0KKtXr3a9nj59OjabjeHDh2MwGFzlTqcTg8Hg+vtc578+9xgfn87Nk3HiRC1NTc5W5SZTIBUVNZ06l7t6+uLcnXb1ZH94u7b6wsfHcMHgXERERESkLZ2e5e/QoUNs377d9drpdGI0GgkNDW0xqURlZSUhISEEBwdTU1NDY2MjABUVFa70wZCQECorKwFoaGigrq6OoKCgS2qQiIiIiIhIT+l0QOV0Olm6dCnffPMNDoeDvLw8IiIiCAsLo3///uzfvx8Au91OeHg4fn5+mM1mCgsLAbDZbISHhwMwfvx4bDYbAIWFhZjNZvz8/LqqbSIiIiIiIt2q0yl/I0eOZM6cOUybNo2GhgYmTpxITEwMAJmZmaSmplJbW8uoUaOYMWMGAGlpaSQnJ7NmzRoGDx5MVlYWAPPmzSM5OZno6GgCAwPJzMzswqaJiIiIiIh0rw4HVDt27HD922q1YrVaW+0zcuRICgoKWpWHhYWxadOmVuVBQUGsXbu2o1UQERERERHxKp1O+RMREREREZFmCqhERERERETcpIBKREQue7W1tcTExHD06FEA8vLyiImJwWKxsHDhQs6cOQPAqlWruPvuu4mNjSU2Npbc3FwAysrKsFqtREVFkZiYSF1dHQDV1dXMmTOHSZMmYbVaW8x2KyIifYMCKhERuawdOHCAadOmUVpaCsCXX37Jxo0beeutt3jvvfdoamrizTffBKCkpISsrCzsdjt2u931feElS5aQkJBAUVERo0ePJicnB4Ds7GzMZjPbtm1j6tSpZGRkeKSNIiLiOQqoRLyA7p6LdJ/8/HzS0tJcayD269ePtLQ0AgICMBgMfP/736esrAxoDqjWrVuHxWIhPT2d06dP43A4KC4uJjIyEoC4uDiKiooA2LlzJxaLBYCYmBh2796Nw+HwQCtFRMRTOj1tuoh0rQMHDpCamtrq7vk777zDgAEDSE5O5s0332TmzJmuu+c33XRTi3OcvXseHR3N6tWrycnJISkpyXX3fP369dhsNjIyMsjOzvZAK0U85/ynRmFhYYSFhQFQVVVFbm4uL730EnV1ddxwww0kJSUxbNgwkpOTycnJwWq1EhAQgNHY/CvTZDJRXl4OwPHjxzGZTAAYjUYCAgKoqqpi0KBBHa7fwIEBXdHMTjOZAj3yvj2pJ9rYF/pRRC5MAZWIh529e75gwQKg5d1zoM2758eOHePWW2/l+eefx8fHh+LiYlavXg003z1/8MEHSUpKYufOna6nWDExMaSnp+NwOLSAtghQXl7OI488wv33389tt90GwIYNG1zbZ8+eTUpKCgkJCRgMhhbHnv/6LKfTiY9P55I/TpyopanJ2cnaXxqTKZCKipoefc+z79uTuruNnurH8/n4GDwWmIuIUv5EPC4jIwOz2ex6HRYWxp133gn88+75j3/84xZ3z999912qq6vJycnh5MmTnb57LtLXHT58mPj4eO677z4ef/xxoDl19ty1FJ1OJ0ajkeDgYGpqamhsbASgoqLClT4YEhJCZWUlAA0NDdTV1REUFNTDrREREU/SEyoRL+Utd8974q5nX02Z8aZ2e1NdulttbS0PP/wwTz/9NPfee6+r3N/fn+XLl3PbbbcxZMgQcnNziYiIwM/PD7PZTGFhIRaLBZvNRnh4OADjx4/HZrPx6KOPUlhYiNls1hNgEZE+RgGViBc6fPgwjzzyCNOnT2f27NlA893zvXv3MmXKFKDtu+e+vr5t3j0PDQ11++55d6cjeUvKDFx+6Ugd1RP/B96UklRQUEBlZSVvvPEGb7zxBgATJkxg3rx5pKenk5iYiMPh4Oabb2bWrFkApKWlkZyczJo1axg8eDBZWVkAzJs3j+TkZKKjowkMDCQzM9Nj7RIREc9QQCXiZXT3XKR77NixA4CZM2cyc+bMNveJjIx0zeZ3rrCwMDZt2tSqPCgoiLVr13ZpPUVEpHdRQCXiZXT3XERERKT3UEAl4iV091xERESk99EsfyIiIiIiIm5SQCUiIiIiIuImBVQiIiIicklqa2uJiYnh6NGjAOTl5RETE4PFYmHhwoWcOXMGgFWrVnH33XcTGxtLbGysa/H5srIyrFYrUVFRJCYmUldXB0B1dTVz5sxh0qRJWK1WKioqPNNAkQtQQCUiIiIibjtw4ADTpk2jtLQUgC+//JKNGzfy1ltv8d5779HU1MSbb74JQElJCVlZWdjtdux2O1arFYAlS5aQkJBAUVERo0ePJicnB4Ds7GzMZjPbtm1j6tSpZGRkeKSNIheigKqXOeNoxGQK7NSfwKuu8HS1RURE5DKVn59PWlqaaw3Efv36kZaWRkBAAAaDge9///uUlZUBzQHVunXrsFgspKenc/r0aRwOB8XFxa5Jl+Li4igqKgJg586dWCwWAGJiYti9ezcOh8MDrRRpn2b562X6+fliec7eqWO2vBrbTbURERGRvu78p0ZhYWGEhYUBUFVVRW5uLi+99BJ1dXXccMMNJCUlMWzYMJKTk8nJycFqtRIQEIDR2HxZajKZKC8vB+D48eOYTCYAjEYjAQEBVFVVMWjQoA7X70KLivf0gu49oTva5I395E11UkAlIiIiIl2uvLycRx55hPvvv5/bbrsNgA0bNri2z549m5SUFBISEjAYDC2OPf/1WU6nEx+fziVYnThRS1OTs1W5yRRIRUVNp87ljp6+8O/qNvVUP3VGT9fJx8dwwcBcKX8iIiIi0qUOHz5MfHw89913H48//jjQPPFEQUGBax+n04nRaCQ4OJiamhoaGxsBqKiocKUPhoSEUFlZCUBDQwN1dXUEBQX1cGtELkwBlYiIiIh0mdraWh5++GHmzZvH7NmzXeX+/v4sX76cI0eO4HQ6yc3NJSIiAj8/P8xmM4WFhQDYbDbCw8MBGD9+PDabDYDCwkLMZjN+fn493yiRC1DKn4iIiIh0mYKCAiorK3njjTd44403AJgwYQLz5s0jPT2dxMREHA4HN998M7NmzQIgLS2N5ORk1qxZw+DBg8nKygJg3rx5JCcnEx0dTWBgIJmZmR5rl0h7FFCJiIiIyCXbsWMHADNnzmTmzJlt7hMZGemaze9cYWFhbNq0qVV5UFAQa9eu7dJ6inQ1pfyJiIiIiIi4qUMBlVa/FhERERERae2iAZVWvxYREREREWnbRQMqrX4tIiIiIiLStotOSqHVry8f6o9/Ul+IiIiISFdwe5Y/rX7d8r16A29b5dpT2vpsXGwFbBERaSnwqivw76/JgkVE3PpJePjwYR555BGmT5/uWrCtrKyMvXv3MmXKFKDt1a99fX3bXP06NDRUq1+LiIj0Iv79jVies3fqmC2vxnZTbUREPKfT06Zr9WsREREREZFmnX5CpdWvRUREREREmnU4oNLq1yIiIiIiIi11OuVPREREREREmimgEhERERERcZMCKhERERERETcpoBIREREREXGTAioRERERERE3KaASERERERFxkwIqERERERERNymgEhGRy15tbS0xMTEcPXoUgL1792KxWJg4cSIrVqxw7Xfw4EHi4uKIjIxk0aJFNDQ0AFBWVobVaiUqKorExETq6uoAqK6uZs6cOUyaNAmr1UpFRUXPN05ERDxKAZWIF9DFnkj3OXDgANOmTaO0tBSA+vp6UlJSyMnJobCwkJKSEnbt2gVAUlISixcvZvv27TidTvLz8wFYsmQJCQkJFBUVMXr0aHJycgDIzs7GbDazbds2pk6dSkZGhkfaKCIinqOASsTDdLEn0r3y8/NJS0sjJCQEgM8//5xhw4YxdOhQjEYjFouFoqIijh07Rn19PWPHjgUgLi6OoqIiHA4HxcXFREZGtigH2LlzJxaLBYCYmBh2796Nw+HwQCtFRMRTjJ6ugEhfd/Zib8GCBUDLiz3AdbF33XXXtbrYW7lyJVOnTqW4uJjVq1e7yh988EGSkpLYuXMnubm5QPPFXnp6Og6HAz8/Pw+0VMQzzr+RcPz4cUwmk+t1SEgI5eXlrcpNJhPl5eWcPHmSgIAAjEZji/Lzz2U0GgkICKCqqopBgwZ1uH4DBwa43bZLYTIFeuR9e1JPtLEv9KOIXJgCKhEP8/aLPZHLTVNTEwaDwfXa6XRiMBjaLT/797nOf33uMT4+nUv+OHGilqYmZ6eOuVQmUyAVFTWXfA5vd6ltvJiu6Meu4ONj8FhgLiIKqES8jrdd7PXEL+necGHWHbyp3d5Ul+4WGhra4vuEFRUVhISEtCqvrKwkJCSE4OBgampqaGxsxNfX17U/NN/wqKysJDQ0lIaGBurq6ggKCurxNomIAJxxNLr187z+dAM11ae6oUZ9gwIqES/jbRd73X333Fvu8ELPBxXe1O7uros33UEfM2YMX375JV999RVDhgxh69at3H///YSFhdG/f3/279/PLbfcgt1uJzw8HD8/P8xmM4WFhVgsFmw2G+Hh4QCMHz8em83Go48+SmFhIWazWSm1IuIx/fx8sTxn7/RxW16NxTt+I/VOmpRCxMuce7HX2NjI1q1bCQ8Pb3GxB7R5sQe0ebEH6GJP5B/69+/PsmXLePLJJ5k8eTLf+973iIqKAiAzM5OXXnqJqKgovv32W2bMmAFAWloa+fn5TJ48mX379vH0008DMG/ePD777DOio6N58803Wbx4scfaJSIinqEnVCJe5tyLvdOnTzN+/PgWF3upqanU1tYyatSoFhd7ycnJrFmzhsGDB5OVlQU0X+wlJycTHR1NYGAgmZmZHmuXiKft2LHD9e/bb7+d9957r9U+I0eOpKCgoFV5WFgYmzZtalUeFBTE2rVru7aiIiLSqyigEvESutgTERER6X2U8iciIiIil0QL1EtfpoBKRERERNymBeqlr1NAJSIiIiJuO7tA/dkZZs9doN5oNLoWqD927FirBeqLiopwOBwUFxcTGRnZohxg586dWCwWoHmB+t27d+NwODzQSpH26TtUIiIiIuI2LVAvfZ0CKhERERHpMr1pgfq+tKj5xVyoL7yxn7ypTgqoROSyFHjVFfj31484EZGe1lsWqO+pheW96cL/Qtrri57qp87o6TpdbHF6XW2IyGXJv7+x06vFb3k1tptqIyLSd5y7QP2QIUPYunUr999/f4sF6m+55ZY2F6i3WCxtLlD/6KOPaoF68VoKqERERESky2iBeulrOhRQ1dbWEh8fz9q1axkyZAh79+7lpZde4vTp00yaNIlnnnkGaF5bYNGiRdTV1WE2m1myZAlGo5GysjKSkpI4ceIE1157LZmZmQwYMIDq6mrmz5/PkSNHCA4OJjs7u8WXFUVERESkd9AC9dJXXfRbfVpbQEREREREpG0XDai0toCIiIiIiEjbLpry5+1rC2gqzI5Tf/yT+kJEREREukKnJ6XwtrUFPD0V5tn36g28bcpLT2nrs3Gx6TBFRERERNrSueiFS1tb4Nz94Z9rCwBury0gIiIiIiLiKZ0OqM5dW6CxsZGtW7cSHh7eYm0BoM21BYA21xYAtLaAiPQpZxyNmEyBnf4TeNUVnq66iIiInKPTKX9aW0BE5NL18/Pt9MLD0Lz4sJJ3RUREvEeHAyqtLSAiIiIiItJSp1P+REREREREpJkCKhERERERETcpoBIREREREXGTAioRERERERE3KaASERERERFxkwIqERERERERNymgEhERERERcZMCKhERERERETcpoBIREREREXGTAioRERERERE3KaASERERERFxk9HTFRAREfGE3/zmN2zevNn1+ujRo8TGxnLq1Cn279/PFVdcAcATTzxBREQEBw8eZNGiRdTV1WE2m1myZAlGo5GysjKSkpI4ceIE1157LZmZmQwYMMBTzRIRkR6mJ1QiItInTZ06Fbvdjt1uJzMzk4EDB/LEE09QUlLC5s2bXdsiIiIASEpKYvHixWzfvh2n00l+fj4AS5YsISEhgaKiIkaPHk1OTo4nmyUiIj1MT6hEvJTunov0nP/4j//gmWee4YorrqCsrIyUlBTKy8uJiIjgiSee4Ouvv6a+vp6xY8cCEBcXx8qVK5k6dSrFxcWsXr3aVf7ggw+SlJTkyeYIcMbRiMkU2Onj6k83UFN9qhtqJCKXKwVUIl5q6tSpTJ06FYAvvviCxx9/nCeeeIKHHnqIzZs3ExIS0mL/pKQkXnzxRcaOHUtKSgr5+fkkJCS47p5HR0ezevVqcnJydLEnco69e/dSX1/PpEmTOHLkCOPGjSMtLY3AwEDmzp1LQUEBI0aMwGQyuY4xmUyUl5dz8uRJAgICMBqNLcrF8/r5+WJ5zt7p47a8GktNN9RHRC5fCqhEegHdPRfpPm+99RazZs0CYOjQoa7xAjB9+nRsNhvDhw/HYDC4yp1OJwaDwfX3uc5/fTEDBwZcQu3d587Tm76iM32jfhQRBVQiXs7Td8974mJPFySd0x391Vf/D86cOUNxcTHLli0D4NChQ5SWlhIZGQk0B05Go5HQ0FAqKipcx1VWVhISEkJwcDA1NTU0Njbi6+tLRUVFq6fHF3PiRC1NTc6ua1QHmEyBVFRc2nOYy/kz09G+6Yp+7Ao+PgaPBeYiooBKxOt5+u55d1/sddcFiS72Oq4nLgq99YLv0KFDXHPNNVx55ZVA89hZunQp48aN48orryQvL4/77ruPsLAw+vfvz/79+7nllluw2+2Eh4fj5+eH2WymsLAQi8WCzWYjPDzcw60SEZGepFn+RLzY2bvnEyZMAJov/rZv3+7a3pm754Bbd89FLmdHjhwhNDTU9XrkyJHMmTOHadOmER0dzQ033EBMTAwAmZmZvPTSS0RFRfHtt98yY8YMANLS0sjPz2fy5Mns27ePp59+2iNtERERz9ATKhEvprvnIt1r8uTJTJ48uUWZ1WrFarW22nfkyJEUFBS0Kg8LC2PTpk3dVkeR3kgz1UpfoidUIl5Md89FRKQ30jpv0pfoCZWIF9PdcxER6e00U61c7vSESkRERES6xbkz1VZWVjJu3DiWLl1Kfn4++/bto6CggOPHj2udN+nV9IRKRERERLqFp2eqhQsv/3E5zwjbWRfqC2/sJ2+qkwIqEREREely3rDOG7S//EdPrSPmTRf+F9JeX3jLemvn6uk6XWzpD7cDKs3eIiIiIiLt0Uy10le4/R0qzd4iIiIiIu3RTLXSV3RJyp9mbxERERGRc2mmWukrLnmWP83eIiIiIiIifdUlP6Hy9Owtmrml49Qf/6S+EBEREZGucEkBlTfM3uLpmVvOvldv4G0ztHhKW5+Ni83eIiIiIiLSlktK+Wtv9pZvvvkGh8NBXl4eERERLWZvAdqcvQXQ7C0iIiIiItKrXNITqgvN3tLQ0MDEiRNbzN6SmppKbW0to0aNajF7S3JyMmvWrGHw4MFkZWVdSpVERERERER6zCUFVJq9RURERERE+rJLnuVPRERERESkr1JAJSIiIiIi4iYFVCIiIiIiIm5SQCUiIiIiIuImBVQiIiIiIiJuUkAlIiIiIiLiJgVUIiIiIiIiblJAJSIiIiIi4qZLWthXRERERKSvCLzqCvz76/JZWtInQkRERESkA/z7G7E8Z+/UMVteje2m2oi3UMqfiIiIiIiImxRQiYiIiIiIuEkBlfx/9u4+roo6////4wh4ieXigvIltzUzbbVWV1rFC1hMBYQjitqyGGaum9mVF0mLYJrkRbmkRoqbW1t91DIyBTXCrlZt1W3VNrXNrM10TRRRTC4MPMD8/vDHLMj1STgHfN5vN28yc2bOvN/veb9n3q+Z98wRERERERE7KaASERERERGxkwIqEREREREROymgEhERERERsZNemy4iItel6OhocnJycHW9cipMSEigoKCAJUuWUFRUREhICDNnzgTgyJEjxMfHU1BQgK+vLwsWLMDV1ZXMzExiYmI4f/48Xbt2JTExkXbt2jkyWyIi0sh0h0rEiUVHRxMaGkp4eDjh4eEcPHiQPXv2YLVaGTFiBMuXLzeXPXLkCBEREQQFBREfH09xcTEAmZmZTJgwgeDgYKZNm0ZBQYGjsiPiNAzD4Pjx46SlpZn/evToQVxcHMnJyaSnp/P555+zc+dOAGJiYpg3bx7bt2/HMAxSUlIAWLBgAVFRUWRkZNC7d2+Sk5MdmS0REXEABVQiTkodPpGGc+zYMQAmT57MqFGjWLduHYcOHeLmm2+mS5cuuLq6YrVaycjI4NSpUxQWFtKnTx8AIiIiyMjIwGazsW/f27pXDQAAIABJREFUPoKCgirMFxGR64sCKhEnpQ6fSMPJzc3Fz8+PVatW8eqrr7JhwwYyMzPx9PQ0l/Hy8iIrK4uzZ89WmO/p6UlWVhYXLlzA3d3dHDJYNl9ERK4veoZKxEmVdfiefPJJbDYbEydOZMqUKerwiVwDffv2pW/fvub0uHHjSEpKol+/fuY8wzCwWCyUlpZisVgqzS/7v7yrp+uiY0d3O3Lw43l6tnfIdpuC+pSNylFEFFCJOCln6fA1RmdPHZL6aYjyut72wf79+7HZbPj5+QFX2oyPjw/Z2dnmMtnZ2Xh5edG5c+cK88+dO4eXlxceHh7k5eVRUlKCi4uLuXx9nT+fT2mp8eMzVQ+enu3Jzs770d/RXNW1bK5FOV4LLVpYHBaY10QvfpHrhQIqESflLB2+hu7sNVSHRJ29umuMTqGzdfjy8vJISkpiw4YN2Gw2Nm/ezIIFC5gxYwYnTpzgpptuYtu2bYwdOxYfHx9atWrFgQMH6NevH2lpafj7++Pm5oavry/p6elYrVZSU1Px9/d3dNZEnELZc8B/+9vfzICqsLCQ4OBg1q5di7e3N1OnTmXnzp0EBAQQExPDwoUL6dOnD3FxcaSkpBAVFWU+BxwaGsqqVatITk4mJibGwbkTqUjPUIk4qby8PJYuXUpRURH5+fls3ryZWbNm8e2333LixAlKSkrYtm0b/v7+FTp8QJUdPkAdPpH/X2BgIAEBAYwePZqxY8cyduxY+vbtyzPPPMOjjz7KyJEjueWWWwgODgYgMTGRJUuWEBwczKVLl5g4cSIA8+fPJyUlhZEjR7J//35mzJjhyGyJOA09ByzXE92hEnFSgYGBHDx4kNGjR1NaWkpUVFSFDl9RUREBAQEVOnxz584lPz+fXr16VejwxcbGsnr1ary9vVm2bJkjsyXiNGbMmFEpAPLz82PLli2Vlu3ZsycbN26sNN/Hx4e1a9c2WBpFmio9ByzXkx8VUGlsrEjDUodPRESaImd5Dhhqfha4OQ8Pr6+aysIZy8mZ0mR3QKWxsSIiIiJSFWd5DhiqfxbYnudHnakTf61VVxbO8vKV8ho7TbU9B2z3M1QaGysiIiIiVdFzwHI9sfsOlcbGioiIiEhV9BywXE/sDqicZWysxsXWncrjf1QWIiIiDUvPAcv1wu6AylnGxl7LcbH2aiqdc2cb/+ooVdUNZ/uNHBERERFpGux+hkpjY0VERERE5Hpn9x0qjY0VEREREZHr3Y/6HSqNjRURERERkeuZ3UP+RERERERErnc/6g6VNA2XbSW0dHOp18szCouKycv9oQFTJSIiIiLS9Cmgug60dHPB+nhavdbZ+lw4eiegiIiIiEjNFFCV0/6GNrRupSIREREREZG6UfRQTutWrvW+kwNX7uaIiIiIiMj1Ry+lEBERERERsZMCKhERERERETtpyJ+IiMh1Ts8Qi4jYT0dPERGR65w9zxDr+WERkSs05E9ERERERMROCqhERERERETspCF/IiIiIiLXscu2Ejw921f7eVWfFRYVk5f7Q0Mmq8lQQCUiIiIich1r6eZi13OUeQ2UnqZGQ/5ERERERETspIBKRERERETETgqoRERERERE7KSASkRERERExE4KqEREREREROykgEpERERERMROCqhERERERETspIBKRERERETETvphXxEntXLlSt59910AAgICeOKJJ5gzZw4HDhygTZs2ADzyyCMMHz6cI0eOEB8fT0FBAb6+vixYsABXV1cyMzOJiYnh/PnzdO3alcTERNq1a+fIbIk4DbUxERG5FnSHSsQJ7dmzh7///e9s3ryZ1NRU/v3vf/P+++/z+eefs27dOtLS0khLS2P48OEAxMTEMG/ePLZv345hGKSkpACwYMECoqKiyMjIoHfv3iQnJzsyWyJOQ21MRESuFQVUIk7I09OT2NhYWrZsiZubG926dSMzM5PMzEzi4uKwWq0kJSVRWlrKqVOnKCwspE+fPgBERESQkZGBzWZj3759BAUFVZgvImpjIiJy7WjIn4gT6t69u/n38ePHeffdd1m/fj3//Oc/mT9/Pu3bt2fq1Kls3LiR7t274+npaS7v6elJVlYWFy5cwN3dHVdX1wrzRURtTKQxaFitXC8UUIk4sa+//pqpU6fyxBNPcMstt7Bq1Srzs+joaFJTU+nWrRsWi8WcbxgGFovF/L+8q6fromNHd/szUEeenu0bfBvNSUOU1/W6D66XNlaV63Wf10V9ykblWLXyw2otFgtTpkypMKzWy8urwvIxMTEsXLiQPn36EBcXR0pKClFRUeaw2tDQUFatWkVycjIxMTEOypVI1X5UQKUrDyIN58CBAzz22GPExcURGhrK0aNHOX78uDm8yDAMXF1d6dy5M9nZ2eZ6586dw8vLCw8PD/Ly8igpKcHFxYXs7OxKJ7C6OH8+n9JS45rl62qenu3Jzs5rkO9trq51eTXUPiivRQuLwwKH6lwvbawqV+/z5txe7FHX9tAYbacunLF9lR9WC1QaVpuVlcXw4cN55JFHOH36dKVhtUlJSYwfP559+/aZFzoiIiK49957FVCJ07E7oNKVB5GGc/r0aR5++GGWL1+On58fcKVzt3jxYgYMGEDbtm158803GTNmDD4+PrRq1YoDBw7Qr18/0tLS8Pf3x83NDV9fX9LT07FaraSmpuLv7+/gnIk4B7UxkYblTMNqawo2dTHhx3Fk+TnTvrM7oNKVB5GG8/LLL1NUVMQzzzxjzouMjOSBBx7gd7/7HcXFxYwYMYKwsDAAEhMTmTt3Lvn5+fTq1YuJEycCMH/+fGJjY1m9ejXe3t4sW7bMIfkRcTZqYyKNwxmG1VZ3F9ieO4zO1Il3Bo66Q9vYd4druwtsd0DlLFcedNWh4TTn8nP2vM2dO5e5c+dW+dmECRMqzevZsycbN26sNN/Hx4e1a9de8/Q1tvY3tKF1Kz3yKdeO2phIw3OWYbUiDe1H91AcfeVBVx0ajjOMC28IVdUNZxx/Lv/TupUr1sfT6rXO1ufCGyg1IiJSGw2rlevJjwqodOVBRERERK6mYbVyPbE7oNKVBxEREWluLttK6v3a9MKiYvJyf2jAVDU9GlYr1xO7AypdeRARaXz17ewB6uyJ1ENLNxe7hhg3z0HyIlIXdgdUuvIgItL41NkTERFxLi0cnQAREREREZGmSgGViIiIiIiInRRQiYiIiIiI2EkBlYiIiIiIiJ0UUImIiIiIiNhJAZWIiIiIiIidFFCJiIiIiIjYSQGViIiIiIiInRRQiYiIiIiI2EkBlYiIiIiIiJ0UUImIiIiIiNhJAZWIiIiIiIidFFCJiIiIiIjYSQGViIiIiIiInRRQiYiIiIiI2MnV0QkQEREREZGm5bKtBE/P9vVap7ComLzcHxooRY6jgEqqZE8jgebbUERERETkf1q6uWB9PK1e62x9Lpy8BkqPIymgkirZ00ig+TYUEREREZGqKKASERFpJtrf0IbWrep2ardnFIKIiFSmgEpERKSZaN3K1e7RBSIiYh+95U9ERERERMROCqhERERERETspIBKRERERETETnqGSkRERESuO/b+RIzI1RRQiUijqe4NZDqhiYhIY7P3d5REruYUAdXWrVtZvXo1xcXF3HfffUyYMMHRSRJpVpyljekNZI5Rl6uwV3+uH+muH2dpY+IY9tzpUBurH7UxcWYOD6iysrJYvnw5mzZtomXLlkRGRtK/f39uvfXWH/W9uo3rGDqpOJ+GamPSdOjX7BuW2piojTUstbHmw97+ubP3FR0eUO3Zs4cBAwbQoUMHAIKCgsjIyOCRRx6p0/otWliqnN/SzYXfL3yvXml5ee4IvH7Spl7rlLFnPWfflj3r2FvuBdXsx4Zydb2prh41Bw3VxuzVHOt9c93Wtdz3amPVq65s3N1b06qOP9JbnrPXK2dPX2Nu61q1i+bcvqBhz2Oq9427LXv6iVB1X7Ex631t27IYhmE0Ulqq9OKLL3Lp0iVmzpwJwFtvvcWhQ4d4+umnHZkskWZDbUykYamNiTQstTFxdg5/bXppaSkWy/+iPsMwKkyLyI+jNibSsNTGRBqW2pg4O4cHVJ07dyY7O9uczs7OxsvLy4EpEmle1MZEGpbamEjDUhsTZ+fwgGrgwIHs3buXnJwcfvjhB9577z38/f0dnSyRZkNtTKRhqY2JNCy1MXF2Dn8pRadOnZg5cyYTJ07EZrMxbtw47rzzTkcnS6TZUBsTaVhqYyINS21MnJ3DX0ohIiIiIiLSVDl8yJ+IiIiIiEhTpYBKRERERETETgqoRERERERE7KSASkRERERExE7NLqDaunUrI0eOZMSIEaxfv97RyWk00dHRhIaGEh4eTnh4OAcPHmTPnj1YrVZGjBjB8uXLzWWPHDlCREQEQUFBxMfHU1xc7MCUXzv5+fmEhYXx3XffAdQ7/5mZmUyYMIHg4GCmTZtGQUGBQ/LR3K1Zs4agoCCsViurV68Gqt9XzuLH1i1ncHUeAJ544gk2bdpkTqsNNE9vvfWWeW4IDw+nX79+JCQkMGfOHEaMGGHOf//99xs9bU2hbV2dxjfffJOwsDCsVitz5szh8uXLAKxcuZLAwECzPK+nPoizqa0v6Kh+QG3p+uCDDwgPD2fUqFE89NBDXLx4EYDNmzczePBgs25dy/NkbWmqrl43ZFnVlKYjR45UOJ4NGTKEsLAwoGHLqVZGM3LmzBkjMDDQuHDhglFQUGBYrVbj66+/dnSyGlxpaakxePBgw2azmfN++OEHIyAgwPjvf/9r2Gw2Y/LkycaOHTsMwzCM0NBQ41//+pdhGIYxZ84cY/369Q5J97X02WefGWFhYUavXr2MkydP2pX/Bx54wNi2bZthGIaxcuVKY+nSpY7JTDO2e/duIywszMjLyzOKi4uNqVOnGmlpadXuK2dwLeqWo12dhzNnzhhTp0417rzzTuPtt982l1MbaP6++uorY/jw4cb58+eNsLAwIysry2FpaQpt6+o0Hjt2zBg+fLiRl5dnlJaWGk888YTxyiuvGIZhGFOnTjU+/fTTRkmXVK8ufUFH9ANqS1deXp4xaNAg48yZM4ZhGMaKFSuMp59+2jAMw0hISDC2bt16zdJS1zQZRvX1uqHKqj59+UuXLhmhoaHGvn37DMNouHKqi2Z1h2rPnj0MGDCADh060LZtW4KCgsjIyHB0shrcsWPHAJg8eTKjRo1i3bp1HDp0iJtvvpkuXbrg6uqK1WolIyODU6dOUVhYSJ8+fQCIiIhoFmWUkpLC/PnzzV9Or2/+bTYb+/btIygoqMJ8uba++OILBg8ejLu7Oy4uLgwZMoS33nqryn3lLH5s3XIGV+dh69at3H333YSEhJjLqA1cH5566ilmzpxJmzZtyMzMJC4uDqvVSlJSEqWlpY2alqbQtq5OY8uWLZk/fz7u7u5YLBZuu+02MjMzAfj888958cUXsVqtJCQkUFRU1ChplIpq6ws6qh9QW7psNhvz58+nU6dOAPTo0YPTp08DcPjwYTZv3ozVamX27NnmnauGThNUXa8bsqzq05d/8cUXueuuu/D19QUarpzqolkFVGfPnsXT09Oc9vLyIisry4Epahy5ubn4+fmxatUqXn31VTZs2EBmZmaVZXF1GXl6ejaLMlq0aJHZoKD6ulBd/i9cuIC7uzuurq4V5su11atXL/7+97/z/fffU1RUxEcffcSnn37q1O32x9YtZ3B1HqZMmcL48eMrLKM20Pzt2bOHwsJCQkJCOHfuHAMGDGDx4sWkpKSwf/9+Nm7c2KjpaQpt6+o0+vj4MGjQIABycnJYv349d999NwUFBdx+++3ExMSwefNmcnNzSU5ObpQ0SkW19QUd1Q+oLV0/+clPGD58OACFhYWsWbOGYcOGmWl56KGH2LJlC97e3iQkJDRKmqqr1w1ZVnXty+fl5ZGSksIjjzxizmuocqqLZhVQlZaWYrFYzGnDMCpMN1d9+/Zl6dKltG/fHg8PD8aNG0dSUlKVZXG9lFF1+axuflXl0BzLxdH8/PyIiIggOjqaKVOm0K9fP4qLi5tUnaxv3Woq1Aaavw0bNnD//fcD0KVLF1atWoWXlxdt2rQhOjqanTt3OjR9TaltZWVlcd999zF27Fj69+9Pu3bt+Mtf/kK3bt1wdXVl8uTJDi/P61Vt9cVR/YC61uO8vDweeOABevbsyZgxYwBYtWoV/fr1w2KxMGXKFD7++ONGSVN19bohy6qu5bRlyxaGDRtGx44dzXkNVU510awCqs6dO5OdnW1OZ2dnm7fpm7P9+/ezd+9ec9owDHx8fKosi6vL6Ny5c82yjKqrC9Xl38PDg7y8PEpKSiosL9dWfn4+I0aMYOvWraxdu5aWLVvy61//ukm12/rWraZCbaB5u3z5Mvv27WPo0KEAHD16lO3bt5ufG4ZhXm12lKbStr755hsiIyMZM2YMDz/8MHDlAf3yd/icoTyvV7X1BR3VD6hLH/Xs2bNERUXRo0cPFi1aBFwJsF599VVzGcMwcHFxaZQ0VVevG7Ks6tqX/+CDDxg5cqQ53ZDlVBfNKqAaOHAge/fuJScnhx9++IH33nsPf39/RyerweXl5bF06VKKiorIz89n8+bNzJo1i2+//ZYTJ05QUlLCtm3b8Pf3x8fHh1atWnHgwAEA0tLSmmUZ/fKXv6xX/t3c3PD19SU9PR2A1NTUZlkujvbdd9/x0EMPUVxcTF5eHhs3bmTGjBlV7itnVd+61VSoDTRvR48e5ec//zlt27YFrnQ2Fi9ezMWLF7HZbLz55pvmcCNHaQptKz8/n9///vdMnz6dyZMnm/Nbt27Nn/70J06ePIlhGKxfv97h5Xm9qq0v6Kh+QG3pKikp4cEHHyQkJIT4+Hjzrkzbtm156aWXOHjwIADr1q27ZnWrtjRVV68bsqzq0pc3DIN///vf9O3b15zXkOVUJ43y6otGtGXLFiM0NNQYMWKEsWbNGkcnp9EsX77cCA4ONkaMGGG8+uqrhmEYxp49ewyr1WqMGDHCWLRokVFaWmoYhmEcOXLEGDt2rBEUFGTMmjXLKCoqcmTSr6nAwEDj5MmThmHUP//fffedce+99xohISHG5MmTje+//95h+WjOVq5caYSEhBgjRowwXn/9dcMwqt9XzuTH1C1nUT4PhmEYf/zjHyu85U9toPl65513jBkzZlSYt27dOiMkJMQYPny48ac//clBKWsabassja+88orRq1cvY9SoUea/FStWGIZhGBkZGWb/IzY21una//Wkqr7glClTjEOHDhmG4bh+QE3peu+994wePXpUqFtxcXGGYRjGvn37jNGjRxvBwcHGgw8+aOTm5jZKmgyj+nrdkGVVW5rOnTtnDBw4sNJ6DVlOtbEYhmE0XvgmIiIiIiLSfDSrIX8iIiIiIiKNSQGViIiIiIiInRRQiYiIiIiI2EkBlYiIiIiIiJ0UUImIiIiIiNhJAZWIiIiIiIidFFCJiIiIiIjYSQGViIiIiIiInRRQiYiIiIiI2EkBlYiIiIiIiJ0UUImIiIiIiNhJAZWIiIiIiIidFFCJiIiIiIjYSQGViIiIiIiInRRQiYiIiIjU0eHDh3nsscccnYxr4vnnnyc1NRWAlStX8sEHHwAQGxvLyy+/3GDbnTx5Mjk5OQAMHTqUw4cPN+lyVUBVT4cOHWLevHm1LtfQFbEhvfzyy8TGxtq1bnx8PHv27AFg7ty5fP755wBER0eTkZFxzdJYXl5eHhMnTjSne/ToQU5ODh9++CELFy5skG02JZ988glhYWGOToZdcnJy6NGjR63Lla93zqb8MaMx9oVOjlJfCQkJvPDCCwD84Q9/4D//+Q9QcZ9Wp3ydLl/36io8PJzc3NxKx/H6qu57ys4HDaG6tm1POUjTcscdd5CUlOToZFwT06dPZ/To0cCVelxcXNwo2929e3eleU25XF0dnYCm5j//+Q9ZWVmOTobTWrRokfn3nj17+O1vf9vg27x48SKHDx+uNP/uu+/m7rvvbvDti+OVr3fOprGPGdOnTzf//uSTT7j11lsbZbvN7eR4vfrLX/5i/l3VPq1J+bpXV2lpaQB89913VR7HG/t76qO6tm1POUjT8sknn/D000+zbds2YmNjcXd35+jRo5w5c4YePXrw7LPP0q5dOw4ePMjChQv54YcfcHNz44knnsDPz4/9+/ezdOlSc/6MGTPw9/dn06ZNvPfee5SWlpKZmUmnTp245557WLduHcePH+f+++9n8uTJALz11lu88cYblJaW0qFDB5588km6detWIZ3h4eHExsbi5+fHtm3bmDNnDvv27aN169bEx8fTq1cvDh06RPfu3WndujWff/45S5cuxcXFBYB//etfREZGcu7cObp3785zzz1H27ZtK2wjLy+PBQsW8OWXX2KxWBgyZAizZs3C1dWVHj16sHfvXjw8PADM6T/96U8A3HfffaxZs6bKcr18+TKJiYns27ePkpISfvGLXzB37lzc3d0ZOnQod955J0ePHmXWrFlkZ2ezYcMG3NzcaNWqFQkJCY127ivj1HeoSktLWbhwIePHj2fkyJGEhIRw4MAB4MrV1qeeeoqoqCiCgoJ49tlnefHFF4mMjOTuu+9m7969wJUdPXv2bMLCwrBarSxdutSMvq++clU2/cknnxAZGUlMTAyjR48mLCyMAwcOcPr0aZKSkti/fz9z5sypNf0HDhzgnnvuYeTIkSxatMjc7v79+7nnnnuwWq1ERESwa9cuADZt2kRUVBRjxowhOjq60jTAqlWrGDlyJFarlccee4zs7Gw++OADoqKizO0GBQWZnZgzZ84wePBgSktL+fTTT83vGzt2LH/7298AsNlszJ8/n+HDhxMZGcmnn35aKS8lJSUMGDCAEydOAPDiiy8SGBhofj5p0iR27txp3olavnw5Z8+eZfbs2Rw8eBCADz/8kPHjxxMYGEhcXBylpaWVtnPmzBkefPBBrFYrYWFhvPTSS8CVk2Tfvn3N5cpPz5kzh8LCQsLDwykpKTGX2bRpE1OnTgWu1IPY2FgiIiKwWq0sXrzY3B+9e/dm+vTpBAUFcfjwYZKSksx98/vf/56zZ8/Wuq+d3aVLl3jssccIDw8nOjqab7/9Fqi5fVxdLldPV1WP61pPatof7733HiEhIURERLBixYo65a+s3n333XcMGzaMp59+mnHjxjFixAjef//9WtcfOnQoy5Yt45577iEoKIi33nqLOXPmMGrUKCIiIsxO09dff010dDRWq5VRo0aZV6Hrc8y4dOkSM2fOJDw8nODgYPbv3w9cOS6MGzeOiIgIIiIi2L59e6V0hoeHm8e2bdu2cccdd1BYWAhcuUv3+uuvm3ei1q9fb54cy8qg7OQ4bNgwpk2bxqVLlyptw55jZlne7rvvPk6fPm1+Xv6q/eXLl1m8eDFjxoxh1KhRxMbGkp+fb5b/jBkzCAkJ4f333+f1119n1KhRjB07lqioKPOOiVyxceNGQkNDsVqtTJw4kdOnT/PJJ58watQoIiMjsVqtXL58mY8++ojx48czevRoIiMj+de//gVAfn6+2Zajo6M5duyY+d1ldxer26c1KX8X9I477mDZsmWMGzeOkSNHkp6ezmOPPUZwcDATJ0406175OlTVcfzIkSMEBASY07///e/54x//CFypU/379ycvL6/G73nhhReIiIhg6NChrF+/vsq013ReLjuPlJ+uqT9Qvhy++eYbJk+eTEREBOHh4WzcuBGg0v7Ky8szj9Fjxoxh7ty5VZ4jxTl9/vnnvPzyy6Snp3Pq1CkyMjKw2Ww8/PDDPPzww2zbto2nn36axYsXc+HCBR577DHi4+PZunUrzz77LDExMZw8eRK4UhcXLFjAli1bOHPmDO+88w6vvfYaf/nLX1ixYgWlpaX885//JDU1lfXr15OamsqUKVN45JFHKqVr+PDhZl3++OOPufHGG9m/fz+GYbBz506GDx9uLjthwgR69+7NE088Yc7PysrilVdeYfv27WRlZfHee+9V2sbChQvp0KEDW7du5e233+bo0aP89a9/rbG8lixZAsBrr72Gt7d3lcusWbMGFxcXNm3axJYtW/Dy8iIxMdH8vHv37rz77rsMHTqUxYsX89JLL/H2229zzz33mLFCY3LqgOrgwYOcPXuWN998k/T0dMaMGVPh6tkXX3zBa6+9xrp16/jrX/9K27Zt2bBhAxMnTjSXs2dHw5Vb+ZMnTyY1NZWIiAiWL1+Ot7c3jz32GL6+vmZlqMmZM2d49dVXSU1N5csvvyQlJaXWhvSf//yHtWvXsnbt2krTb7/9Nh9//DEbN25k69atdO/endjYWAYPHszRo0fJzc3lu+++o6CgwBz+9OGHHzJs2DDy8vKYM2cOS5cuZfPmzSQnJ/PUU0+RmZnJ66+/zvHjx3nnnXf461//WuXJ08XFhcDAQD7++GPgSsO02Wx8++235OXl8eWXX+Ln52cuP3PmTLPy//KXvwSgoKCADRs2kJ6ezq5du6oM3GbPnk3//v3ZunUrb7zxBlu2bOGdd96psZyXLFlC69atSUtLM6+qXG3x4sX06tWLTZs2kZqayoULF3jllVeAKwFlYGAg27dv56c//SmvvfYab7/9Nps2bWLQoEEcOnSoxu03BadPn2bSpEmkpaURFhbGE088AdTcPsqXyx133FFh+qabbqqyHmdmZtapnlS3P86dO0dcXBwvvPACmzZtwsfHp955PXnyJIMHD2bjxo08/vjjLF68uE7rFRUVkZKSwvTp05k3bx733XcfW7Zswdvbm82bN1NcXMy0adOIjo5m69at/OUvf2HZsmVmJ7Wux4wzZ86Y+yIyMtIcavXCCy9w//33s2nTJhYvXsw//vGPSmnUyVG+/PJLEhMTeemll9i6dStDhw5l9erVwJWA/7nnnmPr1q1kZmayfPly1qxq4ZnQAAAgAElEQVRZQ2pqKk8//TSPPvooly5dIikpidatW5ORkcHzzz9vXmApry77tCaXL1/mpz/9KRs3bmT06NHMnTuX+Ph40tPTyc/P58MPP6y0vaqO47fffjuurq589dVXFBYWcuzYMbNt7N27lzvvvJP27dvX+D1dunRh06ZNrFy5kmeeeQabzVZh27Wdl6tSl/5AcXExjz32GI8//jibNm0y+yqfffYZUHF/ffjhhxQUFJCWlmYGXTVtX5zLkCFDaNmyJW5ubtx2221cvHiRr776ihYtWvCb3/wGuHKRcuvWrRw6dIif/exnZt+oe/fu/OpXv+Kf//wncOVihLe3Ny1atOCmm25i8ODBtGjRgi5dulBUVMQPP/zAjh07OHHiBJGRkYSHh/OnP/2J3Nxcvv/++wrpKjtnGIbB/v37mTRpErt37+azzz7jZz/7GZ6enjXma9iwYbRp0wYXFxe6d+9e5fDZXbt2ce+992KxWGjZsiWRkZHmeerH2LFjBx999BGjR48mPDycDz74gG+++cb83NfXF7jSPw0ODiYyMpKEhARuuOEGxo0b96O3X19OPeSvb9++3HjjjWzYsIGTJ0/yySef0K5dO/PzwMBA3Nzc8PT0pG3btgwZMgSAn/3sZ2al2rVrF2+88UaFHf3aa6/xwAMP1Ljt//f//h+33347AL/4xS/YvHlzvdMfHh5u3hodNWoUO3fuxMfHp9qGZLFY6NGjB+7u7uZ3lJ/etWsXERER5ndOnDiRP//5z7Ro0YKBAweye/duLly4wG9/+1vefPNN8vLy+Oijj5gyZQqfffYZ2dnZPPzww+Z3WywWjh49yt69ewkLC6Nly5a0bNkSq9XK0aNHK+Vn+PDhbNiwgdGjR5OdnU1YWBh79uzhxhtvNA8mNRk5ciQuLi60adOGn//855w/f77C55cuXeLTTz81O2/t27c3rxSWlZe9duzYweHDh80TVdlV/TJlDbNTp0707NmTMWPG4O/vj7+/f4VAsanq0aMHv/rVrwAYM2YMTz31FHl5ebW2j7JyKVM2XdMJoS71pLr9ceDAAW677TbzVv1vf/tbli1bVq+8urm5mVe0f/GLX1Q6wVRnxIgRwJXO109/+lN69uwJXDmeXLx4kePHj1NUVGQu16lTJ0aMGMHHH39M//7963zM6NKli1luPXv25O233wYgJCSEhIQEPvroIwYOHMisWbMqrTt8+HBmzZrFE088UeHk2K5du3qdHIEaT472HDNrs2PHDvLy8syLPTabjY4dO5qfV3Vy/M1vfsPgwYMr3KG43u3du5fBgwebQc6kSZOAK3c8vL29zYsQu3fv5uzZs+bncOWY/9///pe9e/cSFxeHxWLBw8OjQiB+LQUFBQFX2tBtt91Gp06dALjpppu4ePFinb+nrFPYvXt3BgwYwNGjR/n666/58MMPzfZYk7K7pLfffjuXL18mPz+fn/zkJ+bnNR3PLBZLndN5tePHj/Pf//6XuLg4c15hYSFffPEF3bp1q7C/+vXrx/Lly4mOjmbgwIHcd9993HzzzXZvWxpX69atzb8tFguGYeDi4lKp/nz11VeUlJRUmm8YBsXFxbi5uVXqS7m6Vu6ql5aWEh4eTkxMjDl99uxZbrzxxgrL9ejRA5vNxocffsjPf/5zAgMDmTlzJq6urmb7rEn5bZflq6q0lM9PaWlplc9hXb58udbtXf29cXFx5vG/oKCAoqIi8/PyQw8TExP56quv2LNnD2vWrCEtLY3nn3++Xtv7sZw6oNqxYweLFi3i/vvv5+677+aWW25hy5Yt5ud1rXT27OiqGkd9lb/KZhgGrq6utTakq8emlp+uKS/Dhg1j165d5ObmMmXKFI4dO8YHH3zAV199xa9//Wt27txJt27deOutt8z1s7Ky8PDw4M0336w23eUNGjSIuXPnsnPnTvr378/AgQN54403aNOmDSNHjqy1PGprmKWlpVXOKy4urrT81VcYa1NaWsrzzz9vji/Ozc2tUJZl5dyiRQvWrVvH4cOH2bt3L4sXL2bIkCHmHZ2mqkWLijejLRYLrq6utbaP6upjTfW4LvWkuv2xZ8+eCvu5qjZdGzc3NzO/9ekMlT+euLm5Vfq8pjxD3Y8Z5b+7/HKRkZEEBgaye/duPv74Y1auXElGRgatWrUyl9fJUa7upBUWFnLq1Cmg8vnCz8+vwrDZ06dP4+XlBVBh31d3zP+xytf1qtpUXQ0bNoznn3+es2fPMmjQIDp27Mjf//53du3axcyZM2tdv6zel5Xb1fW+prbdsmVLu889JSUltG/f3ny+C+DcuXO0b9+ezz77rML+6tKlC++//z6ffPIJ//jHP7j//vtJSEhg6NChdd6eOJdbbrkFi8XC7t27GTRoEP/+97+ZMmUK27Zt49ixYxw6dIg777yTr7/+mn379vHHP/7RHPFQm8GDBzN37lzuu+8+vLy8eOONN/i///u/Kl/+NWzYMJ577jnGjx9Pt27dyM/PN0cBXc3FxaXeL6UYPHgw69atIy4uDpvNRkpKCgMHDgTAw8ODw4cPExAQwLZt2+q1rcGDB7N+/Xr8/PxwdXXlySefpG3btpVeNpaTk8OYMWN46623mDRpEj179qxwEaOxOPWQv927dxMYGEhUVBS9e/fmgw8+qDC2ui7KdrRhGFy+fLnKHQ1U2tHVqU9le+edd7h8+TJFRUVs3rwZf39/+vTpYzYkwGxIv/71r2v9viFDhvD222+bY8/Xrl3LXXfdRcuWLRk6dCh79+7lyJEj3HnnnQwaNIjnn38ef39/XFxc6NOnDydOnGDfvn3AlXHpQUFBZGVlMWTIEFJTUykqKqKoqIj09PQqt9+qVSvuuusuVq5cyaBBg/j1r3/NZ599xv79+827g/aWFYC7uzu//OUvzTHueXl5pKamMnDgQG644QZsNpv5LEX5YYBlgWpNQe/gwYN59dVXzXowbdo01q1bV2m5L7/8krCwMLp168bUqVOZNGlSoz3g3JCOHj3KkSNHAHjzzTfp168fbdq0qbF91KSmelyXelLd/rjrrrv4z3/+w5dffglceV7BWdxyyy24urqaw+SysrLYvn17reVV13YQGRnJkSNHiIiI4OmnnyY3N5fs7OxKy5WdHAcNGlTh5FjVlfofc3Ks7zGzrifHy5cvU1paypNPPlnl3cecnBwCAgLo0KEDkyZNYsaMGc2iDV4r/fv3Z+/eveaznRs2bDAf8C7Pz8+P3bt3m0Nkdu7cyahRoygsLGTIkCFs3LiR0tJSLl68WGn4XRl76o+9ajqO/+pXv+LkyZPs2LGDgQMHMmjQIF577TV+/vOfV7jTVNv3VKem45mHhwdff/01RUVF2Gy2Cs821lY+Xbt2NYcfwpWANiwszHz7bXmvv/46c+bMYfDgwcTExDB48GC++OKLOudBnE/Lli154YUXWLlyJeHh4cyfP58XXniBjh078vzzz/P0009jtVp5/PHHWbJkCV27dq3zdw8ePJg//OEPTJ48GavVyrZt21i5cmWVFxGHDx/OsWPHzOP4wIED8fT0rHIob9nzxPUZlTV37lxycnKwWq1YrVa6du3Kgw8+aH6WkJDAmDFj+OabbyqMoggODiY6Opqvvvqqyu996KGH8PHxYcyYMYwcORLDMKp8A7WHhwfTpk1j0qRJRERE8NxzzznkDc9OfYcqMjKSxx9/HKvVal75Lnv7SV3NnTuXhQsXYrVasdlsDBkypNKOvuGGG8wKVps+ffqwatUqHnnkEVauXFnjsjfddBNRUVEUFBQwfPhwxowZg8ViMRtSYWEhFovFbEi1XZkYN24cp0+fZvz48ZSWlnLzzTebzyC0b9+ebt26mWNdhwwZQnx8vNnJ8vDwICkpiaVLl1JUVIRhGCxdupSbbrqJyMhI/vvf/xIWFkaHDh1qHGYwfPhw3nvvPQYMGEDr1q3p2bMnN954Y4Wr6OWXjYmJ4amnnqqlVP8nMTGRhIQENm3axOXLl80HhC0WCzExMfzhD3/Aw8OD4OBgcx1PT0/uvPNOQkNDq33gOD4+nkWLFpn1YODAgUyZMqXScj179iQkJISxY8fStm1bWrduzdy5c+ucfmd1yy23sHLlSk6ePEnHjh155plngJrbR008PDyqrcdQez2pbn+4ubmRmJjI7NmzcXNz46677mq4QqknNzc3kpOTWbhwIS+88AIlJSU8/PDDDBgwgE8++aTa9cofM8peLlOV2bNns3jxYlasWIHFYuGRRx7hpptuqrTc8OHDefnllyucHI8ePVrjybE+V9XtPWaWnRzLngm72kMPPcSzzz7LmDFjKCkp4fbbb6/15Ni6dWtcXFz08wfl9OjRg5iYGPP45enpyeLFizl+/HiF5W699VYSEhKYNWuWOUJi9erVtGvXjkcffZT58+cTEhKCh4cHt912W5XbKr9Pq1vmWrn6OF4+UGrRogX+/v4cPnwYDw8P+vXrx8WLF6u8iFCX88HVajqedenShbvuuouQkBA8PT3p37+/OSS+trbdsmVLkpOTWbRoES+99BLFxcVMnz6dfv36VTpmjB49mn/+85+MHDmSNm3a4O3tXePxQhyrf//+5kWlsvNpmfLTd9xxR5V3ggYMGFBhxFCZspcSlXnxxRfNv9u1a1fhcYwJEyYwYcKEWtPat2/fCutdfTwtn96JEyeaPzswZsyYapcr7yc/+QnPPfdclZ+FhoYSGhpqTpcNUQQqXFD76KOPzL/LyrV169bMnz+/yu8tvzxciRciIyOrXLaxWAx7xrKJiIiIiIiIc9+hcmbHjh2rdux2165d6/y6ZxGp3T/+8Y9q36TVv3//WsdLb9mypdoftbVarVXerRSRK2bMmFHlmwABli9fzi233NLIKRIRcS66QyUiIiIiImInp34phYiIiIiIiDNTQCUiIiIiImInPUMl4mDR0dHk5OSYv5WSkJBAQUEBS5YsoaioiJCQEPN5vSNHjhAfH09BQQG+vr4sWLAAV1dXMjMziYmJ4fz583Tt2pXExETatWtHbm4us2fP5uTJk3h4eLBixYo6vc1SREREROqmyT9DdeFCAaWl/8tCx47unD+f78AUVU9pq7/GSleLFhZ+8pN2Db6dqxmGgb+/P3/729/MgKqwsJDg4GDWrl2Lt7c3U6dOZeLEiQQEBBAWFsbChQvp06cPcXFx9O7dm6ioKKZOncqoUaMIDQ1l1apVXLp0iZiYGBISEujcuTMPPPAAqamp7Nixo94vTLm6jTU0Z62L18r1mj9HtbGmoLo21pTqSlNKKzS/9Kp91ayqNtbU6kBdKV8No7Y21uTvUJWWGpUaSWN2/upLaas/Z03XtXDs2DEAJk+ezPfff88999zDbbfdxs0330yXLl2AK2+hy8jI4NZbb6WwsJA+ffoAV36vIikpifHjx7Nv3z5WrVplzr/33nuJiYlhx44d5m+xhIWFkZCQgM1mw83Nrc5prKqNNbTmvM9B+ZOKampjTaksm1JaQem9nlTXxpprmSpfjU/PUIk4UG5uLn5+fqxatYpXX32VDRs2kJmZWWFYnpeXF1lZWZw9e7bCfE9PT7Kysrhw4QLu7u7mHa6y+UCFdVxdXXF3dycnJ6cRcygiIiLSvDX5O1QiTVnfvn3p27evOT1u3DiSkpLo16+fOc8wDCwWC6WlpVgslkrzy/4v7+rp8uu0aFG/6ygdO7rXa/lrwdOzfaNvszEpfyIiIs2HAioRB9q/fz82mw0/Pz/gSsDj4+NDdna2uUx2djZeXl507ty5wvxz587h5eWFh4cHeXl5lJSU4OLiYi4PV+5unTt3js6dO1NcXExBQQEdOnSoVxrPn89v1Nvsnp7tyc7Oa7TtNbbrNX8tWlgcEpyLiIg0NA35E3GgvLw8li5dSlFREfn5+WzevJlZs2bx7bffcuLECUpKSti2bRv+/v74+PjQqlUrDhw4AEBaWhr+/v64ubnh6+tLeno6AKmpqfj7+wMQEBBAamoqAOnp6fj6+tbr+SkRERERqZnuUIk4UGBgIAcPHmT06NGUlpYSFRVF3759eeaZZ3j00UcpKioiICCA4OBgABITE5k7dy75+fn06tWLiRMnAjB//nxiY2NZvXo13t7eLFu2DIDp06cTGxtLaGgo7du3JzEx0WF5FREREWmOmvxr068ejuTMw2mUtvprrHRpOFL1NOTv2rpe86c2Vr3q2lhTqitNKa3Q/NKr9lWzqtpYU6sDdaV8NYza2piG/ImIiIiIiNhJAZWIiIiI2O2jjz4iIiKCkJAQFi5cCMCePXuwWq2MGDGC5cuXm8seOXKEiIgIgoKCiI+Pp7i4GIDMzEwmTJhAcHAw06ZNo6CgALjy8yIPPPAAISEhTJgwocLLmUSchQIqEREREbHLyZMnmT9/PsnJyWzZsoUvvviCnTt3EhcXR3JyMunp6Xz++efs3LkTgJiYGObNm8f27dsxDIOUlBQAFixYQFRUFBkZGfTu3Zvk5GQAVqxYga+vL++++y7jx49n0aJFDsurSHUUUImIiIiIXd5//31GjhxJ586dcXNzY/ny5bRp04abb76ZLl264OrqitVqJSMjg1OnTlFYWEifPn0AiIiIICMjA5vNxr59+wgKCqowH2DHjh1YrVYAwsLC2LVrFzabzTGZFamG3vInIiIiInY5ceIEbm5uPPjgg5w+fZrf/OY3dO/eHU9PT3MZLy8vsrKyOHv2bIX5np6eZGVlceHCBdzd3XF1da0wH6iwjqurK+7u7uTk5NCpU6dGzKVIzRRQXQPtb2hD61Z1K0pPz/YAFBYVk5f7Q0MmS6RB1afel1G9F6m7y7YS85xRV2pj0thKSkrYv38/a9eupW3btkybNo3WrVtjsVjMZQzDwGKxUFpaWuX8sv/Lu3q6/DotWtRvgFV1b2e7sUNbWrq51Ou7LttK6r1OY6vvcaOpcOZ8KaC6Blq3csX6eFq91tn6XDjN76WWcj1RvRdpWC3dXNTGxOn99Kc/xc/PDw8PDwCGDRtGRkYGLi7/Czqys7Px8vKic+fOFV4qce7cOby8vPDw8CAvL4+SkhJcXFzM5eHK3a1z587RuXNniouLKSgooEOHDvVKY3WvTbe3jTnza8kd/XrxhuLofOm16SIiIiLSIAIDA/n73/9Obm4uJSUlfPzxxwQHB/Ptt99y4sQJSkpK2LZtG/7+/vj4+NCqVSsOHDgAQFpaGv7+/ri5ueHr60t6ejoAqamp+Pv7AxAQEEBqaioA6enp+Pr64ubm5pjMilRDd6hERERExC6//OUvmTJlClFRUdhsNgYNGsTvfvc7brnlFh599FGKiooICAggODgYgMTERObOnUt+fj69evVi4sSJAMyfP5/Y2FhWr16Nt7c3y5YtA2D69OnExsYSGhpK+/btSUxMdFheRaqjgEpERERE7DZu3DjGjRtXYZ6fnx9btmyptGzPnj3ZuHFjpfk+Pj6sXbu20vwOHTrw5z//+dolVqQBaMifiIiIiIiInRRQiYiIiIiI2EkBlYiIiIiIiJ0UUImIiIiIiNhJAZWIiIiIiIidFFCJiIiIiIjYqU4BVX5+PmFhYXz33XcAvPnmm4SFhWG1WpkzZw6XL18G4MiRI0RERBAUFER8fDzFxcUAZGZmMmHCBIKDg5k2bRoFBQUA5Obm8sADDxASEsKECRMq/Hq2iIiIiIiIs6s1oDp48CC/+93vOH78OADffvstL7/8Mhs2bGDLli2Ulpby+uuvAxATE8O8efPYvn07hmGQkpICwIIFC4iKiiIjI4PevXuTnJwMwIoVK/D19eXdd99l/PjxLFq0qIGyKSIiIiIicu3VGlClpKQwf/58vLy8AGjZsiXz58/H3d0di8XCbbfdRmZmJqdOnaKwsJA+ffoAEBERQUZGBjabjX379hEUFFRhPsCOHTuwWq0AhIWFsWvXLmw2W4NkVERERERE5FpzrW2Bq+8a+fj44OPjA0BOTg7r169nyZIlnD17Fk9PT3M5T09PsrKyuHDhAu7u7ri6ulaYD1RYx9XVFXd3d3JycujUqdO1yZ2IiIiIiEgDqjWgqk5WVhZTpkxh7Nix9O/fnwMHDmCxWMzPDcPAYrGY/5d39XT5dVq0qN97Mjp2dK80z9Ozfb2+w1GcLZ3Olp4yzpouEWkaoqOjycnJMS/sJSQkUFBQwJIlSygqKiIkJISZM2cCV54Fjo+Pp6CgAF9fXxYsWICrqyuZmZnExMRw/vx5unbtSmJiIu3atSM3N5fZs2dz8uRJPDw8WLFiRYWLiyIi0vzZFVB98803TJkyhejoaCZPngxA586dK7xU4ty5c3h5eeHh4UFeXh4lJSW4uLiQnZ1tDh/08vLi3LlzdO7cmeLiYgoKCujQoUO90nL+fD6lpYY57enZnuzsPHuyZTd7O/yNnc6aOKLc6qKx0tWihaXK4FxEmjbDMDh+/Dh/+9vfzICqsLCQ4OBg1q5di7e3N1OnTmXnzp0EBAQQExPDwoUL6dOnD3FxcaSkpBAVFWU+CxwaGsqqVatITk4mJibGfBZ4zZo1pKamsmjRIlasWOHgXIuISGOq92vT8/Pz+f3vf8/06dPNYAquDAVs1aoVBw4cACAtLQ1/f3/c3Nzw9fUlPT0dgNTUVPz9/QEICAggNTUVgPT0dHx9fXFzc/vRmRIREQE4duwYAJMnT2bUqFGsW7eOQ4cOcfPNN9OlSxdcXV2xWq1kZGToWWAREbFLvQOqjRs3cu7cOV555RXCw8MJDw/n+eefByAxMZElS5YQHBzMpUuXmDhxIgDz588nJSWFkSNHsn//fmbMmAHA9OnT+eyzzwgNDeX1119n3rx51zBrIiJyvcvNzcXPz49Vq1bx6quvsmHDBjIzMysMy/Py8iIrK+uaPgssIiLXjzoP+fvoo48AmDRpEpMmTapymZ49e7Jx48ZK8318fFi7dm2l+R06dODPf/5zXZMgIiJSL3379qVv377m9Lhx40hKSqJfv37mvLJnfUtLS53mWeAfw1HPnTa1512VXhG5Vux+KYWIiIiz279/PzabDT8/P+BKwOPj41Phmd+yZ3ud5VngMk3p+VxnfQ63Os0tvXoOWMSx6j3kT0REpKnIy8tj6dKlFBUVkZ+fz+bNm5k1axbffvstJ06coKSkhG3btuHv769ngUVExC66QyUiIs1WYGAgBw8eZPTo0ZSWlhIVFUXfvn155plnePTRRykqKiIgIIDg4GDgyrPAc+fOJT8/n169elV4Fjg2NpbVq1fj7e3NsmXLgCvPAsfGxhIaGkr79u1JTEx0WF5FRMQxFFCJiEizNmPGDPNlSGX8/PzYsmVLpWX1LLCIiNSXhvyJiIiIiIjYSQGViIiIiIiInRRQiYiIiIiI2EkBlYiIiIiIiJ0UUImIiIiIiNhJAZWIiIiIiIidFFCJiIiIiIjYSQGViIiIiIiInRRQiYiIiIiI2EkBlYiIiIiIiJ0UUImIiIiIiNhJAZWIiIiIiIidFFCJiIiIiIjYSQGViIiIiIiInRRQiYiIiIiI2MnV0QlwJu1vaEPrVioSERERERGpG0UP5bRu5Yr18bR6r7f1ufAGSI2IiIiIiDg7DfkTERERERGxkwIqEREREREROymgEhERERERsZOeoRIRERERu0VHR5OTk4Or65VuZUJCAgUFBSxZsoSioiJCQkKYOXMmAEeOHCE+Pp6CggJ8fX1ZsGABrq6uZGZmEhMTw/nz5+natSuJiYm0a9eO3NxcZs+ezcmTJ/Hw8GDFihV4eno6MrsilegOlYiIiIjYxTAMjh8/TlpamvmvR48exMXFkZycTHp6Op9//jk7d+4EICYmhnnz5rF9+3YMwyAlJQWABQsWEBUVRUZGBr179yY5ORmAFStW4Ovry7vvvsv48eNZtGiRw/IqUh0FVCJO4tlnnyU2NhaAPXv2YLVaGTFiBMuXLzeXOXLkCBEREQQFBREfH09xcTEAmZmZTJgwgeDgYKZNm0ZBQQEAubm5PPDAA4SEhDBhwgSys7MbP2MiItJsHTt2DIDJkyczatQo1q1bx6FDh7j55pvp0qULrq6uWK1WMjIyOHXqFIWFhfTp0weAiIgIMjIysNls7Nu3j6CgoArzAXbs2IHVagUgLCyMXbt2YbPZHJBTkeppyJ+IE9i7dy+bN2/mN7/5DYWFhcTFxbF27Vq8vb2ZOnUqO3fuJCAggJiYGBYuXEifPn2Ii4sjJSWFqKgo88peaGgoq1atIjk5mZiYGPPK3po1a0hNTWXRokWsWLHC0dkVEZFmIjc3Fz8/P5588klsNhsTJ05kypQpFYbleXl5kZWVxdmzZyvM9/T0JCsriwsXLuDu7m4OGSybD1RYx9XVFXd3d3JycujUqVOd09ixo/u1yGq5dLe/pt93rTl7+uzlzPlSQCXiYN9//z3Lly/nwQcf5Msvv6xwZQ8wr+zdeuutla7sJSUlMX78ePbt28eqVavM+ffeey8xMTHs2LGD9evXA1eu7CUkJGCz2XBzc3NMZkVEpFnp27cvffv2NafHjRtHUlIS/fr1M+cZhoHFYqG0tBSLxVJpftn/5V09XX6dFi3qN8Dq/Pl8SkuNCvN+TOc8OzvP7nUbmqdne6dOn70cna8WLSw1BuYKqEQcbN68ecycOZPTp08DVLqCdz1e2XPmq1DXgvInIs3F/v37sdls+Pn5AVcCHh8fnwpDzLOzs/Hy8qJz584V5p87dw4vLy88PDzIy8ujpKQEFxcXc3m4cg48d+4cnTt3pri4mIKCAjp06NC4mRSphQIqEQd666238Pb2xs/Pj02bNgFUewXPma7sgf2d5tquMDn6KlRDu17zV9vVPRFpmvLy8khKSmLDhg3YbDY2b97MggULmDFjBidOnOCmm25i27ZtjB07Fh8fH1q1asWBAwfo168faWlp+Pv74+bmhq+vL+np6VitVlJTUySRh7cAACAASURBVPH39wcgICCA1NRUHnzwQdLT0/H19dUoC3E6CqhEHCg9PZ3s7GzCw8O5ePEily5d4tSpU7i4uJjL6MqeiIg4q8DAQA4e/P/au/+oKM87//+vkRmpLXT5kM4IS1zbpDnHHOxqT6dpaXpmNjl7+OEwNZ3GXYXW7nYbf5wUjdtip0hh3Y2VuFMhWYM2J6lt2PbsEqOAnGFsT1y0LjYazjYeW3NOTio2okV+mPBDgWGY7x+e8BXRKLcDMwzPxzkenGvue+Z9AdfMvLjv+7re1GOPPabR0VEVFBTos5/9rCoqKlRUVKShoSE5nU7l5uZKknw+n0pLS9Xf36/MzEytXr1aklReXi6v16vdu3crPT1dO3fulCRt3LhRXq9XLpdLycnJ8vl8UesrcCsEKiCK9u7dO/b//fv368SJE9q6dauys7P5yx4AYEZ46qmn9NRTT41ry8rKUkNDw4RtFy1apH379k1oz8jIUE1NzYT2lJQU7dmzJ3LFAlOAQAXEmMTERP6yBwAAMEMQqIAY4fF45PF4JPGXPQAAgJmChX0BAAAAwCACFQAAAAAYdEeBqr+/X/n5+Tp//rwkqaWlRW63W9nZ2aqsrBzb7syZM/J4PMrJydGWLVs0MjIiSbpw4YIKCwuVm5ur9evXa2BgQNK11bXXrFmjvLw8FRYWjpvBDAAAAABi3W0D1ZtvvqlVq1apra1NkjQ4OKiSkhJVV1fL7/fr9OnTOnLkiCSpuLhYZWVlOnTokMLhsGprayVJW7duVUFBgQKBgBYvXqzq6mpJUlVVlex2u5qamrRixQpt27ZtiroJAAAAAJF320BVW1ur8vLysXVtTp06pYULF2rBggUym81yu90KBAJqb2/X4OCgli5dKunaBfaBQEDBYFAnT55UTk7OuHZJam5ultvtliTl5+fr6NGjCgaDU9JRAAAAAIi0287yd+NRo0uXLslqtY7dttls6ujomNButVrV0dGhy5cvKykpSWazeVz7jY9lNpuVlJSknp4ezZ8//447cM89SRParNbkO94/mmKtzlir5wOxWhcAAAAw6WnTR0dHZTKZxm6Hw2GZTKZbtn/w9Xo33r5+nzlzJjdPRnd3v0ZHw2O3rdZkdXb2Teoxrt93OhmtcyrczfdtKk1XXXPmmG4azgEAAIAPM+lZ/tLS0sZNHtHZ2SmbzTahvaurSzabTampqerr61MoFBq3vXTt6FZXV5ckaWRkRAMDA0pJSbmrDgEAAADAdJl0oFqyZInOnj2rc+fOKRQKqbGxUQ6HQxkZGUpMTFRra6skqb6+Xg6HQxaLRXa7XX6/X5JUV1cnh8MhSXI6naqrq5Mk+f1+2e12WSyWSPUNAAAAAKbUpE/5S0xMVEVFhYqKijQ0NCSn06nc3FxJks/nU2lpqfr7+5WZmanVq1dLksrLy+X1erV7926lp6dr586dkqSNGzfK6/XK5XIpOTlZPp8vgl0DAAAAgKl1x4Hq8OHDY//PyspSQ0PDhG0WLVqkffv2TWjPyMhQTU3NhPaUlBTt2bPnTksAAAAAgJgy6VP+AAAAAADXEKgAAAAAwCACFQAAAAAYRKACAMwKzzzzjLxerySppaVFbrdb2dnZqqysHNvmzJkz8ng8ysnJ0ZYtWzQyMiJJunDhggoLC5Wbm6v169drYGBAktTb26s1a9YoLy9PhYWF45YPAQDMDgQqAEDcO378uA4cOCBJGhwcVElJiaqrq+X3+3X69GkdOXJEklRcXKyysjIdOnRI4XBYtbW1kqStW7eqoKBAgUBAixcvVnV1tSSpqqpKdrtdTU1NWrFihbZt2xadDgIAooZABQCIa++9954qKyu1bt06SdKpU6e0cOFCLViwQGazWW63W4FAQO3t7RocHNTSpUslSR6PR4FAQMFgUCdPnlROTs64dklqbm6W2+2WJOXn5+vo0aMKBoNR6CUAIFomvQ4VAAAzSVlZmTZt2qSLFy9Kki5duiSr1Tp2v81mU0dHx4R2q9Wqjo4OXb58WUlJSTKbzePab3wss9mspKQk9fT0aP78+Xdc3z33JN11H69ntSZH9PFi/XmNol4AkUKgAgDErVdeeUXp6enKysrS/v37JUmjo6MymUxj24TDYZlMplu2f/D1ejfevn6fOXMmd/JHd3e/RkfDE9qNfoDu7OwztN/dsFqTo/K8RsVbvXPmmCIezAHcOQIVACBu+f1+dXZ2avny5Xr//fd15coVtbe3KyEhYWybzs5O2Ww2paWljZtUoqurSzabTampqerr61MoFFJCQsLY9tK1o1tdXV1KS0vTyMiIBgYGlJKSMu39BABED9dQAQDi1t69e9XY2Kj6+npt2LBBjz76qF588UWdPXtW586dUygUUmNjoxwOhzIyMpSYmKjW1lZJUn19vRwOhywWi+x2u/x+vySprq5ODodDkuR0OlVXVyfpWniz2+2yWCzR6SwAICo4QgUAmFUSExNVUVGhoqIiDQ0Nyel0Kjc3V5Lk8/lUWlqq/v5+ZWZmavXq1ZKk8vJyeb1e7d69W+np6dq5c6ckaePGjfJ6vXK5XEpOTpbP54tavwAA0UGgAgDMCh6PRx6PR5KUlZWlhoaGCdssWrRI+/btm9CekZGhmpqaCe0pKSnas2dP5IsFAMwYnPIHAAAAAAYRqAAAAADAIAIVAAAAABhEoAIAAAAAgwhUAAAAAGAQgQoAAAAADCJQAQAAAIBBBCoAAAAAMIhABQAAAAAGEagAAAAAwCACFQAAAAAYRKACAAAAAIMIVAAAAABgEIEKAAAAAAwiUAEAAOCuPfPMM/J6vZKklpYWud1uZWdnq7KycmybM2fOyOPxKCcnR1u2bNHIyIgk6cKFCyosLFRubq7Wr1+vgYEBSVJvb6/WrFmjvLw8FRYWqrOzc/o7BtwGgQoAAAB35fjx4zpw4IAkaXBwUCUlJaqurpbf79fp06d15MgRSVJxcbHKysp06NAhhcNh1dbWSpK2bt2qgoICBQIBLV68WNXV1ZKkqqoq2e12NTU1acWKFdq2bVt0Ogh8CAIVAAAADHvvvfdUWVmpdevWSZJOnTqlhQsXasGCBTKbzXK73QoEAmpvb9fg4KCWLl0qSfJ4PAoEAgoGgzp58qRycnLGtUtSc3Oz3G63JCk/P19Hjx5VMBiMQi+BWzNHuwAAAADMXGVlZdq0aZMuXrwoSbp06ZKsVuvY/TabTR0dHRParVarOjo6dPnyZSUlJclsNo9rv/GxzGazkpKS1NPTo/nz599xfffck3TXfbye1Zoc0ceLtFivz6hY7heBCgAAAIa88sorSk9PV1ZWlvbv3y9JGh0dlclkGtsmHA7LZDLdsv2Dr9e78fb1+8yZM7kTrLq7+zU6Gh7Xdjcfzjs7+wzvO9Ws1uSYrs+oaPdrzhzThwZzAhUAAAAM8fv96uzs1PLly/X+++/rypUram9vV0JCwtg2nZ2dstlsSktLGzepRFdXl2w2m1JTU9XX16dQKKSEhISx7aVrR7e6urqUlpamkZERDQwMKCUlZdr7CXwYrqECAACAIXv37lVjY6Pq6+u1YcMGPfroo3rxxRd19uxZnTt3TqFQSI2NjXI4HMrIyFBiYqJaW1slSfX19XI4HLJYLLLb7fL7/ZKkuro6ORwOSZLT6VRdXZ2ka+HNbrfLYrFEp7PALXCECgAAABGTmJioiooKFRUVaWhoSE6nU7m5uZIkn8+n0tJS9ff3KzMzU6tXr5YklZeXy+v1avfu3UpPT9fOnTslSRs3bpTX65XL5VJycrJ8Pl/U+gXcCoEKAAAAd83j8cjj8UiSsrKy1NDQMGGbRYsWad++fRPaMzIyVFNTM6E9JSVFe/bsiXyxQAQRqKJkOBgydEHk4NCI+nqvTkFFAAAAACbrrgJVfX29XnjhBUmSw+HQ97//fbW0tGj79u0aGhpSXl6eNm3aJOnaythbtmzRwMCA7Ha7tm7dKrPZrAsXLqi4uFjd3d361Kc+JZ/Pp4997GN337MYN9eSIPd36ye938EfL1f8zd0CAAAAzEyGJ6W4evWqtm3bppqaGtXX1+uNN97Q4cOHI7YyNgAAAADEOsOBKhQKaXR0VFevXtXIyIhGRkaUlJQUsZWxAQAAACDWGT7lLykpSRs3blReXp7mzZunz3/+8xFdGftO3WyRrVheSTkSpqp/sfp9i9W6IunZZ5/VoUOHZDKZ9Pjjj+sf//EfI3b6bG9vr773ve/p3XffVWpqqqqqqsaNRwAAABhnOFC99dZbevXVV/U///M/Sk5O1ve+9z21tbVN2crYt3Lj6td3s5LyTPngPhUrRUd7Bepbma66brcC9lQ6ceKEfvvb36qhoUEjIyNatmyZsrKyVFJSopqaGqWnp2vt2rU6cuSInE6niouL9fTTT2vp0qUqKSlRbW2tCgoKxk6fdblcev7551VdXa3i4mJVVVXJbrfrhRdeUF1dnbZt26aqqqqo9BUAACDeGD7l79ixY8rKytI999yjuXPnyuPx6PXXXx+3AvZkVsa+fntgNnnooYf08ssvy2w2q7u7W6FQSL29vRE7fba5uVlut1uSlJ+fr6NHjyoYDEanswAAAHHG8BGqRYsW6d///d915coVzZs3T4cPH9aSJUt08OBBnTt3Tvfee68aGxv1ta99bdzK2J/73OduujK22+0etzI2MJtYLBY999xz+ulPf6rc3NyInj57/T5ms1lJSUnq6enR/Pnz76i2SB+5u5MjwTPlaLFR9A8AgPhhOFB9+ctf1h/+8Ad5PB5ZLBZ95jOfUVFRkR5++OGIrIwNzDYbNmzQE088oXXr1k3p6bPhcFhz5tz5wekbT6v9gNEPzbc7hTNWTz+NlNnav2ieVgsAwFS6q3Wo1qxZozVr1oxri9TK2MBs8c4772h4eFgPPvig5s2bp+zsbAUCASUkJIxtM5nTZxMSEsadPmuz2dTV1aW0tDSNjIxoYGBAKSkp095PAACAeGT4GioAkXH+/HmVlpZqeHhYw8PDeu2117Ry5UqdPXtW586dUygUUmNjoxwOx7jTZyXd9PRZSeNOn3U6naqrq5Mk+f1+2e12WSyW6HQWAAAgztzVESoAd8/pdOrUqVN67LHHlJCQoOzsbLlcLqWmpkbk9NmNGzfK6/XK5XIpOTlZPp8van0FAACINwQqIAYUFRWpqKhoXFukTp9NSUnRnj17IlcsAAAAxnDKHwAAAAAYRKACAAAAAIMIVAAAAABgENdQzTDDwdCk1/8ZHBpRX+/VKaoIAAAAmL0IVDPMXEuC3N+tn9Q+B3+8XPG7jCgAAAAQPZzyBwAAAAAGEagAAAAAwCACFQAAAAAYRKACAMS1Z599VsuWLZPL5dLevXslSS0tLXK73crOzlZlZeXYtmfOnJHH41FOTo62bNmikZERSdKFCxdUWFio3NxcrV+/XgMDA5Kk3t5erVmzRnl5eSosLFRnZ+f0dxAAEFUEKgBA3Dpx4oR++9vfqqGhQa+++qpqamr01ltvqaSkRNXV1fL7/Tp9+rSOHDkiSSouLlZZWZkOHTqkcDis2tpaSdLWrVtVUFCgQCCgxYsXq7q6WpJUVVUlu92upqYmrVixQtu2bYtaXwEA0UGgAgDErYceekgvv/yyzGazuru7FQqF1Nvbq4ULF2rBggUym81yu90KBAJqb2/X4OCgli5dKknyeDwKBAIKBoM6efKkcnJyxrVLUnNzs9xutyQpPz9fR48eVTAYjE5nAQBRwbTps8Cdrl11/TasXQUgXlgsFj333HP66U9/qtzcXF26dElWq3XsfpvNpo6OjgntVqtVHR0dunz5spKSkmQ2m8e1Sxq3j9lsVlJSknp6ejR//vxp7CEAIJoIVLMAa1cBmO02bNigJ554QuvWrVNbW5tMJtPYfeFwWCaTSaOjozdt/+Dr9W68ff0+c+ZM7uSPe+5JmtT2tzPZxd9n+vMaRb0AIoVABQCIW++8846Gh4f14IMPat68ecrOzlYgEFBCQsLYNp2dnbLZbEpLSxs3qURXV5dsNptSU1PV19enUCikhISEse2la0e3urq6lJaWppGREQ0MDCglJWVSNXZ392t0NDyh3egH6M7O6f9zmNWaHJXnNSre6p0zxxTxYA7gznENFQAgbp0/f16lpaUaHh7W8PCwXnvtNa1cuVJnz57VuXPnFAqF1NjYKIfDoYyMDCUmJqq1tVWSVF9fL4fDIYvFIrvdLr/fL0mqq6uTw+GQJDmdTtXV1UmS/H6/7Ha7LBZLdDoLAIgKjlABAOKW0+nUqVOn9NhjjykhIUHZ2dlyuVxKTU1VUVGRhoaG5HQ6lZubK0ny+XwqLS1Vf3+/MjMztXr1aklSeXm5vF6vdu/erfT0dO3cuVOStHHjRnm9XrlcLiUnJ8vn80WtrwCA6CBQAQDiWlFRkYqKisa1ZWVlqaGhYcK2ixYt0r59+ya0Z2RkqKamZkJ7SkqK9uzZE7liAQAzDqf8AQAAAIBBBCoAAAAAMIhABQAAAAAGEagAAAAAwCACFQAAAAAYRKACAAAAAIMIVAAAAABgEIEKAAAAAAwiUAEAAMCwZ599VsuWLZPL5dLevXslSS0tLXK73crOzlZlZeXYtmfOnJHH41FOTo62bNmikZERSdKFCxdUWFio3NxcrV+/XgMDA5Kk3t5erVmzRnl5eSosLFRnZ+f0dxC4DQIVAAAADDlx4oR++9vfqqGhQa+++qpqamr01ltvqaSkRNXV1fL7/Tp9+rSOHDkiSSouLlZZWZkOHTqkcDis2tpaSdLWrVtVUFCgQCCgxYsXq7q6WpJUVVUlu92upqYmrVixQtu2bYtaX4FbIVABAADAkIceekgvv/yyzGazuru7FQqF1Nvbq4ULF2rBggUym81yu90KBAJqb2/X4OCgli5dKknyeDwKBAIKBoM6efKkcnJyxrVLUnNzs9xutyQpPz9fR48eVTAYjE5ngVsgUAEAAMAwi8Wi5557Ti6XS1lZWbp06ZKsVuvY/TabTR0dHRParVarOjo6dPnyZSUlJclsNo9rlzRuH7PZrKSkJPX09Exj74DbM0e7AAAAAMxsGzZs0BNPPKF169apra1NJpNp7L5wOCyTyaTR0dGbtn/w9Xo33r5+nzlzJnc84J57kia1/e1YrckRfbxIi/X6jIrlfhGoAAAAYMg777yj4eFhPfjgg5o3b56ys7MVCASUkJAwtk1nZ6dsNpvS0tLGTSrR1dUlm82m1NRU9fX1KRQKKSEhYWx76drRra6uLqWlpWlkZEQDAwNKSUmZVI3d3f0aHQ2Pa7ubD+ednX2G951qVmtyTNdnVLT7NWeO6UODOaf8AQAAwJDz58+rtLRUw8PDGh4e1muvvaaVK1fq7NmzOnfunEKhkBobG+VwOJSRkaHExES1trZKkurr6+VwOGSxWGS32+X3+yVJdXV1cjgckiSn06m6ujpJkt/vl91ul8ViiU5ngVvgCBUAAAAMcTqdOnXqlB577DElJCQoOztbLpdLqampKioq0tDQkJxOp3JzcyVJPp9PpaWl6u/vV2ZmplavXi1JKi8vl9fr1e7du5Wenq6dO3dKkjZu3Civ1yuXy6Xk5GT5fL6o9RW4lbsKVIcPH9auXbt09epVPfzwwyotLVVLS4u2b9+uoaEh5eXladOmTZKurTuwZcsWDQwMyG63a+vWrTKbzbpw4YKKi4vV3d2tT33qU/L5fPrYxz4Wkc4BAABgahUVFamoqGhcW1ZWlhoaGiZsu2jRIu3bt29Ce0ZGhmpqaia0p6SkaM+ePZErFpgChk/5e/fdd1VeXq7q6mo1NDToD3/4g44cORKxdQcAAAAAINYZDlS//vWvtWzZMqWlpclisaiyslLz5s2L2LoDAAAAABDrDJ/yd+7cOVksFq1bt04XL17U3/zN3+iBBx6I2LoDAAAAABDrDAeqUCikN954QzU1NfroRz+q9evX6yMf+ciUrTtwKzebwjCW56mfSWLl+xgrdQAAAAA3MhyoPvGJTygrK0upqamSpL/927+N6LoDd+rGtQXuZp56PriPFwvrGEzXugO3W18AAAAAuBnD11A98sgjOnbsmHp7exUKhfSb3/xGubm5EVt3AAAAAABineEjVEuWLNG3v/1tFRQUKBgM6uGHH9aqVat03333RWTdAQAAAACIdXe1DtXjjz+uxx9/fFxbpNYdAAAAAIBYZ/iUPwAAAACY7QhUAAAAAGAQgQoAAAAADCJQAQAAAIBBBCoAAAAAMIhABQAAAAAGEagAAAAAwCACFQAAAAAYRKAComzXrl1yuVxyuVzasWOHJKmlpUVut1vZ2dmqrKwc2/bMmTPyeDzKycnRli1bNDIyIkm6cOGCCgsLlZubq/Xr12tgYECS1NvbqzVr1igvL0+FhYXq7Oyc/g4CAADEMQIVEEUtLS06duyYDhw4oLq6Ov3+979XY2OjSkpKVF1dLb/fr9OnT+vIkSOSpOLiYpWVlenQoUMKh8Oqra2VJG3dulUFBQUKBAJavHixqqurJUlVVVWy2+1qamrSihUrtG3btqj1FQAAIB4RqIAoslqt8nq9mjt3riwWi+6//361tbVp4cKFWrBggcxms9xutwKBgNrb2zU4OKilS5dKkjwejwKBgILBoE6ePKmcnJxx7ZLU3Nwst9stScrPz9fRo0cVDAaj01kAAIA4RKACouiBBx4YC0htbW1qamqSyWSS1Wod28Zms6mjo0OXLl0a1261WtXR0aHLly8rKSlJZrN5XLukcfuYzWYlJSWpp6dnuroHAAAQ98zRLgCA9Pbbb2vt2rXavHmzEhIS1NbWNnZfOByWyWTS6OioTCbThPYPvl7vxtvX7zNnzuT+jnLPPUmT2v52rNbkiGwzk9E/AADiB4EKiLLW1lZt2LBBJSUlcrlcOnHixLjJIzo7O2Wz2ZSWljauvaurSzabTampqerr61MoFFJCQsLY9tK1o1tdXV1KS0vTyMiIBgYGlJKSMqn6urv7NToantBu9ENzZ2ffh95vtSbfdpuZbLb2b84cU8TDOQAAsYBT/oAounjxop588kn5fD65XC5J0pIlS3T27FmdO3dOoVBIjY2NcjgcysjIUGJiolpbWyVJ9fX1cjgcslgsstvt8vv9kqS6ujo5HA5JktPpVF1dnSTJ7/fLbrfLYrFEoacAAADxiSNUQBS99NJLGhoaUkVFxVjbypUrVVFRoaKiIg0NDcnpdCo3N1eS5PP5VFpaqv7+fmVmZmr16tWSpPLycnm9Xu3evVvp6enauXOnJGnjxo3yer1yuVxKTk6Wz+eb/k4CAADEMQIVEEWlpaUqLS296X0NDQ0T2hYtWqR9+/ZNaM/IyFBNTc2E9pSUFO3Zs+fuCwUAAMBNccofAAAAABhEoAIAAAAAgwhUAAAAAGAQgQoAENd27doll8sll8ulHTt2SJJaWlrkdruVnZ2tysrKsW3PnDkjj8ejnJwcbdmyRSMjI5KkCxcuqLCwULm5uVq/fr0GBgYkSb29vVqzZo3y8vJUWFg4bmkDAMDsQKACAMStlpYWHTt2TAcOHFBdXZ1+//vfq7GxUSUlJaqurpbf79fp06d15MgRSVJxcbHKysp06NAhhcNh1dbWSpK2bt2qgoICBQIBLV68WNXV1ZKkqqoq2e12NTU1acWKFdq2bVvU+goAiA4CFQAgblmtVnm9Xs2dO1cWi0X333+/2tratHDhQi1YsEBms1lut1uBQEDt7e0aHBzU0qVLJUkej0eBQEDBYFAnT55UTk7OuHZJam5ultvtliTl5+fr6NGjCgaD0eksACAqmDYdABC3HnjggbH/t7W1qampSV//+tdltVrH2m02mzo6OnTp0qVx7VarVR0dHbp8+bKSkpJkNpvHtUsat4/ZbFZSUpJ6eno0f/78O67xnnuS7qqPN7JakyP6eLH+vEZRL4BIIVABAOLe22+/rbVr12rz5s1KSEhQW1vb2H3hcFgmk0mjo6MymUwT2j/4er0bb1+/z5w5kzv5o7u7X6Oj4QntRj9Ad3b2GdrvblityVF5XqPird45c0wRD+YA7hyn/AEA4lpra6v+4R/+Qd/97nf11a9+VWlpaeMmj+js7JTNZpvQ3tXVJZvNptTUVPX19SkUCo3bXrp2dKurq0uSNDIyooGBAaWkpExj7wAA0UagAgDErYsXL+rJJ5+Uz+eTy+WSJC1ZskRnz57VuXPnFAqF1NjYKIfDoYyMDCUmJqq1tVWSVF9fL4fDIYvFIrvdLr/fL0mqq6uTw+GQJDmdTtXV1UmS/H6/7Ha7LBZLFHoKAIgWTvkDAMStl156SUNDQ6qoqBhrW7lypSoqKlRUVKShoSE5nU7l5uZKknw+n0pLS9Xf36/MzEytXr1aklReXi6v16vdu3crPT1dO3fulCRt3LhRXq9XLpdLycnJ8vl8099JAEBUEagAAHGrtLRUpaWlN72voaFhQtuiRYu0b9++Ce0ZGRmqqamZ0J6SkqI9e/bcfaEAgBmLU/4AAAAAwCACFQAAAAAYFLen/CV/fJ4+khi33QMAAIgJu3btUlNTk6RrE7Vs3rxZLS0t2r59u4aGhpSXl6dNmzZJks6cOaMtW7ZoYGBAdrtdW7duldls1oULF1RcXKzu7m596lOfks/n08c+9jH19vbqe9/7nt59912lpqaqqqpq3HpxQCyI28TxkUSz3N+tn9Q+B3+8fIqqAQAAiD8tLS06duyYDhw4IJPJpG9/+9tqbGyUz+dTTU2N0tPTtXbtWh05ckROp1PFxcV6+umntXTpUpWUlKi2tlYFBQXaunWrCgoK5HK59Pzzz6u6ulrFxcWqqqqS3W7XCy+8oLq6Om3btk1VVVXR7jYwDqf8AQAAwBCr1Sqv16u5c+fKYrHo/vvvV1tbmxYuXKgFCxbIbDbL7XYrEAiovb1dg4ODWrp0qSTJ4/EoEAgoGAzqXV/jTgAAGFpJREFU5MmTysnJGdcuSc3NzXK73ZKk/Px8HT16VMFgMDqdBW6BQAUAAABDHnjggbGA1NbWpqamJplMpnGn5dlsNnV0dOjSpUvj2q1Wqzo6OnT58mUlJSXJbDaPa5c0bh+z2aykpCT19PRMV/eAOxK3p/wBAABgerz99ttau3atNm/erISEBLW1tY3dFw6HZTKZNDo6KpPJNKH9g6/Xu/H29fvMmTO54wH33JM0qe1vx2pNjujjRVqs12dULPcrIoHqmWee0eXLl1VRURGxixABAAAQ+1pbW7VhwwaVlJTI5XLpxIkT6uzsHLu/s7NTNptNaWlp49q7urpks9mUmpqqvr4+hUIhJSQkjG0vXTu61dXVpbS0NI2MjGhgYEApKSmTqq+7u1+jo+FxbXfz4byzs8/wvlPNak2O6fqMina/5swxfWgwv+tT/o4fP64DBw5IkgYHB1VSUqLq6mr5/X6dPn1aR44ckSQVFxerrKxMhw4dUjgcVm1trSSNXYQYCAS0ePFiVVdX321JAAAAmAYXL17Uk08+KZ/PJ5fLJUlasmSJzp49q3PnzikUCqmxsVEOh0MZGRlKTExUa2urJKm+vl4Oh0MWi0V2u11+v1+SVFdXJ4fDIenarIF1dXWSJL/fL7vdLovFEoWeArd2V4HqvffeU2VlpdatWydJOnXqVMQuQgQAAEBse+mllzQ0NKSKigotX75cy5cv1/79+1VRUaGioiItW7ZM9913n3JzcyVJPp9P27dvV25urq5cuaLVq1dLksrLy1VbW6tly5bpjTfe0FNPPSVJ2rhxo373u9/J5XLpl7/8pcrKyqLWV+BW7uqUv7KyMm3atEkXL16UpAkXG97NRYgAAACIbaWlpSotLb3pfQ0NDRPaFi1apH379k1oz8jIUE1NzYT2lJQU7dmz5+4LBaaQ4UD1yiuvKD09XVlZWdq/f78k3fJiw0hchHgrNzufMZYvWptJYuX7GCt1AAAAADcyHKj8fr86Ozu1fPlyvf/++7py5Yra29uVkJAwts3dXIR4p2680PCDi9b4EH73YuGixum6CPF2FxsCAAAAN2P4Gqq9e/eqsbFR9fX12rBhgx599FG9+OKLEbsIEQAAAABiXUTXoUpMTBy7CHFoaEhOp3PcRYilpaXq7+9XZmbmuIsQvV6vdu/erfT0dO3cuTOSJQEAAADAlIlIoPJ4PPJ4PJKkrKysiFyECAAAAACx7q7XoQIAAACA2YpABQAAAAAGEagAAAAAwCACFQAAAAAYRKACAAAAAIMIVAAAAABgEIEKAAAAAAwiUAEAAACAQQQqAAAAADCIQAUAAAAABhGoAAAAAMAgAhUAAAAAGESgAgAAAACDCFQAAAAAYBCBCgAAAAAMIlABAAAAgEHmaBcAAIg9yR+fp48kTv4tYjgYmoJqAACIXQQq3NRwMCSrNXnS+w0Ojaiv9+oUVARgOn0k0Sz3d+snvd/BHy+fgmoAAIhdBCrc1FxLguEPU31TUA8AAAAQi7iGCgAAAAAMIlABAAAAgEEEKgAAAAAwiECFiPpgMovJ/Ev++Lxolx11/f39ys/P1/nz5yVJLS0tcrvdys7OVmVl5dh2Z86ckcfjUU5OjrZs2aKRkRFJ0oULF1RYWKjc3FytX79eAwMDkqTe3l6tWbNGeXl5KiwsVGdn5/R3DgAAII4xKQUiyshkFrN9Ios333xTpaWlamtrkyQNDg6qpKRENTU1Sk9P19q1a3XkyBE5nU4VFxfr6aef1tKlS1VSUqLa2loVFBRo69atKigokMvl0vPPP6/q6moVFxerqqpKdrtdL7zwgurq6rRt2zZVVVVFt8MAAABxhCNUQJTV1taqvLxcNptNknTq1CktXLhQCxYskNlsltvtViAQUHt7uwYHB7V06VJJksfjUSAQUDAY1MmTJ5WTkzOuXZKam5vldrslSfn5+Tp69KiCwWAUegkAABCfOEIFRNm2bdvG3b506ZKsVuvYbZvNpo6OjgntVqtVHR0dunz5spKSkmQ2m8e13/hYZrNZSUlJ6unp0fz586e6WwAAALMCgQqIMaOjozKZTGO3w+GwTCbTLds/+Hq9G29fv8+cOZM7MH3PPUmT2v527mTBaCOLSs8k9A8AgPhBoAJiTFpa2rjJIzo7O2Wz2Sa0d3V1yWazKTU1VX19fQqFQkpISBjbXrp2dKurq0tpaWkaGRnRwMCAUlJSJlVPd3e/RkfDE9qNfmju7PzwK+as1uTbbjOTzZT+3U0ouln/5swxRTycAwAQC7iGCogxS5Ys0dmzZ3Xu3DmFQiE1NjbK4XAoIyNDiYmJam1tlSTV19fL4XDIYrHIbrfL7/dLkurq6uRwOCRJTqdTdXV1kiS/3y+73S6LxRKdjgFRxEyaAICpQqACYkxiYqIqKipUVFSkZcuW6b777lNubq4kyefzafv27crNzdWVK1e0evVqSVJ5eblqa2u1bNkyvfHGG3rqqackSRs3btTvfvc7uVwu/fKXv1RZWVnU+gVEy5tvvqlVq1ZNmEmzurpafr9fp0+f1pEjRyRJxcXFKisr06FDhxQOh1VbWytJYzNpBgIBLV68WNXV1ZI0NpNmU1OTVqxYMeGaSABA/OOUPyBGHD58eOz/WVlZamhomLDNokWLtG/fvgntGRkZqqmpmdCekpKiPXv2RLZQYIb5YCbNzZs3Sxo/k6aksZk0P/3pT0+YSfO5557TihUrdPLkST3//PNj7V//+tdVXFys5uZm/eIXv5B0bSbNf/3Xf1UwGORIMADMIgQqAEBcYyZNAMBUIlABAGYVZtKcGjNtdkfqBRApBCoAwKwy22fSnAozZfbKD8RbvcyiCUQXk1IAAGYVZtIEIo+ZNDGbEagAALMKM2kCkcVMmpjtOOUPADArMJMmMDWYSROz3V0dodq1a5dcLpdcLpd27NghKXKHeAEAABD7tm3bJrvdPnZ7OmbSBGKJ4SNULS0tOnbsmA4cOCCTyaRvf/vbamxslM/nU01NjdLT07V27VodOXJETqdTxcXFevrpp7V06VKVlJSotrZWBQUFY4d4XS6Xnn/+eVVXV6u4uDiSfUScSv74PH0kcXK/woNDI+rrvTpFFQEAAGbSjK5Yr8+oWO6X4UBltVrl9Xo1d+5cSdL999+vtra2iB3iBW7nI4lmub9bP6l9Dv54uWbOvE4AAMw8M2Emzbv5cB7LM0TOtBks71S0+3W7mTQNB6oHHnhg7P9tbW1qamrS17/+9Ygd4r1TN+tcLCdY3NyH/cwi/fPk9wMAgKlz/Uya9957rxobG/W1r31t3Eyan/vc5246k6bb7b7pTJrr1q1jJk3ErLuelOLtt9/W2rVrtXnzZiUkJIzN8CJF9hDvrdz4V4cPEiwfmmeWW/3V4cP+IhHJNVpYwwMAgMi4fibNoaEhOZ3OcTNplpaWqr+/X5mZmeNm0vR6vdq9e7fS09O1c+dOSddm0vR6vXK5XEpOTpbP54tav4BbuatA1draqg0bNqikpEQul0snTpyI2CFeAAAAzBzMpInZyvAsfxcvXtSTTz4pn88nl8slKbKLJQIAAABArDN8hOqll17S0NCQKioqxtpWrlwZsUO8AAAAABDrDAeq0tJSlZaW3vS+SBziBQAAAIBYd1cL+wIAAADAbEagAgAAAACDCFQAAAAAYBCBCgAAAAAMIlABAAAAgEEEKgAAAAAwiEAFAAAAAAYRqAAAAADAIAIVAAAAABhkjnYBwHAwJKs1+Zb3f9h9AAAAQDQRqBB1cy0Jcn+3ftL7Hfzx8imoBgAAALhzBCoAAOLE7Y7438rg0Ij6eq9OQUUAEP8IVAAAxIm7OeLfNwX1AMBswKQUAAAAAGAQgQoAAAAADCJQAQAAAIBBBCoAAAAAMIhABQAAAAAGEagAAAAAwCACFQAAAAAYRKACAAAAAIMIVAAAAABgEIEKAAAAAAwiUAEAAACAQQQqAAAAADCIQAUAAAAABhGoAAAAAMAgAhUAAAAAGESgAgAAAACDCFQAAAAAYBCBCgAAAAAMIlABAAAAgEEEKgAAAAAwiEAFAAAAAAYRqAAAAADAIHO0CwAAANE1HAzJak2e1D6DQyPq6706RRUBwMwRE4Hq4MGD2r17t0ZGRvTNb35ThYWF0S4JiCuMMWBqzfQxNteSIPd36ye1z8EfL1ffFNUD3GimjzHEt6gHqo6ODlVWVmr//v2aO3euVq5cqS984Qv69Kc/He3SgLjAGAOmFmMMmFqMMcS6qAeqlpYWffGLX1RKSookKScnR4FAQN/5znfuaP85c0y3bLP9v3mTrsfIPvH6XLFen9H9Pux3Jh5NxRj7QKS+/0a2mclmSv+MjkvGWHTH2HS9nt54muCdnDI4NDSi/v7BSdc2FWba7+SH1TvT+jJZsTbGYv37Hev1GRXNft3uuU3hcDg8TbXc1E9+8hNduXJFmzZtkiS98sorOnXqlP7t3/4tmmUBcYMxBkwtxhgwtRhjiHVRn+VvdHRUJtP/n/rC4fC42wDuDmMMmFqMMWBqMcYQ66IeqNLS0tTZ2Tl2u7OzUzabLYoVAfGFMQZMLcYYMLUYY4h1UQ9UX/rSl3T8+HH19PTo6tWr+tWvfiWHwxHtsoC4wRgDphZjDJhajDHEuqhPSjF//nxt2rRJq1evVjAY1OOPP66//uu/jnZZQNxgjAFTizEGTC3GGGJd1CelAAAAAICZKuqn/AEAAADATEWgAgAAAACDCFQAAAAAYBCBCgAAAAAMiptAdfDgQS1btkzZ2dn6xS9+MeXP19/fr/z8fJ0/f16S1NLSIrfbrezsbFVWVo5td+bMGXk8HuXk5GjLli0aGRmRJF24cEGFhYXKzc3V+vXrNTAwIEnq7e3VmjVrlJeXp8LCwnHrLtyJXbt2yeVyyeVyaceOHTFV27PPPqtly5bJ5XJp7969MVUbouuZZ56R1+uVdOvfiZnoG9/4hlwul5YvX67ly5frzTffjKv+HT58WB6PR3l5eXr66aclxdfPL1qm+/0sGu8bw8PDKi4uVl5enr761a/qnXfemXTdd/K6EQv1TmacxEK9s8F0j7HpcLNxHE+uH+8xKRwH/vznP4cfeeSR8OXLl8MDAwNht9sdfvvtt6fs+X73u9+F8/Pzw5mZmeF33303fPXq1bDT6Qz/6U9/CgeDwfC3vvWtcHNzczgcDoddLlf4//7v/8LhcDj8gx/8IPyLX/wiHA6Hw2vWrAk3NjaGw+FweNeuXeEdO3aEw+FweOvWreGf/OQn4XA4HD5w4EB448aNd1zX//7v/4b//u//Pjw0NBQeHh4Or169Onzw4MGYqO31118Pr1y5MhwMBsNXr14NP/LII+EzZ87ERG2IrpaWlvAXvvCF8Pe///0PHUszzejoaPjLX/5yOBgMjrXFU//+9Kc/hb/85S+HL168GB4eHg6vWrUq3NzcHDf9i5bpfj+L1vvGiy++GP7hD38YDofD4RMnToRXrFgxqbrv9HUj2vVOdpxEu97ZYLrH2HS42Tj+1a9+Fe2yIub68R6r4uIIVUtLi774xS8qJSVFH/3oR5WTk6NAIDBlz1dbW6vy8vKxVbpPnTqlhQsXasGCBTKbzXK73QoEAmpvb9fg4KCWLl0qSfJ4PAoEAgoGgzp58qRycnLGtUtSc3Oz3G63JCk/P19Hjx5VMBi8o7qsVqu8Xq/mzp0ri8Wi+++/X21tbTFR20MPPaSXX35ZZrNZ3d3dCoVC6u3tjYnaED3vvfeeKisrtW7dOkm3Hksz0R//+EdJ0re+9S195Stf0X/+53/GVf9+/etfa9myZUpLS5PFYlFlZaXmzZsXN/2Llul+P4vW+0Zzc7O+8pWvSJI+//nPq6enRxcuXLijmu/0dSMW6p3MOImFemeD6R5j0+Fm4zheft43jvdYFReB6tKlS7JarWO3bTabOjo6puz5tm3bJrvdftvnv7HdarWqo6NDly9fVlJSksxm87j2Gx/LbDYrKSlJPT09d1TXAw88MPZC3NbWpqamJplMppioTZIsFouee+45uVwuZWVlxcz3DdFTVlamTZs26eMf/7ik6R/LU6m3t1dZWVl6/vnn9bOf/Uz/9V//pQsXLsRN/86dO6dQKKR169Zp+fLl+uUvfxlXP79ome7vYbTeN272WH/+85/vqOY7fd2IhXonM05iod7ZIB5fp242jp1OZ5Sriowbx3usiotANTo6KpPJNHY7HA6Pux2t579V+83qu1W94XBYc+ZM7sf09ttv61vf+pY2b96sBQsWxFRtGzZs0PHjx3Xx4kW1tbXFVG2YXq+88orS09OVlZU11hbtsRxJn/3sZ7Vjxw4lJycrNTVVjz/+uJ577rm46V8oFNLx48f1ox/9SP/93/+tU6dO6d13342b/kVLtMbAdL9v3LjPnb5mT+Z1Ixbqncw4iYV6Z4N4ep+50fXj+JOf/GS0y7lrNxvvscoc7QIiIS0tTW+88cbY7c7OzrHT8abr+a+fBOGD57+xvaurSzabTampqerr61MoFFJCQsK4em02m7q6upSWlqaRkRENDAwoJSXljmtpbW3Vhg0bVFJSIpfLpRMnTsREbe+8846Gh4f14IMPat68ecrOzlYgEFBCQkLUa0N0+P1+dXZ2avny5Xr//fd15coVtbe33/R3YiZ64403FAwGx94IwuGwMjIybjoeZ6JPfOITysrKUmpqqiTpb//2b285pnHnovF+Fo33jfnz5+vSpUv6q7/6q3GPdTuTed2IhXonM05iod7ZINqfGafKjeM4HtxsvP/oRz9SSUlJtEubIC7+XPGlL31Jx48fV09Pj65evapf/epXcjgc0/b8S5Ys0dmzZ8cO7Tc2NsrhcCgjI0OJiYlqbW2VJNXX18vhcMhischut8vv90uS6urqxup1Op2qq6uTdO0XyW63y2Kx3FEdFy9e1JNPPimfzzc2mGKltvPnz6u0tFTDw8MaHh7Wa6+9ppUrV8ZEbYiOvXv3qrGxUfX19dqwYYMeffRRvfjiizf9nZiJ+vr6tGPHDg0NDam/v18HDhzQP//zP8dN/x555BEdO3ZMvb29CoVC+s1vfqPc3Ny46V+0TPf7WbTeN5xOp+rr6yVd++NDYmKi/vIv//K29U7mdSMW6p3MOImFemeDaH9mnAo3G8fx4GbjPRbDlCSZwuFwONpFRMLBgwf1k5/8RMFgUI8//rieeOKJKX/ORx99VC+//LLuvfdeHT9+XNu3b9fQ0JCcTqd+8IMfyGQy6a233lJpaan6+/uVmZmp7du3a+7cuWpvb5fX61V3d7fS09O1c+dO/cVf/IXee+89eb1evfvuu0pOTpbP59O99957R/U8/fTTevXVV8f+IiVJK1eu1Cc/+cmo1yZJ//Ef/6GmpiYlJCQoOztbRUVFMfF9Q/Tt379fJ06cUEVFxS1/J2aiqqoqHTp0SKOjoyooKNA3v/nNuOrfvn379LOf/UzBYFAPP/ywSktL9frrr8dN/6JlOt/PovW+MTQ0pLKyMp0+fVpz587V008/rczMzEnVfievG7FQ72TGSSzUOxtE4zPjVLrVOF61alUUq4qs68d7LIqbQAUAAAAA0y0uTvkDAAAAgGggUAEAAACAQQQqAAAAADCIQAUAAAAABhGoAAAAAMS1/v5+5efn6/z58x+63R//+Ed94xvf0Fe+8hX90z/9k95///3bPjaBCgAAAEDcevPNN7Vq1Sq1tbV96HbhcFjr16/XE088oYaGBj344IN64YUXbvv45gjVCQAAAAAxp7a2VuXl5dq8efNYW11dnX7+859rdHRUmZmZKi8v19tvv62PfvSjY4s9r1u3Tr29vbd9fNahAgAAABD3Hn30Ub388su6evWqysvLtXfvXiUmJurHP/6x5s2bp09+8pM6cOCArFarzpw5o/vuu08//OEPlZKS8qGPyyl/AAAAAGaN119/XefOndPf/d3fafny5Xrttdf0xz/+USMjIzpx4oRWrVqlAwcOaMGCBaqoqLjt43HKHwAAAIBZIxQKKS8vT6WlpZKkgYEBhUIh/f73v9fChQv1mc98RpKUn5+vDRs23PbxOEIFAAAAYNb4whe+oF//+tfq7u5WOBzWv/zLv+jnP/+5PvvZz6qnp0dvvfWWJOnw4cPKzMy87eNxhAoAAADArLFo0SJ95zvf0Te/+U2Njo7qwQcf1Jo1a5SYmKjnn39epaWlunr1qtLS0rRjx47bPh6TUgAAAACAQZzyBwAAAAAGEagAAAAAwCACFQAAAAAYRKACAAAAAIMIVAAAAABgEIEKAAAAAAwiUAEAAACAQQQqAAAAADDo/wPlHGI600RnuQAAAABJRU5ErkJggg==\n",
      "text/plain": [
       "<Figure size 864x720 with 8 Axes>"
      ]
     },
     "metadata": {},
     "output_type": "display_data"
    }
   ],
   "source": [
    "f, ((ax1, ax2, ax3, ax4,), (ax5, ax6, ax7, ax8)) = plt.subplots(2, 4, figsize=(12,10))\n",
    "sns.set(style='darkgrid')\n",
    "ax1.hist(df2['score_3'])\n",
    "ax1.set_title('score_3 with outliers', fontsize=12)\n",
    "ax2.hist(df2['score_4'])\n",
    "ax2.set_title('score_4 with outliers', fontsize=12)\n",
    "ax3.hist(df2['score_6'])\n",
    "ax3.set_title('score_6 with outliers', fontsize=12)\n",
    "ax4.hist(df2['risk_rate'])\n",
    "ax4.set_title('risk_rate with outliers', fontsize=12)\n",
    "ax5.hist(df2['amount_borrowed'])\n",
    "ax5.set_title('amount_borrowed with outliers', fontsize=12)\n",
    "ax6.hist(df2['borrowed_in_months'])\n",
    "ax6.set_title('borrowed_in_months with outliers', fontsize=12)\n",
    "ax7.hist(df2['credit_limit'])\n",
    "ax7.set_title('credit_limit with outliers', fontsize=12)\n",
    "ax8.hist(df2['income'])\n",
    "ax8.set_title('income with outliers', fontsize=12)\n",
    "f.tight_layout()\n",
    "plt.show()"
   ]
  },
  {
   "cell_type": "code",
   "execution_count": 30,
   "metadata": {},
   "outputs": [
    {
     "data": {
      "image/png": "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\n",
      "text/plain": [
       "<Figure size 864x720 with 8 Axes>"
      ]
     },
     "metadata": {},
     "output_type": "display_data"
    }
   ],
   "source": [
    "f, ((ax9, ax10, ax11, ax12), (ax13, ax14, ax15, ax16)) = plt.subplots(2, 4, figsize=(12,10))\n",
    "sns.set(style='darkgrid')\n",
    "ax9.hist(df2['ok_since'])\n",
    "ax9.set_title('ok_since with outliers', fontsize=12)\n",
    "ax10.hist(df2['n_bankruptcies'])\n",
    "ax10.set_title('n_bankruptcies with outliers', fontsize=12)\n",
    "ax11.hist(df2['n_defaulted_loans'])\n",
    "ax11.set_title('n_defaulted_loans with outliers', fontsize=12)\n",
    "ax12.hist(df2['time_loan_to_payment'])\n",
    "ax12.set_title('time_loan_to_payment with outliers', fontsize=12)\n",
    "ax13.hist(df2['n_accounts'])\n",
    "ax13.set_title('n_accounts with outliers', fontsize=12)\n",
    "ax14.hist(df2['n_issues'])\n",
    "ax14.set_title('n_issues with outliers', fontsize=12)\n",
    "ax15.hist(df2['score_5'])\n",
    "ax15.set_title('score_5 with outliers', fontsize=12)\n",
    "f.tight_layout()\n",
    "plt.show()"
   ]
  },
  {
   "cell_type": "markdown",
   "metadata": {},
   "source": [
    "#### 3.2 Inpecting the degree of skewness and tailedness in each feature (which feature has a normal distribution?)"
   ]
  },
  {
   "cell_type": "markdown",
   "metadata": {},
   "source": [
    "Calculating the skew (a measure of symmetry) for each fetaure."
   ]
  },
  {
   "cell_type": "code",
   "execution_count": 31,
   "metadata": {},
   "outputs": [
    {
     "data": {
      "text/plain": [
       "score_4                 -0.015951\n",
       "score_6                 -0.012761\n",
       "score_5                  0.007547\n",
       "score_3                  0.333327\n",
       "risk_rate                0.485219\n",
       "ok_since                 0.673148\n",
       "amount_borrowed          0.820532\n",
       "n_accounts               0.950064\n",
       "time_loan_to_payment     1.005173\n",
       "n_issues                 1.103287\n",
       "borrowed_in_months       1.541456\n",
       "credit_limit             3.357284\n",
       "n_bankruptcies           3.966369\n",
       "income                  19.905790\n",
       "n_defaulted_loans       21.836529\n",
       "dtype: float64"
      ]
     },
     "execution_count": 31,
     "metadata": {},
     "output_type": "execute_result"
    }
   ],
   "source": [
    "df2.drop('default', axis=1).skew().sort_values()"
   ]
  },
  {
   "cell_type": "markdown",
   "metadata": {},
   "source": [
    "Calculating the Kurtosis (a measure of tailedness) for each feature"
   ]
  },
  {
   "cell_type": "code",
   "execution_count": 32,
   "metadata": {},
   "outputs": [
    {
     "data": {
      "text/plain": [
       "score_5                   -1.197337\n",
       "score_6                   -0.000446\n",
       "score_4                    0.012716\n",
       "score_3                    0.128177\n",
       "amount_borrowed            0.131441\n",
       "risk_rate                  0.316470\n",
       "borrowed_in_months         0.376099\n",
       "time_loan_to_payment       0.880317\n",
       "n_accounts                 1.666215\n",
       "ok_since                   2.352053\n",
       "n_issues                   3.253593\n",
       "credit_limit              23.197213\n",
       "n_bankruptcies            23.608648\n",
       "n_defaulted_loans        665.023834\n",
       "income                  1484.441185\n",
       "dtype: float64"
      ]
     },
     "execution_count": 32,
     "metadata": {},
     "output_type": "execute_result"
    }
   ],
   "source": [
    "df2.drop('default', axis=1).kurt().sort_values()"
   ]
  },
  {
   "cell_type": "markdown",
   "metadata": {},
   "source": [
    "The features \"credit_limit\" , \"n_bankruptcies\", \"n_defaulted_loans\" and \"income\" deviate significantly from 0 kurtosis and have some degree of skewness, which means that the distribution of theses features deviate from a normal (Gaussian) distribution."
   ]
  },
  {
   "cell_type": "markdown",
   "metadata": {},
   "source": [
    "Removing the feature \"score_5\", since the distribution is almost uniform and will not affect the result."
   ]
  },
  {
   "cell_type": "code",
   "execution_count": 33,
   "metadata": {},
   "outputs": [],
   "source": [
    "df2_clean = df2.drop(columns = ['score_5'])"
   ]
  },
  {
   "cell_type": "code",
   "execution_count": 34,
   "metadata": {},
   "outputs": [
    {
     "data": {
      "text/plain": [
       "Index(['default', 'score_3', 'score_4', 'score_6', 'risk_rate',\n",
       "       'amount_borrowed', 'borrowed_in_months', 'credit_limit', 'income',\n",
       "       'ok_since', 'n_bankruptcies', 'n_defaulted_loans', 'n_accounts',\n",
       "       'n_issues', 'time_loan_to_payment'],\n",
       "      dtype='object')"
      ]
     },
     "execution_count": 34,
     "metadata": {},
     "output_type": "execute_result"
    }
   ],
   "source": [
    "df2_clean.columns"
   ]
  },
  {
   "cell_type": "markdown",
   "metadata": {},
   "source": [
    "## 4 Dealing with Outliers\n",
    "\n",
    "#### 4.1 Removing the outliers using the Z-score"
   ]
  },
  {
   "cell_type": "markdown",
   "metadata": {},
   "source": [
    "In ordet to simplify the analysis, we are going to applying this method only for the features that have high degree of normality (gaussian). Thus, we do not need to transform the distribution that are not gaussian."
   ]
  },
  {
   "cell_type": "code",
   "execution_count": 35,
   "metadata": {},
   "outputs": [],
   "source": [
    "from scipy import stats as st\n",
    "list = ['score_3', 'score_4', 'score_6', 'risk_rate']\n",
    "#df_numeric = df2_clean.select_dtypes(include=[np.number])\n",
    "z = np.abs(st.zscore(df2_clean[list]))\n",
    "filtered_entries = (z < 3.0).all(axis=1)\n",
    "new_df2 = df2_clean[filtered_entries]"
   ]
  },
  {
   "cell_type": "code",
   "execution_count": 36,
   "metadata": {},
   "outputs": [
    {
     "data": {
      "text/plain": [
       "59084"
      ]
     },
     "execution_count": 36,
     "metadata": {},
     "output_type": "execute_result"
    }
   ],
   "source": [
    "len(new_df2)"
   ]
  },
  {
   "cell_type": "code",
   "execution_count": 37,
   "metadata": {},
   "outputs": [
    {
     "data": {
      "text/plain": [
       "59966"
      ]
     },
     "execution_count": 37,
     "metadata": {},
     "output_type": "execute_result"
    }
   ],
   "source": [
    "len(df2_clean)"
   ]
  },
  {
   "cell_type": "code",
   "execution_count": 38,
   "metadata": {},
   "outputs": [
    {
     "name": "stdout",
     "output_type": "stream",
     "text": [
      "The percentage of removed data by z-score was 1.47%\n"
     ]
    }
   ],
   "source": [
    "x = 100*(len(df2)-len(new_df2))/len(df2_clean)\n",
    "print(\"The percentage of removed data by z-score was %.2f%%\" %x)"
   ]
  },
  {
   "cell_type": "code",
   "execution_count": 39,
   "metadata": {},
   "outputs": [
    {
     "data": {
      "image/png": "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\n",
      "text/plain": [
       "<Figure size 936x720 with 8 Axes>"
      ]
     },
     "metadata": {},
     "output_type": "display_data"
    }
   ],
   "source": [
    "f, ((ax1, ax2, ax3, ax4),((ax5, ax6, ax7, ax8))) = plt.subplots(2, 4, figsize=(13,10))\n",
    "\n",
    "sns.set(style='darkgrid')\n",
    "ax1.boxplot(df2_clean['score_3'])\n",
    "ax1.set_title('score_3 with outliers', fontsize=15)\n",
    "ax2.boxplot(df2_clean['score_4'])\n",
    "ax2.set_title('score_4 with outliers', fontsize=15)\n",
    "ax3.boxplot(df2_clean['score_6'])\n",
    "ax3.set_title('score_6 with outliers', fontsize=15)\n",
    "ax4.boxplot(df2_clean['risk_rate'])\n",
    "ax4.set_title('risk_rate with outliers', fontsize=15)\n",
    "\n",
    "ax5.boxplot(new_df2['score_3'])\n",
    "ax5.set_title('score_3 without outliers (z-score)', fontsize=13)\n",
    "ax6.boxplot(new_df2['score_4'])\n",
    "ax6.set_title('score_4 without outliers (z-score)', fontsize=13)\n",
    "ax7.boxplot(new_df2['score_6'])\n",
    "ax7.set_title('score_6 without outliers (z-score)', fontsize=13)\n",
    "ax8.boxplot(new_df2['risk_rate'])\n",
    "ax8.set_title('risk_rate without outliers (z-score)', fontsize=13)\n",
    "f.tight_layout()\n",
    "plt.show()"
   ]
  },
  {
   "cell_type": "markdown",
   "metadata": {},
   "source": [
    "#### 4.2 Removing the outliers using Quantiles (IQR score)"
   ]
  },
  {
   "cell_type": "markdown",
   "metadata": {},
   "source": [
    "Applying this method only for the features that have high degree of normality."
   ]
  },
  {
   "cell_type": "code",
   "execution_count": 40,
   "metadata": {},
   "outputs": [
    {
     "name": "stdout",
     "output_type": "stream",
     "text": [
      "default                     0.000000\n",
      "score_3                   150.000000\n",
      "score_4                     4.268460\n",
      "score_6                    13.439155\n",
      "risk_rate                   0.140000\n",
      "amount_borrowed         10810.520000\n",
      "borrowed_in_months          0.000000\n",
      "credit_limit            17759.750000\n",
      "income                  41010.472500\n",
      "ok_since                    0.000000\n",
      "n_bankruptcies              0.000000\n",
      "n_defaulted_loans           0.000000\n",
      "n_accounts                  6.000000\n",
      "n_issues                    3.000000\n",
      "time_loan_to_payment      794.000000\n",
      "dtype: float64\n"
     ]
    }
   ],
   "source": [
    "Q1 = new_df2.quantile(0.25)\n",
    "Q3 = new_df2.quantile(0.75)\n",
    "IQR = Q3 - Q1\n",
    "print(IQR)\n",
    "list2 = ['score_3', 'score_4', 'score_6', 'risk_rate']"
   ]
  },
  {
   "cell_type": "code",
   "execution_count": 41,
   "metadata": {},
   "outputs": [
    {
     "data": {
      "text/plain": [
       "amount_borrowed           0\n",
       "borrowed_in_months        0\n",
       "credit_limit              0\n",
       "default                   0\n",
       "income                    0\n",
       "n_accounts                0\n",
       "n_bankruptcies            0\n",
       "n_defaulted_loans         0\n",
       "n_issues                  0\n",
       "ok_since                  0\n",
       "risk_rate               560\n",
       "score_3                 561\n",
       "score_4                 794\n",
       "score_6                 788\n",
       "time_loan_to_payment      0\n",
       "dtype: int64"
      ]
     },
     "execution_count": 41,
     "metadata": {},
     "output_type": "execute_result"
    }
   ],
   "source": [
    "outliers = ((new_df2[list2] < (Q1 - 1.3 * IQR)) | (new_df2[list2] > (Q3 + 1.3 * IQR)))\n",
    "outliers.sum()\n",
    "#Number of outliers per column"
   ]
  },
  {
   "cell_type": "code",
   "execution_count": 42,
   "metadata": {},
   "outputs": [
    {
     "data": {
      "text/plain": [
       "2703"
      ]
     },
     "execution_count": 42,
     "metadata": {},
     "output_type": "execute_result"
    }
   ],
   "source": [
    "outliers.sum().sum()\n",
    "#Total number of outliers"
   ]
  },
  {
   "cell_type": "code",
   "execution_count": 43,
   "metadata": {},
   "outputs": [],
   "source": [
    "df_out = new_df2[~outliers.any(axis=1)]"
   ]
  },
  {
   "cell_type": "code",
   "execution_count": 44,
   "metadata": {},
   "outputs": [
    {
     "data": {
      "text/plain": [
       "56419"
      ]
     },
     "execution_count": 44,
     "metadata": {},
     "output_type": "execute_result"
    }
   ],
   "source": [
    "len(df_out)"
   ]
  },
  {
   "cell_type": "code",
   "execution_count": 45,
   "metadata": {},
   "outputs": [
    {
     "name": "stdout",
     "output_type": "stream",
     "text": [
      "The percentage of removed data by IQR score was 4.51%\n"
     ]
    }
   ],
   "source": [
    "x = 100 - 100*(len(df_out)/len(new_df2))\n",
    "\n",
    "print(\"The percentage of removed data by IQR score was %.2f%%\" %x)"
   ]
  },
  {
   "cell_type": "code",
   "execution_count": 46,
   "metadata": {},
   "outputs": [
    {
     "data": {
      "image/png": "iVBORw0KGgoAAAANSUhEUgAABCwAAAFcCAYAAAADCC/2AAAABHNCSVQICAgIfAhkiAAAAAlwSFlzAAALEgAACxIB0t1+/AAAADh0RVh0U29mdHdhcmUAbWF0cGxvdGxpYiB2ZXJzaW9uMy4yLjEsIGh0dHA6Ly9tYXRwbG90bGliLm9yZy+j8jraAAAgAElEQVR4nOzdeViU9f7/8dcoapqaaTNS6iFbEEMWl1RSQS0RVNSwxTxKtvh1C4vOz+UgSWoGdSwqyzpmx45bSe6aoZVF+cU0rTQTKxdwKWFASzFBhc/vjy7nK4oCCsyMPR/X1XV53/dn7s/7BuYdvOezWIwxRgAAAAAAAC6kmrMDAAAAAAAAOB8FCwAAAAAA4HIoWAAAAAAAAJdDwQIAAAAAALgcChYAAAAAAMDlULAAAAAAAAAuh4LFVeTw4cMaM2aM2rdvr3bt2ikmJkZZWVkVcu8JEyZo6NChjuPPP/9cu3fvliQdPHhQLVq00JYtWyqkr4v59ttvtXXr1krt41LPNWTIEE2cOLFS+weq2nfffac77rhDmzZtqpD7kSvIFbi6fPDBB+rZs6f8/f0VGRmpjRs3Vsh9yRXkCpSuRYsWWrFiRantquo9c77du3fr888/r5K+ZsyYoR49ejiOz3//lvVrdSWq4nkv9Vzn582/CgoWVwljjP7nf/5Hx44d09y5czV//nzZ7XaNHDmyQu4/ceJEvfrqq5KkrKwsDR8+XLm5uRVy77IaPHiwMjMzK+3+pT3XjBkz9M9//rPS+geq2h9//KFx48apsLCwwu5JriBX4OqxbNkyTZ48WcOGDdOqVat05513atSoUTp48OAV35tcQa5A6TZs2KCwsDBnh3FRo0aN0vfff18lfT366KNatGiR47iy378lqYrnvdRznZs3/0o8nB0AKkZOTo5uvfVW/eMf/1DTpk0lSUOHDtXo0aP1+++/67rrrrui+9erV8/xb2PMFd3rclV2v6Xdv0GDBpXaP1DVEhMT1bhx4wr9Hz65glyBq4MxRjNmzNCwYcN03333SZLGjx+vr776St9++63jd43LRa4gV6B0VqvV2SFcUlW+d6+99lpde+21Tum7Kvu8VB/n5s2/EkZYXMTSpUsVHh6uVq1aqVu3bnrttddUVFTkuJ6amqr7779fAQEB6t69u2bPnu24dvToUU2aNEldunRRQECAHn74Ye3cudNxfciQIZo0aZIiIyN15513av369SoqKtJbb72lbt26KTAwUAMGDFBqamqZ47VarUpKSnL8AnH48GEtWrRIfn5+JRYrPvnkE/n6+iovL89xrlu3bnrkkUccx9u3b9cdd9yho0ePFhuCFBISIkmKiorShAkTHO2/+eYbRUZGqlWrVgoPD9dnn33muHbmzBm9/fbbCg0NlZ+fnyIiIrRmzRrH9fOHeZ1/rnv37iosLNQ///lPDRkypMSvwcmTJzV9+nR1795dfn5+uv/++4sNXS1pGFVZnuus84dubtmyRQMHDpS/v7/uvvtuvfTSSyooKHBcb9GihV599VUFBwcrODhYdru91J8ruB93yxXnxvX5558rLi7uku3IFReeI1fgcrhbrti7d68OHTqkXr16Oc5Vq1ZNK1asUERExAXtyRUXniNXoDxK+v6eOx1g7969evTRR9WmTRu1bdv2kqOd0tPT1b59eyUkJJSp702bNsnPz08zZ85U+/btHe+JtWvXasCAAfL391dAQIAGDhyo7du3S/rz53f//v16/fXX1b17d0nSqVOnlJiYqM6dO6tNmzYaPHiwvvvuuxL73LVrl1q0aKE9e/Y4zv39739XaGio4zg3N1c+Pj5KT08v0/t3z549GjJkiPz8/NS9e3ctXry4WJ+LFy9Wnz595O/vrx49emj+/PmOa0uXLtUdd9xRrP2550p63vNVdl46P+f89NNPeuyxxxQQEKDg4GBNmjRJx44dc1zv3r27XnjhBfXs2VMdO3bUDz/8oM8//1z9+/eXv7+/OnfurKlTpxbLMy7J4ALp6enG19fXrF271hw6dMisW7fO+Pv7m2XLlhljjPnmm2+Mj4+PSUpKMnv37jXr1q0zgYGBZtGiRebMmTOmf//+pn///mbLli1m165d5sknnzStW7c2Bw4cMMYYM3jwYOPj42M++ugjk56ebo4fP25efPFF06NHD/PFF1+YjIwMM2/ePNOqVSvz1VdflTv+kSNHGm9vb3PnnXea9PT0Etv88ccfxs/Pz3zyySfGGGP27dtnWrRoYQICAsypU6eMMcbMmDHDDBo0yBhjzPjx483DDz9sjDHmhx9+MN7e3mbt2rXm2LFj5sCBA8bb29t06dLFfPHFF2bfvn0mOjraBAYGmj/++MMYY8zUqVNNhw4dzEcffWT27t1r3nzzTdOiRQuTkpJijDHmtddeM/fcc0+xGM89l5uba1q2bGneffddc/To0RKfafjw4aZ79+7miy++MLt37zZTp041d9xxh/nuu+8ueIazyvJcX3/9tTHmz+9bbGysMcaYnTt3Gn9/fzN79myTkZFh0tLSTO/evc2ECRMc9/b29jadOnUyO3fuNNu2bSv15wrux11zRW5urunUqZNJTU01v/76q/H29r7o68kVpszPRa7Axbhjrvjkk0+Mt7e32bJlixkyZIjp2LGjGTRokNm6dWuJ7ckVpszPRa5ASc7//p49t3z5cmOMMffee6+ZOHGiycjIMOnp6WbgwIFmyJAhxhhT7Gfr559/Nh06dDAJCQll7vurr74y3t7eJioqymRkZJhdu3aZbdu2GR8fHzN//nxz4MABs23bNvPggw+avn37GmOMOXr0qOnWrZtJTEw0ubm5xhhjnnzySRMZGWm+/vprs3fvXjNjxgzj5+dn9u7dW2K/ISEh5r///a8xxpgTJ04YX19f4+3tbQ4fPmyMMWbZsmWma9euxpjS37/e3t6mTZs25sMPPzT79+83U6dONT4+Pmb//v3GGGP+85//GH9/f5OcnGz27dtn3nvvPePn52feeecdY4wxS5YsMS1btiwW37nnSnre81VGXjr3Z+Dc/HL48GHTvn17k5iYaPbs2WO+/fZb89BDDzl+Jowxplu3biYgIMBs2rTJfPfddyYnJ8f4+vqa9957zxw8eNCkpaWZjh07mhkzZpT4PK6CERYlOHDggCwWi2666SbddNNN6tGjh+bMmaP27dtLkubNm6d27drpqaeeUvPmzdWjRw/Fx8erdu3a2rBhg3bu3KmXX35Zbdu2VYsWLfTiiy+qfv36WrBggaMPf39/hYWFycfHRxaLRXPnzlVsbKy6dOkiLy8vDR48WP369dOsWbPKHf+YMWP0wQcfqE2bNnrkkUdKXHizdu3aat++vdLS0iRJaWlp6tSpk4wxjrlZX375ZYkVxIYNG0qSrrvuumJDk5544gl16dJFN998s0aMGKE//vhDe/fuVV5ent577z3FxMQoLCxMzZs314gRIxQWFlbm5zvbZ7169UocQrl792599tlnmjx5srp06aJbb71VcXFx8vX11TvvvFOuPs5/rpK88847CgkJ0WOPPSYvLy8FBQVp8uTJWrp0qbKzsx3t7r33XrVs2VL+/v6l/lzB/bhrroiPj1f37t0VHBxcaltyxcX7IFegrNwxV5wdKTFhwgTdf//9mj17tm6//XY9/PDDxT4RPYtccfE+yBUoq3O/v+fLzMzU9ddfryZNmsjHx0f/+te/9PTTTxdrs3//fg0dOlT33ntviaN6SvP444/Ly8tLLVq0UI0aNRQfH6+///3vatq0qfz9/XX//ffrp59+kvTnlKbq1aurTp06atiwoTIzM/XRRx8pMTFR7dq1U/PmzfXEE0+obdu2mjNnTon9hYSEOHLG119/rZtvvll/+9vftHnzZknSF198oW7dul3wuou9fwcPHqxevXqpWbNmio6OVlFRkdLT02WM0ezZs/Xwww/r/vvv180336yBAwdqyJAhevvtt8s01eP85z1fVeSlcy1cuFBNmzbV+PHjdcsttygwMFBJSUnatGmTvv32W0e77t27q3379goICFBWVpZOnz4tT09PNWnSREFBQZo9e7Z69+5dpvichTUsSnB2yOWAAQPk5eWlzp07q1evXrrpppsk/Tn85vxf9Pv37y9Jevvtt3X99derefPmjms1a9aUv7+/fv75Z8e5c+d+7tmzR6dOndKTTz6patX+r4Z0+vRp3XDDDeWO38fHR5KUlJSkrl27atmyZRoxYsQF7bp16+YYCvXVV1+pU6dOOnXqlDZv3qzmzZtr+/btSkxMLHO/N998s+Pf9evXlyTl5+dr7969OnPmjNq0aVOs/dlhqxXhbPI8v4+2bdtWymq+6enpyszMVOvWrR3nzia7PXv2yGazSZKaNWvmuF7azxXcjzvmimXLlmnnzp1auXJlmZ+TXHH5yBWQ3DNX1KhRQ5I0YsQIxxSQO+64Q1u3btV7771X4nQycsXlI1dAKv79Pd+TTz6pF154QQsXLlTHjh3VtWvXC6ZnxcfH6/Tp02rSpMkV99+yZUvVq1dP//73v7V7925lZmYqPT39olOOzk5Te+CBB4qdP3XqlE6dOlXia7p166ann35aZ86c0VdffaUOHTroxIkT2rx5s3r16qX//d//1UsvvVTm+M/NGWenxOfn5+vIkSPKyckpMWfMnj27Qhb8rYq8dK709HSlp6cXyxln7dmzx3H+/O9peHi4hg8fLk9PT3Xq1Ek9evQosSjkSihYlOCaa67R/Pnz9f333+uLL77Ql19+qYULF+of//iHhg0bJg+Pi3/ZatWqVeL5oqKiYq+75pprHP+uWbOmpD/nMHl5eRV73bm/aFxKTk6ONm3aVKxCVrt2bTVr1uyiW5t269ZNU6ZM0S+//KJNmzY5Pr3YvHmzmjRpIi8vr2K/IJWmpFiNMY7nO19hYeElv5Znzpwpc99nv+7nV0jP/7pfSR/nqlGjhvr3769hw4ZdcO3cBZLO/Xko7ecK7scdc8XSpUuVlZWlzp07S/q/98ywYcPUv39/TZky5YLXkCvIFbgy7pgrzv6B7O3t7ThnsVh0yy23XHTePLmCXIErc7H3u/TnWii9evXSZ599prS0NCUkJGjhwoXFds544IEH1LhxY7300kvq1q1buQsX5+aRr776SsOGDdPdd9+tNm3aaMCAAcrIyFB8fHyJrz1b5Hz//feL3UfSRd+zQUFBKioq0nfffaeNGzdq9OjROnHihN58801t27ZNp0+fLteIoYvljIt9Xc/uknax93R5dlGrirx0rho1aqhTp04lFo/PHQFy7rNbLBa98soreuKJJ5SamqoNGzZo9OjReuCBB/Tss89eVhxVgSkhJfjf//1fvfHGG/Lz89Po0aP1/vvva+DAgVq2bJkk6dZbb9WOHTuKvSYpKUmjRo3S7bffrqNHj2rv3r2Oa6dOndL333+v2267rcT+vLy8VKNGDWVlZcnLy8vx36pVq7R06dIyxfzLL7/o6aefLrbVzvHjx7Vv376L9nvTTTfJ29tb//nPfyT9OTIjKChI33zzjT7++OOLLihjsVjKFNNZN998s2rUqHHBXudbt251xFajRg2dOHGi2PXzdy64VL+33367pD8X6DrXN998U6yPcxcDO7+P8jzXbbfdpj179hT7fh05ckQvvPDCBc9xVmk/V3A/7pgrpk+frg8//FDLly/X8uXLHQv7Pffcc3ryySdLfA25glyBK+OOucLX11d16tQp9nuFMUZ79uy56KfA5ApyBSrH0aNHNXXqVJ05c0b333+/kpKS9O6772rnzp3atWuXo114eLgeffRRNW3aVJMmTbqiPhcuXKhOnTrplVdeUVRUlDp27KhDhw5J+r9C3rk/42ffM7m5ucV+jt999119+umnJfZRq1YtdezYUR999JF+/vlntW/fXkFBQcrIyNCiRYvUpUuXixYCyvP+qlu3rjw9PUvMGVarVdddd51q1KihwsJCnTx50nE9IyOjzH1WRV4619mccdNNNzm+1tWqVdPzzz+vX3/9tcTXfP/990pISNBtt92mxx57THPmzFFMTIzL5wwKFiWoUaOG3njjDc2dO1cHDhzQt99+q02bNikgIEDSn/sAf/3115o5c6YyMzO1du1azZ07V927d1fHjh3VunVr/b//9/+0detW/fTTT/rnP/+pY8eO6cEHHyyxv9q1a2vo0KF66aWXtGbNGh04cEBz587VG2+8ccmhYedq1aqV2rVrp7i4OG3fvl07d+7UU089pYYNGzqGlZaka9euWrRoke68805Vq1ZNAQEBslgsl/zF4uyWQj/++KOOHj1aamzXXHONHnnkEb3yyitKSUlRRkaGZs2apXXr1jlWDw8MDFRubq7effddHTx4UAsXLtQXX3xxQb+7d+8ucdjW3/72N/Xu3VvPPvusNmzYoD179ighIUE//PCDoqKiHH3s3LlTH374oQ4cOKDXX3/dMeSzvM81bNgwbd++XQkJCdqzZ482b96s8ePH6/jx4xfdgqq0nyu4H3fMFY0bNy72i8TZYeSNGzdWo0aNLvo6cgW5ApfPHXNF7dq19fDDD+uVV17RunXrlJGRoYSEBO3fv18PPfTQRV9HriBXoOJdd911+uKLLzRp0iTt2rVLmZmZWrp0qerXr3/BqCUPDw9NnTpVaWlpWrJkyWX32bBhQ/3444/67rvvdODAAc2bN0///e9/JckxxePaa69VRkaGozjaq1cvPfPMM0pNTdX+/fuVlJSk999/X7feeutF++natauSk5Pl7e2t6667To0bN1bz5s21cuXKi+aMs31f7P1bkpEjR2ru3Ln64IMPlJmZqeTkZM2fP19Dhw6VxWJRYGCgLBaLXnvtNR08eFBr1qy54A/5c5/3fFWRl841ePBgHTt2TBMmTNCPP/6o77//Xk8//bQyMjKKTY05V7169bRgwQK9/PLL2r9/v9LT0/XZZ5+VuGaKS6nqVT7dxbJly0zv3r2Nn5+fCQoKMs8884w5fvy44/rHH39sIiIijK+vr7n77rsdK9waY4zdbjdPP/20adu2rQkMDDSPPPKI2blzp+P6uatCn3X69GnzyiuvmJCQEOPr62vCwsJMcnJyuWLOzc0148ePNx07djStW7c20dHRjlV2L2br1q3G29vbzJs3z3Fu2LBhpkOHDqawsNBx7vyVsKdOnWr8/PzMqFGjLlj12hhzwbnTp0+bl19+2XTp0sW0atXK9OvXz6xZs6ZYLDNmzDB33XWX8ff3N0888YSZM2dOsZV0Z82aZQIDA02/fv1KfJa8vDwTHx9vOnbsaPz9/c2DDz5o0tLSHNdPnTplpk6dau68807TunVrExsba1566aUyP9f537cvv/zS3HfffaZVq1YmKCjIxMbGmt9++81x/dxVfc8q7ecK7scdc8W5Stsl5CxyBbkCV8Ydc0VRUZF56623TEhIiGnVqpW5//77i71/S0KuIFfg8pT0/T333J49e8ywYcNMu3btjL+/v/n73//u2E2kpPfMs88+a9q1a2eysrJK7fvsLiG//vqr41xubq4ZOXKkadOmjbnzzjvN4MGDzYcfflisn+XLl5t27dqZ9u3bm8LCQpOXl2cmT55s7rrrLuPn52f69+9vPv7440v2ffjwYePt7W0SExOLxd6yZctiO/icv8PG+e/f0r5+xhgzZ84cc/fddzty4oIFC4q1f++990y3bt1Mq1atzMMPP2yWLVtWbOeQ85/3fJWRly62S4gxxmzfvt1ERUUZf39/0759exMdHW0OHTrkuN6tWzfzxhtvFOv/888/N5GRkSYgIMC0a9fOxMTEmOzs7AuexZVYjCnDsqgAAAAAAABViCkhAAAAAADA5bBLiBuYMmVKqYuhrFy5sszzUgFcncgVAMqCXAH8dfTt21cHDhy46HWbzaa1a9dWYURA+TAlxA0cOXJEx48fv2Sbm266ybGdEIC/JnIFgLIgVwB/Hb/88otOnz590evVq1d3LMANuCIKFgAAAAAAwOWwhgUAAAAAAHA5FCwAAAAAAIDLcblFN48ePaGiImapuKtGjeoqNzfP2WHgMlWrZtH111/r7DDKhFzh3sgV7o1cgapCrnBv7pIryBPujTzh3krLEy5XsCgqMiQMN8f3D1WBXOH++P6hKpAr3B/fP1Q28oT74/t39WJKCAAAAAAAcDkULABUmLy8PPXp00cHDx6UJKWlpSkiIkKhoaFKSkpytPvhhx80YMAA9e3bV8OHD9exY8ecFTIAAAAAF0XBAkCF2LZtmx566CFlZGRIkvLz8xUbG6uZM2dqzZo12rFjh1JTUyVJ06ZN05gxY7Ry5Uo1b95c77zzjhMjBwAAAOCKKFgAqBDJycmKj4+XzWaTJG3fvl1eXl5q1qyZPDw8FBERoZSUFElSUVGRTpw4IUk6efKkrrnmGqfFDQAAAMA1udyimwDc07Rp04odZ2dny2q1Oo5tNpuysrIkSRMmTNCjjz6q559/XrVr11ZycnKVxgoAAADA9VGwAFApioqKZLFYHMfGGFksFuXn52vixIl699135e/vrzlz5mj8+PGaNWtWue7fqFHdig4ZVcxqrefsEAAAAODCKFgAqBSenp6y2+2OY7vdLpvNpp9++km1atWSv7+/JOnBBx/Uq6++Wu775+bmsYWVG7Na68luP+7sMHCZqlWzUDQEAACVjjUsAFSKgIAA7du3T5mZmSosLNTq1asVHBwsLy8vHT58WHv37pUkffrpp/Lz83NytAAAAABcDSMsAFSKWrVqKTExUdHR0SooKFBISIjCwsJksViUkJCgp556SsYYNWrUSM8//7yzwwUAAADgYizGGJcaU80wb/fGMG/35k7DvMkV7o1c4d7IFagq5Ar35i65gjzh3sgT7q20PMEIC5RLcHAH7dqVfkX38PFpqS++2FRBEQFwNeQJAGVBrgBQFuSKvzZGWKBC2Wz1lZ19zNlh4DK5yychErnC3ZEr3Bu5AlWFXOHe3CVXkCfcG3nCvZWWJ8q06Ob69esVGRmp8PBwPffcc5KktLQ0RUREKDQ0VElJSY626enpioyMVM+ePTVx4kSdOXPmCh8BAAAAAAD81ZRasDhw4IDi4+M1c+ZMrVy5Ujt37lRqaqpiY2M1c+ZMrVmzRjt27FBqaqokaezYsZo0aZLWrl0rY4ySk5Mr/SEAAAAAAMDVpdSCxccff6xevXrJ09NTNWrUUFJSkmrXri0vLy81a9ZMHh4eioiIUEpKig4dOqT8/HwFBgZKkiIjI5WSklLpDwEAAAAAAK4upS66mZmZqRo1amjEiBH69ddf1bVrV91+++2yWq2ONjabTVlZWcrOzi523mq1Kisrq1wBucM8N1ya1VrP2SEAAAAAANxcqQWLwsJCbdmyRfPmzVOdOnU0cuRIXXPNNbJYLI42xhhZLBYVFRWVeL48WPTG/bGtkPtyl8WxAAAAAFz9Si1Y3HDDDQoKClLDhg0lSffcc49SUlJUvXp1Rxu73S6bzSZPT0/Z7XbH+ZycHNlstkoIGwAAAAAAXM1KXcOiW7du2rBhg44dO6bCwkJ9+eWXCgsL0759+5SZmanCwkKtXr1awcHBatKkiWrVqqWtW7dKklasWKHg4OBKfwgAAAAAAHB1KXWERUBAgB5//HENGjRIp0+fVqdOnfTQQw/plltuUXR0tAoKChQSEqKwsDBJ0vTp0xUXF6e8vDz5+voqKiqq0h8CAAAAAABcXSzGGJdaMII1LNybzVZf2dnHnB0GLpM7rWFBrnBv5Ar3Rq5AVSFXuDd3yRXkCfdGnnBvpeWJUqeEAAAAAAAAVDUKFgAAAAAAwOVQsAAAAAAAAC6HggUAAAAAAHA5FCwAAAAAAIDLoWABAAAAAABcDgULAAAAAADgcihYAAAAAHBZq1atUq9evRQaGqoFCxZccP31119Xt27d1K9fP/Xr16/ENgDck4ezAwAAAACAkmRlZSkpKUlLly5VzZo1NXDgQHXo0EG33Xabo82OHTv08ssvq3Xr1k6MFEBlYIQFAACoUnl5eerTp48OHjwoSVq0aJH69OmjiIgI/fOf/9SpU6ckSenp6YqMjFTPnj01ceJEnTlzxplhA3CCtLQ0dezYUQ0aNFCdOnXUs2dPpaSkFGuzY8cO/fvf/1ZERISmTJmigoICJ0ULoKJRsAAAAFVm27Zteuihh5SRkSFJ2rdvn9555x29//77WrlypYqKirRw4UJJ0tixYzVp0iStXbtWxhglJyc7MXIAzpCdnS2r1eo4ttlsysrKchyfOHFCLVu21NixY7Vs2TIdO3ZMM2fOdEaoACoBU0IAAECVSU5OVnx8vMaNGydJqlmzpuLj41W3bl1Jkre3t3755RcdOnRI+fn5CgwMlCRFRkbqtdde06BBg5wWO4CqV1RUJIvF4jg2xhQ7vvbaa/X22287jh999FHFxsYqJiamzH00alS3YoKF01it9ZwdAioJBQsAAFBlpk2bVuy4SZMmatKkiSTpyJEjWrBggRISEi74VNVqtRb7VLWs+EPE/fGHyF+bp6entmzZ4ji22+2y2WyO419++UVpaWm67777JP1Z0PDwKN+fOLm5eSoqMhUTMJzCbj/u7BBwmapVs1zy/9UULAAAgNNlZWXp8ccf14ABA9ShQwdt3br1kp+qlhV/iLg//hBxX6X9IVIWd911l2bMmKEjR46odu3aWrdunaZOneq4fs011+hf//qXOnTooKZNm2rBggXq0aPHlYYOwEWwhgUAAHCqPXv2aODAgbr33ns1evRoSX9+qmq32x1tcnJyin2qCuCvoXHjxoqJiVFUVJT69++vPn36yN/fX8OGDdP333+vhg0basqUKRo5cqTCwsJkjNEjjzzi7LABVBBGWACoMHl5eRo4cKDeeustNW3aVGlpaUpISFBBQYHCw8Md80n37t2r+Ph4/f7777JarXr55Zd13XXXOTl6AM6Ql5enxx57TE899ZT69+/vON+kSRPVqlVLW7duVdu2bbVixQoFBwc7MVIAzhIREaGIiIhi585dt6Jnz57q2bNnVYcFoAowwgJAhTh/5f/8/HzFxsZq5syZWrNmjXbs2KHU1FQZYzRy5MlB2XcAACAASURBVEgNGzZMK1euVMuWLTVr1iznBg/AaRYvXqycnBzNmTNH/fr1U79+/fTqq69KkqZPn66EhASFhYXpjz/+UFRUlJOjBQAAVYkRFgAqxPkr/2/fvl1eXl5q1qyZpD8/HUlJSVGjRo1Up04dxyelI0aM0LFjx5wWNwDnWL9+vSRp6NChGjp0aIltfHx8tHjx4iqMCgAAuBIKFgAqxPkr/19s3/T9+/frhhtuUGxsrNLT03XLLbfomWeeqepwAQAAALg4ChYAKsXF9k0/c+aMNm/erPnz58vPz0+vvPKKEhMTlZiYWK77s1Wh+2OrQgAAAFwKBQsAleL8Ff7P7ptutVrl5eUlPz8/SVKfPn00ZsyYct+frQrdH1sVuq+K2KoQAACgNCy6CaBSBAQEaN++fcrMzFRhYaFWr16t4OBgtW7dWkeOHNGuXbsk/TmP3dfX18nRAgAAAHA1jLAAUClq1aqlxMRERUdHq6CgQCEhIQoLC5PFYtEbb7yhuLg4nTx5Up6ennrxxRedHS4AAAAAF2MxxrjUmGqGebs3m62+srPZ8cFdudMwb3KFeyNXuDdyBaoKucK9uUuuIE+4N/KEeystTzAlBAAAAAAAuBwKFgAAAAAAwOVQsAAAAAAAAC6HggUAAAAAAHA5FCwAAAAAAIDLoWABAAAAAABcDgULAAAAAADgcihYAAAAAAAAl0PBAgAAAAAAuBwKFgAAAAAAwOVQsAAAAAAAAC6HggUAAAAAAHA5FCwAAAAAAIDLoWABAAAAAABcDgULAAAAAADgcihYAAAAAAAAl0PBAgAAAAAAuBwKFgAAAAAAwOV4lKXRkCFDdOTIEXl4/Nl8ypQpOnHihBISElRQUKDw8HDFxMRIktLT0zVx4kSdOHFC7dq10+TJkx2vAwAAAAAAKItSKwnGGGVkZOizzz5zFB7y8/MVFhamefPm6cYbb9Tw4cOVmpqqkJAQjR07Vs8995wCAwMVGxur5ORkDRo0qNIfBAAAAAAAXD1KnRKyd+9eSdKjjz6qvn37av78+dq+fbu8vLzUrFkzeXh4KCIiQikpKTp06JDy8/MVGBgoSYqMjFRKSkrlPgEAAAAAALjqlDrC4tixYwoKCtIzzzyj06dPKyoqSo8//risVqujjc1mU1ZWlrKzs4udt1qtysrKKldAjRrVLVd7uB6rtZ6zQwAAAAAAuLlSCxatW7dW69atHcf33XefXnvtNbVt29Zxzhgji8WioqIiWSyWC86XR25unoqKTLleA9ditx93dgi4TNWqWSgaAgAAAHAJpU4J2bJlizZu3Og4NsaoSZMmstvtjnN2u102m02enp7Fzufk5Mhms1VwyAAAAAAA4GpXasHi+PHjevHFF1VQUKC8vDwtW7ZMTz/9tPbt26fMzEwVFhZq9erVCg4OVpMmTVSrVi1t3bpVkrRixQoFBwdX+kMAAAAAAICrS6lTQrp166Zt27apf//+Kioq0qBBg9S6dWslJiYqOjpaBQUFCgkJUVhYmCRp+vTpiouLU15ennx9fRUVFVXpDwEAAAAAAK4uFmOMSy0YwRoW7s1mq6/s7GPODgOX6UrXsMjLy9PAgQP11ltvqWnTpkpLS1NCQoIKCgoUHh6umJiYYu0///xzTZkyRevXry93X+QK90aucG/utN4NucK9kSvcm7vkCvKEeyNPuLfS8kSpU0IAoCy2bdumhx56SBkZGZKk/Px8xcbGaubMmVqzZo127Nih1NRUR/ucnBy98MILTooWAAAAgKujYAGgQiQnJys+Pt6x0O727dvl5eWlZs2aycPDQxEREUpJSXG0j4uL0xNPPOGscAEAAAC4uFLXsACAspg2bVqx4+zsbFmtVsexzWZTVlaWJGnu3Lm64447FBAQUKUxAgAAAHAfFCwAVIqioiJZLBbHsTFGFotFP/30k9atW6d3331Xhw8fvuz7u8OcWFya1VrP2SEAAADAhVGwAFApPD09ZbfbHcd2u102m00pKSmy2+0aMGCATp8+rezsbA0aNEgLFy4s1/1ZIMv92e3HnR0CLpO7LKQHAADcGwULAJUiICBA+/btU2Zmppo2barVq1drwIABCg8P15gxYyRJBw8eVFRUVLmLFQAAAACufhQsAFSKWrVqKTExUdHR0SooKFBISIjCwsKcHRYAAAAAN0HBAkCFWr9+vePfQUFBWrly5UXbNm3atFh7AAAAADiLbU0BAAAAAIDLoWABAAAAAABcDgULAAAAAC5r1apV6tWrl0JDQ7VgwYKLtvv888/VvXv3KowMQGVjDQsAAAAALikrK0tJSUlaunSpatasqYEDB6pDhw667bbbirXLycnRCy+84KQoAVQWRlgAAAAAcElpaWnq2LGjGjRooDp16qhnz55KSUm5oF1cXJyeeOIJJ0QIoDJRsAAAAADgkrKzs2W1Wh3HNptNWVlZxdrMnTtXd9xxhwICAqo6PACVjCkhAACgyuXl5WngwIF666231LRpU0nSuHHj1LFjR0VGRkqSfvnlF40dO1a5ublq3ry5pk+frmuvvdaZYQOoYkVFRbJYLI5jY0yx459++knr1q3Tu+++q8OHD19WH40a1b3iOOFcVms9Z4eASkLBAgAAVKlt27YpLi5OGRkZkv6cox4fH6+NGzeqY8eOjnaTJ0/WoEGD1Lt3b73xxhuaOXOmxo4d66SoATiDp6entmzZ4ji22+2y2WyO45SUFNntdg0YMECnT59Wdna2Bg0apIULF5a5j9zcPBUVmQqNG1XLbj/u7BBwmapVs1yyaMiUEAAAUKWSk5MVHx/v+KNj1apVuvvuuxUeHu5oc/r0aX399dfq2bOnJCkyMrLEeesArm533XWXNm7cqCNHjujkyZNat26dgoODHdfHjBmjtWvXasWKFZo1a5ZsNlu5ihUAXBsjLAAAQJWaNm1asePHH39ckrR161bHuaNHj6pu3bry8PjzVxWr1XrBvPWyYKi3+2Oo919b48aNFRMTo6ioKJ0+fVr33Xef/P39NWzYMI0ZM0Z+fn7ODhFAJaJgAQAAXM7589QlXXBcFgz1dn8M9XZfpQ31LquIiAhFREQUO/f2229f0K5p06Zav379FfcHwHUwJQQAALichg0b6vjx4yosLJR04bx1AABw9aNgAQAAXE6NGjXUrl07rVmzRpK0fPnyYvPWAQDA1Y+CBQAAcEnx8fFKTk5Wr169tGXLFj311FPODgkAAFQhizHGpSZ2MtfUvdls9ZWdfczZYeAyVdRc06pArnBv5Ar3Rq5AVSFXuDd3yRXkCfdGnnBvbGsKAAAAAADcDgULAAAAAADgcihYAAAAAAAAl0PBAgAAAAAAuBwKFgAAAAAAwOVQsAAAAAAAAC6HggUAAAAAAHA5FCwAAAAAAIDLoWABAAAAAABcDgULAAAAAADgcihYAAAAAAAAl0PBAgAAAAAAuBwKFgAqTF5envr06aODBw9KktLS0hQREaHQ0FAlJSU52n3yySfq16+f+vbtq1GjRun33393VsgAAAAAXJSHswMAcHXYtm2b4uLilJGRIUnKz89XbGys5s2bpxtvvFHDhw9Xamqq2rZtq2effVZLlixR48aN9eqrr2rGjBmKi4tz7gOgzLy9/6bffvvtiu9js9W/otc3aNBAP/20/4rjAFA5yBUAgCtFwQJAhUhOTlZ8fLzGjRsnSdq+fbu8vLzUrFkzSVJERIRSUlLk7++v+Ph4NW7cWJLUokULrVq1ymlxo/x+++03ZWcfu6J7WK31ZLcfv6J7XOkfMQAqF7kCAHClKFgAqBDTpk0rdpydnS2r1eo4ttlsysrK0vXXX68ePXpI+nMUxqxZszRkyJBy99eoUd0rCxhXxGqtd9XcAwAAAK6JggWASlFUVCSLxeI4NsYUOz5+/LhGjx4tHx8f3XvvveW+f25unoqKTIXEivK70k88K+JT04qIA5enWjULRUMAAFDpKFjAgbmmqEienp6y2+2OY7vdLpvNJunP0RePPfaYOnbsqNjYWGeFCAAAAMCFUbCAA3NNUZECAgK0b98+ZWZmqmnTplq9erUGDBigwsJCjRgxQuHh4Ro1apSzwwQAAICT8IEpSlPmgsULL7ygo0ePKjExUWlpaUpISFBBQYHCw8MVExMjSUpPT9fEiRN14sQJtWvXTpMnT5aHBzUR4K+oVq1aSkxMVHR0tAoKChQSEqKwsDB98skn2rlzpwoLC7V27VpJUqtWrS5YAwMAAABXNz4wRWnKVE3YuHGjli1bpq5du150q8KQkBCNHTtWzz33nAIDAxUbG6vk5GQNGjSosp8BgAtZv369499BQUFauXJlses9evTQrl27qjosAAAAAG6mWmkNfvvtNyUlJWnEiBGSim9V6OHh4diq8NChQ8rPz1dgYKAkKTIyUikpKZUbPQAAAAAAuCqVOsJi0qRJiomJ0a+//irp4lsVnn/earUqKyur3AGx6rhzuco2g2xVCAAAAAB/bZcsWHzwwQe68cYbFRQUpKVLl0q6+FaFpW1hWFZsVehcbFX418ZWhQAAAABcxSULFmvWrJHdble/fv30+++/648//tChQ4dUvXp1R5uzWxWev4VhTk6OYwtDAAAAAACA8rhkwWLOnDmOfy9dulSbN2/W5MmTFRoaesFWhU2aNFGtWrW0detWtW3bVitWrFBwcHClPwAAAAAAALj6lHvP0YttVShJ06dPV1xcnPLy8uTr66uoqKgKDxgAAAAAAFz9ylywiIyMVGRkpKSStyqUJB8fHy1evLjiogMAAAAAAH9JpW5rCgAAAAAAUNUoWAAAAAAAAJdDwQIAAAAAALgcChYAAAAAAMDlULAAAAAAAAAuh4IFAAAAAABwORQsAAAAAACAy6FgAQAAAAAAXA4FCwAAAAAA4HIoWAAAAAAAAJdDwQIAAAAAALgcChYAAAAAAMDlULAAAAAAAAAuh4IFAAAAAABwORQsAAAAALisVatWqVevXgoNDdWCBQsuuP7xxx8rIiJCvXv31oQJE3Tq1CknRAmgMlCwAAAAAOCSsrKylJSUpIULF2r58uVatGiRdu/e7bj+xx9/aMqUKZozZ44+/PBDFRQUaNmyZU6MGEBFomABAAAAwCWlpaWpY8eOatCggerUqaOePXsqJSXFcb1OnTpav369brjhBp08eVK5ubmqX7++EyMGUJE8nB0AAAAAAJQkOztbVqvVcWyz2bR9+/ZibWrUqKHU1FSNGzdONptNnTt3LlcfjRrVrZBYcXms1npXzT1Q8ShYAAAAAHBJRUVFslgsjmNjTLHjs0JCQrRp0ya9/PLLevbZZ/XSSy+VuY/c3DwVFZkKiRflZ7cfv6LXW631rvgeFREHLk+1apZLFg2ZEgKgwuTl5alPnz46ePCgpD+HcUZERCg0NFRJSUmOdunp6YqMjFTPnj01ceJEnTlzxlkhA3ACcgWAsvL09JTdbncc2+122Ww2x/Fvv/2mDRs2OI4jIiL0448/VmmMACoPBQsAFWLbtm166KGHlJGRIUnKz89XbGysZs6cqTVr1mjHjh1KTU2VJI0dO1aTJk3S2rVrZYxRcnKyEyMHUJXIFQDK46677tLGjRt15MgRnTx5UuvWrVNwcLDjujFGY8eO1S+//CJJSklJUZs2bZwVLoAKRsECQIVITk5WfHy841OP7du3y8vLS82aNZOHh4ciIiKUkpKiQ4cOKT8/X4GBgZKkyMjIYotnAbi6kSsAlEfjxo0VExOjqKgo9e/fX3369JG/v7+GDRum77//Xtdff72mTp2q4cOHq2/fvtq3b5/Gjh3r7LABVBDWsABQIaZNm1bsuKRFsrKysi44b7ValZWVVe7+WCDLeT6KvlvHZw29ontUxCzRj6LvZoEsN0Su+OsgV6CiREREKCIioti5t99+2/Hve+65R/fcc09VhwWgClCwAFApLrZIVlkXzyoNC2Q5T/iMT5WdfeyK7lERC2SF2+or+xkWyHKG0hbIKg9yxdWLXIGKzBUA/pqYEgKgUlxskazzz+fk5BRbPAvAXwu5AgAAXAwjLODgSkM34f4CAgK0b98+ZWZmqmnTplq9erUGDBigJk2aqFatWtq6davatm2rFStWFFs8C8BfC7kCAABcDAULOLjW0M0rugVcQK1atZSYmKjo6GgVFBQoJCREYWFhkqTp06crLi5OeXl58vX1VVRUlJOjBeAs5AoAAHAxFmOMS03sZK6p89hs9V2iYFERceDyuNNcU3KF85ArQK5AWZAr4C65gjzhPOQJlJYnGGEBAAAAAKhyTElHaShYAAAAAACqHFPSURp2CQEAAAAAAC6HggUAAAAAAHA5FCwAAAAAAIDLoWABAAAAAABcDgULAAAAAADgcihYAAAAAAAAl0PBAgAAAAAAuBwKFgAAAAAAwOVQsAAAAAAAAC6HggUAAAAAAHA5FCwAAAAAAIDLoWABAAAAAABcTpkKFq+++qp69eql3r17a86cOZKktLQ0RUREKDQ0VElJSY626enpioyMVM+ePTVx4kSdOXOmciIHAAAAAABXrVILFps3b9ZXX32llStXasmSJZo3b5527dql2NhYzZw5U2vWrNGOHTuUmpoqSRo7dqwmTZqktWvXyhij5OTkSn8IAAAAAABwdSm1YNG+fXvNnTtXHh4eys3NVWFhoY4dOyYvLy81a9ZMHh4eioiIUEpKig4dOqT8/HwFBgZKkiIjI5WSklLpDwEAAAAAAK4uHmVpVKNGDb322mv6z3/+o7CwMGVnZ8tqtTqu22w2ZWVlXXDearUqKyurXAE1alS3XO1RsazWelfNPQAAAAAA7qtMBQtJGjNmjIYNG6YRI0YoIyNDFovFcc0YI4vFoqKiohLPl0dubp6Kiky5XoOKY7cfv6LXW631rvgeFREHLk+1ahaKhgAAAABcQqlTQvbs2aP09HRJUu3atRUaGqpNmzbJbrc72tjtdtlsNnl6ehY7n5OTI5vNVglhAwAAAACAq1mpBYuDBw8qLi5Op06d0qlTp/Tpp59q4MCB2rdvnzIzM1VYWKjVq1crODhYTZo0Ua1atbR161ZJ0ooVKxQcHFzpDwEAAAAAAK4upU4JCQkJ0fbt29W/f39Vr15doaGh6t27txo2bKjo6GgVFBQoJCREYWFhkqTp06crLi5OeXl58vX1VVRUVKU/BAAAAAAAuLqUaQ2L6OhoRUdHFzsXFBSklStXXtDWx8dHixcvrpjoAAAAAADAX1KpU0IAAAAAAACqGgULAAAAAADgcihYAAAAAAAAl0PBAkClmzVrlnr27KmIiAi9+eabkqQNGzaob9++6tOnj8aNG6dTp045OUoAAAAAroSCBYBKlZaWplWrVmnJkiVavny5tm3bpnXr1mnixIlKSkrS6tWrlZ+frxUrVjg7VAAAAAAupEy7hADA5dq5c6c6d+6sunXrSpK6dOmiTz75RIWFhcrLy1NhYaEKCgpUq1YtJ0cKAAAAwJUwwgJApfL19dWGDRv022+/qaCgQOvXr1dOTo6effZZDRkyRF26dNHRo0cVFhbm7FABAAAAuBBGWACoVEFBQYqMjNSQIUPUoEEDBQUFafPmzZo+fbpWr16tpk2bKiEhQQkJCYqPjy/zfRs1qluJUaM0Vmu9q+YeAAAAcE0ULABUqry8PIWGhuqRRx6RJM2ePVt2u13e3t7629/+Jkl64IEH9NRTT5Xrvrm5eSoqMhUeL8rGbj9+Ra+3Wutd8T0qIg5cnmrVLBQNUSY2W31nh6AGDRo4OwQAwGWiYAGgUh08eFDjx4/XkiVLdPLkSS1evFjTpk3TP/7xD+Xk5OiGG27Qp59+Kj8/P2eHinLgjxAApcnOPnbF97DZ6lfIfQC4Ln6nwKVQsEAxJAxUNB8fH4WGhqpv374qLCzU0KFD1bZtWz355JOKiopS9erV5eXlpSlTpjg7VJQRf4QAAICKwO8UKI3FGONSY6oZ5u3eSBjuzZ2GeZMr3Bu5wr2RK1BVyBXuzV1yBXnCvZEn3FtpeYJdQgAAAAAAgMuhYAEAAAAAAFwOBQsAAAAAAOByKFgAAAAAAACXQ8ECAAAAAAC4HAoWAAAAAFzWqlWr1KtXL4WGhmrBggUXXP/kk0/Ur18/9e3bV6NGjdLvv//uhCgBVAYKFgAAAABcUlZWlpKSkrRw4UItX75cixYt0u7dux3X8/Ly9Oyzz2rWrFlauXKlWrRooRkzZjgxYgAViYIFAAAAAJeUlpamjh07qkGDBqpTp4569uyplJQUx/XTp08rPj5ejRs3liS1aNFCv/76q7PCBVDBPJwdAAAAAACUJDs7W1ar1XFss9m0fft2x/H111+vHj16SJLy8/M1a9YsDRkypFx9NGpUt2KChdNYrfWcHQIqCQULAAAAAC6pqKhIFovFcWyMKXZ81vHjxzV69Gj5+Pjo3nvvLVcfubl5KioyVxwrnMduP+7sEHCZqlWzXLJoyJQQAAAAAC7J09NTdrvdcWy322Wz2Yq1yc7O1qBBg9SiRQtNmzatqkMEUIkoWAAAAABwSXfddZc2btyoI0eO6OTJk1q3bp2Cg4Md1wsLCzVixAiFh4dr4sSJJY6+AOC+mBICAACcbtasWVqyZIlq1qypXr16aeTIkUpLS1NCQoIKCgoUHh6umJgYZ4cJoIo1btxYMTExioqK0unTp3XffffJ399fw4YN05gxY3T48GHt3LlThYWFWrt2rSSpVatWjLQArhIULAAAgFOlpaVp1apVWrJkiWrXrq3Ro0dr5cqVevnllzVv3jzdeOONGj58uFJTUxUSEuLscAFUsYiICEVERBQ79/bbb0uS/Pz8tGvXLmeEBaAKMCUEAAA41c6dO9W5c2fVrVtX1atXV5cuXfTBBx/Iy8tLzZo1k4eHhyIiIoptZQgAAK5+jLAAAABO5evrq+eff17Dhw9X7dq1tX79en3zzTcKDw93tLHZbMrKyir3vdmu0P2xXSEA/HVRsAAAAE4VFBSkyMhIDRkyRA0aNFBQUJA2bNhQpq0MS8N2he6P7QrdV2nbFQJAaZgSAgAAnCovL0+hoaFatWqV5s2bp5o1a6p9+/albmUIAACubhQsAACAUx08eFCjRo3SmTNndPz4cS1evFhPPfWU9u3bp8zMTBUWFmr16tXFtjIEAABXP6aEAAAAp/Lx8VFoaKj69u2rwsJCDR06VG3btlViYqKio6NVUFCgkJAQhYWFOTtUAABQhSzGGJea2MlcU/dms9VXdvYxZ4eBy+ROc03JFe6NXOHeyBWoKuQK9+YuuYI84d7IE+6ttDzBlBAAAAAAAOByKFgAAAAAAACXQ8ECAAAAAAC4HAoWAAAAAADA5VCwAAAAAAAALoeCBYBKN2vWLPXs2VMRERF68803JUnffvutHnjgAfXu3VtPP/20Tp065eQoAQAAALgSChYAKlVaWppWrVqlJUuWaPny5dq2bZuWL1+u6OhoTZkyRR9++KEkafHixU6OFAAAAIAr8XB2AACubjt37lTnzp1Vt+6f+yt36dJFkydPVqdOneTj4yNJiouLU2FhoTPDBAAAAOBiGGEBoFL5+vpqw4YN+u2331RQUKD169frjz/+UJ06dRQTE6N+/fppxowZql+/vrNDBQAAAOBCyjTC4vXXX9dHH30kSQoJCdG4ceOUlpamhIQEFRQUKDw8XDExMZKk9PR0TZw4USdOnFC7du00efJkeXgwkAP4qwoKClJkZKSGDBmiBg0aKCgoSBs2bNCGDRu0aNEi3XTTTZo4caJmzZql6OjoMt+3UaO6lRg1qoLVWs/ZIQAAAMCFlVpJSEtL04YNG7Rs2TJZLBY9/vjjWr16taZPn6558+bpxhtv1PDhw5WamqqQkBCNHTtWzz33nAIDAxUbG6vk5GQNGjSoKp4FgAvKy8tTaGioHnnkEUnS7NmzVadOHQUEBKhZs2aSpPDwcM2fP79c983NzVNRkanweFF17Pbjzg4Bl6laNQtFQwAAUOlKnRJitVo1YcIE1axZUzVq1NCtt96qjIwMeXl5qVmzZvLw8FBERIRSUlJ06NAh5efnKzAwUJIUGRmplJSUSn8IAK7r4MGDGjVqlM6cOaPjx49r8eLF+ve//60ffvhBv/76qyTps88+k6+vr5MjBQAAAOBKSh1hcfvttzv+nZGRoY8++kiDBw+W1Wp1nLfZbMrKylJ2dnax81arVVlZWRUcMgB34uPjo9DQUPXt21eFhYUaOnSo2rdvrylTpmjEiBEqKChQy5YtNX78eGeHCgAAAMCFlHlxiZ9//lnDhw/XuHHjVL16dWVkZDiuGWNksVhUVFQki8VywfnyYIip+2NeOs43evRojR49uti5rl27qmvXrs4JCAAAAIDLK1PBYuvWrRozZoxiY2PVu3dvbd68WXa73XHdbrfLZrPJ09Oz2PmcnBzZbLZyBcS8dPfHvHT3xbx0AAD+f3v3F9pV4fcB/L3+KIspguxbYeJd+GD9DCJspRsUTE0XtLzQi0TKsBomQQWWKFSWgWEQFFjRhRUlGdmkZoRhxMALISOsi0IFK7ZZUA5Tc/s+Fw+Mp6c/cz5+9z1HX6+7893x60cOvHFvzuccAIpi1GdY/PTTT+nq6srmzZuzaNGiJMns2bNz6NChHDlyJENDQ9m1a1daW1szbdq0TJw4Mfv370+S7Ny5M62trbX9FwAAAAAXnFHvsHj99ddz6tSpbNq0aeSzpUuXZtOmTVm9enVOnTqVtra2LFiwIEmyefPmrFu3LoODg5k1a1aWL19eu+kBAACAC1JDtVot1P6FlZByq1Qmp7//t3qPwTkq00qIrCg3WVFusoLxIivKrSxZISfKTU6U22g5MepKCAAAAMB4U1gAAAAAhaOwAAAAAApHYQEAAAAUjsICAAAAKByFBQAAAFA4CgsAAACgcBQWAAAAQOEoLAAAAIDCUVgAAAAAhaOwwtQD8QAACp1JREFUAAAAAApHYQEAAAAUjsICAAAAKByFBQAAAFA4CgsAAACgcBQWAAAAQOEoLAAAAIDCUVgAAAAAhaOwAAAAAApHYQEAAAAUjsICAAAorO7u7txxxx1pb2/PW2+99Y/nPf7443n//ffHcTKg1hQWAABAIfX19WXLli15++2388EHH+Tdd9/Nd99995dzHnjggezevbtOUwK1orAAAAAKqbe3NzfffHOmTJmSK664IvPnz09PT8+fzunu7s7tt9+ehQsX1mlKoFYuq/cAwIVv69at2bFjRyZMmJA77rgjDz744MjP3nzzzezevTvbtm2r44QAQBH19/enubl55LhSqeSrr7760zkrV65Mkuzfv/+c/o6pU5vOfUAKobl5Ur1HoEYUFkBN9fb2pru7Ozt27EhjY2O6urryySefpL29Pd999122bt2aGTNm1HtMAKCAhoeH09DQMHJcrVb/dHw+/PzzYIaHq+f1OxlfAwPH6z0C5+iSSxr+tTS0EgLU1MGDBzN37tw0NTXl0ksvzbx58/Lpp5/m9OnTWb9+fR5++OF6jwgAFNRVV12VgYGBkeOBgYFUKpU6TgSMJ3dYADU1a9asPPvss1m1alUaGxuzZ8+eVKvVvPDCC7n77rtzzTXXnNP3un2z/Ny+CcBobrnllrz00kv55Zdf0tjYmE8++SRPP/10vccCxonCAqiplpaWdHZ25p577smUKVPS0tKSrVu3pqmpKWvXrs2+ffvO6Xvdvll+bt8sr9Fu3wQ4X6688so88sgjWb58ef74448sWbIk//nPf3L//ffn4YcfzvXXX1/vEYEaaqhWq4X6H79fQsqtUpmc/v7f6j0G56gWv4QMDg7m119/zbRp05Ikr732Wr7//vt8+eWXmTBhQk6cOJFjx46lra0tL7744ll/r6woN1lRbmUqLGRFucmKcitLVsiJcpMT5eYZFkBdHT16NA899FDOnDmT48eP57333suSJUvy8ccfZ+fOnXnmmWdy3XXXjamsAC48O3fuzKJFi7Jo0aI8//zzSf7nob0dHR1pb2/Pli1b6jwhADDerIQANTVz5sy0t7fnzjvvzNDQUFasWJEbb7yx3mMBBfL7779n48aN6enpyeTJk7Ns2bLs2bMnTz31VLZt25arr746q1atyt69e9PW1lbvcQGAcaKwAGquq6srXV1df/uzOXPmZM6cOeM8EVAkQ0NDGR4ezu+//54rrrgiZ86cSVNTU2bMmJHp06cnSTo6OtLT06OwAICLiMICAKirpqamrFmzJgsXLkxjY2Nuuumm9Pf3p7m5eeScSqWSvr6+MX93Gfbn+XfeKARw8VJYAAB19e2332bHjh357LPPMmnSpDz66KM5fPhwGhoaRs6pVqt/Oj5bHqZXft4oVF5leegmUFweugkA1NUXX3yRlpaWTJ06NRMmTEhnZ2f27duXgYGBkXMGBgZSqVTqOCUAMN4UFgBAXc2cOTO9vb05ceJEqtVq9uzZk9mzZ+fQoUM5cuRIhoaGsmvXrrS2ttZ7VABgHFkJAQDqau7cuTl48GA6Oztz+eWX5/rrr8/q1atz6623ZvXq1Tl16lTa2tqyYMGCeo8KAIyjhmq1WqjFTrum5VapTE5//2/1HoNzVKZdU1lRbrKi3GQF40VWlFtZskJOlJucKLfRcsJKCAAAAFA4CgsAAACgcBQWAAAAQOEoLAAAAIDCOavCYnBwMIsXL87Ro0eTJL29veno6Eh7e3u2bNkyct4333yTzs7OzJ8/P08++WTOnDlTm6kBAACAC9qohcWBAweybNmyHD58OEly8uTJPPHEE3n55Zfz0Ucf5euvv87evXuTJI899ljWr1+f3bt3p1qtZvv27TUdHgAAALgwjVpYbN++PRs2bEilUkmSfPXVV5kxY0amT5+eyy67LB0dHenp6ckPP/yQkydP5oYbbkiSdHZ2pqenp7bTAwAAABeky0Y7YePGjX867u/vT3Nz88hxpVJJX1/fXz5vbm5OX1/feRwVAAAAuFiMWlj8X8PDw2loaBg5rlaraWho+MfPx2rq1KYx/xmKpbl5Ur1HAAAAoOTGXFhcddVVGRgYGDkeGBhIpVL5y+fHjh0bWSMZi59/HszwcHXMf47iGBg4Xu8ROEeXXNKgNAQAAAphzK81nT17dg4dOpQjR45kaGgou3btSmtra6ZNm5aJEydm//79SZKdO3emtbX1vA8MAAAAXPjGfIfFxIkTs2nTpqxevTqnTp1KW1tbFixYkCTZvHlz1q1bl8HBwcyaNSvLly8/7wMDAAAAF76GarVaqP0LKyHlVqlMTn//b/Ueg3NUppUQWVFusqLcZAXjRVaUW1myQk6Um5wot9FyYswrIQAAAAC1prAAAAAACkdhAQAAABSOwgIAAAAoHIUFAAAAUDhjfq0pF7fW1jn59ttv/vWcSmXyv/585sz/yuef7zufYwEFcjY5kfx7VsgJuPDJCuBs+P3j4ua1ppxXzc2TMjBwvN5jcI7K8vqxRFaUnawoN1nBeJEV5VaWrJAT5SYnys1rTYG627p1a+bPn5+Ojo688sorSZJ33303ixcvTkdHR9auXZvTp0/XeUoAAKBIFBZATfX29qa7uzs7duzIBx98kAMHDuTVV1/N66+/nnfeeScffvhhhoeH8/bbb9d7VAAAoEAUFkBNHTx4MHPnzk1TU1MuvfTSzJs3L59//nk2bNiQpqamNDQ05Nprr82PP/5Y71EBAIAC8dBNoKZmzZqVZ599NqtWrUpjY2P27NmTyy+/PLfeemuS5Jdffslbb72V5557bkzfW4adWP5dc/Okeo8AAECBKSyAmmppaUlnZ2fuueeeTJkyJS0tLTlw4ECSpK+vLytXrszdd9+dOXPmjOl7PSCr3Dwgq9zK8iA9AKDcrIQANTU4OJj29vZ0d3dn27ZtmTBhQqZPn57vv/8+S5cuzV133ZWurq56jwkAABSMwgKoqaNHj+ahhx7KmTNncvz48bz33ntpb2/PfffdlzVr1uTee++t94gAAEABWQkBamrmzJlpb2/PnXfemaGhoaxYsSIHDx7MsWPH8sYbb+SNN95Iktx2221Zs2ZNnacFAACKoqFarRZqCdxeernZSy+3Mu2ly4pykxXlJisYL7Ki3MqSFXKi3OREuY2WE1ZCAAAAgMIp3ErIJZc01HsE/p9cw/Iq07Ur06z8PdewvMp07co0K3/PNSyvsly7sszJP3MNy2u0a1e4lRAAAAAAKyEAAABA4SgsAAAAgMJRWAAAAACFo7AAAAAACkdhAQAAABSOwgIAAAAoHIUFAAAAUDgKCwAAAKBwFBYAAABA4SgsOG8GBwezePHiHD16tN6jAAUmK4CzISuA0ciJC5/CgvPiwIEDWbZsWQ4fPlzvUYACkxXA2ZAVwGjkxMVBYcF5sX379mzYsCGVSqXeowAFJiuAsyErgNHIiYvDZfUegAvDxo0b6z0CUAKyAjgbsgIYjZy4OLjDAgAAACgchQUAAABQOAoLAAAAoHAUFgAAAEDhNFSr1Wq9hwAAAAD439xhAQAAABSOwgIAAAAoHIUFAAAAUDgKCwAAAKBwFBYAAABA4SgsAAAAgMJRWAAAAACFo7AAAAAACue/ARW7kWUsvZPgAAAAAElFTkSuQmCC\n",
      "text/plain": [
       "<Figure size 1080x360 with 4 Axes>"
      ]
     },
     "metadata": {},
     "output_type": "display_data"
    }
   ],
   "source": [
    "f, ((ax1, ax2, ax3, ax4)) = plt.subplots(1, 4, figsize=(15,5))\n",
    "sns.set(style='darkgrid')\n",
    "ax1.boxplot(df_out['score_3'])\n",
    "ax1.set_title('score_3 without outliers', fontsize=15)\n",
    "ax2.boxplot(df_out['score_4'])\n",
    "ax2.set_title('score_4 without outliers', fontsize=15)\n",
    "ax3.boxplot(df_out['score_6'])\n",
    "ax3.set_title('score_6 without outliers', fontsize=15)\n",
    "ax4.boxplot(df_out['risk_rate'])\n",
    "ax4.set_title('risk_rate without outliers', fontsize=15)\n",
    "f.tight_layout()\n",
    "plt.show()"
   ]
  },
  {
   "cell_type": "code",
   "execution_count": 47,
   "metadata": {},
   "outputs": [
    {
     "name": "stdout",
     "output_type": "stream",
     "text": [
      "The total percentage of removed data by the two methods was 5.92%\n"
     ]
    }
   ],
   "source": [
    "p = 100 - 100*(len(df_out)/len(df))\n",
    "\n",
    "print(\"The total percentage of removed data by the two methods was %.2f%%\" %p)"
   ]
  },
  {
   "cell_type": "code",
   "execution_count": 48,
   "metadata": {},
   "outputs": [
    {
     "data": {
      "text/plain": [
       "Index(['default', 'score_3', 'score_4', 'score_6', 'risk_rate',\n",
       "       'amount_borrowed', 'borrowed_in_months', 'credit_limit', 'income',\n",
       "       'ok_since', 'n_bankruptcies', 'n_defaulted_loans', 'n_accounts',\n",
       "       'n_issues', 'time_loan_to_payment'],\n",
       "      dtype='object')"
      ]
     },
     "execution_count": 48,
     "metadata": {},
     "output_type": "execute_result"
    }
   ],
   "source": [
    "df_out.columns"
   ]
  },
  {
   "cell_type": "markdown",
   "metadata": {},
   "source": [
    "#### 4.3 Checking the distribution of labels after removing the outliers"
   ]
  },
  {
   "cell_type": "markdown",
   "metadata": {},
   "source": [
    "Dataset with outliers"
   ]
  },
  {
   "cell_type": "code",
   "execution_count": 49,
   "metadata": {},
   "outputs": [
    {
     "name": "stdout",
     "output_type": "stream",
     "text": [
      "0    84.141013\n",
      "1    15.858987\n",
      "Name: default, dtype: float64\n",
      "59966\n"
     ]
    }
   ],
   "source": [
    "total_len = len(df_clean)\n",
    "percentage_labels = (df_clean['default'].value_counts()/total_len)*100\n",
    "print(percentage_labels)\n",
    "print(total_len) "
   ]
  },
  {
   "cell_type": "markdown",
   "metadata": {},
   "source": [
    "Dataset without outliers (Z-score)"
   ]
  },
  {
   "cell_type": "code",
   "execution_count": 50,
   "metadata": {},
   "outputs": [
    {
     "name": "stdout",
     "output_type": "stream",
     "text": [
      "0    84.20723\n",
      "1    15.79277\n",
      "Name: default, dtype: float64\n",
      "59084\n"
     ]
    }
   ],
   "source": [
    "total_len = len(new_df2)\n",
    "percentage_labels = (new_df2['default'].value_counts()/total_len)*100\n",
    "print(percentage_labels)\n",
    "print(total_len) "
   ]
  },
  {
   "cell_type": "markdown",
   "metadata": {},
   "source": [
    "Dataset without outliers (IQR-score)"
   ]
  },
  {
   "cell_type": "code",
   "execution_count": 51,
   "metadata": {},
   "outputs": [
    {
     "name": "stdout",
     "output_type": "stream",
     "text": [
      "0    84.287208\n",
      "1    15.712792\n",
      "Name: default, dtype: float64\n",
      "56419\n"
     ]
    }
   ],
   "source": [
    "total_len = len(df_out)\n",
    "percentage_labels = (df_out['default'].value_counts()/total_len)*100\n",
    "print(percentage_labels)\n",
    "print(total_len) "
   ]
  },
  {
   "cell_type": "markdown",
   "metadata": {},
   "source": [
    "## 5 Correlation and Feature Importance"
   ]
  },
  {
   "cell_type": "markdown",
   "metadata": {},
   "source": [
    "#### 5.1 Correlation"
   ]
  },
  {
   "cell_type": "markdown",
   "metadata": {},
   "source": [
    "The correlation between the target and attributes"
   ]
  },
  {
   "cell_type": "code",
   "execution_count": 52,
   "metadata": {},
   "outputs": [
    {
     "data": {
      "text/plain": [
       "default                 1.000000\n",
       "time_loan_to_payment    0.329868\n",
       "borrowed_in_months      0.184018\n",
       "risk_rate               0.092968\n",
       "amount_borrowed         0.066302\n",
       "score_3                 0.048709\n",
       "n_issues                0.017356\n",
       "n_bankruptcies          0.014476\n",
       "n_accounts              0.014034\n",
       "score_4                 0.005047\n",
       "score_6                 0.001877\n",
       "n_defaulted_loans       0.000409\n",
       "ok_since               -0.001952\n",
       "credit_limit           -0.013849\n",
       "income                 -0.046623\n",
       "Name: default, dtype: float64"
      ]
     },
     "execution_count": 52,
     "metadata": {},
     "output_type": "execute_result"
    }
   ],
   "source": [
    "corre = df_out.corr()\n",
    "corre['default'].sort_values(ascending=False)"
   ]
  },
  {
   "cell_type": "markdown",
   "metadata": {},
   "source": [
    "Let's see the degree of dependence between the features"
   ]
  },
  {
   "cell_type": "code",
   "execution_count": 53,
   "metadata": {},
   "outputs": [
    {
     "data": {
      "image/png": "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\n",
      "text/plain": [
       "<Figure size 864x576 with 2 Axes>"
      ]
     },
     "metadata": {},
     "output_type": "display_data"
    }
   ],
   "source": [
    "correlation = df_out.corr()\n",
    "mask = np.tril(correlation)\n",
    "plt.figure(figsize=(12,8))\n",
    "sns.set(font_scale=1.2)\n",
    "ax = sns.heatmap(correlation, mask=mask, annot=True, fmt=\".1f\",  cmap=\"RdBu\", vmin=-1, vmax=1)\n",
    "plt.show()"
   ]
  },
  {
   "cell_type": "markdown",
   "metadata": {},
   "source": [
    "#### 5.2 Feature Importance"
   ]
  },
  {
   "cell_type": "code",
   "execution_count": 54,
   "metadata": {},
   "outputs": [
    {
     "data": {
      "text/plain": [
       "array([0, 1])"
      ]
     },
     "execution_count": 54,
     "metadata": {},
     "output_type": "execute_result"
    }
   ],
   "source": [
    "x = df_out.drop('default', axis = 1)\n",
    "y = df_out['default']\n",
    "y.unique()"
   ]
  },
  {
   "cell_type": "code",
   "execution_count": 55,
   "metadata": {},
   "outputs": [
    {
     "data": {
      "text/plain": [
       "RandomForestClassifier(criterion='entropy')"
      ]
     },
     "execution_count": 55,
     "metadata": {},
     "output_type": "execute_result"
    }
   ],
   "source": [
    "from sklearn.ensemble import RandomForestClassifier\n",
    "RF = RandomForestClassifier(n_estimators=100, criterion='entropy', min_samples_split=2, max_features='auto', verbose=0)\n",
    "RF.fit(x, y)"
   ]
  },
  {
   "cell_type": "code",
   "execution_count": 56,
   "metadata": {},
   "outputs": [
    {
     "name": "stdout",
     "output_type": "stream",
     "text": [
      " 1) score_3                        0.245975\n",
      " 2) score_4                        0.100939\n",
      " 3) score_6                        0.094129\n",
      " 4) risk_rate                      0.087973\n",
      " 5) amount_borrowed                0.087124\n",
      " 6) borrowed_in_months             0.068782\n",
      " 7) credit_limit                   0.068265\n",
      " 8) income                         0.066049\n",
      " 9) ok_since                       0.048377\n",
      "10) n_bankruptcies                 0.047999\n",
      "11) n_defaulted_loans              0.043225\n",
      "12) n_accounts                     0.032917\n",
      "13) n_issues                       0.007597\n",
      "14) time_loan_to_payment           0.000650\n"
     ]
    }
   ],
   "source": [
    "RF.feature_importances_\n",
    "targets = df_out.columns[1:]\n",
    "importances = RF.feature_importances_\n",
    "indices = np.argsort(importances)[::-1]\n",
    "for i in range(x.shape[1]):\n",
    "    print (\"%2d) %-*s %f\" % (i + 1, 30, targets[i],importances[indices[i]]))"
   ]
  },
  {
   "cell_type": "code",
   "execution_count": 57,
   "metadata": {},
   "outputs": [
    {
     "data": {
      "image/png": "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\n",
      "text/plain": [
       "<Figure size 432x288 with 1 Axes>"
      ]
     },
     "metadata": {},
     "output_type": "display_data"
    }
   ],
   "source": [
    "plt.title('Feature Importances')\n",
    "plt.bar(range(x.shape[1]),importances[indices], color=\"red\", align=\"center\")\n",
    "plt.xticks(range(x.shape[1]),targets, rotation=90)\n",
    "plt.xlim([-1, x.shape[1]])\n",
    "plt.show()"
   ]
  },
  {
   "cell_type": "markdown",
   "metadata": {},
   "source": [
    "The feature importance shows that \"score_3\" could has the highest impact in the default."
   ]
  },
  {
   "cell_type": "markdown",
   "metadata": {},
   "source": [
    "## 6 Splitting the dataset in train and test"
   ]
  },
  {
   "cell_type": "markdown",
   "metadata": {},
   "source": [
    "#### Applying the SMOTE technique to deal with the imbalanced datasets"
   ]
  },
  {
   "cell_type": "code",
   "execution_count": 60,
   "metadata": {},
   "outputs": [],
   "source": [
    "from sklearn.model_selection import train_test_split\n",
    "from imblearn.over_sampling import SMOTE\n",
    "# Separate input features and target\n",
    "y = df_out.default\n",
    "x = df_out.drop('default', axis=1)\n",
    "\n",
    "# setting up testing and training sets\n",
    "x_train, x_test, y_train, y_test = train_test_split(x, y, test_size=0.20, random_state=1)\n",
    "\n",
    "# transforming the train dataset in a balanced dataset to avoid overfitting (SMOTE - Synthetic Minority Oversampling)\n",
    "sm = SMOTE(random_state=1)\n",
    "x_train, y_train = sm.fit_sample(x_train, y_train)"
   ]
  },
  {
   "cell_type": "markdown",
   "metadata": {},
   "source": [
    "## 6 Feature Scaling"
   ]
  },
  {
   "cell_type": "markdown",
   "metadata": {},
   "source": [
    "Feature scaling is important for the kNN model, but did not affect Logistic Regression or Random Forest models. However, in order to simplify the analysis we are going to use the same scaled feature in the three models. It was used Standardization"
   ]
  },
  {
   "cell_type": "code",
   "execution_count": 61,
   "metadata": {},
   "outputs": [],
   "source": [
    "from sklearn.preprocessing import StandardScaler\n",
    "scaler = StandardScaler()\n",
    "df_train_scaled = pd.DataFrame(scaler.fit_transform(x_train),columns = x_train.columns)\n",
    "x_train_transformed = df_train_scaled\n",
    "df_test_scaled = pd.DataFrame(scaler.fit_transform(x_test),columns = x_test.columns)\n",
    "x_test_transformed = df_test_scaled"
   ]
  },
  {
   "cell_type": "code",
   "execution_count": 62,
   "metadata": {},
   "outputs": [
    {
     "data": {
      "text/html": [
       "<div>\n",
       "<style scoped>\n",
       "    .dataframe tbody tr th:only-of-type {\n",
       "        vertical-align: middle;\n",
       "    }\n",
       "\n",
       "    .dataframe tbody tr th {\n",
       "        vertical-align: top;\n",
       "    }\n",
       "\n",
       "    .dataframe thead th {\n",
       "        text-align: right;\n",
       "    }\n",
       "</style>\n",
       "<table border=\"1\" class=\"dataframe\">\n",
       "  <thead>\n",
       "    <tr style=\"text-align: right;\">\n",
       "      <th></th>\n",
       "      <th>score_3</th>\n",
       "      <th>score_4</th>\n",
       "      <th>score_6</th>\n",
       "      <th>risk_rate</th>\n",
       "      <th>amount_borrowed</th>\n",
       "      <th>borrowed_in_months</th>\n",
       "      <th>credit_limit</th>\n",
       "      <th>income</th>\n",
       "      <th>ok_since</th>\n",
       "      <th>n_bankruptcies</th>\n",
       "      <th>n_defaulted_loans</th>\n",
       "      <th>n_accounts</th>\n",
       "      <th>n_issues</th>\n",
       "      <th>time_loan_to_payment</th>\n",
       "    </tr>\n",
       "  </thead>\n",
       "  <tbody>\n",
       "    <tr>\n",
       "      <th>0</th>\n",
       "      <td>0.439460</td>\n",
       "      <td>-0.566647</td>\n",
       "      <td>0.400045</td>\n",
       "      <td>1.267507</td>\n",
       "      <td>1.498210</td>\n",
       "      <td>1.790819</td>\n",
       "      <td>-0.686612</td>\n",
       "      <td>-0.144390</td>\n",
       "      <td>-2.234341</td>\n",
       "      <td>-0.302579</td>\n",
       "      <td>-0.06504</td>\n",
       "      <td>0.079822</td>\n",
       "      <td>-0.011394</td>\n",
       "      <td>0.149317</td>\n",
       "    </tr>\n",
       "    <tr>\n",
       "      <th>1</th>\n",
       "      <td>-0.795939</td>\n",
       "      <td>-1.347036</td>\n",
       "      <td>0.700840</td>\n",
       "      <td>-1.791669</td>\n",
       "      <td>0.878850</td>\n",
       "      <td>-0.634023</td>\n",
       "      <td>-0.123136</td>\n",
       "      <td>0.632779</td>\n",
       "      <td>0.005338</td>\n",
       "      <td>-0.302579</td>\n",
       "      <td>-0.06504</td>\n",
       "      <td>1.239677</td>\n",
       "      <td>1.339787</td>\n",
       "      <td>-1.269301</td>\n",
       "    </tr>\n",
       "    <tr>\n",
       "      <th>2</th>\n",
       "      <td>1.366010</td>\n",
       "      <td>0.095634</td>\n",
       "      <td>0.458313</td>\n",
       "      <td>-0.545338</td>\n",
       "      <td>1.657637</td>\n",
       "      <td>1.790819</td>\n",
       "      <td>-0.325838</td>\n",
       "      <td>0.015128</td>\n",
       "      <td>0.005338</td>\n",
       "      <td>-0.302579</td>\n",
       "      <td>-0.06504</td>\n",
       "      <td>0.543764</td>\n",
       "      <td>0.529079</td>\n",
       "      <td>0.207537</td>\n",
       "    </tr>\n",
       "  </tbody>\n",
       "</table>\n",
       "</div>"
      ],
      "text/plain": [
       "    score_3   score_4   score_6  risk_rate  amount_borrowed  \\\n",
       "0  0.439460 -0.566647  0.400045   1.267507         1.498210   \n",
       "1 -0.795939 -1.347036  0.700840  -1.791669         0.878850   \n",
       "2  1.366010  0.095634  0.458313  -0.545338         1.657637   \n",
       "\n",
       "   borrowed_in_months  credit_limit    income  ok_since  n_bankruptcies  \\\n",
       "0            1.790819     -0.686612 -0.144390 -2.234341       -0.302579   \n",
       "1           -0.634023     -0.123136  0.632779  0.005338       -0.302579   \n",
       "2            1.790819     -0.325838  0.015128  0.005338       -0.302579   \n",
       "\n",
       "   n_defaulted_loans  n_accounts  n_issues  time_loan_to_payment  \n",
       "0           -0.06504    0.079822 -0.011394              0.149317  \n",
       "1           -0.06504    1.239677  1.339787             -1.269301  \n",
       "2           -0.06504    0.543764  0.529079              0.207537  "
      ]
     },
     "execution_count": 62,
     "metadata": {},
     "output_type": "execute_result"
    }
   ],
   "source": [
    "x_train_transformed.head(3)"
   ]
  },
  {
   "cell_type": "code",
   "execution_count": 63,
   "metadata": {},
   "outputs": [
    {
     "data": {
      "text/html": [
       "<div>\n",
       "<style scoped>\n",
       "    .dataframe tbody tr th:only-of-type {\n",
       "        vertical-align: middle;\n",
       "    }\n",
       "\n",
       "    .dataframe tbody tr th {\n",
       "        vertical-align: top;\n",
       "    }\n",
       "\n",
       "    .dataframe thead th {\n",
       "        text-align: right;\n",
       "    }\n",
       "</style>\n",
       "<table border=\"1\" class=\"dataframe\">\n",
       "  <thead>\n",
       "    <tr style=\"text-align: right;\">\n",
       "      <th></th>\n",
       "      <th>score_3</th>\n",
       "      <th>score_4</th>\n",
       "      <th>score_6</th>\n",
       "      <th>risk_rate</th>\n",
       "      <th>amount_borrowed</th>\n",
       "      <th>borrowed_in_months</th>\n",
       "      <th>credit_limit</th>\n",
       "      <th>income</th>\n",
       "      <th>ok_since</th>\n",
       "      <th>n_bankruptcies</th>\n",
       "      <th>n_defaulted_loans</th>\n",
       "      <th>n_accounts</th>\n",
       "      <th>n_issues</th>\n",
       "      <th>time_loan_to_payment</th>\n",
       "    </tr>\n",
       "  </thead>\n",
       "  <tbody>\n",
       "    <tr>\n",
       "      <th>0</th>\n",
       "      <td>1.530579</td>\n",
       "      <td>-0.707401</td>\n",
       "      <td>-0.054374</td>\n",
       "      <td>-0.620927</td>\n",
       "      <td>-0.102326</td>\n",
       "      <td>-0.482654</td>\n",
       "      <td>0.266442</td>\n",
       "      <td>-0.479112</td>\n",
       "      <td>-1.392494</td>\n",
       "      <td>-0.278852</td>\n",
       "      <td>-0.056428</td>\n",
       "      <td>0.515727</td>\n",
       "      <td>0.503231</td>\n",
       "      <td>-0.739319</td>\n",
       "    </tr>\n",
       "    <tr>\n",
       "      <th>1</th>\n",
       "      <td>-0.292224</td>\n",
       "      <td>1.507228</td>\n",
       "      <td>-0.229315</td>\n",
       "      <td>-0.094982</td>\n",
       "      <td>1.119803</td>\n",
       "      <td>2.071879</td>\n",
       "      <td>0.004710</td>\n",
       "      <td>-0.019494</td>\n",
       "      <td>0.007502</td>\n",
       "      <td>-0.278852</td>\n",
       "      <td>-0.056428</td>\n",
       "      <td>-1.014561</td>\n",
       "      <td>-0.006152</td>\n",
       "      <td>0.228424</td>\n",
       "    </tr>\n",
       "    <tr>\n",
       "      <th>2</th>\n",
       "      <td>0.954957</td>\n",
       "      <td>0.530289</td>\n",
       "      <td>-0.118462</td>\n",
       "      <td>-1.357251</td>\n",
       "      <td>-1.548318</td>\n",
       "      <td>-0.482654</td>\n",
       "      <td>0.004710</td>\n",
       "      <td>15.533965</td>\n",
       "      <td>0.007502</td>\n",
       "      <td>-0.278852</td>\n",
       "      <td>-0.056428</td>\n",
       "      <td>0.952953</td>\n",
       "      <td>-0.006152</td>\n",
       "      <td>-0.982250</td>\n",
       "    </tr>\n",
       "  </tbody>\n",
       "</table>\n",
       "</div>"
      ],
      "text/plain": [
       "    score_3   score_4   score_6  risk_rate  amount_borrowed  \\\n",
       "0  1.530579 -0.707401 -0.054374  -0.620927        -0.102326   \n",
       "1 -0.292224  1.507228 -0.229315  -0.094982         1.119803   \n",
       "2  0.954957  0.530289 -0.118462  -1.357251        -1.548318   \n",
       "\n",
       "   borrowed_in_months  credit_limit     income  ok_since  n_bankruptcies  \\\n",
       "0           -0.482654      0.266442  -0.479112 -1.392494       -0.278852   \n",
       "1            2.071879      0.004710  -0.019494  0.007502       -0.278852   \n",
       "2           -0.482654      0.004710  15.533965  0.007502       -0.278852   \n",
       "\n",
       "   n_defaulted_loans  n_accounts  n_issues  time_loan_to_payment  \n",
       "0          -0.056428    0.515727  0.503231             -0.739319  \n",
       "1          -0.056428   -1.014561 -0.006152              0.228424  \n",
       "2          -0.056428    0.952953 -0.006152             -0.982250  "
      ]
     },
     "execution_count": 63,
     "metadata": {},
     "output_type": "execute_result"
    }
   ],
   "source": [
    "x_test_transformed.head(3)"
   ]
  },
  {
   "cell_type": "markdown",
   "metadata": {},
   "source": [
    "## 7 Training the baseline models"
   ]
  },
  {
   "cell_type": "markdown",
   "metadata": {},
   "source": [
    "#### 7.1 Setting the model (kNN) and training"
   ]
  },
  {
   "cell_type": "code",
   "execution_count": 64,
   "metadata": {},
   "outputs": [
    {
     "data": {
      "text/plain": [
       "KNeighborsClassifier(n_neighbors=7)"
      ]
     },
     "execution_count": 64,
     "metadata": {},
     "output_type": "execute_result"
    }
   ],
   "source": [
    "from sklearn.neighbors import KNeighborsClassifier\n",
    "# setting the model\n",
    "kNN = KNeighborsClassifier(n_neighbors=7, p=2, metric='minkowski', metric_params=None)\n",
    "# training the model\n",
    "kNN.fit(x_train_transformed, y_train)"
   ]
  },
  {
   "cell_type": "markdown",
   "metadata": {},
   "source": [
    "#### 7.2 Setting the model (Logistic Regression) and training"
   ]
  },
  {
   "cell_type": "code",
   "execution_count": 65,
   "metadata": {},
   "outputs": [
    {
     "data": {
      "text/plain": [
       "LogisticRegression(max_iter=50000, penalty='l1', solver='liblinear', tol=1e-05)"
      ]
     },
     "execution_count": 65,
     "metadata": {},
     "output_type": "execute_result"
    }
   ],
   "source": [
    "from sklearn.linear_model import LogisticRegression\n",
    "# setting the model\n",
    "LR = LogisticRegression(penalty='l1', dual=False, tol=0.00001, C=1.0, fit_intercept=True,\n",
    "                            intercept_scaling=1, solver='liblinear', max_iter=50000)\n",
    "# training the model\n",
    "LR.fit(x_train_transformed, y_train)"
   ]
  },
  {
   "cell_type": "markdown",
   "metadata": {},
   "source": [
    "#### 7.3 Setting the model (Random Forest) and training"
   ]
  },
  {
   "cell_type": "code",
   "execution_count": 67,
   "metadata": {},
   "outputs": [
    {
     "data": {
      "text/plain": [
       "RandomForestClassifier(criterion='entropy', n_jobs=1, random_state=1)"
      ]
     },
     "execution_count": 67,
     "metadata": {},
     "output_type": "execute_result"
    }
   ],
   "source": [
    "from sklearn.ensemble import RandomForestClassifier\n",
    "# setting the model\n",
    "RF = RandomForestClassifier(n_estimators=100, criterion='entropy', n_jobs=1, random_state=1, verbose=0)\n",
    "# training the model\n",
    "RF.fit(x_train_transformed, y_train)"
   ]
  },
  {
   "cell_type": "markdown",
   "metadata": {},
   "source": [
    "#### 7.4 Setting the model (Naive Bayes) and training"
   ]
  },
  {
   "cell_type": "code",
   "execution_count": 68,
   "metadata": {},
   "outputs": [],
   "source": [
    "from sklearn.naive_bayes import GaussianNB\n",
    "# setting the model\n",
    "GNB = GaussianNB()\n",
    "# training the model\n",
    "GNB = GNB.fit(x_train_transformed, y_train)"
   ]
  },
  {
   "cell_type": "markdown",
   "metadata": {},
   "source": [
    "#### 7.5 Setting the model (Support Vector Machines - SVM) and training"
   ]
  },
  {
   "cell_type": "code",
   "execution_count": 70,
   "metadata": {},
   "outputs": [
    {
     "data": {
      "text/plain": [
       "SVC(C=1, class_weight='balanced', random_state=1)"
      ]
     },
     "execution_count": 70,
     "metadata": {},
     "output_type": "execute_result"
    }
   ],
   "source": [
    "from sklearn.svm import SVC\n",
    "# setting the model\n",
    "SVM = SVC(C=1, kernel='rbf', class_weight='balanced', random_state = 1)\n",
    "# training the model\n",
    "SVM.fit(x_train_transformed, y_train)"
   ]
  },
  {
   "cell_type": "markdown",
   "metadata": {},
   "source": [
    "## 8 Cross-validation (choosing the best models)"
   ]
  },
  {
   "cell_type": "markdown",
   "metadata": {},
   "source": [
    "#### 8.1 Estimating the Recall score using 5-Fold cross-validation (and SMOTE to resampling the imbalanced train dataset)"
   ]
  },
  {
   "cell_type": "code",
   "execution_count": 71,
   "metadata": {},
   "outputs": [],
   "source": [
    "from sklearn.model_selection import cross_val_score\n",
    "from imblearn.pipeline import Pipeline, make_pipeline\n",
    "from sklearn.model_selection import KFold\n",
    "kf = KFold(n_splits=5, shuffle=False)"
   ]
  },
  {
   "cell_type": "code",
   "execution_count": 110,
   "metadata": {},
   "outputs": [],
   "source": [
    "kNN_pipeline_score = make_pipeline(sm, kNN) \n",
    "kNN_score = cross_val_score(kNN_pipeline_score, x_train_transformed, y_train, scoring='accuracy', cv=kf)\n",
    "kNN_recall = kNN_score.mean()\n",
    "kNN_std = kNN_score.std()                                   "
   ]
  },
  {
   "cell_type": "code",
   "execution_count": 73,
   "metadata": {},
   "outputs": [],
   "source": [
    "RF_pipeline_score = make_pipeline(sm, RF) \n",
    "RF_score = cross_val_score(RF_pipeline_score, x_train_transformed, y_train, scoring='recall', cv=kf)\n",
    "RF_recall = RF_score.mean()\n",
    "RF_std = RF_score.std()"
   ]
  },
  {
   "cell_type": "code",
   "execution_count": 74,
   "metadata": {},
   "outputs": [],
   "source": [
    "LR_pipeline_score = make_pipeline(sm, LR) \n",
    "LR_score = cross_val_score(LR_pipeline_score, x_train_transformed, y_train, scoring='recall', cv=kf)\n",
    "LR_recall = LR_score.mean()\n",
    "LR_std = LR_score.std()  "
   ]
  },
  {
   "cell_type": "code",
   "execution_count": 75,
   "metadata": {},
   "outputs": [],
   "source": [
    "GNB_pipeline_score = make_pipeline(sm, GNB) \n",
    "GNB_score = cross_val_score(GNB_pipeline_score, x_train_transformed, y_train, scoring='recall', cv=kf)\n",
    "GNB_recall = GNB_score.mean()\n",
    "GNB_std = GNB_score.std() "
   ]
  },
  {
   "cell_type": "code",
   "execution_count": 76,
   "metadata": {},
   "outputs": [],
   "source": [
    "SVM_pipeline_score = make_pipeline(sm, SVM) \n",
    "SVM_score = cross_val_score(SVM_pipeline_score, x_train_transformed, y_train, scoring='recall', cv=kf)\n",
    "SVM_recall = SVM_score.mean()\n",
    "SVM_std = SVM_score.std()"
   ]
  },
  {
   "cell_type": "code",
   "execution_count": 77,
   "metadata": {},
   "outputs": [
    {
     "data": {
      "text/html": [
       "<div>\n",
       "<style scoped>\n",
       "    .dataframe tbody tr th:only-of-type {\n",
       "        vertical-align: middle;\n",
       "    }\n",
       "\n",
       "    .dataframe tbody tr th {\n",
       "        vertical-align: top;\n",
       "    }\n",
       "\n",
       "    .dataframe thead th {\n",
       "        text-align: right;\n",
       "    }\n",
       "</style>\n",
       "<table border=\"1\" class=\"dataframe\">\n",
       "  <thead>\n",
       "    <tr style=\"text-align: right;\">\n",
       "      <th></th>\n",
       "      <th>Model</th>\n",
       "      <th>Mean Recall</th>\n",
       "      <th>Uncertainty (+/-)</th>\n",
       "    </tr>\n",
       "  </thead>\n",
       "  <tbody>\n",
       "    <tr>\n",
       "      <th>0</th>\n",
       "      <td>kNN</td>\n",
       "      <td>0.87</td>\n",
       "      <td>0.05</td>\n",
       "    </tr>\n",
       "    <tr>\n",
       "      <th>1</th>\n",
       "      <td>Random Forest</td>\n",
       "      <td>0.77</td>\n",
       "      <td>0.16</td>\n",
       "    </tr>\n",
       "    <tr>\n",
       "      <th>4</th>\n",
       "      <td>SVM</td>\n",
       "      <td>0.76</td>\n",
       "      <td>0.11</td>\n",
       "    </tr>\n",
       "    <tr>\n",
       "      <th>3</th>\n",
       "      <td>Naive Bayes</td>\n",
       "      <td>0.75</td>\n",
       "      <td>0.06</td>\n",
       "    </tr>\n",
       "    <tr>\n",
       "      <th>2</th>\n",
       "      <td>Logistic Regression</td>\n",
       "      <td>0.73</td>\n",
       "      <td>0.02</td>\n",
       "    </tr>\n",
       "  </tbody>\n",
       "</table>\n",
       "</div>"
      ],
      "text/plain": [
       "                 Model  Mean Recall  Uncertainty (+/-)\n",
       "0                  kNN         0.87               0.05\n",
       "1        Random Forest         0.77               0.16\n",
       "4                  SVM         0.76               0.11\n",
       "3          Naive Bayes         0.75               0.06\n",
       "2  Logistic Regression         0.73               0.02"
      ]
     },
     "execution_count": 77,
     "metadata": {},
     "output_type": "execute_result"
    }
   ],
   "source": [
    "models_performance = pd.DataFrame({\n",
    "    'Model': ['kNN', 'Random Forest', 'Logistic Regression', 'Naive Bayes', 'SVM'],\n",
    "    'Mean Recall': [kNN_recall, RF_recall, LR_recall, GNB_recall, SVM_recall],\n",
    "    'Uncertainty (+/-)': [kNN_std, RF_std, LR_std, GNB_std, SVM_std]})\n",
    "\n",
    "pd.options.display.float_format = '{:,.2f}'.format\n",
    "models_performance.sort_values(by='Mean Recall', ascending=False)"
   ]
  },
  {
   "cell_type": "markdown",
   "metadata": {},
   "source": [
    "Therefore, the models kNN, Random Forest and SVM have provided better results, we will also study they combined and look if we can improve the results."
   ]
  },
  {
   "cell_type": "markdown",
   "metadata": {},
   "source": [
    "## 9 Perfoming the hyperparameter optimization for the best models"
   ]
  },
  {
   "cell_type": "markdown",
   "metadata": {},
   "source": [
    "#### 9.1 Using 3-Fold Cross-Validation in RandomizedSearchCV"
   ]
  },
  {
   "cell_type": "markdown",
   "metadata": {},
   "source": [
    "As previously discussed, we have an imbalanced dataset. Thus, we are going to use Recall as the evaluation metric to optimize the hyperparameters."
   ]
  },
  {
   "cell_type": "code",
   "execution_count": 78,
   "metadata": {},
   "outputs": [
    {
     "data": {
      "text/plain": [
       "dict_keys(['memory', 'steps', 'verbose', 'smote', 'kneighborsclassifier', 'smote__k_neighbors', 'smote__n_jobs', 'smote__random_state', 'smote__sampling_strategy', 'kneighborsclassifier__algorithm', 'kneighborsclassifier__leaf_size', 'kneighborsclassifier__metric', 'kneighborsclassifier__metric_params', 'kneighborsclassifier__n_jobs', 'kneighborsclassifier__n_neighbors', 'kneighborsclassifier__p', 'kneighborsclassifier__weights'])"
      ]
     },
     "execution_count": 78,
     "metadata": {},
     "output_type": "execute_result"
    }
   ],
   "source": [
    "kNN_pipeline_score.get_params().keys()"
   ]
  },
  {
   "cell_type": "code",
   "execution_count": 79,
   "metadata": {},
   "outputs": [
    {
     "data": {
      "text/plain": [
       "dict_keys(['memory', 'steps', 'verbose', 'smote', 'randomforestclassifier', 'smote__k_neighbors', 'smote__n_jobs', 'smote__random_state', 'smote__sampling_strategy', 'randomforestclassifier__bootstrap', 'randomforestclassifier__ccp_alpha', 'randomforestclassifier__class_weight', 'randomforestclassifier__criterion', 'randomforestclassifier__max_depth', 'randomforestclassifier__max_features', 'randomforestclassifier__max_leaf_nodes', 'randomforestclassifier__max_samples', 'randomforestclassifier__min_impurity_decrease', 'randomforestclassifier__min_impurity_split', 'randomforestclassifier__min_samples_leaf', 'randomforestclassifier__min_samples_split', 'randomforestclassifier__min_weight_fraction_leaf', 'randomforestclassifier__n_estimators', 'randomforestclassifier__n_jobs', 'randomforestclassifier__oob_score', 'randomforestclassifier__random_state', 'randomforestclassifier__verbose', 'randomforestclassifier__warm_start'])"
      ]
     },
     "execution_count": 79,
     "metadata": {},
     "output_type": "execute_result"
    }
   ],
   "source": [
    "RF_pipeline_score.get_params().keys()"
   ]
  },
  {
   "cell_type": "code",
   "execution_count": 80,
   "metadata": {},
   "outputs": [
    {
     "data": {
      "text/plain": [
       "dict_keys(['memory', 'steps', 'verbose', 'smote', 'svc', 'smote__k_neighbors', 'smote__n_jobs', 'smote__random_state', 'smote__sampling_strategy', 'svc__C', 'svc__break_ties', 'svc__cache_size', 'svc__class_weight', 'svc__coef0', 'svc__decision_function_shape', 'svc__degree', 'svc__gamma', 'svc__kernel', 'svc__max_iter', 'svc__probability', 'svc__random_state', 'svc__shrinking', 'svc__tol', 'svc__verbose'])"
      ]
     },
     "execution_count": 80,
     "metadata": {},
     "output_type": "execute_result"
    }
   ],
   "source": [
    "SVM_pipeline_score.get_params().keys()"
   ]
  },
  {
   "cell_type": "markdown",
   "metadata": {},
   "source": [
    "#### 9.2 Optimizing hyperameters for kNN model"
   ]
  },
  {
   "cell_type": "code",
   "execution_count": 111,
   "metadata": {},
   "outputs": [],
   "source": [
    "from sklearn.model_selection import RandomizedSearchCV\n",
    "kf = KFold(n_splits=2, shuffle=False)"
   ]
  },
  {
   "cell_type": "code",
   "execution_count": 112,
   "metadata": {},
   "outputs": [
    {
     "data": {
      "text/plain": [
       "RandomizedSearchCV(cv=KFold(n_splits=2, random_state=None, shuffle=False),\n",
       "                   estimator=Pipeline(steps=[('smote', SMOTE(random_state=1)),\n",
       "                                             ('kneighborsclassifier',\n",
       "                                              KNeighborsClassifier(n_neighbors=7))]),\n",
       "                   n_iter=5,\n",
       "                   param_distributions={'kneighborsclassifier__n_neighbors': array([1, 2, 3, 4, 5, 6, 7, 8, 9])},\n",
       "                   return_train_score=True, scoring='accuracy')"
      ]
     },
     "execution_count": 112,
     "metadata": {},
     "output_type": "execute_result"
    }
   ],
   "source": [
    "k_range = np.arange(1, 10)\n",
    "param_dist = {'kneighborsclassifier__n_neighbors': k_range}\n",
    "kNN_rand_imba = RandomizedSearchCV(kNN_pipeline_score, param_dist, cv=kf, scoring='accuracy', return_train_score=True, n_iter=5)\n",
    "kNN_rand_imba.fit(x_train_transformed, y_train)"
   ]
  },
  {
   "cell_type": "code",
   "execution_count": 113,
   "metadata": {},
   "outputs": [
    {
     "data": {
      "text/plain": [
       "0.7733477390112786"
      ]
     },
     "execution_count": 113,
     "metadata": {},
     "output_type": "execute_result"
    }
   ],
   "source": [
    "kNN_rand_imba.best_score_"
   ]
  },
  {
   "cell_type": "code",
   "execution_count": 114,
   "metadata": {},
   "outputs": [
    {
     "data": {
      "text/plain": [
       "{'kneighborsclassifier__n_neighbors': 8}"
      ]
     },
     "execution_count": 114,
     "metadata": {},
     "output_type": "execute_result"
    }
   ],
   "source": [
    "kNN_rand_imba.best_params_"
   ]
  },
  {
   "cell_type": "code",
   "execution_count": 115,
   "metadata": {},
   "outputs": [
    {
     "data": {
      "text/plain": [
       "Pipeline(steps=[('smote', SMOTE(random_state=1)),\n",
       "                ('kneighborsclassifier', KNeighborsClassifier(n_neighbors=8))])"
      ]
     },
     "execution_count": 115,
     "metadata": {},
     "output_type": "execute_result"
    }
   ],
   "source": [
    "kNN_rand_imba.best_estimator_"
   ]
  },
  {
   "cell_type": "markdown",
   "metadata": {},
   "source": [
    "#### 9.3 Optimizing hyperameters for Random Forest model"
   ]
  },
  {
   "cell_type": "code",
   "execution_count": 88,
   "metadata": {},
   "outputs": [
    {
     "data": {
      "text/plain": [
       "RandomizedSearchCV(cv=KFold(n_splits=2, random_state=None, shuffle=False),\n",
       "                   estimator=Pipeline(steps=[('smote', SMOTE(random_state=1)),\n",
       "                                             ('randomforestclassifier',\n",
       "                                              RandomForestClassifier(criterion='entropy',\n",
       "                                                                     n_jobs=1,\n",
       "                                                                     random_state=1))]),\n",
       "                   n_iter=5,\n",
       "                   param_distributions={'randomforestclassifier__n_estimators': array([  1,   2,   3,   4,   5,   6,   7,   8,   9,  10,  11,  12,  13,\n",
       "        14,  15,  16,  17,  18,  19...\n",
       "       417, 418, 419, 420, 421, 422, 423, 424, 425, 426, 427, 428, 429,\n",
       "       430, 431, 432, 433, 434, 435, 436, 437, 438, 439, 440, 441, 442,\n",
       "       443, 444, 445, 446, 447, 448, 449, 450, 451, 452, 453, 454, 455,\n",
       "       456, 457, 458, 459, 460, 461, 462, 463, 464, 465, 466, 467, 468,\n",
       "       469, 470, 471, 472, 473, 474, 475, 476, 477, 478, 479, 480, 481,\n",
       "       482, 483, 484, 485, 486, 487, 488, 489, 490, 491, 492, 493, 494,\n",
       "       495, 496, 497, 498, 499])},\n",
       "                   return_train_score=True, scoring='recall')"
      ]
     },
     "execution_count": 88,
     "metadata": {},
     "output_type": "execute_result"
    }
   ],
   "source": [
    "N = np.arange(1, 500)\n",
    "param_dist = {'randomforestclassifier__n_estimators': N}\n",
    "RF_rand_imba = RandomizedSearchCV(RF_pipeline_score, param_dist, cv=kf, scoring='recall', return_train_score=True, n_iter=5)\n",
    "RF_rand_imba.fit(x_train_transformed, y_train)"
   ]
  },
  {
   "cell_type": "code",
   "execution_count": 89,
   "metadata": {},
   "outputs": [
    {
     "data": {
      "text/plain": [
       "0.8503360674413306"
      ]
     },
     "execution_count": 89,
     "metadata": {},
     "output_type": "execute_result"
    }
   ],
   "source": [
    "RF_rand_imba.best_score_"
   ]
  },
  {
   "cell_type": "code",
   "execution_count": 90,
   "metadata": {},
   "outputs": [
    {
     "data": {
      "text/plain": [
       "{'randomforestclassifier__n_estimators': 411}"
      ]
     },
     "execution_count": 90,
     "metadata": {},
     "output_type": "execute_result"
    }
   ],
   "source": [
    "RF_rand_imba.best_params_"
   ]
  },
  {
   "cell_type": "code",
   "execution_count": 91,
   "metadata": {},
   "outputs": [
    {
     "data": {
      "text/plain": [
       "Pipeline(steps=[('smote', SMOTE(random_state=1)),\n",
       "                ('randomforestclassifier',\n",
       "                 RandomForestClassifier(criterion='entropy', n_estimators=411,\n",
       "                                        n_jobs=1, random_state=1))])"
      ]
     },
     "execution_count": 91,
     "metadata": {},
     "output_type": "execute_result"
    }
   ],
   "source": [
    "RF_rand_imba.best_estimator_"
   ]
  },
  {
   "cell_type": "markdown",
   "metadata": {},
   "source": [
    "#### 9.4 Training the models with the help of the best hyperparameters"
   ]
  },
  {
   "cell_type": "code",
   "execution_count": 116,
   "metadata": {},
   "outputs": [],
   "source": [
    "bestModelkNNFitted = kNN_rand_imba.best_estimator_.fit(x_train_transformed, y_train)\n",
    "bestModelRFFitted = RF_rand_imba.best_estimator_.fit(x_train_transformed, y_train)"
   ]
  },
  {
   "cell_type": "markdown",
   "metadata": {},
   "source": [
    "## 10 Combining the best two models to perhaps boost the performance"
   ]
  },
  {
   "cell_type": "markdown",
   "metadata": {},
   "source": [
    "#### Setting the combined model (kNN and Random Forest) and training"
   ]
  },
  {
   "cell_type": "code",
   "execution_count": 159,
   "metadata": {},
   "outputs": [],
   "source": [
    "from sklearn.ensemble import VotingClassifier\n",
    "VC = VotingClassifier(estimators=[('kNN', bestModelkNNFitted), \n",
    "                                ('RF', bestModelRFFitted)], voting='soft',weights=[4,1])\n",
    "combined_models = VC.fit(x_train_transformed, y_train)"
   ]
  },
  {
   "cell_type": "markdown",
   "metadata": {},
   "source": [
    "## 11 Evaluating the model's real performance (test dataset)"
   ]
  },
  {
   "cell_type": "markdown",
   "metadata": {},
   "source": [
    "#### 11.1 Making predictions in the test dataset"
   ]
  },
  {
   "cell_type": "code",
   "execution_count": 160,
   "metadata": {},
   "outputs": [],
   "source": [
    "y_test_predicted_RF = bestModelRFFitted.predict(x_test_transformed)\n",
    "y_test_predicted_kNN = bestModelkNNFitted.predict(x_test_transformed)\n",
    "y_test_predicted = combined_models.predict(x_test_transformed)"
   ]
  },
  {
   "cell_type": "markdown",
   "metadata": {},
   "source": [
    "#### 11.2 The final performance"
   ]
  },
  {
   "cell_type": "code",
   "execution_count": 161,
   "metadata": {},
   "outputs": [
    {
     "data": {
      "image/png": "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\n",
      "text/plain": [
       "<Figure size 1512x432 with 6 Axes>"
      ]
     },
     "metadata": {},
     "output_type": "display_data"
    }
   ],
   "source": [
    "from sklearn.metrics import confusion_matrix, classification_report\n",
    "\n",
    "f, ((ax1, ax2, ax3)) = plt.subplots(1, 3, figsize=(21,6))\n",
    "\n",
    "cnf_matrix1 = confusion_matrix(y_test, y_test_predicted_RF)\n",
    "cnf_matrix1 = cnf_matrix1.astype('float') / cnf_matrix1.sum(axis=1)[:, np.newaxis]\n",
    "cnf_matrix2 = confusion_matrix(y_test, y_test_predicted_kNN)\n",
    "cnf_matrix2 = cnf_matrix2.astype('float') / cnf_matrix2.sum(axis=1)[:, np.newaxis]\n",
    "cnf_matrix3 = confusion_matrix(y_test, y_test_predicted)\n",
    "cnf_matrix3 = cnf_matrix3.astype('float') / cnf_matrix3.sum(axis=1)[:, np.newaxis]\n",
    "\n",
    "ax1 = sns.heatmap(cnf_matrix1, ax=ax1, annot=True, annot_kws={\"size\":25}, cmap = \"Greens\")\n",
    "ax1.set_xlabel('Predicted labels', size=20)\n",
    "ax1.set_ylabel('True labels', size=20)\n",
    "ax1.set_title('Confusion Matrix (only Random Forest)', size=20)\n",
    "ax1.xaxis.set_ticklabels(reversed(le.classes_), size=20); ax1.yaxis.set_ticklabels(reversed(le.classes_), size=20)\n",
    "\n",
    "ax2 = sns.heatmap(cnf_matrix2, ax=ax2, annot=True,  annot_kws={\"size\":25}, cmap = \"Greens\")\n",
    "ax2.set_xlabel('Predicted labels', size=20)\n",
    "ax2.set_ylabel('True labels', size=20)\n",
    "ax2.set_title('Confusion Matrix (only kNN)', size=20)\n",
    "ax2.xaxis.set_ticklabels(reversed(le.classes_), size=20); ax2.yaxis.set_ticklabels(reversed(le.classes_), size=20)\n",
    "\n",
    "ax3 = sns.heatmap(cnf_matrix3, ax=ax3, annot=True,  annot_kws={\"size\":25}, cmap = \"Greens\")\n",
    "ax3.set_xlabel('Predicted labels', size=20)\n",
    "ax3.set_ylabel('True labels', size=20)\n",
    "ax3.set_title('Confusion Matrix (Combined models)', size=20)\n",
    "ax3.xaxis.set_ticklabels(reversed(le.classes_), size=20); ax3.yaxis.set_ticklabels(reversed(le.classes_), size=20 )\n",
    "\n",
    "f.tight_layout()\n",
    "plt.show()"
   ]
  },
  {
   "cell_type": "markdown",
   "metadata": {},
   "source": [
    "#### Classification report for Random Forest"
   ]
  },
  {
   "cell_type": "code",
   "execution_count": 162,
   "metadata": {},
   "outputs": [
    {
     "name": "stdout",
     "output_type": "stream",
     "text": [
      "              precision    recall  f1-score   support\n",
      "\n",
      "           0       0.95      0.01      0.02      9606\n",
      "           1       0.15      1.00      0.26      1678\n",
      "\n",
      "    accuracy                           0.15     11284\n",
      "   macro avg       0.55      0.50      0.14     11284\n",
      "weighted avg       0.83      0.15      0.05     11284\n",
      "\n"
     ]
    }
   ],
   "source": [
    "print(classification_report(y_test, y_test_predicted_RF))"
   ]
  },
  {
   "cell_type": "markdown",
   "metadata": {},
   "source": [
    "#### Classification report for kNN"
   ]
  },
  {
   "cell_type": "code",
   "execution_count": 163,
   "metadata": {},
   "outputs": [
    {
     "name": "stdout",
     "output_type": "stream",
     "text": [
      "              precision    recall  f1-score   support\n",
      "\n",
      "           0       0.92      0.68      0.78      9606\n",
      "           1       0.27      0.68      0.38      1678\n",
      "\n",
      "    accuracy                           0.68     11284\n",
      "   macro avg       0.60      0.68      0.58     11284\n",
      "weighted avg       0.83      0.68      0.72     11284\n",
      "\n"
     ]
    }
   ],
   "source": [
    "print(classification_report(y_test, y_test_predicted_kNN))"
   ]
  },
  {
   "cell_type": "markdown",
   "metadata": {},
   "source": [
    "#### Classification report for the combined models"
   ]
  },
  {
   "cell_type": "code",
   "execution_count": 164,
   "metadata": {},
   "outputs": [
    {
     "name": "stdout",
     "output_type": "stream",
     "text": [
      "              precision    recall  f1-score   support\n",
      "\n",
      "           0       0.94      0.56      0.70      9606\n",
      "           1       0.24      0.79      0.37      1678\n",
      "\n",
      "    accuracy                           0.60     11284\n",
      "   macro avg       0.59      0.68      0.54     11284\n",
      "weighted avg       0.84      0.60      0.65     11284\n",
      "\n"
     ]
    }
   ],
   "source": [
    "print(classification_report(y_test, y_test_predicted))"
   ]
  },
  {
   "cell_type": "markdown",
   "metadata": {},
   "source": [
    "## 12 Summary"
   ]
  },
  {
   "cell_type": "markdown",
   "metadata": {},
   "source": [
    "   Therefore, we can see that Random Forest offers the best performance for classifying properly the class \"True\" in Default, i.e., leads to a good precision for this class (0.93, see classification report class 1) and also good AUC (0.96) for the overall model, allowing satisfactory identification of the clients that will no be able to pay the bill (credit card). Moreover, we can see that there is no measurable improvement by combining the two best models explored here.\n",
    "   \n",
    "   The main drawback in this project is the fact that the dataset is highly umbalanced. Thus, applying the random up-sample minority class technique and using a tree-based algorithms (Random Forest), which often perform well on imbalanced datasets because their hierarchical structure allows them to learn signals from both classes, we can considerably improve the results. It is important to highlight that non-extensive analysis of other models or hyperparameters optimization were performed, or even feature selection or outliers removal of non-gaussian features, which could further improve the results. "
   ]
  },
  {
   "cell_type": "markdown",
   "metadata": {},
   "source": [
    "## 13 Saving the Classifier (Final Model)"
   ]
  },
  {
   "cell_type": "markdown",
   "metadata": {},
   "source": [
    "#### Saving the best trained model"
   ]
  },
  {
   "cell_type": "code",
   "execution_count": 100,
   "metadata": {},
   "outputs": [],
   "source": [
    "import pickle\n",
    "pickle.dump(bestModelRFFitted, open('Final_Model.sav', 'wb'))"
   ]
  }
 ],
 "metadata": {
  "kernelspec": {
   "display_name": "Python 3",
   "language": "python",
   "name": "python3"
  },
  "language_info": {
   "codemirror_mode": {
    "name": "ipython",
    "version": 3
   },
   "file_extension": ".py",
   "mimetype": "text/x-python",
   "name": "python",
   "nbconvert_exporter": "python",
   "pygments_lexer": "ipython3",
   "version": "3.8.2"
  }
 },
 "nbformat": 4,
 "nbformat_minor": 4
}
