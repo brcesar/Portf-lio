{
 "cells": [
  {
   "cell_type": "markdown",
   "metadata": {},
   "source": [
    "#  Credit Card Payment Risk Analysis\n",
    "\n",
    "This is a supervised statistical/machine learning model (classification) to predict which clients are able to honor their debt."
   ]
  },
  {
   "cell_type": "markdown",
   "metadata": {},
   "source": [
    "It was used Python 3.8 and jupyter notebook. The following libraries have been used:\n",
    "    \n",
    "- Pandas\n",
    "- NumPy\n",
    "- Scikit-learn\n",
    "- Matplotlib\n",
    "- Seaborn\n",
    "- Imblearn\n",
    "- Pickle"
   ]
  },
  {
   "cell_type": "markdown",
   "metadata": {},
   "source": [
    "We are going to use the models:\n",
    "- kNN\n",
    "- Random Forest\n",
    "- Logistic Regression\n",
    "- Naive Bayes\n",
    "- Support Vector Machines (SVM)"
   ]
  },
  {
   "cell_type": "markdown",
   "metadata": {},
   "source": [
    "Dataset Information:\n",
    " - 26 features\n",
    " - 64591 samples\n",
    " - 2 classes"
   ]
  },
  {
   "cell_type": "markdown",
   "metadata": {},
   "source": [
    "#### The goal is to predict the default target:\n",
    "\n",
    "- False - Who has paid the bill (here is the negative)\n",
    "- True - Who has not been able to pay the bill (here is the positive)"
   ]
  },
  {
   "cell_type": "markdown",
   "metadata": {},
   "source": [
    "## Workflow\n",
    "\n",
    "   ### (Part I) - Exploratory and Preprocessing Data Analysis\n",
    "\n",
    "- **1 Importing the Libraries and loading the dataset** \n",
    "    - Imports and dataset loading\n",
    "    - Initial assessment of the dataset\n",
    "    - Analyzing the possible classes\n",
    "- **2 Dealing with the Missing and Inconsistent Values**\n",
    "    - Removing the NaN values and transforming the targets \n",
    "    - Transforming datetime in integer and calculating the difference between payment and loan datetime\n",
    "    - Removing inconsistent data\n",
    "    - Replacing the missing values    \n",
    "- **3 Exploring the data**\n",
    "    - Analyzing the features\n",
    "    - Inpecting the degree of skewness and tailedness in each feature (which feature has a normal distribution?)\n",
    "- **4 Dealing with outliers**\n",
    "    - Removing the outliers using the Z-score\n",
    "    - Removing the outliers using Quantiles (IQR score)\n",
    "    - Checking the distribution of labels after removing the outliers\n",
    "- **5 Correlation and Feature Importance (which feature could affect the result the most?)**\n",
    "    - Correlation\n",
    "    - Feature Importance\n",
    "- **6 Splitting the dataset in train and test**\n",
    "    - Applying the SMOTE technique to deal with the imbalanced datasets\n",
    "- **7 Feature Scaling**\n",
    "        \n",
    "### (Part II) - Implementing and Training the model\n",
    "\n",
    "- **8 Training the baseline model**\n",
    "    - Setting the model (kNN) and training\n",
    "    - Setting the model (Logistic Regression) and training\n",
    "    - Setting the model (Random Forest) and training\n",
    "    - Setting the model (Naive Bayes) and training\n",
    "    - Setting the model (Support Vector Machines SVM) and training\n",
    "- **9 Cross-validation (choosing the best models)**\n",
    "    - Estimating the Recall using a 10-Fold cross-validation\n",
    "- **10 Perfoming the hyperparameter optimization for the best models**\n",
    "    - Using 10-Fold Cross-Validation in RandomizedSearchCV\n",
    "    - Training the model with the help of the best hyperparameters\n",
    "- **11 Combining the best two models to perhaps boost the performance**\n",
    "    - Setting the combined model (kNN and Random Forest) and training\n",
    "- **12 Evaluating the model's real performance (test dataset)**\n",
    "    - Making predictions in the test dataset\n",
    "    - The final performance: the confusion matrices\n",
    "    - Classification report for Random Forest\n",
    "    - Classification report for kNN\n",
    "    - Classification report for the combined models\n",
    "- **13 Summary**\n",
    "- **14 Saving the Classifier (Final Model)**\n",
    "    - Saving the best trained model\n",
    "    - Saving the predict class probabilities for test dataset\n",
    "\n"
   ]
  },
  {
   "cell_type": "markdown",
   "metadata": {},
   "source": [
    "## 1 Importing the Libraries and loading the dataset "
   ]
  },
  {
   "cell_type": "markdown",
   "metadata": {},
   "source": [
    "#### 1.1 Imports and dataset loading"
   ]
  },
  {
   "cell_type": "code",
   "execution_count": 1,
   "metadata": {},
   "outputs": [],
   "source": [
    "import pandas as pd\n",
    "import numpy as np\n",
    "import matplotlib.pyplot as plt\n",
    "import seaborn as sns\n",
    "%matplotlib inline"
   ]
  },
  {
   "cell_type": "code",
   "execution_count": 6,
   "metadata": {},
   "outputs": [],
   "source": [
    "df = pd.read_csv('dataset.csv')"
   ]
  },
  {
   "cell_type": "code",
   "execution_count": 7,
   "metadata": {},
   "outputs": [
    {
     "data": {
      "text/html": [
       "<div>\n",
       "<style scoped>\n",
       "    .dataframe tbody tr th:only-of-type {\n",
       "        vertical-align: middle;\n",
       "    }\n",
       "\n",
       "    .dataframe tbody tr th {\n",
       "        vertical-align: top;\n",
       "    }\n",
       "\n",
       "    .dataframe thead th {\n",
       "        text-align: right;\n",
       "    }\n",
       "</style>\n",
       "<table border=\"1\" class=\"dataframe\">\n",
       "  <thead>\n",
       "    <tr style=\"text-align: right;\">\n",
       "      <th></th>\n",
       "      <th>ids</th>\n",
       "      <th>default</th>\n",
       "      <th>score_1</th>\n",
       "      <th>score_2</th>\n",
       "      <th>score_3</th>\n",
       "      <th>score_4</th>\n",
       "      <th>score_5</th>\n",
       "      <th>score_6</th>\n",
       "      <th>risk_rate</th>\n",
       "      <th>amount_borrowed</th>\n",
       "      <th>...</th>\n",
       "      <th>state</th>\n",
       "      <th>zip</th>\n",
       "      <th>channel</th>\n",
       "      <th>job_name</th>\n",
       "      <th>real_state</th>\n",
       "      <th>ok_since</th>\n",
       "      <th>n_bankruptcies</th>\n",
       "      <th>n_defaulted_loans</th>\n",
       "      <th>n_accounts</th>\n",
       "      <th>n_issues</th>\n",
       "    </tr>\n",
       "  </thead>\n",
       "  <tbody>\n",
       "    <tr>\n",
       "      <th>0</th>\n",
       "      <td>810e3277-619e-3154-7ba0-ebddfc5f7ea9</td>\n",
       "      <td>False</td>\n",
       "      <td>smzX0nxh5QlePvtVf6EAeg==</td>\n",
       "      <td>tHpS8e9F8d9zg3iOQM9tsA==</td>\n",
       "      <td>710.0</td>\n",
       "      <td>104.174961</td>\n",
       "      <td>0.661509</td>\n",
       "      <td>123.015325</td>\n",
       "      <td>0.43</td>\n",
       "      <td>20024.31</td>\n",
       "      <td>...</td>\n",
       "      <td>xsd3ZdsI3356I3xMxZeiqQ==</td>\n",
       "      <td>i036nmJ7rfxo+3EvCD7Jnw==</td>\n",
       "      <td>NCqL3QBx0pscDnx3ixKwXg==</td>\n",
       "      <td>mLVIVxoGY7TUDJ1FyFoSIZi1SFcaBmO01AydRchaEiGYtU...</td>\n",
       "      <td>n+xK9CfX0bCn77lClTWviw==</td>\n",
       "      <td>14.0</td>\n",
       "      <td>1.0</td>\n",
       "      <td>0.0</td>\n",
       "      <td>9.0</td>\n",
       "      <td>9.0</td>\n",
       "    </tr>\n",
       "    <tr>\n",
       "      <th>1</th>\n",
       "      <td>b4118fd5-77d5-4d80-3617-bacd7aaf1a88</td>\n",
       "      <td>False</td>\n",
       "      <td>DGCQep2AE5QRkNCshIAlFQ==</td>\n",
       "      <td>RO7MTL+j4PH2gNzbhNTq/A==</td>\n",
       "      <td>330.0</td>\n",
       "      <td>97.880798</td>\n",
       "      <td>0.531115</td>\n",
       "      <td>110.913484</td>\n",
       "      <td>0.23</td>\n",
       "      <td>10046.51</td>\n",
       "      <td>...</td>\n",
       "      <td>xsd3ZdsI3356I3xMxZeiqQ==</td>\n",
       "      <td>oyrt7nHjoQSc58vCxgJF/w==</td>\n",
       "      <td>NCqL3QBx0pscDnx3ixKwXg==</td>\n",
       "      <td>mLVIVxoGY7TUDJ1FyFoSIZi1SFcaBmO01AydRchaEiGYtU...</td>\n",
       "      <td>n+xK9CfX0bCn77lClTWviw==</td>\n",
       "      <td>75.0</td>\n",
       "      <td>0.0</td>\n",
       "      <td>0.0</td>\n",
       "      <td>3.0</td>\n",
       "      <td>NaN</td>\n",
       "    </tr>\n",
       "    <tr>\n",
       "      <th>2</th>\n",
       "      <td>a75638f1-4662-4f4f-044a-d649b676d85d</td>\n",
       "      <td>False</td>\n",
       "      <td>8k8UDR4Yx0qasAjkGrUZLw==</td>\n",
       "      <td>wkeCdGeu5sEv4/fjwR0aDg==</td>\n",
       "      <td>360.0</td>\n",
       "      <td>97.908925</td>\n",
       "      <td>0.611086</td>\n",
       "      <td>104.620791</td>\n",
       "      <td>0.30</td>\n",
       "      <td>21228.25</td>\n",
       "      <td>...</td>\n",
       "      <td>/L8vvVesB5WyAv190Hw/rQ==</td>\n",
       "      <td>BMIK35trMYhh9yVrcGg/oQ==</td>\n",
       "      <td>NCqL3QBx0pscDnx3ixKwXg==</td>\n",
       "      <td>mLVIVxoGY7TUDJ1FyFoSIZi1SFcaBmO01AydRchaEiGYtU...</td>\n",
       "      <td>N5/CE7lSkAfB04hVFFwllw==</td>\n",
       "      <td>NaN</td>\n",
       "      <td>0.0</td>\n",
       "      <td>0.0</td>\n",
       "      <td>5.0</td>\n",
       "      <td>NaN</td>\n",
       "    </tr>\n",
       "    <tr>\n",
       "      <th>3</th>\n",
       "      <td>285ce334-3602-42b3-51cb-eebfcba48a09</td>\n",
       "      <td>False</td>\n",
       "      <td>4DLlLW62jReXaqbPaHp1vQ==</td>\n",
       "      <td>tQUTfUyeuGkhRotd+6WjVg==</td>\n",
       "      <td>120.0</td>\n",
       "      <td>100.434557</td>\n",
       "      <td>0.139784</td>\n",
       "      <td>120.134718</td>\n",
       "      <td>0.15</td>\n",
       "      <td>23032.33</td>\n",
       "      <td>...</td>\n",
       "      <td>GW2VZ3dN3OGHSjQ6JkfqQw==</td>\n",
       "      <td>coa2oOrpjxnQl4iyM7dTpQ==</td>\n",
       "      <td>NCqL3QBx0pscDnx3ixKwXg==</td>\n",
       "      <td>mLVIVxoGY7TUDJ1FyFoSIZi1SFcaBmO01AydRchaEiGYtU...</td>\n",
       "      <td>N5/CE7lSkAfB04hVFFwllw==</td>\n",
       "      <td>NaN</td>\n",
       "      <td>0.0</td>\n",
       "      <td>0.0</td>\n",
       "      <td>5.0</td>\n",
       "      <td>NaN</td>\n",
       "    </tr>\n",
       "    <tr>\n",
       "      <th>4</th>\n",
       "      <td>e643bf65-9288-92f2-df13-eed631fe237c</td>\n",
       "      <td>False</td>\n",
       "      <td>4DLlLW62jReXaqbPaHp1vQ==</td>\n",
       "      <td>7h8PTkrlTWUPP3yuyP4rUg==</td>\n",
       "      <td>330.0</td>\n",
       "      <td>103.774638</td>\n",
       "      <td>0.002856</td>\n",
       "      <td>104.320462</td>\n",
       "      <td>0.08</td>\n",
       "      <td>24026.29</td>\n",
       "      <td>...</td>\n",
       "      <td>sjJbkqJS7cXalHLBFA+EOQ==</td>\n",
       "      <td>xTrDMEf/Cnewxc1LO+pfbg==</td>\n",
       "      <td>NCqL3QBx0pscDnx3ixKwXg==</td>\n",
       "      <td>mLVIVxoGY7TUDJ1FyFoSIZi1SFcaBmO01AydRchaEiGYtU...</td>\n",
       "      <td>N5/CE7lSkAfB04hVFFwllw==</td>\n",
       "      <td>15.0</td>\n",
       "      <td>0.0</td>\n",
       "      <td>0.0</td>\n",
       "      <td>10.0</td>\n",
       "      <td>10.0</td>\n",
       "    </tr>\n",
       "  </tbody>\n",
       "</table>\n",
       "<p>5 rows × 29 columns</p>\n",
       "</div>"
      ],
      "text/plain": [
       "                                    ids default                   score_1  \\\n",
       "0  810e3277-619e-3154-7ba0-ebddfc5f7ea9   False  smzX0nxh5QlePvtVf6EAeg==   \n",
       "1  b4118fd5-77d5-4d80-3617-bacd7aaf1a88   False  DGCQep2AE5QRkNCshIAlFQ==   \n",
       "2  a75638f1-4662-4f4f-044a-d649b676d85d   False  8k8UDR4Yx0qasAjkGrUZLw==   \n",
       "3  285ce334-3602-42b3-51cb-eebfcba48a09   False  4DLlLW62jReXaqbPaHp1vQ==   \n",
       "4  e643bf65-9288-92f2-df13-eed631fe237c   False  4DLlLW62jReXaqbPaHp1vQ==   \n",
       "\n",
       "                    score_2  score_3     score_4   score_5     score_6  \\\n",
       "0  tHpS8e9F8d9zg3iOQM9tsA==    710.0  104.174961  0.661509  123.015325   \n",
       "1  RO7MTL+j4PH2gNzbhNTq/A==    330.0   97.880798  0.531115  110.913484   \n",
       "2  wkeCdGeu5sEv4/fjwR0aDg==    360.0   97.908925  0.611086  104.620791   \n",
       "3  tQUTfUyeuGkhRotd+6WjVg==    120.0  100.434557  0.139784  120.134718   \n",
       "4  7h8PTkrlTWUPP3yuyP4rUg==    330.0  103.774638  0.002856  104.320462   \n",
       "\n",
       "   risk_rate  amount_borrowed  ...                     state  \\\n",
       "0       0.43         20024.31  ...  xsd3ZdsI3356I3xMxZeiqQ==   \n",
       "1       0.23         10046.51  ...  xsd3ZdsI3356I3xMxZeiqQ==   \n",
       "2       0.30         21228.25  ...  /L8vvVesB5WyAv190Hw/rQ==   \n",
       "3       0.15         23032.33  ...  GW2VZ3dN3OGHSjQ6JkfqQw==   \n",
       "4       0.08         24026.29  ...  sjJbkqJS7cXalHLBFA+EOQ==   \n",
       "\n",
       "                        zip                   channel  \\\n",
       "0  i036nmJ7rfxo+3EvCD7Jnw==  NCqL3QBx0pscDnx3ixKwXg==   \n",
       "1  oyrt7nHjoQSc58vCxgJF/w==  NCqL3QBx0pscDnx3ixKwXg==   \n",
       "2  BMIK35trMYhh9yVrcGg/oQ==  NCqL3QBx0pscDnx3ixKwXg==   \n",
       "3  coa2oOrpjxnQl4iyM7dTpQ==  NCqL3QBx0pscDnx3ixKwXg==   \n",
       "4  xTrDMEf/Cnewxc1LO+pfbg==  NCqL3QBx0pscDnx3ixKwXg==   \n",
       "\n",
       "                                            job_name  \\\n",
       "0  mLVIVxoGY7TUDJ1FyFoSIZi1SFcaBmO01AydRchaEiGYtU...   \n",
       "1  mLVIVxoGY7TUDJ1FyFoSIZi1SFcaBmO01AydRchaEiGYtU...   \n",
       "2  mLVIVxoGY7TUDJ1FyFoSIZi1SFcaBmO01AydRchaEiGYtU...   \n",
       "3  mLVIVxoGY7TUDJ1FyFoSIZi1SFcaBmO01AydRchaEiGYtU...   \n",
       "4  mLVIVxoGY7TUDJ1FyFoSIZi1SFcaBmO01AydRchaEiGYtU...   \n",
       "\n",
       "                 real_state ok_since n_bankruptcies n_defaulted_loans  \\\n",
       "0  n+xK9CfX0bCn77lClTWviw==     14.0            1.0               0.0   \n",
       "1  n+xK9CfX0bCn77lClTWviw==     75.0            0.0               0.0   \n",
       "2  N5/CE7lSkAfB04hVFFwllw==      NaN            0.0               0.0   \n",
       "3  N5/CE7lSkAfB04hVFFwllw==      NaN            0.0               0.0   \n",
       "4  N5/CE7lSkAfB04hVFFwllw==     15.0            0.0               0.0   \n",
       "\n",
       "  n_accounts n_issues  \n",
       "0        9.0      9.0  \n",
       "1        3.0      NaN  \n",
       "2        5.0      NaN  \n",
       "3        5.0      NaN  \n",
       "4       10.0     10.0  \n",
       "\n",
       "[5 rows x 29 columns]"
      ]
     },
     "execution_count": 7,
     "metadata": {},
     "output_type": "execute_result"
    }
   ],
   "source": [
    "df.head()"
   ]
  },
  {
   "cell_type": "code",
   "execution_count": 8,
   "metadata": {},
   "outputs": [
    {
     "name": "stdout",
     "output_type": "stream",
     "text": [
      "<class 'pandas.core.frame.DataFrame'>\n",
      "RangeIndex: 64592 entries, 0 to 64591\n",
      "Data columns (total 29 columns):\n",
      " #   Column              Non-Null Count  Dtype  \n",
      "---  ------              --------------  -----  \n",
      " 0   ids                 64592 non-null  object \n",
      " 1   default             59966 non-null  object \n",
      " 2   score_1             63807 non-null  object \n",
      " 3   score_2             63807 non-null  object \n",
      " 4   score_3             63807 non-null  float64\n",
      " 5   score_4             64592 non-null  float64\n",
      " 6   score_5             64592 non-null  float64\n",
      " 7   score_6             64592 non-null  float64\n",
      " 8   risk_rate           63807 non-null  float64\n",
      " 9   amount_borrowed     63807 non-null  float64\n",
      " 10  borrowed_in_months  63807 non-null  float64\n",
      " 11  credit_limit        44839 non-null  float64\n",
      " 12  reason              63801 non-null  object \n",
      " 13  income              63807 non-null  float64\n",
      " 14  sign                43825 non-null  object \n",
      " 15  gender              57406 non-null  object \n",
      " 16  facebook_profile    58185 non-null  object \n",
      " 17  last_payment        63730 non-null  object \n",
      " 18  end_last_loan       63804 non-null  object \n",
      " 19  state               63807 non-null  object \n",
      " 20  zip                 63807 non-null  object \n",
      " 21  channel             63807 non-null  object \n",
      " 22  job_name            59797 non-null  object \n",
      " 23  real_state          63807 non-null  object \n",
      " 24  ok_since            26554 non-null  float64\n",
      " 25  n_bankruptcies      63605 non-null  float64\n",
      " 26  n_defaulted_loans   63789 non-null  float64\n",
      " 27  n_accounts          63807 non-null  float64\n",
      " 28  n_issues            48141 non-null  float64\n",
      "dtypes: float64(14), object(15)\n",
      "memory usage: 14.3+ MB\n"
     ]
    }
   ],
   "source": [
    "df.info()"
   ]
  },
  {
   "cell_type": "markdown",
   "metadata": {},
   "source": [
    "#### 1.2 Initial assessment of the dataset"
   ]
  },
  {
   "cell_type": "code",
   "execution_count": 9,
   "metadata": {},
   "outputs": [
    {
     "data": {
      "text/html": [
       "<div>\n",
       "<style scoped>\n",
       "    .dataframe tbody tr th:only-of-type {\n",
       "        vertical-align: middle;\n",
       "    }\n",
       "\n",
       "    .dataframe tbody tr th {\n",
       "        vertical-align: top;\n",
       "    }\n",
       "\n",
       "    .dataframe thead th {\n",
       "        text-align: right;\n",
       "    }\n",
       "</style>\n",
       "<table border=\"1\" class=\"dataframe\">\n",
       "  <thead>\n",
       "    <tr style=\"text-align: right;\">\n",
       "      <th></th>\n",
       "      <th>score_3</th>\n",
       "      <th>score_4</th>\n",
       "      <th>score_5</th>\n",
       "      <th>score_6</th>\n",
       "      <th>risk_rate</th>\n",
       "      <th>amount_borrowed</th>\n",
       "      <th>borrowed_in_months</th>\n",
       "      <th>credit_limit</th>\n",
       "      <th>income</th>\n",
       "      <th>ok_since</th>\n",
       "      <th>n_bankruptcies</th>\n",
       "      <th>n_defaulted_loans</th>\n",
       "      <th>n_accounts</th>\n",
       "      <th>n_issues</th>\n",
       "    </tr>\n",
       "  </thead>\n",
       "  <tbody>\n",
       "    <tr>\n",
       "      <th>count</th>\n",
       "      <td>63807.000000</td>\n",
       "      <td>64592.000000</td>\n",
       "      <td>64592.000000</td>\n",
       "      <td>64592.000000</td>\n",
       "      <td>63807.000000</td>\n",
       "      <td>63807.000000</td>\n",
       "      <td>63807.000000</td>\n",
       "      <td>44839.000000</td>\n",
       "      <td>6.380700e+04</td>\n",
       "      <td>26554.000000</td>\n",
       "      <td>63605.000000</td>\n",
       "      <td>63789.000000</td>\n",
       "      <td>63807.000000</td>\n",
       "      <td>48141.000000</td>\n",
       "    </tr>\n",
       "    <tr>\n",
       "      <th>mean</th>\n",
       "      <td>348.031877</td>\n",
       "      <td>99.997870</td>\n",
       "      <td>0.499220</td>\n",
       "      <td>99.942719</td>\n",
       "      <td>0.296404</td>\n",
       "      <td>13853.282850</td>\n",
       "      <td>41.835347</td>\n",
       "      <td>34562.007560</td>\n",
       "      <td>7.180972e+04</td>\n",
       "      <td>35.174249</td>\n",
       "      <td>0.076959</td>\n",
       "      <td>0.004703</td>\n",
       "      <td>10.681164</td>\n",
       "      <td>11.044847</td>\n",
       "    </tr>\n",
       "    <tr>\n",
       "      <th>std</th>\n",
       "      <td>110.064626</td>\n",
       "      <td>3.170869</td>\n",
       "      <td>0.288769</td>\n",
       "      <td>10.034220</td>\n",
       "      <td>0.101549</td>\n",
       "      <td>8105.662643</td>\n",
       "      <td>10.295568</td>\n",
       "      <td>37041.867093</td>\n",
       "      <td>5.124993e+04</td>\n",
       "      <td>21.663679</td>\n",
       "      <td>0.277000</td>\n",
       "      <td>0.079048</td>\n",
       "      <td>4.583902</td>\n",
       "      <td>4.576030</td>\n",
       "    </tr>\n",
       "    <tr>\n",
       "      <th>min</th>\n",
       "      <td>0.000000</td>\n",
       "      <td>86.191572</td>\n",
       "      <td>0.000035</td>\n",
       "      <td>60.663039</td>\n",
       "      <td>0.000000</td>\n",
       "      <td>527.070000</td>\n",
       "      <td>36.000000</td>\n",
       "      <td>0.000000</td>\n",
       "      <td>4.821180e+03</td>\n",
       "      <td>0.000000</td>\n",
       "      <td>0.000000</td>\n",
       "      <td>0.000000</td>\n",
       "      <td>0.000000</td>\n",
       "      <td>0.000000</td>\n",
       "    </tr>\n",
       "    <tr>\n",
       "      <th>25%</th>\n",
       "      <td>270.000000</td>\n",
       "      <td>97.858659</td>\n",
       "      <td>0.250295</td>\n",
       "      <td>93.210322</td>\n",
       "      <td>0.220000</td>\n",
       "      <td>7762.945000</td>\n",
       "      <td>36.000000</td>\n",
       "      <td>10000.000000</td>\n",
       "      <td>4.501336e+04</td>\n",
       "      <td>17.000000</td>\n",
       "      <td>0.000000</td>\n",
       "      <td>0.000000</td>\n",
       "      <td>7.000000</td>\n",
       "      <td>8.000000</td>\n",
       "    </tr>\n",
       "    <tr>\n",
       "      <th>50%</th>\n",
       "      <td>340.000000</td>\n",
       "      <td>100.006042</td>\n",
       "      <td>0.498237</td>\n",
       "      <td>99.975654</td>\n",
       "      <td>0.290000</td>\n",
       "      <td>12023.680000</td>\n",
       "      <td>36.000000</td>\n",
       "      <td>25775.000000</td>\n",
       "      <td>6.139916e+04</td>\n",
       "      <td>32.000000</td>\n",
       "      <td>0.000000</td>\n",
       "      <td>0.000000</td>\n",
       "      <td>10.000000</td>\n",
       "      <td>10.000000</td>\n",
       "    </tr>\n",
       "    <tr>\n",
       "      <th>75%</th>\n",
       "      <td>420.000000</td>\n",
       "      <td>102.131648</td>\n",
       "      <td>0.749190</td>\n",
       "      <td>106.698884</td>\n",
       "      <td>0.360000</td>\n",
       "      <td>19384.815000</td>\n",
       "      <td>36.000000</td>\n",
       "      <td>47326.500000</td>\n",
       "      <td>8.602645e+04</td>\n",
       "      <td>50.000000</td>\n",
       "      <td>0.000000</td>\n",
       "      <td>0.000000</td>\n",
       "      <td>13.000000</td>\n",
       "      <td>14.000000</td>\n",
       "    </tr>\n",
       "    <tr>\n",
       "      <th>max</th>\n",
       "      <td>990.000000</td>\n",
       "      <td>113.978234</td>\n",
       "      <td>0.999982</td>\n",
       "      <td>142.430069</td>\n",
       "      <td>0.900000</td>\n",
       "      <td>35059.600000</td>\n",
       "      <td>60.000000</td>\n",
       "      <td>613117.000000</td>\n",
       "      <td>5.000028e+06</td>\n",
       "      <td>141.000000</td>\n",
       "      <td>6.000000</td>\n",
       "      <td>5.000000</td>\n",
       "      <td>49.000000</td>\n",
       "      <td>49.000000</td>\n",
       "    </tr>\n",
       "  </tbody>\n",
       "</table>\n",
       "</div>"
      ],
      "text/plain": [
       "            score_3       score_4       score_5       score_6     risk_rate  \\\n",
       "count  63807.000000  64592.000000  64592.000000  64592.000000  63807.000000   \n",
       "mean     348.031877     99.997870      0.499220     99.942719      0.296404   \n",
       "std      110.064626      3.170869      0.288769     10.034220      0.101549   \n",
       "min        0.000000     86.191572      0.000035     60.663039      0.000000   \n",
       "25%      270.000000     97.858659      0.250295     93.210322      0.220000   \n",
       "50%      340.000000    100.006042      0.498237     99.975654      0.290000   \n",
       "75%      420.000000    102.131648      0.749190    106.698884      0.360000   \n",
       "max      990.000000    113.978234      0.999982    142.430069      0.900000   \n",
       "\n",
       "       amount_borrowed  borrowed_in_months   credit_limit        income  \\\n",
       "count     63807.000000        63807.000000   44839.000000  6.380700e+04   \n",
       "mean      13853.282850           41.835347   34562.007560  7.180972e+04   \n",
       "std        8105.662643           10.295568   37041.867093  5.124993e+04   \n",
       "min         527.070000           36.000000       0.000000  4.821180e+03   \n",
       "25%        7762.945000           36.000000   10000.000000  4.501336e+04   \n",
       "50%       12023.680000           36.000000   25775.000000  6.139916e+04   \n",
       "75%       19384.815000           36.000000   47326.500000  8.602645e+04   \n",
       "max       35059.600000           60.000000  613117.000000  5.000028e+06   \n",
       "\n",
       "           ok_since  n_bankruptcies  n_defaulted_loans    n_accounts  \\\n",
       "count  26554.000000    63605.000000       63789.000000  63807.000000   \n",
       "mean      35.174249        0.076959           0.004703     10.681164   \n",
       "std       21.663679        0.277000           0.079048      4.583902   \n",
       "min        0.000000        0.000000           0.000000      0.000000   \n",
       "25%       17.000000        0.000000           0.000000      7.000000   \n",
       "50%       32.000000        0.000000           0.000000     10.000000   \n",
       "75%       50.000000        0.000000           0.000000     13.000000   \n",
       "max      141.000000        6.000000           5.000000     49.000000   \n",
       "\n",
       "           n_issues  \n",
       "count  48141.000000  \n",
       "mean      11.044847  \n",
       "std        4.576030  \n",
       "min        0.000000  \n",
       "25%        8.000000  \n",
       "50%       10.000000  \n",
       "75%       14.000000  \n",
       "max       49.000000  "
      ]
     },
     "execution_count": 9,
     "metadata": {},
     "output_type": "execute_result"
    }
   ],
   "source": [
    "df.describe()"
   ]
  },
  {
   "cell_type": "code",
   "execution_count": 10,
   "metadata": {},
   "outputs": [
    {
     "name": "stdout",
     "output_type": "stream",
     "text": [
      "<class 'pandas.core.frame.DataFrame'>\n",
      "RangeIndex: 64592 entries, 0 to 64591\n",
      "Data columns (total 29 columns):\n",
      " #   Column              Non-Null Count  Dtype  \n",
      "---  ------              --------------  -----  \n",
      " 0   ids                 64592 non-null  object \n",
      " 1   default             59966 non-null  object \n",
      " 2   score_1             63807 non-null  object \n",
      " 3   score_2             63807 non-null  object \n",
      " 4   score_3             63807 non-null  float64\n",
      " 5   score_4             64592 non-null  float64\n",
      " 6   score_5             64592 non-null  float64\n",
      " 7   score_6             64592 non-null  float64\n",
      " 8   risk_rate           63807 non-null  float64\n",
      " 9   amount_borrowed     63807 non-null  float64\n",
      " 10  borrowed_in_months  63807 non-null  float64\n",
      " 11  credit_limit        44839 non-null  float64\n",
      " 12  reason              63801 non-null  object \n",
      " 13  income              63807 non-null  float64\n",
      " 14  sign                43825 non-null  object \n",
      " 15  gender              57406 non-null  object \n",
      " 16  facebook_profile    58185 non-null  object \n",
      " 17  last_payment        63730 non-null  object \n",
      " 18  end_last_loan       63804 non-null  object \n",
      " 19  state               63807 non-null  object \n",
      " 20  zip                 63807 non-null  object \n",
      " 21  channel             63807 non-null  object \n",
      " 22  job_name            59797 non-null  object \n",
      " 23  real_state          63807 non-null  object \n",
      " 24  ok_since            26554 non-null  float64\n",
      " 25  n_bankruptcies      63605 non-null  float64\n",
      " 26  n_defaulted_loans   63789 non-null  float64\n",
      " 27  n_accounts          63807 non-null  float64\n",
      " 28  n_issues            48141 non-null  float64\n",
      "dtypes: float64(14), object(15)\n",
      "memory usage: 14.3+ MB\n"
     ]
    }
   ],
   "source": [
    "df.info()"
   ]
  },
  {
   "cell_type": "markdown",
   "metadata": {},
   "source": [
    "#### 1.3 Analyzing the possible classes"
   ]
  },
  {
   "cell_type": "code",
   "execution_count": 11,
   "metadata": {},
   "outputs": [
    {
     "data": {
      "text/plain": [
       "array([False, True, nan], dtype=object)"
      ]
     },
     "execution_count": 11,
     "metadata": {},
     "output_type": "execute_result"
    }
   ],
   "source": [
    "df.default.unique()"
   ]
  },
  {
   "cell_type": "code",
   "execution_count": 12,
   "metadata": {},
   "outputs": [
    {
     "data": {
      "text/plain": [
       "64592"
      ]
     },
     "execution_count": 12,
     "metadata": {},
     "output_type": "execute_result"
    }
   ],
   "source": [
    "len(df)"
   ]
  },
  {
   "cell_type": "code",
   "execution_count": 13,
   "metadata": {},
   "outputs": [
    {
     "data": {
      "text/plain": [
       "False    78.114937\n",
       "True     14.723186\n",
       "Name: default, dtype: float64"
      ]
     },
     "execution_count": 13,
     "metadata": {},
     "output_type": "execute_result"
    }
   ],
   "source": [
    "total_len = len(df)\n",
    "percentage_labels = (df['default'].value_counts()/total_len)*100\n",
    "percentage_labels"
   ]
  },
  {
   "cell_type": "markdown",
   "metadata": {},
   "source": [
    "The classes are imbalaced!!!"
   ]
  },
  {
   "cell_type": "markdown",
   "metadata": {},
   "source": [
    "##  2 Dealing with the Missing and Inconsistent Values"
   ]
  },
  {
   "cell_type": "markdown",
   "metadata": {},
   "source": [
    "#### 2.1 Removing the NaN values and transforming the targets "
   ]
  },
  {
   "cell_type": "code",
   "execution_count": 14,
   "metadata": {},
   "outputs": [
    {
     "data": {
      "text/plain": [
       "array([False, True], dtype=object)"
      ]
     },
     "execution_count": 14,
     "metadata": {},
     "output_type": "execute_result"
    }
   ],
   "source": [
    "df.dropna(subset = ['default'], inplace=True)\n",
    "df.default.unique()"
   ]
  },
  {
   "cell_type": "code",
   "execution_count": 15,
   "metadata": {},
   "outputs": [
    {
     "data": {
      "text/plain": [
       "array([False, True], dtype=object)"
      ]
     },
     "execution_count": 15,
     "metadata": {},
     "output_type": "execute_result"
    }
   ],
   "source": [
    "from sklearn.preprocessing import LabelEncoder\n",
    "le = LabelEncoder()\n",
    "targets = le.fit_transform(df['default'])\n",
    "le.classes_"
   ]
  },
  {
   "cell_type": "code",
   "execution_count": 16,
   "metadata": {},
   "outputs": [],
   "source": [
    "df['default'] = targets"
   ]
  },
  {
   "cell_type": "markdown",
   "metadata": {},
   "source": [
    "Labels distribution after remove NaN values in the target."
   ]
  },
  {
   "cell_type": "code",
   "execution_count": 17,
   "metadata": {},
   "outputs": [
    {
     "name": "stdout",
     "output_type": "stream",
     "text": [
      "Distribution of the Classes\n",
      "0    0.84141\n",
      "1    0.15859\n",
      "Name: default, dtype: float64\n"
     ]
    },
    {
     "data": {
      "image/png": "[encoded data removed]",
      "text/plain": [
       "<Figure size 432x288 with 1 Axes>"
      ]
     },
     "metadata": {},
     "output_type": "display_data"
    }
   ],
   "source": [
    "print('Distribution of the Classes')\n",
    "print(df['default'].value_counts()/len(df))\n",
    "sns.set(style='darkgrid')\n",
    "sns.countplot('default', data=df)\n",
    "plt.title('Unequally Distributed Classes', fontsize=14)\n",
    "plt.show()"
   ]
  },
  {
   "cell_type": "markdown",
   "metadata": {},
   "source": [
    "We are interested in the default value \"True\" (who couldn't pay the bill), which has been assigned to the value 1."
   ]
  },
  {
   "cell_type": "code",
   "execution_count": 18,
   "metadata": {},
   "outputs": [
    {
     "data": {
      "text/html": [
       "<div>\n",
       "<style scoped>\n",
       "    .dataframe tbody tr th:only-of-type {\n",
       "        vertical-align: middle;\n",
       "    }\n",
       "\n",
       "    .dataframe tbody tr th {\n",
       "        vertical-align: top;\n",
       "    }\n",
       "\n",
       "    .dataframe thead th {\n",
       "        text-align: right;\n",
       "    }\n",
       "</style>\n",
       "<table border=\"1\" class=\"dataframe\">\n",
       "  <thead>\n",
       "    <tr style=\"text-align: right;\">\n",
       "      <th></th>\n",
       "      <th>ids</th>\n",
       "      <th>default</th>\n",
       "      <th>score_1</th>\n",
       "      <th>score_2</th>\n",
       "      <th>score_3</th>\n",
       "      <th>score_4</th>\n",
       "      <th>score_5</th>\n",
       "      <th>score_6</th>\n",
       "      <th>risk_rate</th>\n",
       "      <th>amount_borrowed</th>\n",
       "      <th>...</th>\n",
       "      <th>state</th>\n",
       "      <th>zip</th>\n",
       "      <th>channel</th>\n",
       "      <th>job_name</th>\n",
       "      <th>real_state</th>\n",
       "      <th>ok_since</th>\n",
       "      <th>n_bankruptcies</th>\n",
       "      <th>n_defaulted_loans</th>\n",
       "      <th>n_accounts</th>\n",
       "      <th>n_issues</th>\n",
       "    </tr>\n",
       "  </thead>\n",
       "  <tbody>\n",
       "    <tr>\n",
       "      <th>0</th>\n",
       "      <td>810e3277-619e-3154-7ba0-ebddfc5f7ea9</td>\n",
       "      <td>0</td>\n",
       "      <td>smzX0nxh5QlePvtVf6EAeg==</td>\n",
       "      <td>tHpS8e9F8d9zg3iOQM9tsA==</td>\n",
       "      <td>710.0</td>\n",
       "      <td>104.174961</td>\n",
       "      <td>0.661509</td>\n",
       "      <td>123.015325</td>\n",
       "      <td>0.43</td>\n",
       "      <td>20024.31</td>\n",
       "      <td>...</td>\n",
       "      <td>xsd3ZdsI3356I3xMxZeiqQ==</td>\n",
       "      <td>i036nmJ7rfxo+3EvCD7Jnw==</td>\n",
       "      <td>NCqL3QBx0pscDnx3ixKwXg==</td>\n",
       "      <td>mLVIVxoGY7TUDJ1FyFoSIZi1SFcaBmO01AydRchaEiGYtU...</td>\n",
       "      <td>n+xK9CfX0bCn77lClTWviw==</td>\n",
       "      <td>14.0</td>\n",
       "      <td>1.0</td>\n",
       "      <td>0.0</td>\n",
       "      <td>9.0</td>\n",
       "      <td>9.0</td>\n",
       "    </tr>\n",
       "    <tr>\n",
       "      <th>1</th>\n",
       "      <td>b4118fd5-77d5-4d80-3617-bacd7aaf1a88</td>\n",
       "      <td>0</td>\n",
       "      <td>DGCQep2AE5QRkNCshIAlFQ==</td>\n",
       "      <td>RO7MTL+j4PH2gNzbhNTq/A==</td>\n",
       "      <td>330.0</td>\n",
       "      <td>97.880798</td>\n",
       "      <td>0.531115</td>\n",
       "      <td>110.913484</td>\n",
       "      <td>0.23</td>\n",
       "      <td>10046.51</td>\n",
       "      <td>...</td>\n",
       "      <td>xsd3ZdsI3356I3xMxZeiqQ==</td>\n",
       "      <td>oyrt7nHjoQSc58vCxgJF/w==</td>\n",
       "      <td>NCqL3QBx0pscDnx3ixKwXg==</td>\n",
       "      <td>mLVIVxoGY7TUDJ1FyFoSIZi1SFcaBmO01AydRchaEiGYtU...</td>\n",
       "      <td>n+xK9CfX0bCn77lClTWviw==</td>\n",
       "      <td>75.0</td>\n",
       "      <td>0.0</td>\n",
       "      <td>0.0</td>\n",
       "      <td>3.0</td>\n",
       "      <td>NaN</td>\n",
       "    </tr>\n",
       "    <tr>\n",
       "      <th>2</th>\n",
       "      <td>a75638f1-4662-4f4f-044a-d649b676d85d</td>\n",
       "      <td>0</td>\n",
       "      <td>8k8UDR4Yx0qasAjkGrUZLw==</td>\n",
       "      <td>wkeCdGeu5sEv4/fjwR0aDg==</td>\n",
       "      <td>360.0</td>\n",
       "      <td>97.908925</td>\n",
       "      <td>0.611086</td>\n",
       "      <td>104.620791</td>\n",
       "      <td>0.30</td>\n",
       "      <td>21228.25</td>\n",
       "      <td>...</td>\n",
       "      <td>/L8vvVesB5WyAv190Hw/rQ==</td>\n",
       "      <td>BMIK35trMYhh9yVrcGg/oQ==</td>\n",
       "      <td>NCqL3QBx0pscDnx3ixKwXg==</td>\n",
       "      <td>mLVIVxoGY7TUDJ1FyFoSIZi1SFcaBmO01AydRchaEiGYtU...</td>\n",
       "      <td>N5/CE7lSkAfB04hVFFwllw==</td>\n",
       "      <td>NaN</td>\n",
       "      <td>0.0</td>\n",
       "      <td>0.0</td>\n",
       "      <td>5.0</td>\n",
       "      <td>NaN</td>\n",
       "    </tr>\n",
       "  </tbody>\n",
       "</table>\n",
       "<p>3 rows × 29 columns</p>\n",
       "</div>"
      ],
      "text/plain": [
       "                                    ids  default                   score_1  \\\n",
       "0  810e3277-619e-3154-7ba0-ebddfc5f7ea9        0  smzX0nxh5QlePvtVf6EAeg==   \n",
       "1  b4118fd5-77d5-4d80-3617-bacd7aaf1a88        0  DGCQep2AE5QRkNCshIAlFQ==   \n",
       "2  a75638f1-4662-4f4f-044a-d649b676d85d        0  8k8UDR4Yx0qasAjkGrUZLw==   \n",
       "\n",
       "                    score_2  score_3     score_4   score_5     score_6  \\\n",
       "0  tHpS8e9F8d9zg3iOQM9tsA==    710.0  104.174961  0.661509  123.015325   \n",
       "1  RO7MTL+j4PH2gNzbhNTq/A==    330.0   97.880798  0.531115  110.913484   \n",
       "2  wkeCdGeu5sEv4/fjwR0aDg==    360.0   97.908925  0.611086  104.620791   \n",
       "\n",
       "   risk_rate  amount_borrowed  ...                     state  \\\n",
       "0       0.43         20024.31  ...  xsd3ZdsI3356I3xMxZeiqQ==   \n",
       "1       0.23         10046.51  ...  xsd3ZdsI3356I3xMxZeiqQ==   \n",
       "2       0.30         21228.25  ...  /L8vvVesB5WyAv190Hw/rQ==   \n",
       "\n",
       "                        zip                   channel  \\\n",
       "0  i036nmJ7rfxo+3EvCD7Jnw==  NCqL3QBx0pscDnx3ixKwXg==   \n",
       "1  oyrt7nHjoQSc58vCxgJF/w==  NCqL3QBx0pscDnx3ixKwXg==   \n",
       "2  BMIK35trMYhh9yVrcGg/oQ==  NCqL3QBx0pscDnx3ixKwXg==   \n",
       "\n",
       "                                            job_name  \\\n",
       "0  mLVIVxoGY7TUDJ1FyFoSIZi1SFcaBmO01AydRchaEiGYtU...   \n",
       "1  mLVIVxoGY7TUDJ1FyFoSIZi1SFcaBmO01AydRchaEiGYtU...   \n",
       "2  mLVIVxoGY7TUDJ1FyFoSIZi1SFcaBmO01AydRchaEiGYtU...   \n",
       "\n",
       "                 real_state ok_since n_bankruptcies n_defaulted_loans  \\\n",
       "0  n+xK9CfX0bCn77lClTWviw==     14.0            1.0               0.0   \n",
       "1  n+xK9CfX0bCn77lClTWviw==     75.0            0.0               0.0   \n",
       "2  N5/CE7lSkAfB04hVFFwllw==      NaN            0.0               0.0   \n",
       "\n",
       "  n_accounts n_issues  \n",
       "0        9.0      9.0  \n",
       "1        3.0      NaN  \n",
       "2        5.0      NaN  \n",
       "\n",
       "[3 rows x 29 columns]"
      ]
     },
     "execution_count": 18,
     "metadata": {},
     "output_type": "execute_result"
    }
   ],
   "source": [
    "df.head(3)"
   ]
  },
  {
   "cell_type": "markdown",
   "metadata": {},
   "source": [
    "#### 2.2 Transform datetime in integer and calculating the difference between payment and loan datetime"
   ]
  },
  {
   "cell_type": "code",
   "execution_count": 19,
   "metadata": {},
   "outputs": [
    {
     "data": {
      "text/plain": [
       "0         396.0\n",
       "1           0.0\n",
       "2         181.0\n",
       "3           0.0\n",
       "4         151.0\n",
       "          ...  \n",
       "64587       0.0\n",
       "64588      31.0\n",
       "64589     274.0\n",
       "64590    2161.0\n",
       "64591       0.0\n",
       "Name: time_loan_to_payment, Length: 59966, dtype: float64"
      ]
     },
     "execution_count": 19,
     "metadata": {},
     "output_type": "execute_result"
    }
   ],
   "source": [
    "df['last_payment'] = pd.to_datetime(df['last_payment'])\n",
    "df['end_last_loan'] = pd.to_datetime(df['end_last_loan'])\n",
    "df['time_loan_to_payment'] = (df['end_last_loan'] - df['last_payment']).dt.days\n",
    "df['time_loan_to_payment']"
   ]
  },
  {
   "cell_type": "code",
   "execution_count": 20,
   "metadata": {},
   "outputs": [
    {
     "name": "stdout",
     "output_type": "stream",
     "text": [
      "<class 'pandas.core.frame.DataFrame'>\n",
      "Int64Index: 59966 entries, 0 to 64591\n",
      "Data columns (total 30 columns):\n",
      " #   Column                Non-Null Count  Dtype         \n",
      "---  ------                --------------  -----         \n",
      " 0   ids                   59966 non-null  object        \n",
      " 1   default               59966 non-null  int32         \n",
      " 2   score_1               59966 non-null  object        \n",
      " 3   score_2               59966 non-null  object        \n",
      " 4   score_3               59966 non-null  float64       \n",
      " 5   score_4               59966 non-null  float64       \n",
      " 6   score_5               59966 non-null  float64       \n",
      " 7   score_6               59966 non-null  float64       \n",
      " 8   risk_rate             59966 non-null  float64       \n",
      " 9   amount_borrowed       59966 non-null  float64       \n",
      " 10  borrowed_in_months    59966 non-null  float64       \n",
      " 11  credit_limit          41187 non-null  float64       \n",
      " 12  reason                59961 non-null  object        \n",
      " 13  income                59966 non-null  float64       \n",
      " 14  sign                  41028 non-null  object        \n",
      " 15  gender                56970 non-null  object        \n",
      " 16  facebook_profile      53995 non-null  object        \n",
      " 17  last_payment          59889 non-null  datetime64[ns]\n",
      " 18  end_last_loan         59963 non-null  datetime64[ns]\n",
      " 19  state                 59966 non-null  object        \n",
      " 20  zip                   59966 non-null  object        \n",
      " 21  channel               59966 non-null  object        \n",
      " 22  job_name              56175 non-null  object        \n",
      " 23  real_state            59966 non-null  object        \n",
      " 24  ok_since              24877 non-null  float64       \n",
      " 25  n_bankruptcies        59764 non-null  float64       \n",
      " 26  n_defaulted_loans     59948 non-null  float64       \n",
      " 27  n_accounts            59966 non-null  float64       \n",
      " 28  n_issues              44386 non-null  float64       \n",
      " 29  time_loan_to_payment  59886 non-null  float64       \n",
      "dtypes: datetime64[ns](2), float64(15), int32(1), object(12)\n",
      "memory usage: 16.5+ MB\n"
     ]
    }
   ],
   "source": [
    "df.info()"
   ]
  },
  {
   "cell_type": "markdown",
   "metadata": {},
   "source": [
    "#### 2.3 Removing inconsistent data"
   ]
  },
  {
   "cell_type": "code",
   "execution_count": 21,
   "metadata": {},
   "outputs": [],
   "source": [
    "df_clean = df.drop(columns = ['ids','state','zip','channel', 'job_name','sign','reason', 'gender','facebook_profile',\n",
    "                              'real_state','score_1','score_2','last_payment','end_last_loan'])"
   ]
  },
  {
   "cell_type": "code",
   "execution_count": 22,
   "metadata": {},
   "outputs": [
    {
     "data": {
      "text/plain": [
       "['default',\n",
       " 'score_3',\n",
       " 'score_4',\n",
       " 'score_5',\n",
       " 'score_6',\n",
       " 'risk_rate',\n",
       " 'amount_borrowed',\n",
       " 'borrowed_in_months',\n",
       " 'credit_limit',\n",
       " 'income',\n",
       " 'ok_since',\n",
       " 'n_bankruptcies',\n",
       " 'n_defaulted_loans',\n",
       " 'n_accounts',\n",
       " 'n_issues',\n",
       " 'time_loan_to_payment']"
      ]
     },
     "execution_count": 22,
     "metadata": {},
     "output_type": "execute_result"
    }
   ],
   "source": [
    "df_clean.columns.tolist()"
   ]
  },
  {
   "cell_type": "code",
   "execution_count": 23,
   "metadata": {},
   "outputs": [
    {
     "data": {
      "text/html": [
       "<div>\n",
       "<style scoped>\n",
       "    .dataframe tbody tr th:only-of-type {\n",
       "        vertical-align: middle;\n",
       "    }\n",
       "\n",
       "    .dataframe tbody tr th {\n",
       "        vertical-align: top;\n",
       "    }\n",
       "\n",
       "    .dataframe thead th {\n",
       "        text-align: right;\n",
       "    }\n",
       "</style>\n",
       "<table border=\"1\" class=\"dataframe\">\n",
       "  <thead>\n",
       "    <tr style=\"text-align: right;\">\n",
       "      <th></th>\n",
       "      <th>default</th>\n",
       "      <th>score_3</th>\n",
       "      <th>score_4</th>\n",
       "      <th>score_5</th>\n",
       "      <th>score_6</th>\n",
       "      <th>risk_rate</th>\n",
       "      <th>amount_borrowed</th>\n",
       "      <th>borrowed_in_months</th>\n",
       "      <th>credit_limit</th>\n",
       "      <th>income</th>\n",
       "      <th>ok_since</th>\n",
       "      <th>n_bankruptcies</th>\n",
       "      <th>n_defaulted_loans</th>\n",
       "      <th>n_accounts</th>\n",
       "      <th>n_issues</th>\n",
       "      <th>time_loan_to_payment</th>\n",
       "    </tr>\n",
       "  </thead>\n",
       "  <tbody>\n",
       "    <tr>\n",
       "      <th>0</th>\n",
       "      <td>0</td>\n",
       "      <td>710.0</td>\n",
       "      <td>104.174961</td>\n",
       "      <td>0.661509</td>\n",
       "      <td>123.015325</td>\n",
       "      <td>0.43</td>\n",
       "      <td>20024.31</td>\n",
       "      <td>60.0</td>\n",
       "      <td>62386.0</td>\n",
       "      <td>59869.05</td>\n",
       "      <td>14.0</td>\n",
       "      <td>1.0</td>\n",
       "      <td>0.0</td>\n",
       "      <td>9.0</td>\n",
       "      <td>9.0</td>\n",
       "      <td>396.0</td>\n",
       "    </tr>\n",
       "    <tr>\n",
       "      <th>1</th>\n",
       "      <td>0</td>\n",
       "      <td>330.0</td>\n",
       "      <td>97.880798</td>\n",
       "      <td>0.531115</td>\n",
       "      <td>110.913484</td>\n",
       "      <td>0.23</td>\n",
       "      <td>10046.51</td>\n",
       "      <td>36.0</td>\n",
       "      <td>NaN</td>\n",
       "      <td>46016.31</td>\n",
       "      <td>75.0</td>\n",
       "      <td>0.0</td>\n",
       "      <td>0.0</td>\n",
       "      <td>3.0</td>\n",
       "      <td>NaN</td>\n",
       "      <td>0.0</td>\n",
       "    </tr>\n",
       "    <tr>\n",
       "      <th>2</th>\n",
       "      <td>0</td>\n",
       "      <td>360.0</td>\n",
       "      <td>97.908925</td>\n",
       "      <td>0.611086</td>\n",
       "      <td>104.620791</td>\n",
       "      <td>0.30</td>\n",
       "      <td>21228.25</td>\n",
       "      <td>60.0</td>\n",
       "      <td>NaN</td>\n",
       "      <td>48025.47</td>\n",
       "      <td>NaN</td>\n",
       "      <td>0.0</td>\n",
       "      <td>0.0</td>\n",
       "      <td>5.0</td>\n",
       "      <td>NaN</td>\n",
       "      <td>181.0</td>\n",
       "    </tr>\n",
       "    <tr>\n",
       "      <th>3</th>\n",
       "      <td>0</td>\n",
       "      <td>120.0</td>\n",
       "      <td>100.434557</td>\n",
       "      <td>0.139784</td>\n",
       "      <td>120.134718</td>\n",
       "      <td>0.15</td>\n",
       "      <td>23032.33</td>\n",
       "      <td>36.0</td>\n",
       "      <td>NaN</td>\n",
       "      <td>46011.12</td>\n",
       "      <td>NaN</td>\n",
       "      <td>0.0</td>\n",
       "      <td>0.0</td>\n",
       "      <td>5.0</td>\n",
       "      <td>NaN</td>\n",
       "      <td>0.0</td>\n",
       "    </tr>\n",
       "    <tr>\n",
       "      <th>4</th>\n",
       "      <td>0</td>\n",
       "      <td>330.0</td>\n",
       "      <td>103.774638</td>\n",
       "      <td>0.002856</td>\n",
       "      <td>104.320462</td>\n",
       "      <td>0.08</td>\n",
       "      <td>24026.29</td>\n",
       "      <td>36.0</td>\n",
       "      <td>32366.0</td>\n",
       "      <td>90026.17</td>\n",
       "      <td>15.0</td>\n",
       "      <td>0.0</td>\n",
       "      <td>0.0</td>\n",
       "      <td>10.0</td>\n",
       "      <td>10.0</td>\n",
       "      <td>151.0</td>\n",
       "    </tr>\n",
       "  </tbody>\n",
       "</table>\n",
       "</div>"
      ],
      "text/plain": [
       "   default  score_3     score_4   score_5     score_6  risk_rate  \\\n",
       "0        0    710.0  104.174961  0.661509  123.015325       0.43   \n",
       "1        0    330.0   97.880798  0.531115  110.913484       0.23   \n",
       "2        0    360.0   97.908925  0.611086  104.620791       0.30   \n",
       "3        0    120.0  100.434557  0.139784  120.134718       0.15   \n",
       "4        0    330.0  103.774638  0.002856  104.320462       0.08   \n",
       "\n",
       "   amount_borrowed  borrowed_in_months  credit_limit    income  ok_since  \\\n",
       "0         20024.31                60.0       62386.0  59869.05      14.0   \n",
       "1         10046.51                36.0           NaN  46016.31      75.0   \n",
       "2         21228.25                60.0           NaN  48025.47       NaN   \n",
       "3         23032.33                36.0           NaN  46011.12       NaN   \n",
       "4         24026.29                36.0       32366.0  90026.17      15.0   \n",
       "\n",
       "   n_bankruptcies  n_defaulted_loans  n_accounts  n_issues  \\\n",
       "0             1.0                0.0         9.0       9.0   \n",
       "1             0.0                0.0         3.0       NaN   \n",
       "2             0.0                0.0         5.0       NaN   \n",
       "3             0.0                0.0         5.0       NaN   \n",
       "4             0.0                0.0        10.0      10.0   \n",
       "\n",
       "   time_loan_to_payment  \n",
       "0                 396.0  \n",
       "1                   0.0  \n",
       "2                 181.0  \n",
       "3                   0.0  \n",
       "4                 151.0  "
      ]
     },
     "execution_count": 23,
     "metadata": {},
     "output_type": "execute_result"
    }
   ],
   "source": [
    "df_clean.head()"
   ]
  },
  {
   "cell_type": "code",
   "execution_count": 24,
   "metadata": {},
   "outputs": [
    {
     "data": {
      "text/plain": [
       "default                     0\n",
       "score_3                     0\n",
       "score_4                     0\n",
       "score_5                     0\n",
       "score_6                     0\n",
       "risk_rate                   0\n",
       "amount_borrowed             0\n",
       "borrowed_in_months          0\n",
       "credit_limit            18779\n",
       "income                      0\n",
       "ok_since                35089\n",
       "n_bankruptcies            202\n",
       "n_defaulted_loans          18\n",
       "n_accounts                  0\n",
       "n_issues                15580\n",
       "time_loan_to_payment       80\n",
       "dtype: int64"
      ]
     },
     "execution_count": 24,
     "metadata": {},
     "output_type": "execute_result"
    }
   ],
   "source": [
    "df_clean.isnull().sum()"
   ]
  },
  {
   "cell_type": "markdown",
   "metadata": {},
   "source": [
    "#### 2.4 Replacing the missing values "
   ]
  },
  {
   "cell_type": "markdown",
   "metadata": {},
   "source": [
    "We will mainly use the mean to replace the missing values."
   ]
  },
  {
   "cell_type": "code",
   "execution_count": 25,
   "metadata": {},
   "outputs": [
    {
     "data": {
      "text/plain": [
       "score_3                   346.435147\n",
       "score_4                    99.999870\n",
       "score_5                     0.498721\n",
       "score_6                    99.943175\n",
       "risk_rate                   0.294114\n",
       "amount_borrowed         13411.805468\n",
       "borrowed_in_months         40.674649\n",
       "credit_limit            34093.005997\n",
       "income                  71325.776783\n",
       "ok_since                   35.276762\n",
       "n_bankruptcies              0.077706\n",
       "n_defaulted_loans           0.004671\n",
       "n_accounts                 10.624571\n",
       "n_issues                   11.001036\n",
       "time_loan_to_payment      496.891661\n",
       "dtype: float64"
      ]
     },
     "execution_count": 25,
     "metadata": {},
     "output_type": "execute_result"
    }
   ],
   "source": [
    "mean = df_clean[df_clean.columns[1:]].mean()\n",
    "mean"
   ]
  },
  {
   "cell_type": "code",
   "execution_count": 26,
   "metadata": {},
   "outputs": [
    {
     "data": {
      "text/plain": [
       "score_3                   340.000000\n",
       "score_4                   100.008497\n",
       "score_5                     0.497755\n",
       "score_6                    99.979923\n",
       "risk_rate                   0.290000\n",
       "amount_borrowed         12012.400000\n",
       "borrowed_in_months         36.000000\n",
       "credit_limit            25338.000000\n",
       "income                  60047.260000\n",
       "ok_since                   32.000000\n",
       "n_bankruptcies              0.000000\n",
       "n_defaulted_loans           0.000000\n",
       "n_accounts                 10.000000\n",
       "n_issues                   10.000000\n",
       "time_loan_to_payment      394.000000\n",
       "dtype: float64"
      ]
     },
     "execution_count": 26,
     "metadata": {},
     "output_type": "execute_result"
    }
   ],
   "source": [
    "median = df_clean[df_clean.columns[1:]].median()\n",
    "median"
   ]
  },
  {
   "cell_type": "code",
   "execution_count": 27,
   "metadata": {},
   "outputs": [
    {
     "data": {
      "text/html": [
       "<div>\n",
       "<style scoped>\n",
       "    .dataframe tbody tr th:only-of-type {\n",
       "        vertical-align: middle;\n",
       "    }\n",
       "\n",
       "    .dataframe tbody tr th {\n",
       "        vertical-align: top;\n",
       "    }\n",
       "\n",
       "    .dataframe thead th {\n",
       "        text-align: right;\n",
       "    }\n",
       "</style>\n",
       "<table border=\"1\" class=\"dataframe\">\n",
       "  <thead>\n",
       "    <tr style=\"text-align: right;\">\n",
       "      <th></th>\n",
       "      <th>default</th>\n",
       "      <th>score_3</th>\n",
       "      <th>score_4</th>\n",
       "      <th>score_5</th>\n",
       "      <th>score_6</th>\n",
       "      <th>risk_rate</th>\n",
       "      <th>amount_borrowed</th>\n",
       "      <th>borrowed_in_months</th>\n",
       "      <th>credit_limit</th>\n",
       "      <th>income</th>\n",
       "      <th>ok_since</th>\n",
       "      <th>n_bankruptcies</th>\n",
       "      <th>n_defaulted_loans</th>\n",
       "      <th>n_accounts</th>\n",
       "      <th>n_issues</th>\n",
       "      <th>time_loan_to_payment</th>\n",
       "    </tr>\n",
       "  </thead>\n",
       "  <tbody>\n",
       "    <tr>\n",
       "      <th>0</th>\n",
       "      <td>0</td>\n",
       "      <td>710.0</td>\n",
       "      <td>104.174961</td>\n",
       "      <td>0.661509</td>\n",
       "      <td>123.015325</td>\n",
       "      <td>0.43</td>\n",
       "      <td>20024.31</td>\n",
       "      <td>60.0</td>\n",
       "      <td>62386.000000</td>\n",
       "      <td>59869.05</td>\n",
       "      <td>14.000000</td>\n",
       "      <td>1.0</td>\n",
       "      <td>0.0</td>\n",
       "      <td>9.0</td>\n",
       "      <td>9.000000</td>\n",
       "      <td>396.0</td>\n",
       "    </tr>\n",
       "    <tr>\n",
       "      <th>1</th>\n",
       "      <td>0</td>\n",
       "      <td>330.0</td>\n",
       "      <td>97.880798</td>\n",
       "      <td>0.531115</td>\n",
       "      <td>110.913484</td>\n",
       "      <td>0.23</td>\n",
       "      <td>10046.51</td>\n",
       "      <td>36.0</td>\n",
       "      <td>34093.005997</td>\n",
       "      <td>46016.31</td>\n",
       "      <td>75.000000</td>\n",
       "      <td>0.0</td>\n",
       "      <td>0.0</td>\n",
       "      <td>3.0</td>\n",
       "      <td>11.001036</td>\n",
       "      <td>0.0</td>\n",
       "    </tr>\n",
       "    <tr>\n",
       "      <th>2</th>\n",
       "      <td>0</td>\n",
       "      <td>360.0</td>\n",
       "      <td>97.908925</td>\n",
       "      <td>0.611086</td>\n",
       "      <td>104.620791</td>\n",
       "      <td>0.30</td>\n",
       "      <td>21228.25</td>\n",
       "      <td>60.0</td>\n",
       "      <td>34093.005997</td>\n",
       "      <td>48025.47</td>\n",
       "      <td>35.276762</td>\n",
       "      <td>0.0</td>\n",
       "      <td>0.0</td>\n",
       "      <td>5.0</td>\n",
       "      <td>11.001036</td>\n",
       "      <td>181.0</td>\n",
       "    </tr>\n",
       "    <tr>\n",
       "      <th>3</th>\n",
       "      <td>0</td>\n",
       "      <td>120.0</td>\n",
       "      <td>100.434557</td>\n",
       "      <td>0.139784</td>\n",
       "      <td>120.134718</td>\n",
       "      <td>0.15</td>\n",
       "      <td>23032.33</td>\n",
       "      <td>36.0</td>\n",
       "      <td>34093.005997</td>\n",
       "      <td>46011.12</td>\n",
       "      <td>35.276762</td>\n",
       "      <td>0.0</td>\n",
       "      <td>0.0</td>\n",
       "      <td>5.0</td>\n",
       "      <td>11.001036</td>\n",
       "      <td>0.0</td>\n",
       "    </tr>\n",
       "    <tr>\n",
       "      <th>4</th>\n",
       "      <td>0</td>\n",
       "      <td>330.0</td>\n",
       "      <td>103.774638</td>\n",
       "      <td>0.002856</td>\n",
       "      <td>104.320462</td>\n",
       "      <td>0.08</td>\n",
       "      <td>24026.29</td>\n",
       "      <td>36.0</td>\n",
       "      <td>32366.000000</td>\n",
       "      <td>90026.17</td>\n",
       "      <td>15.000000</td>\n",
       "      <td>0.0</td>\n",
       "      <td>0.0</td>\n",
       "      <td>10.0</td>\n",
       "      <td>10.000000</td>\n",
       "      <td>151.0</td>\n",
       "    </tr>\n",
       "  </tbody>\n",
       "</table>\n",
       "</div>"
      ],
      "text/plain": [
       "   default  score_3     score_4   score_5     score_6  risk_rate  \\\n",
       "0        0    710.0  104.174961  0.661509  123.015325       0.43   \n",
       "1        0    330.0   97.880798  0.531115  110.913484       0.23   \n",
       "2        0    360.0   97.908925  0.611086  104.620791       0.30   \n",
       "3        0    120.0  100.434557  0.139784  120.134718       0.15   \n",
       "4        0    330.0  103.774638  0.002856  104.320462       0.08   \n",
       "\n",
       "   amount_borrowed  borrowed_in_months  credit_limit    income   ok_since  \\\n",
       "0         20024.31                60.0  62386.000000  59869.05  14.000000   \n",
       "1         10046.51                36.0  34093.005997  46016.31  75.000000   \n",
       "2         21228.25                60.0  34093.005997  48025.47  35.276762   \n",
       "3         23032.33                36.0  34093.005997  46011.12  35.276762   \n",
       "4         24026.29                36.0  32366.000000  90026.17  15.000000   \n",
       "\n",
       "   n_bankruptcies  n_defaulted_loans  n_accounts   n_issues  \\\n",
       "0             1.0                0.0         9.0   9.000000   \n",
       "1             0.0                0.0         3.0  11.001036   \n",
       "2             0.0                0.0         5.0  11.001036   \n",
       "3             0.0                0.0         5.0  11.001036   \n",
       "4             0.0                0.0        10.0  10.000000   \n",
       "\n",
       "   time_loan_to_payment  \n",
       "0                 396.0  \n",
       "1                   0.0  \n",
       "2                 181.0  \n",
       "3                   0.0  \n",
       "4                 151.0  "
      ]
     },
     "execution_count": 27,
     "metadata": {},
     "output_type": "execute_result"
    }
   ],
   "source": [
    "df2 = df_clean.fillna(mean)\n",
    "df2.head()"
   ]
  },
  {
   "cell_type": "code",
   "execution_count": 28,
   "metadata": {},
   "outputs": [
    {
     "data": {
      "text/html": [
       "<div>\n",
       "<style scoped>\n",
       "    .dataframe tbody tr th:only-of-type {\n",
       "        vertical-align: middle;\n",
       "    }\n",
       "\n",
       "    .dataframe tbody tr th {\n",
       "        vertical-align: top;\n",
       "    }\n",
       "\n",
       "    .dataframe thead th {\n",
       "        text-align: right;\n",
       "    }\n",
       "</style>\n",
       "<table border=\"1\" class=\"dataframe\">\n",
       "  <thead>\n",
       "    <tr style=\"text-align: right;\">\n",
       "      <th></th>\n",
       "      <th>default</th>\n",
       "      <th>score_3</th>\n",
       "      <th>score_4</th>\n",
       "      <th>score_5</th>\n",
       "      <th>score_6</th>\n",
       "      <th>risk_rate</th>\n",
       "      <th>amount_borrowed</th>\n",
       "      <th>borrowed_in_months</th>\n",
       "      <th>credit_limit</th>\n",
       "      <th>income</th>\n",
       "      <th>ok_since</th>\n",
       "      <th>n_bankruptcies</th>\n",
       "      <th>n_defaulted_loans</th>\n",
       "      <th>n_accounts</th>\n",
       "      <th>n_issues</th>\n",
       "      <th>time_loan_to_payment</th>\n",
       "    </tr>\n",
       "  </thead>\n",
       "  <tbody>\n",
       "    <tr>\n",
       "      <th>0</th>\n",
       "      <td>0</td>\n",
       "      <td>710.0</td>\n",
       "      <td>104.174961</td>\n",
       "      <td>0.661509</td>\n",
       "      <td>123.015325</td>\n",
       "      <td>0.43</td>\n",
       "      <td>20024.31</td>\n",
       "      <td>60.0</td>\n",
       "      <td>62386.0</td>\n",
       "      <td>59869.05</td>\n",
       "      <td>14.0</td>\n",
       "      <td>1.0</td>\n",
       "      <td>0.0</td>\n",
       "      <td>9.0</td>\n",
       "      <td>9.0</td>\n",
       "      <td>396.0</td>\n",
       "    </tr>\n",
       "    <tr>\n",
       "      <th>1</th>\n",
       "      <td>0</td>\n",
       "      <td>330.0</td>\n",
       "      <td>97.880798</td>\n",
       "      <td>0.531115</td>\n",
       "      <td>110.913484</td>\n",
       "      <td>0.23</td>\n",
       "      <td>10046.51</td>\n",
       "      <td>36.0</td>\n",
       "      <td>25338.0</td>\n",
       "      <td>46016.31</td>\n",
       "      <td>75.0</td>\n",
       "      <td>0.0</td>\n",
       "      <td>0.0</td>\n",
       "      <td>3.0</td>\n",
       "      <td>10.0</td>\n",
       "      <td>0.0</td>\n",
       "    </tr>\n",
       "    <tr>\n",
       "      <th>2</th>\n",
       "      <td>0</td>\n",
       "      <td>360.0</td>\n",
       "      <td>97.908925</td>\n",
       "      <td>0.611086</td>\n",
       "      <td>104.620791</td>\n",
       "      <td>0.30</td>\n",
       "      <td>21228.25</td>\n",
       "      <td>60.0</td>\n",
       "      <td>25338.0</td>\n",
       "      <td>48025.47</td>\n",
       "      <td>32.0</td>\n",
       "      <td>0.0</td>\n",
       "      <td>0.0</td>\n",
       "      <td>5.0</td>\n",
       "      <td>10.0</td>\n",
       "      <td>181.0</td>\n",
       "    </tr>\n",
       "    <tr>\n",
       "      <th>3</th>\n",
       "      <td>0</td>\n",
       "      <td>120.0</td>\n",
       "      <td>100.434557</td>\n",
       "      <td>0.139784</td>\n",
       "      <td>120.134718</td>\n",
       "      <td>0.15</td>\n",
       "      <td>23032.33</td>\n",
       "      <td>36.0</td>\n",
       "      <td>25338.0</td>\n",
       "      <td>46011.12</td>\n",
       "      <td>32.0</td>\n",
       "      <td>0.0</td>\n",
       "      <td>0.0</td>\n",
       "      <td>5.0</td>\n",
       "      <td>10.0</td>\n",
       "      <td>0.0</td>\n",
       "    </tr>\n",
       "    <tr>\n",
       "      <th>4</th>\n",
       "      <td>0</td>\n",
       "      <td>330.0</td>\n",
       "      <td>103.774638</td>\n",
       "      <td>0.002856</td>\n",
       "      <td>104.320462</td>\n",
       "      <td>0.08</td>\n",
       "      <td>24026.29</td>\n",
       "      <td>36.0</td>\n",
       "      <td>32366.0</td>\n",
       "      <td>90026.17</td>\n",
       "      <td>15.0</td>\n",
       "      <td>0.0</td>\n",
       "      <td>0.0</td>\n",
       "      <td>10.0</td>\n",
       "      <td>10.0</td>\n",
       "      <td>151.0</td>\n",
       "    </tr>\n",
       "  </tbody>\n",
       "</table>\n",
       "</div>"
      ],
      "text/plain": [
       "   default  score_3     score_4   score_5     score_6  risk_rate  \\\n",
       "0        0    710.0  104.174961  0.661509  123.015325       0.43   \n",
       "1        0    330.0   97.880798  0.531115  110.913484       0.23   \n",
       "2        0    360.0   97.908925  0.611086  104.620791       0.30   \n",
       "3        0    120.0  100.434557  0.139784  120.134718       0.15   \n",
       "4        0    330.0  103.774638  0.002856  104.320462       0.08   \n",
       "\n",
       "   amount_borrowed  borrowed_in_months  credit_limit    income  ok_since  \\\n",
       "0         20024.31                60.0       62386.0  59869.05      14.0   \n",
       "1         10046.51                36.0       25338.0  46016.31      75.0   \n",
       "2         21228.25                60.0       25338.0  48025.47      32.0   \n",
       "3         23032.33                36.0       25338.0  46011.12      32.0   \n",
       "4         24026.29                36.0       32366.0  90026.17      15.0   \n",
       "\n",
       "   n_bankruptcies  n_defaulted_loans  n_accounts  n_issues  \\\n",
       "0             1.0                0.0         9.0       9.0   \n",
       "1             0.0                0.0         3.0      10.0   \n",
       "2             0.0                0.0         5.0      10.0   \n",
       "3             0.0                0.0         5.0      10.0   \n",
       "4             0.0                0.0        10.0      10.0   \n",
       "\n",
       "   time_loan_to_payment  \n",
       "0                 396.0  \n",
       "1                   0.0  \n",
       "2                 181.0  \n",
       "3                   0.0  \n",
       "4                 151.0  "
      ]
     },
     "execution_count": 28,
     "metadata": {},
     "output_type": "execute_result"
    }
   ],
   "source": [
    "df3 = df_clean.fillna(median)\n",
    "df3.head()"
   ]
  },
  {
   "cell_type": "code",
   "execution_count": 29,
   "metadata": {},
   "outputs": [
    {
     "data": {
      "text/plain": [
       "default                 0\n",
       "score_3                 0\n",
       "score_4                 0\n",
       "score_5                 0\n",
       "score_6                 0\n",
       "risk_rate               0\n",
       "amount_borrowed         0\n",
       "borrowed_in_months      0\n",
       "credit_limit            0\n",
       "income                  0\n",
       "ok_since                0\n",
       "n_bankruptcies          0\n",
       "n_defaulted_loans       0\n",
       "n_accounts              0\n",
       "n_issues                0\n",
       "time_loan_to_payment    0\n",
       "dtype: int64"
      ]
     },
     "execution_count": 29,
     "metadata": {},
     "output_type": "execute_result"
    }
   ],
   "source": [
    "df2.isnull().sum()"
   ]
  },
  {
   "cell_type": "code",
   "execution_count": 30,
   "metadata": {},
   "outputs": [
    {
     "data": {
      "text/plain": [
       "Index(['default', 'score_3', 'score_4', 'score_5', 'score_6', 'risk_rate',\n",
       "       'amount_borrowed', 'borrowed_in_months', 'credit_limit', 'income',\n",
       "       'ok_since', 'n_bankruptcies', 'n_defaulted_loans', 'n_accounts',\n",
       "       'n_issues', 'time_loan_to_payment'],\n",
       "      dtype='object')"
      ]
     },
     "execution_count": 30,
     "metadata": {},
     "output_type": "execute_result"
    }
   ],
   "source": [
    "df2.columns"
   ]
  },
  {
   "cell_type": "code",
   "execution_count": 31,
   "metadata": {},
   "outputs": [
    {
     "name": "stdout",
     "output_type": "stream",
     "text": [
      "<class 'pandas.core.frame.DataFrame'>\n",
      "Int64Index: 59966 entries, 0 to 64591\n",
      "Data columns (total 16 columns):\n",
      " #   Column                Non-Null Count  Dtype  \n",
      "---  ------                --------------  -----  \n",
      " 0   default               59966 non-null  int32  \n",
      " 1   score_3               59966 non-null  float64\n",
      " 2   score_4               59966 non-null  float64\n",
      " 3   score_5               59966 non-null  float64\n",
      " 4   score_6               59966 non-null  float64\n",
      " 5   risk_rate             59966 non-null  float64\n",
      " 6   amount_borrowed       59966 non-null  float64\n",
      " 7   borrowed_in_months    59966 non-null  float64\n",
      " 8   credit_limit          59966 non-null  float64\n",
      " 9   income                59966 non-null  float64\n",
      " 10  ok_since              59966 non-null  float64\n",
      " 11  n_bankruptcies        59966 non-null  float64\n",
      " 12  n_defaulted_loans     59966 non-null  float64\n",
      " 13  n_accounts            59966 non-null  float64\n",
      " 14  n_issues              59966 non-null  float64\n",
      " 15  time_loan_to_payment  59966 non-null  float64\n",
      "dtypes: float64(15), int32(1)\n",
      "memory usage: 7.5 MB\n"
     ]
    }
   ],
   "source": [
    "df2.info()"
   ]
  },
  {
   "cell_type": "markdown",
   "metadata": {},
   "source": [
    "## 3 Exploring the Features"
   ]
  },
  {
   "cell_type": "markdown",
   "metadata": {},
   "source": [
    "#### 3.1 Analyzing the features "
   ]
  },
  {
   "cell_type": "code",
   "execution_count": 32,
   "metadata": {},
   "outputs": [
    {
     "data": {
      "image/png": "[encoded data removed]",
      "text/plain": [
       "<Figure size 864x720 with 8 Axes>"
      ]
     },
     "metadata": {},
     "output_type": "display_data"
    }
   ],
   "source": [
    "f, ((ax1, ax2, ax3, ax4,), (ax5, ax6, ax7, ax8)) = plt.subplots(2, 4, figsize=(12,10))\n",
    "sns.set(style='darkgrid')\n",
    "ax1.hist(df2['score_3'])\n",
    "ax1.set_title('score_3 with outliers', fontsize=12)\n",
    "ax2.hist(df2['score_4'])\n",
    "ax2.set_title('score_4 with outliers', fontsize=12)\n",
    "ax3.hist(df2['score_6'])\n",
    "ax3.set_title('score_6 with outliers', fontsize=12)\n",
    "ax4.hist(df2['risk_rate'])\n",
    "ax4.set_title('risk_rate with outliers', fontsize=12)\n",
    "ax5.hist(df2['amount_borrowed'])\n",
    "ax5.set_title('amount_borrowed with outliers', fontsize=12)\n",
    "ax6.hist(df2['borrowed_in_months'])\n",
    "ax6.set_title('borrowed_in_months with outliers', fontsize=12)\n",
    "ax7.hist(df2['credit_limit'])\n",
    "ax7.set_title('credit_limit with outliers', fontsize=12)\n",
    "ax8.hist(df2['income'])\n",
    "ax8.set_title('income with outliers', fontsize=12)\n",
    "f.tight_layout()\n",
    "plt.show()"
   ]
  },
  {
   "cell_type": "code",
   "execution_count": 33,
   "metadata": {},
   "outputs": [
    {
     "data": {
      "image/png": "[encoded data removed]",
      "text/plain": [
       "<Figure size 864x720 with 8 Axes>"
      ]
     },
     "metadata": {},
     "output_type": "display_data"
    }
   ],
   "source": [
    "f, ((ax9, ax10, ax11, ax12), (ax13, ax14, ax15, ax16)) = plt.subplots(2, 4, figsize=(12,10))\n",
    "sns.set(style='darkgrid')\n",
    "ax9.hist(df2['ok_since'])\n",
    "ax9.set_title('ok_since with outliers', fontsize=12)\n",
    "ax10.hist(df2['n_bankruptcies'])\n",
    "ax10.set_title('n_bankruptcies with outliers', fontsize=12)\n",
    "ax11.hist(df2['n_defaulted_loans'])\n",
    "ax11.set_title('n_defaulted_loans with outliers', fontsize=12)\n",
    "ax12.hist(df2['time_loan_to_payment'])\n",
    "ax12.set_title('time_loan_to_payment with outliers', fontsize=12)\n",
    "ax13.hist(df2['n_accounts'])\n",
    "ax13.set_title('n_accounts with outliers', fontsize=12)\n",
    "ax14.hist(df2['n_issues'])\n",
    "ax14.set_title('n_issues with outliers', fontsize=12)\n",
    "ax15.hist(df2['score_5'])\n",
    "ax15.set_title('score_5 with outliers', fontsize=12)\n",
    "f.tight_layout()\n",
    "plt.show()"
   ]
  },
  {
   "cell_type": "markdown",
   "metadata": {},
   "source": [
    "#### 3.2 Inpecting the degree of skewness and tailedness in each feature (which feature has a normal distribution?)"
   ]
  },
  {
   "cell_type": "markdown",
   "metadata": {},
   "source": [
    "Calculating the skew (a measure of symmetry) for each fetaure."
   ]
  },
  {
   "cell_type": "code",
   "execution_count": 34,
   "metadata": {},
   "outputs": [
    {
     "data": {
      "text/plain": [
       "score_4                 -0.015951\n",
       "score_6                 -0.012761\n",
       "score_5                  0.007547\n",
       "score_3                  0.333327\n",
       "risk_rate                0.485219\n",
       "ok_since                 0.673148\n",
       "amount_borrowed          0.820532\n",
       "n_accounts               0.950064\n",
       "time_loan_to_payment     1.005173\n",
       "n_issues                 1.103287\n",
       "borrowed_in_months       1.541456\n",
       "credit_limit             3.357284\n",
       "n_bankruptcies           3.966369\n",
       "income                  19.905790\n",
       "n_defaulted_loans       21.836529\n",
       "dtype: float64"
      ]
     },
     "execution_count": 34,
     "metadata": {},
     "output_type": "execute_result"
    }
   ],
   "source": [
    "df2.drop('default', axis=1).skew().sort_values()"
   ]
  },
  {
   "cell_type": "markdown",
   "metadata": {},
   "source": [
    "Calculating the Kurtosis (a measure of tailedness) for each feature"
   ]
  },
  {
   "cell_type": "code",
   "execution_count": 35,
   "metadata": {},
   "outputs": [
    {
     "data": {
      "text/plain": [
       "score_5                   -1.197337\n",
       "score_6                   -0.000446\n",
       "score_4                    0.012716\n",
       "score_3                    0.128177\n",
       "amount_borrowed            0.131441\n",
       "risk_rate                  0.316470\n",
       "borrowed_in_months         0.376099\n",
       "time_loan_to_payment       0.880317\n",
       "n_accounts                 1.666215\n",
       "ok_since                   2.352053\n",
       "n_issues                   3.253593\n",
       "credit_limit              23.197213\n",
       "n_bankruptcies            23.608648\n",
       "n_defaulted_loans        665.023834\n",
       "income                  1484.441185\n",
       "dtype: float64"
      ]
     },
     "execution_count": 35,
     "metadata": {},
     "output_type": "execute_result"
    }
   ],
   "source": [
    "df2.drop('default', axis=1).kurt().sort_values()"
   ]
  },
  {
   "cell_type": "markdown",
   "metadata": {},
   "source": [
    "The features \"credit_limit\" , \"n_bankruptcies\", \"n_defaulted_loans\" and \"income\" deviate significantly from 0 kurtosis and have some degree of skewness, which means that the distribution of theses features deviate from a normal (Gaussian) distribution."
   ]
  },
  {
   "cell_type": "markdown",
   "metadata": {},
   "source": [
    "Removing the feature \"score_5\", since the distribution is almost uniform and will not affect the result."
   ]
  },
  {
   "cell_type": "code",
   "execution_count": 36,
   "metadata": {},
   "outputs": [],
   "source": [
    "df2_clean = df2.drop(columns = ['score_5'])"
   ]
  },
  {
   "cell_type": "code",
   "execution_count": 37,
   "metadata": {},
   "outputs": [
    {
     "data": {
      "text/plain": [
       "Index(['default', 'score_3', 'score_4', 'score_6', 'risk_rate',\n",
       "       'amount_borrowed', 'borrowed_in_months', 'credit_limit', 'income',\n",
       "       'ok_since', 'n_bankruptcies', 'n_defaulted_loans', 'n_accounts',\n",
       "       'n_issues', 'time_loan_to_payment'],\n",
       "      dtype='object')"
      ]
     },
     "execution_count": 37,
     "metadata": {},
     "output_type": "execute_result"
    }
   ],
   "source": [
    "df2_clean.columns"
   ]
  },
  {
   "cell_type": "markdown",
   "metadata": {},
   "source": [
    "## 4 Dealing with Outliers\n",
    "\n",
    "#### 4.1 Removing the outliers using the Z-score"
   ]
  },
  {
   "cell_type": "markdown",
   "metadata": {},
   "source": [
    "In ordet to simplify the analysis, we are going to apply this method only for the features that have high degree of normality (gaussian). Thus, we do not need to transform the distribution that are not gaussian."
   ]
  },
  {
   "cell_type": "code",
   "execution_count": 38,
   "metadata": {},
   "outputs": [],
   "source": [
    "from scipy import stats as st\n",
    "list = ['score_3', 'score_4', 'score_6', 'risk_rate']\n",
    "#df_numeric = df2_clean.select_dtypes(include=[np.number])\n",
    "z = np.abs(st.zscore(df2_clean[list]))\n",
    "filtered_entries = (z < 3.0).all(axis=1)\n",
    "new_df2 = df2_clean[filtered_entries]"
   ]
  },
  {
   "cell_type": "code",
   "execution_count": 39,
   "metadata": {},
   "outputs": [
    {
     "data": {
      "text/plain": [
       "59084"
      ]
     },
     "execution_count": 39,
     "metadata": {},
     "output_type": "execute_result"
    }
   ],
   "source": [
    "len(new_df2)"
   ]
  },
  {
   "cell_type": "code",
   "execution_count": 40,
   "metadata": {},
   "outputs": [
    {
     "data": {
      "text/plain": [
       "59966"
      ]
     },
     "execution_count": 40,
     "metadata": {},
     "output_type": "execute_result"
    }
   ],
   "source": [
    "len(df2_clean)"
   ]
  },
  {
   "cell_type": "code",
   "execution_count": 41,
   "metadata": {},
   "outputs": [
    {
     "name": "stdout",
     "output_type": "stream",
     "text": [
      "The percentage of removed data by z-score was 1.47%\n"
     ]
    }
   ],
   "source": [
    "x = 100*(len(df2)-len(new_df2))/len(df2_clean)\n",
    "print(\"The percentage of removed data by z-score was %.2f%%\" %x)"
   ]
  },
  {
   "cell_type": "code",
   "execution_count": 42,
   "metadata": {},
   "outputs": [
    {
     "data": {
      "image/png": "[encoded data removed]",
      "text/plain": [
       "<Figure size 936x720 with 8 Axes>"
      ]
     },
     "metadata": {},
     "output_type": "display_data"
    }
   ],
   "source": [
    "f, ((ax1, ax2, ax3, ax4),((ax5, ax6, ax7, ax8))) = plt.subplots(2, 4, figsize=(13,10))\n",
    "\n",
    "sns.set(style='darkgrid')\n",
    "ax1.boxplot(df2_clean['score_3'])\n",
    "ax1.set_title('score_3 with outliers', fontsize=15)\n",
    "ax2.boxplot(df2_clean['score_4'])\n",
    "ax2.set_title('score_4 with outliers', fontsize=15)\n",
    "ax3.boxplot(df2_clean['score_6'])\n",
    "ax3.set_title('score_6 with outliers', fontsize=15)\n",
    "ax4.boxplot(df2_clean['risk_rate'])\n",
    "ax4.set_title('risk_rate with outliers', fontsize=15)\n",
    "\n",
    "ax5.boxplot(new_df2['score_3'])\n",
    "ax5.set_title('score_3 without outliers (z-score)', fontsize=13)\n",
    "ax6.boxplot(new_df2['score_4'])\n",
    "ax6.set_title('score_4 without outliers (z-score)', fontsize=13)\n",
    "ax7.boxplot(new_df2['score_6'])\n",
    "ax7.set_title('score_6 without outliers (z-score)', fontsize=13)\n",
    "ax8.boxplot(new_df2['risk_rate'])\n",
    "ax8.set_title('risk_rate without outliers (z-score)', fontsize=13)\n",
    "f.tight_layout()\n",
    "plt.show()"
   ]
  },
  {
   "cell_type": "markdown",
   "metadata": {},
   "source": [
    "#### 4.2 Removing the outliers using Quantiles (IQR score)"
   ]
  },
  {
   "cell_type": "markdown",
   "metadata": {},
   "source": [
    "Applying this method only for the features that have high degree of normality."
   ]
  },
  {
   "cell_type": "code",
   "execution_count": 43,
   "metadata": {},
   "outputs": [
    {
     "name": "stdout",
     "output_type": "stream",
     "text": [
      "default                     0.000000\n",
      "score_3                   150.000000\n",
      "score_4                     4.268460\n",
      "score_6                    13.439155\n",
      "risk_rate                   0.140000\n",
      "amount_borrowed         10810.520000\n",
      "borrowed_in_months          0.000000\n",
      "credit_limit            17759.750000\n",
      "income                  41010.472500\n",
      "ok_since                    0.000000\n",
      "n_bankruptcies              0.000000\n",
      "n_defaulted_loans           0.000000\n",
      "n_accounts                  6.000000\n",
      "n_issues                    3.000000\n",
      "time_loan_to_payment      794.000000\n",
      "dtype: float64\n"
     ]
    }
   ],
   "source": [
    "Q1 = new_df2.quantile(0.25)\n",
    "Q3 = new_df2.quantile(0.75)\n",
    "IQR = Q3 - Q1\n",
    "print(IQR)\n",
    "list2 = ['score_3', 'score_4', 'score_6', 'risk_rate']"
   ]
  },
  {
   "cell_type": "code",
   "execution_count": 44,
   "metadata": {},
   "outputs": [
    {
     "data": {
      "text/plain": [
       "amount_borrowed           0\n",
       "borrowed_in_months        0\n",
       "credit_limit              0\n",
       "default                   0\n",
       "income                    0\n",
       "n_accounts                0\n",
       "n_bankruptcies            0\n",
       "n_defaulted_loans         0\n",
       "n_issues                  0\n",
       "ok_since                  0\n",
       "risk_rate               560\n",
       "score_3                 561\n",
       "score_4                 794\n",
       "score_6                 788\n",
       "time_loan_to_payment      0\n",
       "dtype: int64"
      ]
     },
     "execution_count": 44,
     "metadata": {},
     "output_type": "execute_result"
    }
   ],
   "source": [
    "outliers = ((new_df2[list2] < (Q1 - 1.3 * IQR)) | (new_df2[list2] > (Q3 + 1.3 * IQR)))\n",
    "outliers.sum()\n",
    "#Number of outliers per column"
   ]
  },
  {
   "cell_type": "code",
   "execution_count": 45,
   "metadata": {},
   "outputs": [
    {
     "data": {
      "text/plain": [
       "2703"
      ]
     },
     "execution_count": 45,
     "metadata": {},
     "output_type": "execute_result"
    }
   ],
   "source": [
    "outliers.sum().sum()\n",
    "#Total number of outliers"
   ]
  },
  {
   "cell_type": "code",
   "execution_count": 46,
   "metadata": {},
   "outputs": [],
   "source": [
    "df_out = new_df2[~outliers.any(axis=1)]"
   ]
  },
  {
   "cell_type": "code",
   "execution_count": 47,
   "metadata": {},
   "outputs": [
    {
     "data": {
      "text/plain": [
       "56419"
      ]
     },
     "execution_count": 47,
     "metadata": {},
     "output_type": "execute_result"
    }
   ],
   "source": [
    "len(df_out)"
   ]
  },
  {
   "cell_type": "code",
   "execution_count": 48,
   "metadata": {},
   "outputs": [
    {
     "name": "stdout",
     "output_type": "stream",
     "text": [
      "The percentage of removed data by IQR score was 4.51%\n"
     ]
    }
   ],
   "source": [
    "x = 100 - 100*(len(df_out)/len(new_df2))\n",
    "\n",
    "print(\"The percentage of removed data by IQR score was %.2f%%\" %x)"
   ]
  },
  {
   "cell_type": "code",
   "execution_count": 49,
   "metadata": {},
   "outputs": [
    {
     "data": {
      "image/png": "[encoded data removed]",
      "text/plain": [
       "<Figure size 1080x360 with 4 Axes>"
      ]
     },
     "metadata": {},
     "output_type": "display_data"
    }
   ],
   "source": [
    "f, ((ax1, ax2, ax3, ax4)) = plt.subplots(1, 4, figsize=(15,5))\n",
    "sns.set(style='darkgrid')\n",
    "ax1.boxplot(df_out['score_3'])\n",
    "ax1.set_title('score_3 without outliers', fontsize=15)\n",
    "ax2.boxplot(df_out['score_4'])\n",
    "ax2.set_title('score_4 without outliers', fontsize=15)\n",
    "ax3.boxplot(df_out['score_6'])\n",
    "ax3.set_title('score_6 without outliers', fontsize=15)\n",
    "ax4.boxplot(df_out['risk_rate'])\n",
    "ax4.set_title('risk_rate without outliers', fontsize=15)\n",
    "f.tight_layout()\n",
    "plt.show()"
   ]
  },
  {
   "cell_type": "code",
   "execution_count": 50,
   "metadata": {},
   "outputs": [
    {
     "name": "stdout",
     "output_type": "stream",
     "text": [
      "The total percentage of removed data by the two methods was 5.92%\n"
     ]
    }
   ],
   "source": [
    "p = 100 - 100*(len(df_out)/len(df))\n",
    "\n",
    "print(\"The total percentage of removed data by the two methods was %.2f%%\" %p)"
   ]
  },
  {
   "cell_type": "code",
   "execution_count": 51,
   "metadata": {},
   "outputs": [
    {
     "data": {
      "text/plain": [
       "Index(['default', 'score_3', 'score_4', 'score_6', 'risk_rate',\n",
       "       'amount_borrowed', 'borrowed_in_months', 'credit_limit', 'income',\n",
       "       'ok_since', 'n_bankruptcies', 'n_defaulted_loans', 'n_accounts',\n",
       "       'n_issues', 'time_loan_to_payment'],\n",
       "      dtype='object')"
      ]
     },
     "execution_count": 51,
     "metadata": {},
     "output_type": "execute_result"
    }
   ],
   "source": [
    "df_out.columns"
   ]
  },
  {
   "cell_type": "markdown",
   "metadata": {},
   "source": [
    "#### 4.3 Checking the distribution of labels after removing the outliers"
   ]
  },
  {
   "cell_type": "markdown",
   "metadata": {},
   "source": [
    "Dataset with outliers"
   ]
  },
  {
   "cell_type": "code",
   "execution_count": 52,
   "metadata": {},
   "outputs": [
    {
     "name": "stdout",
     "output_type": "stream",
     "text": [
      "0    84.141013\n",
      "1    15.858987\n",
      "Name: default, dtype: float64\n",
      "59966\n"
     ]
    }
   ],
   "source": [
    "total_len = len(df_clean)\n",
    "percentage_labels = (df_clean['default'].value_counts()/total_len)*100\n",
    "print(percentage_labels)\n",
    "print(total_len) "
   ]
  },
  {
   "cell_type": "markdown",
   "metadata": {},
   "source": [
    "Dataset without outliers (Z-score)"
   ]
  },
  {
   "cell_type": "code",
   "execution_count": 53,
   "metadata": {},
   "outputs": [
    {
     "name": "stdout",
     "output_type": "stream",
     "text": [
      "0    84.20723\n",
      "1    15.79277\n",
      "Name: default, dtype: float64\n",
      "59084\n"
     ]
    }
   ],
   "source": [
    "total_len = len(new_df2)\n",
    "percentage_labels = (new_df2['default'].value_counts()/total_len)*100\n",
    "print(percentage_labels)\n",
    "print(total_len) "
   ]
  },
  {
   "cell_type": "markdown",
   "metadata": {},
   "source": [
    "Dataset without outliers (IQR-score)"
   ]
  },
  {
   "cell_type": "code",
   "execution_count": 54,
   "metadata": {},
   "outputs": [
    {
     "name": "stdout",
     "output_type": "stream",
     "text": [
      "0    84.287208\n",
      "1    15.712792\n",
      "Name: default, dtype: float64\n",
      "56419\n"
     ]
    }
   ],
   "source": [
    "total_len = len(df_out)\n",
    "percentage_labels = (df_out['default'].value_counts()/total_len)*100\n",
    "print(percentage_labels)\n",
    "print(total_len) "
   ]
  },
  {
   "cell_type": "markdown",
   "metadata": {},
   "source": [
    "## 5 Correlation and Feature Importance"
   ]
  },
  {
   "cell_type": "markdown",
   "metadata": {},
   "source": [
    "#### 5.1 Correlation"
   ]
  },
  {
   "cell_type": "markdown",
   "metadata": {},
   "source": [
    "The correlation between the target and attributes."
   ]
  },
  {
   "cell_type": "code",
   "execution_count": 55,
   "metadata": {},
   "outputs": [
    {
     "data": {
      "text/plain": [
       "default                 1.000000\n",
       "time_loan_to_payment    0.329868\n",
       "borrowed_in_months      0.184018\n",
       "risk_rate               0.092968\n",
       "amount_borrowed         0.066302\n",
       "score_3                 0.048709\n",
       "n_issues                0.017356\n",
       "n_bankruptcies          0.014476\n",
       "n_accounts              0.014034\n",
       "score_4                 0.005047\n",
       "score_6                 0.001877\n",
       "n_defaulted_loans       0.000409\n",
       "ok_since               -0.001952\n",
       "credit_limit           -0.013849\n",
       "income                 -0.046623\n",
       "Name: default, dtype: float64"
      ]
     },
     "execution_count": 55,
     "metadata": {},
     "output_type": "execute_result"
    }
   ],
   "source": [
    "corre = df_out.corr()\n",
    "corre['default'].sort_values(ascending=False)"
   ]
  },
  {
   "cell_type": "markdown",
   "metadata": {},
   "source": [
    "Let's see the degree of dependence between the features."
   ]
  },
  {
   "cell_type": "code",
   "execution_count": 56,
   "metadata": {},
   "outputs": [
    {
     "data": {
      "image/png": "[encoded data removed]",
      "text/plain": [
       "<Figure size 864x576 with 2 Axes>"
      ]
     },
     "metadata": {},
     "output_type": "display_data"
    }
   ],
   "source": [
    "correlation = df_out.corr()\n",
    "mask = np.tril(correlation)\n",
    "plt.figure(figsize=(12,8))\n",
    "sns.set(font_scale=1.2)\n",
    "ax = sns.heatmap(correlation, mask=mask, annot=True, fmt=\".1f\",  cmap=\"RdBu\", vmin=-1, vmax=1)\n",
    "plt.show()"
   ]
  },
  {
   "cell_type": "markdown",
   "metadata": {},
   "source": [
    "#### 5.2 Feature Importance"
   ]
  },
  {
   "cell_type": "code",
   "execution_count": 57,
   "metadata": {},
   "outputs": [
    {
     "data": {
      "text/plain": [
       "array([0, 1])"
      ]
     },
     "execution_count": 57,
     "metadata": {},
     "output_type": "execute_result"
    }
   ],
   "source": [
    "x = df_out.drop('default', axis = 1)\n",
    "y = df_out['default']\n",
    "y.unique()"
   ]
  },
  {
   "cell_type": "code",
   "execution_count": 58,
   "metadata": {},
   "outputs": [
    {
     "data": {
      "text/plain": [
       "RandomForestClassifier(criterion='entropy')"
      ]
     },
     "execution_count": 58,
     "metadata": {},
     "output_type": "execute_result"
    }
   ],
   "source": [
    "from sklearn.ensemble import RandomForestClassifier\n",
    "RF = RandomForestClassifier(n_estimators=100, criterion='entropy', min_samples_split=2, max_features='auto', verbose=0)\n",
    "RF.fit(x, y)"
   ]
  },
  {
   "cell_type": "code",
   "execution_count": 59,
   "metadata": {},
   "outputs": [
    {
     "name": "stdout",
     "output_type": "stream",
     "text": [
      " 1) score_3                        0.246486\n",
      " 2) score_4                        0.100750\n",
      " 3) score_6                        0.093475\n",
      " 4) risk_rate                      0.088169\n",
      " 5) amount_borrowed                0.087588\n",
      " 6) borrowed_in_months             0.068768\n",
      " 7) credit_limit                   0.068497\n",
      " 8) income                         0.065776\n",
      " 9) ok_since                       0.048097\n",
      "10) n_bankruptcies                 0.047277\n",
      "11) n_defaulted_loans              0.042865\n",
      "12) n_accounts                     0.033702\n",
      "13) n_issues                       0.007844\n",
      "14) time_loan_to_payment           0.000705\n"
     ]
    }
   ],
   "source": [
    "RF.feature_importances_\n",
    "targets = df_out.columns[1:]\n",
    "importances = RF.feature_importances_\n",
    "indices = np.argsort(importances)[::-1]\n",
    "for i in range(x.shape[1]):\n",
    "    print (\"%2d) %-*s %f\" % (i + 1, 30, targets[i],importances[indices[i]]))"
   ]
  },
  {
   "cell_type": "code",
   "execution_count": 60,
   "metadata": {},
   "outputs": [
    {
     "data": {
      "image/png": "[encoded data removed]",
      "text/plain": [
       "<Figure size 432x288 with 1 Axes>"
      ]
     },
     "metadata": {},
     "output_type": "display_data"
    }
   ],
   "source": [
    "plt.title('Feature Importances')\n",
    "plt.bar(range(x.shape[1]),importances[indices], color=\"red\", align=\"center\")\n",
    "plt.xticks(range(x.shape[1]),targets, rotation=90)\n",
    "plt.xlim([-1, x.shape[1]])\n",
    "plt.show()"
   ]
  },
  {
   "cell_type": "markdown",
   "metadata": {},
   "source": [
    "The feature importance shows that \"score_3\" could has the highest impact in the default."
   ]
  },
  {
   "cell_type": "markdown",
   "metadata": {},
   "source": [
    "## 6 Splitting the dataset in train and test"
   ]
  },
  {
   "cell_type": "markdown",
   "metadata": {},
   "source": [
    "#### 6.1 Applying the SMOTE technique to deal with the imbalanced datasets"
   ]
  },
  {
   "cell_type": "markdown",
   "metadata": {},
   "source": [
    "In order to avoid overfitting during the training process, due to the imbalanced train dataset, we are going to resample\n",
    "the train dataset using SMOTE (Synthetic Minority Oversampling Technique). Basically, SMOTE will upsampling the minority class\n",
    "by selecting examples that are close in the feature space, drawing a line between the examples in the feature space and drawing a new sample at a point along that line. <br/>\n",
    "*This process will be applied only in the train dataset, the test dataset (which will remain imbalanced) have already been separated before to evaluate the final model's performance in the end.*"
   ]
  },
  {
   "cell_type": "code",
   "execution_count": 61,
   "metadata": {},
   "outputs": [],
   "source": [
    "from sklearn.model_selection import train_test_split\n",
    "from imblearn.over_sampling import SMOTE\n",
    "# Separate input features and target\n",
    "y = df_out.default\n",
    "x = df_out.drop('default', axis=1)\n",
    "\n",
    "# setting up testing and training sets\n",
    "x_train, x_test, y_train, y_test = train_test_split(x, y, test_size=0.20, random_state=1)\n",
    "\n",
    "# transforming the train dataset in a balanced dataset to avoid overfitting (SMOTE - Synthetic Minority Oversampling)\n",
    "sm = SMOTE(random_state=1)\n",
    "x_train, y_train = sm.fit_sample(x_train, y_train)"
   ]
  },
  {
   "cell_type": "markdown",
   "metadata": {},
   "source": [
    "## 7 Feature Scaling"
   ]
  },
  {
   "cell_type": "markdown",
   "metadata": {},
   "source": [
    "Feature scaling is important for the kNN model, but did not affect Logistic Regression or Random Forest models. However, in order to simplify the analysis we are going to use the same scaled feature in all models. It was used Standardization."
   ]
  },
  {
   "cell_type": "code",
   "execution_count": 62,
   "metadata": {},
   "outputs": [],
   "source": [
    "from sklearn.preprocessing import StandardScaler\n",
    "scaler = StandardScaler()\n",
    "df_train_scaled = pd.DataFrame(scaler.fit_transform(x_train),columns = x_train.columns)\n",
    "x_train_transformed = df_train_scaled\n",
    "df_test_scaled = pd.DataFrame(scaler.fit_transform(x_test),columns = x_test.columns)\n",
    "x_test_transformed = df_test_scaled"
   ]
  },
  {
   "cell_type": "code",
   "execution_count": 63,
   "metadata": {},
   "outputs": [
    {
     "data": {
      "text/html": [
       "<div>\n",
       "<style scoped>\n",
       "    .dataframe tbody tr th:only-of-type {\n",
       "        vertical-align: middle;\n",
       "    }\n",
       "\n",
       "    .dataframe tbody tr th {\n",
       "        vertical-align: top;\n",
       "    }\n",
       "\n",
       "    .dataframe thead th {\n",
       "        text-align: right;\n",
       "    }\n",
       "</style>\n",
       "<table border=\"1\" class=\"dataframe\">\n",
       "  <thead>\n",
       "    <tr style=\"text-align: right;\">\n",
       "      <th></th>\n",
       "      <th>score_3</th>\n",
       "      <th>score_4</th>\n",
       "      <th>score_6</th>\n",
       "      <th>risk_rate</th>\n",
       "      <th>amount_borrowed</th>\n",
       "      <th>borrowed_in_months</th>\n",
       "      <th>credit_limit</th>\n",
       "      <th>income</th>\n",
       "      <th>ok_since</th>\n",
       "      <th>n_bankruptcies</th>\n",
       "      <th>n_defaulted_loans</th>\n",
       "      <th>n_accounts</th>\n",
       "      <th>n_issues</th>\n",
       "      <th>time_loan_to_payment</th>\n",
       "    </tr>\n",
       "  </thead>\n",
       "  <tbody>\n",
       "    <tr>\n",
       "      <th>0</th>\n",
       "      <td>0.439460</td>\n",
       "      <td>-0.566647</td>\n",
       "      <td>0.400045</td>\n",
       "      <td>1.267507</td>\n",
       "      <td>1.498210</td>\n",
       "      <td>1.790819</td>\n",
       "      <td>-0.686612</td>\n",
       "      <td>-0.144390</td>\n",
       "      <td>-2.234341</td>\n",
       "      <td>-0.302579</td>\n",
       "      <td>-0.06504</td>\n",
       "      <td>0.079822</td>\n",
       "      <td>-0.011394</td>\n",
       "      <td>0.149317</td>\n",
       "    </tr>\n",
       "    <tr>\n",
       "      <th>1</th>\n",
       "      <td>-0.795939</td>\n",
       "      <td>-1.347036</td>\n",
       "      <td>0.700840</td>\n",
       "      <td>-1.791669</td>\n",
       "      <td>0.878850</td>\n",
       "      <td>-0.634023</td>\n",
       "      <td>-0.123136</td>\n",
       "      <td>0.632779</td>\n",
       "      <td>0.005338</td>\n",
       "      <td>-0.302579</td>\n",
       "      <td>-0.06504</td>\n",
       "      <td>1.239677</td>\n",
       "      <td>1.339787</td>\n",
       "      <td>-1.269301</td>\n",
       "    </tr>\n",
       "    <tr>\n",
       "      <th>2</th>\n",
       "      <td>1.366010</td>\n",
       "      <td>0.095634</td>\n",
       "      <td>0.458313</td>\n",
       "      <td>-0.545338</td>\n",
       "      <td>1.657637</td>\n",
       "      <td>1.790819</td>\n",
       "      <td>-0.325838</td>\n",
       "      <td>0.015128</td>\n",
       "      <td>0.005338</td>\n",
       "      <td>-0.302579</td>\n",
       "      <td>-0.06504</td>\n",
       "      <td>0.543764</td>\n",
       "      <td>0.529079</td>\n",
       "      <td>0.207537</td>\n",
       "    </tr>\n",
       "  </tbody>\n",
       "</table>\n",
       "</div>"
      ],
      "text/plain": [
       "    score_3   score_4   score_6  risk_rate  amount_borrowed  \\\n",
       "0  0.439460 -0.566647  0.400045   1.267507         1.498210   \n",
       "1 -0.795939 -1.347036  0.700840  -1.791669         0.878850   \n",
       "2  1.366010  0.095634  0.458313  -0.545338         1.657637   \n",
       "\n",
       "   borrowed_in_months  credit_limit    income  ok_since  n_bankruptcies  \\\n",
       "0            1.790819     -0.686612 -0.144390 -2.234341       -0.302579   \n",
       "1           -0.634023     -0.123136  0.632779  0.005338       -0.302579   \n",
       "2            1.790819     -0.325838  0.015128  0.005338       -0.302579   \n",
       "\n",
       "   n_defaulted_loans  n_accounts  n_issues  time_loan_to_payment  \n",
       "0           -0.06504    0.079822 -0.011394              0.149317  \n",
       "1           -0.06504    1.239677  1.339787             -1.269301  \n",
       "2           -0.06504    0.543764  0.529079              0.207537  "
      ]
     },
     "execution_count": 63,
     "metadata": {},
     "output_type": "execute_result"
    }
   ],
   "source": [
    "x_train_transformed.head(3)"
   ]
  },
  {
   "cell_type": "code",
   "execution_count": 64,
   "metadata": {},
   "outputs": [
    {
     "data": {
      "text/html": [
       "<div>\n",
       "<style scoped>\n",
       "    .dataframe tbody tr th:only-of-type {\n",
       "        vertical-align: middle;\n",
       "    }\n",
       "\n",
       "    .dataframe tbody tr th {\n",
       "        vertical-align: top;\n",
       "    }\n",
       "\n",
       "    .dataframe thead th {\n",
       "        text-align: right;\n",
       "    }\n",
       "</style>\n",
       "<table border=\"1\" class=\"dataframe\">\n",
       "  <thead>\n",
       "    <tr style=\"text-align: right;\">\n",
       "      <th></th>\n",
       "      <th>score_3</th>\n",
       "      <th>score_4</th>\n",
       "      <th>score_6</th>\n",
       "      <th>risk_rate</th>\n",
       "      <th>amount_borrowed</th>\n",
       "      <th>borrowed_in_months</th>\n",
       "      <th>credit_limit</th>\n",
       "      <th>income</th>\n",
       "      <th>ok_since</th>\n",
       "      <th>n_bankruptcies</th>\n",
       "      <th>n_defaulted_loans</th>\n",
       "      <th>n_accounts</th>\n",
       "      <th>n_issues</th>\n",
       "      <th>time_loan_to_payment</th>\n",
       "    </tr>\n",
       "  </thead>\n",
       "  <tbody>\n",
       "    <tr>\n",
       "      <th>0</th>\n",
       "      <td>1.530579</td>\n",
       "      <td>-0.707401</td>\n",
       "      <td>-0.054374</td>\n",
       "      <td>-0.620927</td>\n",
       "      <td>-0.102326</td>\n",
       "      <td>-0.482654</td>\n",
       "      <td>0.266442</td>\n",
       "      <td>-0.479112</td>\n",
       "      <td>-1.392494</td>\n",
       "      <td>-0.278852</td>\n",
       "      <td>-0.056428</td>\n",
       "      <td>0.515727</td>\n",
       "      <td>0.503231</td>\n",
       "      <td>-0.739319</td>\n",
       "    </tr>\n",
       "    <tr>\n",
       "      <th>1</th>\n",
       "      <td>-0.292224</td>\n",
       "      <td>1.507228</td>\n",
       "      <td>-0.229315</td>\n",
       "      <td>-0.094982</td>\n",
       "      <td>1.119803</td>\n",
       "      <td>2.071879</td>\n",
       "      <td>0.004710</td>\n",
       "      <td>-0.019494</td>\n",
       "      <td>0.007502</td>\n",
       "      <td>-0.278852</td>\n",
       "      <td>-0.056428</td>\n",
       "      <td>-1.014561</td>\n",
       "      <td>-0.006152</td>\n",
       "      <td>0.228424</td>\n",
       "    </tr>\n",
       "    <tr>\n",
       "      <th>2</th>\n",
       "      <td>0.954957</td>\n",
       "      <td>0.530289</td>\n",
       "      <td>-0.118462</td>\n",
       "      <td>-1.357251</td>\n",
       "      <td>-1.548318</td>\n",
       "      <td>-0.482654</td>\n",
       "      <td>0.004710</td>\n",
       "      <td>15.533965</td>\n",
       "      <td>0.007502</td>\n",
       "      <td>-0.278852</td>\n",
       "      <td>-0.056428</td>\n",
       "      <td>0.952953</td>\n",
       "      <td>-0.006152</td>\n",
       "      <td>-0.982250</td>\n",
       "    </tr>\n",
       "  </tbody>\n",
       "</table>\n",
       "</div>"
      ],
      "text/plain": [
       "    score_3   score_4   score_6  risk_rate  amount_borrowed  \\\n",
       "0  1.530579 -0.707401 -0.054374  -0.620927        -0.102326   \n",
       "1 -0.292224  1.507228 -0.229315  -0.094982         1.119803   \n",
       "2  0.954957  0.530289 -0.118462  -1.357251        -1.548318   \n",
       "\n",
       "   borrowed_in_months  credit_limit     income  ok_since  n_bankruptcies  \\\n",
       "0           -0.482654      0.266442  -0.479112 -1.392494       -0.278852   \n",
       "1            2.071879      0.004710  -0.019494  0.007502       -0.278852   \n",
       "2           -0.482654      0.004710  15.533965  0.007502       -0.278852   \n",
       "\n",
       "   n_defaulted_loans  n_accounts  n_issues  time_loan_to_payment  \n",
       "0          -0.056428    0.515727  0.503231             -0.739319  \n",
       "1          -0.056428   -1.014561 -0.006152              0.228424  \n",
       "2          -0.056428    0.952953 -0.006152             -0.982250  "
      ]
     },
     "execution_count": 64,
     "metadata": {},
     "output_type": "execute_result"
    }
   ],
   "source": [
    "x_test_transformed.head(3)"
   ]
  },
  {
   "cell_type": "markdown",
   "metadata": {},
   "source": [
    "## 8 Training the baseline models"
   ]
  },
  {
   "cell_type": "markdown",
   "metadata": {},
   "source": [
    "#### 8.1 Setting the model (kNN) and training"
   ]
  },
  {
   "cell_type": "code",
   "execution_count": 65,
   "metadata": {},
   "outputs": [
    {
     "data": {
      "text/plain": [
       "KNeighborsClassifier(n_neighbors=7)"
      ]
     },
     "execution_count": 65,
     "metadata": {},
     "output_type": "execute_result"
    }
   ],
   "source": [
    "from sklearn.neighbors import KNeighborsClassifier\n",
    "# setting the model\n",
    "kNN = KNeighborsClassifier(n_neighbors=7, p=2, metric='minkowski', metric_params=None)\n",
    "# training the model\n",
    "kNN.fit(x_train_transformed, y_train)"
   ]
  },
  {
   "cell_type": "markdown",
   "metadata": {},
   "source": [
    "#### 8.2 Setting the model (Logistic Regression) and training"
   ]
  },
  {
   "cell_type": "code",
   "execution_count": 66,
   "metadata": {},
   "outputs": [
    {
     "data": {
      "text/plain": [
       "LogisticRegression(max_iter=50000, penalty='l1', solver='liblinear', tol=1e-05)"
      ]
     },
     "execution_count": 66,
     "metadata": {},
     "output_type": "execute_result"
    }
   ],
   "source": [
    "from sklearn.linear_model import LogisticRegression\n",
    "# setting the model\n",
    "LR = LogisticRegression(penalty='l1', dual=False, tol=0.00001, C=1.0, fit_intercept=True,\n",
    "                            intercept_scaling=1, solver='liblinear', max_iter=50000)\n",
    "# training the model\n",
    "LR.fit(x_train_transformed, y_train)"
   ]
  },
  {
   "cell_type": "markdown",
   "metadata": {},
   "source": [
    "#### 8.3 Setting the model (Random Forest) and training"
   ]
  },
  {
   "cell_type": "code",
   "execution_count": 67,
   "metadata": {},
   "outputs": [
    {
     "data": {
      "text/plain": [
       "RandomForestClassifier(criterion='entropy', n_jobs=1, random_state=1)"
      ]
     },
     "execution_count": 67,
     "metadata": {},
     "output_type": "execute_result"
    }
   ],
   "source": [
    "from sklearn.ensemble import RandomForestClassifier\n",
    "# setting the model\n",
    "RF = RandomForestClassifier(n_estimators=100, criterion='entropy', n_jobs=1, random_state=1, verbose=0)\n",
    "# training the model\n",
    "RF.fit(x_train_transformed, y_train)"
   ]
  },
  {
   "cell_type": "markdown",
   "metadata": {},
   "source": [
    "#### 8.4 Setting the model (Naive Bayes) and training"
   ]
  },
  {
   "cell_type": "code",
   "execution_count": 68,
   "metadata": {},
   "outputs": [],
   "source": [
    "from sklearn.naive_bayes import GaussianNB\n",
    "# setting the model\n",
    "GNB = GaussianNB()\n",
    "# training the model\n",
    "GNB = GNB.fit(x_train_transformed, y_train)"
   ]
  },
  {
   "cell_type": "markdown",
   "metadata": {},
   "source": [
    "#### 8.5 Setting the model (Support Vector Machines - SVM) and training"
   ]
  },
  {
   "cell_type": "code",
   "execution_count": 69,
   "metadata": {},
   "outputs": [
    {
     "data": {
      "text/plain": [
       "SVC(C=1, class_weight='balanced', random_state=1)"
      ]
     },
     "execution_count": 69,
     "metadata": {},
     "output_type": "execute_result"
    }
   ],
   "source": [
    "from sklearn.svm import SVC\n",
    "# setting the model\n",
    "SVM = SVC(C=1, kernel='rbf', class_weight='balanced', random_state = 1)\n",
    "# training the model\n",
    "SVM.fit(x_train_transformed, y_train)"
   ]
  },
  {
   "cell_type": "markdown",
   "metadata": {},
   "source": [
    "## 9 Cross-validation (choosing the best models)"
   ]
  },
  {
   "cell_type": "markdown",
   "metadata": {},
   "source": [
    "**NOTE 1:** Here it is important to mention that the upsampling has to be done inside the cross-validation, otherwise it will overfit. To accomplish that, we are going to use the imblearn library, which will help us to do these multiple steps at once using a pipeline."
   ]
  },
  {
   "cell_type": "markdown",
   "metadata": {},
   "source": [
    "#### Which metric should we use?"
   ]
  },
  {
   "cell_type": "markdown",
   "metadata": {},
   "source": [
    "We are interested in the ability to detect who will not be able to pay the credit card, i.e., the **True or 1** in default (here this is the positive).<br/>\n",
    "Remembering:<br/>\n",
    "\n",
    "- **Recall (or sensitivity):** is the number of true positives divided by the number of true positive and false negatives values. *High recall indicates a low number of false negatives, i.e., we are prediciting a major proportion of the positive class.*\n",
    "\n",
    "- **Precision (or accuracy):** is the number of true positives divided by all positive predictions. *Low precision indicates a high number of false positives, i.e., we are not really sure about the class predicted.*\n",
    "\n",
    "- **F1 score:** is the harmonic average of precision and recall."
   ]
  },
  {
   "cell_type": "markdown",
   "metadata": {},
   "source": [
    "Therefore, in order to maximize the number of defaults detected, even if we generate some false positives (what could be verified by the bank after),\n",
    "we are going to use recall as the evaluation metric to optimize the parameters. Thus, we will be predicting as many defaults as possible. <br/>"
   ]
  },
  {
   "cell_type": "markdown",
   "metadata": {},
   "source": [
    "**NOTE 2:** Of course, there is an *Precision/Recall Tradeoff: more positive we can detect, less sure we could be, and vice-versa.* We could use F1 score to better optimize recall and precision, but here I am supossing that detecting all the defaulting clients in a first moment is the major task. If we detect some false positive (clients that are able to pay the bill and is assigned as a future defaulting client) this could be checked by the bank in another process."
   ]
  },
  {
   "cell_type": "markdown",
   "metadata": {},
   "source": [
    "#### 9.1 Estimating the Recall score using 10-Fold cross-validation (and SMOTE to resampling the imbalanced train dataset)"
   ]
  },
  {
   "cell_type": "code",
   "execution_count": 70,
   "metadata": {},
   "outputs": [],
   "source": [
    "from sklearn.model_selection import cross_val_score\n",
    "from imblearn.pipeline import Pipeline, make_pipeline\n",
    "from sklearn.model_selection import KFold\n",
    "kf = KFold(n_splits=10, shuffle=False)"
   ]
  },
  {
   "cell_type": "code",
   "execution_count": 71,
   "metadata": {},
   "outputs": [],
   "source": [
    "kNN_pipeline_score = make_pipeline(sm, kNN) \n",
    "kNN_score = cross_val_score(kNN_pipeline_score, x_train_transformed, y_train, scoring='recall', cv=kf)\n",
    "# using recall the score computed for each fold will be the recall of the positive class (minority class in this case)\n",
    "kNN_recall = kNN_score.mean()\n",
    "kNN_std = kNN_score.std()                                   "
   ]
  },
  {
   "cell_type": "code",
   "execution_count": 72,
   "metadata": {},
   "outputs": [],
   "source": [
    "RF_pipeline_score = make_pipeline(sm, RF) \n",
    "RF_score = cross_val_score(RF_pipeline_score, x_train_transformed, y_train, scoring='recall', cv=kf)\n",
    "RF_recall = RF_score.mean()\n",
    "RF_std = RF_score.std()"
   ]
  },
  {
   "cell_type": "code",
   "execution_count": 73,
   "metadata": {},
   "outputs": [],
   "source": [
    "LR_pipeline_score = make_pipeline(sm, LR) \n",
    "LR_score = cross_val_score(LR_pipeline_score, x_train_transformed, y_train, scoring='recall', cv=kf)\n",
    "LR_recall = LR_score.mean()\n",
    "LR_std = LR_score.std()  "
   ]
  },
  {
   "cell_type": "code",
   "execution_count": 74,
   "metadata": {},
   "outputs": [],
   "source": [
    "GNB_pipeline_score = make_pipeline(sm, GNB) \n",
    "GNB_score = cross_val_score(GNB_pipeline_score, x_train_transformed, y_train, scoring='recall', cv=kf)\n",
    "GNB_recall = GNB_score.mean()\n",
    "GNB_std = GNB_score.std() "
   ]
  },
  {
   "cell_type": "code",
   "execution_count": 75,
   "metadata": {},
   "outputs": [],
   "source": [
    "SVM_pipeline_score = make_pipeline(sm, SVM) \n",
    "SVM_score = cross_val_score(SVM_pipeline_score, x_train_transformed, y_train, scoring='recall', cv=kf)\n",
    "SVM_recall = SVM_score.mean()\n",
    "SVM_std = SVM_score.std()"
   ]
  },
  {
   "cell_type": "code",
   "execution_count": 76,
   "metadata": {},
   "outputs": [
    {
     "data": {
      "text/html": [
       "<div>\n",
       "<style scoped>\n",
       "    .dataframe tbody tr th:only-of-type {\n",
       "        vertical-align: middle;\n",
       "    }\n",
       "\n",
       "    .dataframe tbody tr th {\n",
       "        vertical-align: top;\n",
       "    }\n",
       "\n",
       "    .dataframe thead th {\n",
       "        text-align: right;\n",
       "    }\n",
       "</style>\n",
       "<table border=\"1\" class=\"dataframe\">\n",
       "  <thead>\n",
       "    <tr style=\"text-align: right;\">\n",
       "      <th></th>\n",
       "      <th>Model</th>\n",
       "      <th>Mean Recall</th>\n",
       "      <th>Uncertainty (+/-)</th>\n",
       "    </tr>\n",
       "  </thead>\n",
       "  <tbody>\n",
       "    <tr>\n",
       "      <th>0</th>\n",
       "      <td>kNN</td>\n",
       "      <td>0.88</td>\n",
       "      <td>0.05</td>\n",
       "    </tr>\n",
       "    <tr>\n",
       "      <th>4</th>\n",
       "      <td>SVM</td>\n",
       "      <td>0.76</td>\n",
       "      <td>0.11</td>\n",
       "    </tr>\n",
       "    <tr>\n",
       "      <th>1</th>\n",
       "      <td>Random Forest</td>\n",
       "      <td>0.76</td>\n",
       "      <td>0.18</td>\n",
       "    </tr>\n",
       "    <tr>\n",
       "      <th>3</th>\n",
       "      <td>Naive Bayes</td>\n",
       "      <td>0.76</td>\n",
       "      <td>0.06</td>\n",
       "    </tr>\n",
       "    <tr>\n",
       "      <th>2</th>\n",
       "      <td>Logistic Regression</td>\n",
       "      <td>0.73</td>\n",
       "      <td>0.02</td>\n",
       "    </tr>\n",
       "  </tbody>\n",
       "</table>\n",
       "</div>"
      ],
      "text/plain": [
       "                 Model  Mean Recall  Uncertainty (+/-)\n",
       "0                  kNN         0.88               0.05\n",
       "4                  SVM         0.76               0.11\n",
       "1        Random Forest         0.76               0.18\n",
       "3          Naive Bayes         0.76               0.06\n",
       "2  Logistic Regression         0.73               0.02"
      ]
     },
     "execution_count": 76,
     "metadata": {},
     "output_type": "execute_result"
    }
   ],
   "source": [
    "models_performance = pd.DataFrame({\n",
    "    'Model': ['kNN', 'Random Forest', 'Logistic Regression', 'Naive Bayes', 'SVM'],\n",
    "    'Mean Recall': [kNN_recall, RF_recall, LR_recall, GNB_recall, SVM_recall],\n",
    "    'Uncertainty (+/-)': [kNN_std, RF_std, LR_std, GNB_std, SVM_std]})\n",
    "\n",
    "pd.options.display.float_format = '{:,.2f}'.format\n",
    "models_performance.sort_values(by='Mean Recall', ascending=False)"
   ]
  },
  {
   "cell_type": "markdown",
   "metadata": {},
   "source": [
    "Therefore, the model kNN has provided the best results with these initial set of parameters. No significant difference has been seen between the other models. We should mention here that SVM takes a long time to be trained, compared to the other three algorithms (RF, Naive Bayes and Logistic Regression) and also that tree-based algorithms like Random Forest, in principle, should perform well on imbalanced datasets because their hierarchical structure allow them to learn signals from both classe.<br/><br/> Thus, in order to spend less time in the training process and enhance the performance, we are going to proceed using Random Forest and kNN for training and optimize their hyperparameters. Moreover, we will also study they combined and look if we can improve the results."
   ]
  },
  {
   "cell_type": "markdown",
   "metadata": {},
   "source": [
    "## 10 Perfoming the hyperparameter optimization for the best models"
   ]
  },
  {
   "cell_type": "markdown",
   "metadata": {},
   "source": [
    "#### 10.1 Using 10-Fold Cross-Validation in RandomizedSearchCV"
   ]
  },
  {
   "cell_type": "markdown",
   "metadata": {},
   "source": [
    "As previously discussed, we have an imbalanced dataset. Thus, we are going to use Recall as the evaluation metric to optimize the hyperparameters."
   ]
  },
  {
   "cell_type": "code",
   "execution_count": 77,
   "metadata": {},
   "outputs": [
    {
     "data": {
      "text/plain": [
       "dict_keys(['memory', 'steps', 'verbose', 'smote', 'kneighborsclassifier', 'smote__k_neighbors', 'smote__n_jobs', 'smote__random_state', 'smote__sampling_strategy', 'kneighborsclassifier__algorithm', 'kneighborsclassifier__leaf_size', 'kneighborsclassifier__metric', 'kneighborsclassifier__metric_params', 'kneighborsclassifier__n_jobs', 'kneighborsclassifier__n_neighbors', 'kneighborsclassifier__p', 'kneighborsclassifier__weights'])"
      ]
     },
     "execution_count": 77,
     "metadata": {},
     "output_type": "execute_result"
    }
   ],
   "source": [
    "kNN_pipeline_score.get_params().keys()"
   ]
  },
  {
   "cell_type": "code",
   "execution_count": 78,
   "metadata": {},
   "outputs": [
    {
     "data": {
      "text/plain": [
       "dict_keys(['memory', 'steps', 'verbose', 'smote', 'randomforestclassifier', 'smote__k_neighbors', 'smote__n_jobs', 'smote__random_state', 'smote__sampling_strategy', 'randomforestclassifier__bootstrap', 'randomforestclassifier__ccp_alpha', 'randomforestclassifier__class_weight', 'randomforestclassifier__criterion', 'randomforestclassifier__max_depth', 'randomforestclassifier__max_features', 'randomforestclassifier__max_leaf_nodes', 'randomforestclassifier__max_samples', 'randomforestclassifier__min_impurity_decrease', 'randomforestclassifier__min_impurity_split', 'randomforestclassifier__min_samples_leaf', 'randomforestclassifier__min_samples_split', 'randomforestclassifier__min_weight_fraction_leaf', 'randomforestclassifier__n_estimators', 'randomforestclassifier__n_jobs', 'randomforestclassifier__oob_score', 'randomforestclassifier__random_state', 'randomforestclassifier__verbose', 'randomforestclassifier__warm_start'])"
      ]
     },
     "execution_count": 78,
     "metadata": {},
     "output_type": "execute_result"
    }
   ],
   "source": [
    "RF_pipeline_score.get_params().keys()"
   ]
  },
  {
   "cell_type": "code",
   "execution_count": 79,
   "metadata": {},
   "outputs": [
    {
     "data": {
      "text/plain": [
       "dict_keys(['memory', 'steps', 'verbose', 'smote', 'svc', 'smote__k_neighbors', 'smote__n_jobs', 'smote__random_state', 'smote__sampling_strategy', 'svc__C', 'svc__break_ties', 'svc__cache_size', 'svc__class_weight', 'svc__coef0', 'svc__decision_function_shape', 'svc__degree', 'svc__gamma', 'svc__kernel', 'svc__max_iter', 'svc__probability', 'svc__random_state', 'svc__shrinking', 'svc__tol', 'svc__verbose'])"
      ]
     },
     "execution_count": 79,
     "metadata": {},
     "output_type": "execute_result"
    }
   ],
   "source": [
    "SVM_pipeline_score.get_params().keys()"
   ]
  },
  {
   "cell_type": "markdown",
   "metadata": {},
   "source": [
    "#### 10.2 Optimizing hyperameters for kNN model"
   ]
  },
  {
   "cell_type": "code",
   "execution_count": 144,
   "metadata": {},
   "outputs": [],
   "source": [
    "from sklearn.model_selection import RandomizedSearchCV\n",
    "kf = KFold(n_splits=10, shuffle=False)"
   ]
  },
  {
   "cell_type": "code",
   "execution_count": 83,
   "metadata": {},
   "outputs": [
    {
     "data": {
      "text/plain": [
       "RandomizedSearchCV(cv=KFold(n_splits=10, random_state=None, shuffle=False),\n",
       "                   estimator=Pipeline(steps=[('smote', SMOTE(random_state=1)),\n",
       "                                             ('kneighborsclassifier',\n",
       "                                              KNeighborsClassifier(n_neighbors=7))]),\n",
       "                   n_iter=5,\n",
       "                   param_distributions={'kneighborsclassifier__n_neighbors': array([ 1,  2,  3,  4,  5,  6,  7,  8,  9, 10, 11, 12, 13, 14])},\n",
       "                   return_train_score=True, scoring='recall')"
      ]
     },
     "execution_count": 83,
     "metadata": {},
     "output_type": "execute_result"
    }
   ],
   "source": [
    "k_range = np.arange(1, 15)\n",
    "param_dist = {'kneighborsclassifier__n_neighbors': k_range}\n",
    "kNN_rand_imba = RandomizedSearchCV(kNN_pipeline_score, param_dist, cv=kf, scoring='recall', return_train_score=True, n_iter=5)\n",
    "kNN_rand_imba.fit(x_train_transformed, y_train)"
   ]
  },
  {
   "cell_type": "code",
   "execution_count": 84,
   "metadata": {},
   "outputs": [
    {
     "data": {
      "text/plain": [
       "0.8816809126102138"
      ]
     },
     "execution_count": 84,
     "metadata": {},
     "output_type": "execute_result"
    }
   ],
   "source": [
    "kNN_rand_imba.best_score_"
   ]
  },
  {
   "cell_type": "code",
   "execution_count": 85,
   "metadata": {},
   "outputs": [
    {
     "data": {
      "text/plain": [
       "{'kneighborsclassifier__n_neighbors': 7}"
      ]
     },
     "execution_count": 85,
     "metadata": {},
     "output_type": "execute_result"
    }
   ],
   "source": [
    "kNN_rand_imba.best_params_"
   ]
  },
  {
   "cell_type": "code",
   "execution_count": 86,
   "metadata": {},
   "outputs": [
    {
     "data": {
      "text/plain": [
       "Pipeline(steps=[('smote', SMOTE(random_state=1)),\n",
       "                ('kneighborsclassifier', KNeighborsClassifier(n_neighbors=7))])"
      ]
     },
     "execution_count": 86,
     "metadata": {},
     "output_type": "execute_result"
    }
   ],
   "source": [
    "kNN_rand_imba.best_estimator_"
   ]
  },
  {
   "cell_type": "markdown",
   "metadata": {},
   "source": [
    "#### 10.3 Optimizing hyperameters for Random Forest model"
   ]
  },
  {
   "cell_type": "code",
   "execution_count": 87,
   "metadata": {},
   "outputs": [
    {
     "data": {
      "text/plain": [
       "RandomizedSearchCV(cv=KFold(n_splits=10, random_state=None, shuffle=False),\n",
       "                   estimator=Pipeline(steps=[('smote', SMOTE(random_state=1)),\n",
       "                                             ('randomforestclassifier',\n",
       "                                              RandomForestClassifier(criterion='entropy',\n",
       "                                                                     n_jobs=1,\n",
       "                                                                     random_state=1))]),\n",
       "                   n_iter=5,\n",
       "                   param_distributions={'randomforestclassifier__n_estimators': array([  1,   2,   3,   4,   5,   6,   7,   8,   9,  10,  11,  12,  13,\n",
       "        14,  15,  16,  17,  18,  1...\n",
       "       417, 418, 419, 420, 421, 422, 423, 424, 425, 426, 427, 428, 429,\n",
       "       430, 431, 432, 433, 434, 435, 436, 437, 438, 439, 440, 441, 442,\n",
       "       443, 444, 445, 446, 447, 448, 449, 450, 451, 452, 453, 454, 455,\n",
       "       456, 457, 458, 459, 460, 461, 462, 463, 464, 465, 466, 467, 468,\n",
       "       469, 470, 471, 472, 473, 474, 475, 476, 477, 478, 479, 480, 481,\n",
       "       482, 483, 484, 485, 486, 487, 488, 489, 490, 491, 492, 493, 494,\n",
       "       495, 496, 497, 498, 499])},\n",
       "                   return_train_score=True, scoring='recall')"
      ]
     },
     "execution_count": 87,
     "metadata": {},
     "output_type": "execute_result"
    }
   ],
   "source": [
    "N = np.arange(1, 500)\n",
    "param_dist = {'randomforestclassifier__n_estimators': N}\n",
    "RF_rand_imba = RandomizedSearchCV(RF_pipeline_score, param_dist, cv=kf, scoring='recall', return_train_score=True, n_iter=5)\n",
    "RF_rand_imba.fit(x_train_transformed, y_train)"
   ]
  },
  {
   "cell_type": "code",
   "execution_count": 88,
   "metadata": {},
   "outputs": [
    {
     "data": {
      "text/plain": [
       "0.7682676392423532"
      ]
     },
     "execution_count": 88,
     "metadata": {},
     "output_type": "execute_result"
    }
   ],
   "source": [
    "RF_rand_imba.best_score_"
   ]
  },
  {
   "cell_type": "code",
   "execution_count": 89,
   "metadata": {},
   "outputs": [
    {
     "data": {
      "text/plain": [
       "{'randomforestclassifier__n_estimators': 379}"
      ]
     },
     "execution_count": 89,
     "metadata": {},
     "output_type": "execute_result"
    }
   ],
   "source": [
    "RF_rand_imba.best_params_"
   ]
  },
  {
   "cell_type": "code",
   "execution_count": 90,
   "metadata": {},
   "outputs": [
    {
     "data": {
      "text/plain": [
       "Pipeline(steps=[('smote', SMOTE(random_state=1)),\n",
       "                ('randomforestclassifier',\n",
       "                 RandomForestClassifier(criterion='entropy', n_estimators=379,\n",
       "                                        n_jobs=1, random_state=1))])"
      ]
     },
     "execution_count": 90,
     "metadata": {},
     "output_type": "execute_result"
    }
   ],
   "source": [
    "RF_rand_imba.best_estimator_"
   ]
  },
  {
   "cell_type": "markdown",
   "metadata": {},
   "source": [
    "#### 10.4 Training the models with the help of the best hyperparameters"
   ]
  },
  {
   "cell_type": "code",
   "execution_count": 91,
   "metadata": {},
   "outputs": [],
   "source": [
    "bestModelkNNFitted = kNN_rand_imba.best_estimator_.fit(x_train_transformed, y_train)\n",
    "bestModelRFFitted = RF_rand_imba.best_estimator_.fit(x_train_transformed, y_train)"
   ]
  },
  {
   "cell_type": "markdown",
   "metadata": {},
   "source": [
    "## 11 Combining the best two models to perhaps boost the performance"
   ]
  },
  {
   "cell_type": "markdown",
   "metadata": {},
   "source": [
    "#### 11.1 Setting the combined model (kNN and Random Forest) and training"
   ]
  },
  {
   "cell_type": "code",
   "execution_count": 161,
   "metadata": {},
   "outputs": [],
   "source": [
    "from sklearn.ensemble import VotingClassifier\n",
    "VC = VotingClassifier(estimators=[('kNN', bestModelkNNFitted), \n",
    "                                ('RF', bestModelRFFitted)], voting='soft',weights=[5,1])\n",
    "combined_models = VC.fit(x_train_transformed, y_train)"
   ]
  },
  {
   "cell_type": "markdown",
   "metadata": {},
   "source": [
    "## 12 Evaluating the model's real performance (test dataset)"
   ]
  },
  {
   "cell_type": "markdown",
   "metadata": {},
   "source": [
    "#### 12.1 Making predictions in the test dataset"
   ]
  },
  {
   "cell_type": "code",
   "execution_count": 162,
   "metadata": {},
   "outputs": [],
   "source": [
    "y_test_predicted_RF = bestModelRFFitted.predict(x_test_transformed)\n",
    "y_test_predicted_kNN = bestModelkNNFitted.predict(x_test_transformed)\n",
    "y_test_predicted = combined_models.predict(x_test_transformed)"
   ]
  },
  {
   "cell_type": "markdown",
   "metadata": {},
   "source": [
    "#### 12.2 The final performance: the confusion matrices"
   ]
  },
  {
   "cell_type": "code",
   "execution_count": 163,
   "metadata": {
    "scrolled": true
   },
   "outputs": [
    {
     "data": {
      "image/png": "[encoded data removed]",
      "text/plain": [
       "<Figure size 1512x432 with 6 Axes>"
      ]
     },
     "metadata": {},
     "output_type": "display_data"
    }
   ],
   "source": [
    "from sklearn.metrics import confusion_matrix, classification_report\n",
    "\n",
    "f, ((ax1, ax2, ax3)) = plt.subplots(1, 3, figsize=(21,6))\n",
    "\n",
    "cnf_matrix1 = confusion_matrix(y_test, y_test_predicted_RF)\n",
    "cnf_matrix1 = cnf_matrix1.astype('float') / cnf_matrix1.sum(axis=1)[:, np.newaxis]\n",
    "cnf_matrix2 = confusion_matrix(y_test, y_test_predicted_kNN)\n",
    "cnf_matrix2 = cnf_matrix2.astype('float') / cnf_matrix2.sum(axis=1)[:, np.newaxis]\n",
    "cnf_matrix3 = confusion_matrix(y_test, y_test_predicted)\n",
    "cnf_matrix3 = cnf_matrix3.astype('float') / cnf_matrix3.sum(axis=1)[:, np.newaxis]\n",
    "\n",
    "ax1 = sns.heatmap(cnf_matrix1, ax=ax1, annot=True, annot_kws={\"size\":25}, cmap = \"Greens\")\n",
    "ax1.set_xlabel('Predicted labels', size=20)\n",
    "ax1.set_ylabel('True labels', size=20)\n",
    "ax1.set_title('Confusion Matrix (only Random Forest)', size=20)\n",
    "ax1.xaxis.set_ticklabels((le.classes_), size=20); ax1.yaxis.set_ticklabels((le.classes_), size=20)\n",
    "\n",
    "ax2 = sns.heatmap(cnf_matrix2, ax=ax2, annot=True,  annot_kws={\"size\":25}, cmap = \"Greens\")\n",
    "ax2.set_xlabel('Predicted labels', size=20)\n",
    "ax2.set_ylabel('True labels', size=20)\n",
    "ax2.set_title('Confusion Matrix (only kNN)', size=20)\n",
    "ax2.xaxis.set_ticklabels((le.classes_), size=20); ax2.yaxis.set_ticklabels((le.classes_), size=20)\n",
    "\n",
    "ax3 = sns.heatmap(cnf_matrix3, ax=ax3, annot=True,  annot_kws={\"size\":25}, cmap = \"Greens\")\n",
    "ax3.set_xlabel('Predicted labels', size=20)\n",
    "ax3.set_ylabel('True labels', size=20)\n",
    "ax3.set_title('Confusion Matrix (Combined models)', size=20)\n",
    "ax3.xaxis.set_ticklabels((le.classes_), size=20); ax3.yaxis.set_ticklabels((le.classes_), size=20 )\n",
    "\n",
    "f.tight_layout()\n",
    "plt.show()"
   ]
  },
  {
   "cell_type": "markdown",
   "metadata": {},
   "source": [
    "#### 12.3 Classification report for Random Forest"
   ]
  },
  {
   "cell_type": "code",
   "execution_count": 164,
   "metadata": {},
   "outputs": [
    {
     "name": "stdout",
     "output_type": "stream",
     "text": [
      "              precision    recall  f1-score   support\n",
      "\n",
      "           0       0.95      0.01      0.02      9606\n",
      "           1       0.15      1.00      0.26      1678\n",
      "\n",
      "    accuracy                           0.16     11284\n",
      "   macro avg       0.55      0.50      0.14     11284\n",
      "weighted avg       0.83      0.16      0.05     11284\n",
      "\n"
     ]
    }
   ],
   "source": [
    "print(classification_report(y_test, y_test_predicted_RF))"
   ]
  },
  {
   "cell_type": "markdown",
   "metadata": {},
   "source": [
    "#### 12.4 Classification report for kNN"
   ]
  },
  {
   "cell_type": "code",
   "execution_count": 165,
   "metadata": {},
   "outputs": [
    {
     "name": "stdout",
     "output_type": "stream",
     "text": [
      "              precision    recall  f1-score   support\n",
      "\n",
      "           0       0.93      0.62      0.74      9606\n",
      "           1       0.25      0.72      0.37      1678\n",
      "\n",
      "    accuracy                           0.64     11284\n",
      "   macro avg       0.59      0.67      0.56     11284\n",
      "weighted avg       0.83      0.64      0.69     11284\n",
      "\n"
     ]
    }
   ],
   "source": [
    "print(classification_report(y_test, y_test_predicted_kNN))"
   ]
  },
  {
   "cell_type": "markdown",
   "metadata": {},
   "source": [
    "#### 12.5 Classification report for the combined models"
   ]
  },
  {
   "cell_type": "code",
   "execution_count": 166,
   "metadata": {},
   "outputs": [
    {
     "name": "stdout",
     "output_type": "stream",
     "text": [
      "              precision    recall  f1-score   support\n",
      "\n",
      "           0       0.94      0.52      0.67      9606\n",
      "           1       0.23      0.82      0.36      1678\n",
      "\n",
      "    accuracy                           0.56     11284\n",
      "   macro avg       0.59      0.67      0.51     11284\n",
      "weighted avg       0.84      0.56      0.62     11284\n",
      "\n"
     ]
    }
   ],
   "source": [
    "print(classification_report(y_test, y_test_predicted))"
   ]
  },
  {
   "cell_type": "markdown",
   "metadata": {},
   "source": [
    "Remembering:\n",
    "- **1 - positive class (defaulting client)**\n",
    "- 0 - negative class (client who has paid his bill)"
   ]
  },
  {
   "cell_type": "markdown",
   "metadata": {},
   "source": [
    "## 13 Summary"
   ]
  },
  {
   "cell_type": "markdown",
   "metadata": {},
   "source": [
    "   Therefore, we can see that the combined model offers the best performance for classifying a major proportion of defaulting clients (recall = 0.82) with a precision almost similar to the kNN model (precission = 0.23). Althought the Random Forest predict all defaulting clients, the accuracy is so low, that there is no gain in informartion, since this model is pratically classifying everyone as defaulting customer.<br/><br/>\n",
    "   The main drawback in this project is the fact that the dataset is highly imbalanced, hence, applying other resampling techniques could improve the results. In addition, using more complex algorithms as Artificial Neural Networks, Adaptative Boosting, treating more extensively the outliers of the other features, performing feature engineering and/or an extensive hyparameters optimization could improve the results, which depend on your interest and goal.<br/><br/>\n",
    "Here, we have set our goal as predicting all possible defaulting clients with some accuracy, and this has been achieved by the combined model. "
   ]
  },
  {
   "cell_type": "markdown",
   "metadata": {},
   "source": [
    "## 14 Saving the Classifier (Final Model)"
   ]
  },
  {
   "cell_type": "markdown",
   "metadata": {},
   "source": [
    "#### 14.1 Saving the best trained model"
   ]
  },
  {
   "cell_type": "code",
   "execution_count": 151,
   "metadata": {},
   "outputs": [],
   "source": [
    "import pickle\n",
    "pickle.dump(bestModelRFFitted, open('Final_Model.sav', 'wb'))"
   ]
  },
  {
   "cell_type": "markdown",
   "metadata": {},
   "source": [
    "#### 14.2 Saving the predict class probabilities for test dataset"
   ]
  },
  {
   "cell_type": "code",
   "execution_count": 152,
   "metadata": {},
   "outputs": [],
   "source": [
    "test_labels_proba = bestModelRFFitted.predict_proba(x_test_transformed)"
   ]
  },
  {
   "cell_type": "code",
   "execution_count": 153,
   "metadata": {},
   "outputs": [],
   "source": [
    "output = pd.DataFrame({'ID':x_test_transformed.index, 'probability of being a defaulting customer':test_labels_proba[:,1]})"
   ]
  },
  {
   "cell_type": "code",
   "execution_count": 154,
   "metadata": {},
   "outputs": [],
   "source": [
    "output.to_csv(\"./predictions.csv\", index=False)"
   ]
  },
  {
   "cell_type": "code",
   "execution_count": null,
   "metadata": {},
   "outputs": [],
   "source": []
  }
 ],
 "metadata": {
  "kernelspec": {
   "display_name": "Python 3",
   "language": "python",
   "name": "python3"
  },
  "language_info": {
   "codemirror_mode": {
    "name": "ipython",
    "version": 3
   },
   "file_extension": ".py",
   "mimetype": "text/x-python",
   "name": "python",
   "nbconvert_exporter": "python",
   "pygments_lexer": "ipython3",
   "version": "3.8.2"
  }
 },
 "nbformat": 4,
 "nbformat_minor": 4
}
